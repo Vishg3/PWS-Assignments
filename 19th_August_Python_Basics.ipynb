{
 "cells": [
  {
   "cell_type": "markdown",
   "id": "5a3bb6cf",
   "metadata": {},
   "source": [
    "# Assignment - 19th_August_Python_Basics "
   ]
  },
  {
   "cell_type": "markdown",
   "id": "b5dfe965",
   "metadata": {},
   "source": [
    "### TOPIC: Python Basics Variable"
   ]
  },
  {
   "cell_type": "markdown",
   "id": "6823ae17",
   "metadata": {},
   "source": [
    "1. Declare two variables, `x` and `y`, and assign them integer values.\n",
    "Swap the values of these variables without using any temporary\n",
    "variable."
   ]
  },
  {
   "cell_type": "code",
   "execution_count": 1,
   "id": "fdee59db",
   "metadata": {},
   "outputs": [
    {
     "name": "stdout",
     "output_type": "stream",
     "text": [
      "x was 3 and y was 5\n",
      "x is now 5 and y is now 3\n"
     ]
    }
   ],
   "source": [
    "x,y = 3,5\n",
    "print('x was',x,'and','y was',y)\n",
    "x,y = y,x\n",
    "print('x is now',x,'and','y is now',y)"
   ]
  },
  {
   "cell_type": "markdown",
   "id": "f489d6fa",
   "metadata": {},
   "source": [
    "2. Create a program that calculates the area of a rectangle. Take the\n",
    "length and width as inputs from the user and store them in variables.\n",
    "Calculate and display the area."
   ]
  },
  {
   "cell_type": "code",
   "execution_count": 7,
   "id": "985f7f63",
   "metadata": {},
   "outputs": [
    {
     "name": "stdout",
     "output_type": "stream",
     "text": [
      "Enter length: 3.2\n",
      "Enter width: 5.4\n",
      "Area of rectangle is 17.28 square units\n"
     ]
    }
   ],
   "source": [
    "length = float(input(\"Enter length: \"))\n",
    "width = float(input(\"Enter width: \"))\n",
    "areaOfRectangle = length*width\n",
    "print(\"Area of rectangle is\",areaOfRectangle,\"square units\")"
   ]
  },
  {
   "cell_type": "markdown",
   "id": "e9618681",
   "metadata": {},
   "source": [
    "3. Write a Python program that converts temperature from Celsius to\n",
    "Fahrenheit. Take the temperature in Celsius as input, store it in a\n",
    "variable, convert it to Fahrenheit, and display the result."
   ]
  },
  {
   "cell_type": "code",
   "execution_count": 6,
   "id": "8643c5c2",
   "metadata": {},
   "outputs": [
    {
     "name": "stdout",
     "output_type": "stream",
     "text": [
      "Enter temperature in celsius: 32.5\n",
      "Temperature in fahrenheit is 90.5\n"
     ]
    }
   ],
   "source": [
    "Celsius = float(input(\"Enter temperature in celsius: \"))\n",
    "Fahrenheit = (Celsius*9/5)+32\n",
    "print(\"Temperature in fahrenheit is\",Fahrenheit)"
   ]
  },
  {
   "cell_type": "markdown",
   "id": "0065f76f",
   "metadata": {},
   "source": [
    "### TOPIC: String Based Questions"
   ]
  },
  {
   "cell_type": "markdown",
   "id": "8323dd52",
   "metadata": {},
   "source": [
    "1. Write a Python program that takes a string as input and prints the\n",
    "length of the string."
   ]
  },
  {
   "cell_type": "code",
   "execution_count": 10,
   "id": "9c98e252",
   "metadata": {},
   "outputs": [
    {
     "name": "stdout",
     "output_type": "stream",
     "text": [
      "Enter string: bike\n",
      "Length of string is: 4\n"
     ]
    }
   ],
   "source": [
    "string = input(\"Enter string: \")\n",
    "print(\"Length of string is:\",len(string))"
   ]
  },
  {
   "cell_type": "markdown",
   "id": "81054703",
   "metadata": {},
   "source": [
    "2. Create a program that takes a sentence from the user and counts the\n",
    "number of vowels (a, e, i, o, u) in the string."
   ]
  },
  {
   "cell_type": "code",
   "execution_count": 15,
   "id": "77e8cefb",
   "metadata": {},
   "outputs": [
    {
     "name": "stdout",
     "output_type": "stream",
     "text": [
      "Enter sentence: I love pizza with cheese.\n",
      "Number of vowels in string: 9\n"
     ]
    }
   ],
   "source": [
    "vowels = ['a','e','i','o','u','A','E','I','O','U']\n",
    "counter = 0\n",
    "sentence = input(\"Enter sentence: \")\n",
    "for character in sentence:\n",
    "    if character in vowels:\n",
    "        counter+=1\n",
    "print(\"Number of vowels in string:\",counter)"
   ]
  },
  {
   "cell_type": "markdown",
   "id": "018ff9ec",
   "metadata": {},
   "source": [
    "3. Given a string, reverse the order of characters using string slicing and\n",
    "print the reversed string."
   ]
  },
  {
   "cell_type": "code",
   "execution_count": 18,
   "id": "f9c27c3a",
   "metadata": {},
   "outputs": [
    {
     "name": "stdout",
     "output_type": "stream",
     "text": [
      "Enter string: Chess\n",
      "Reversed string: ssehC\n"
     ]
    }
   ],
   "source": [
    "string = input(\"Enter string: \")\n",
    "print(\"Reversed string:\",string[::-1])"
   ]
  },
  {
   "cell_type": "markdown",
   "id": "0611adef",
   "metadata": {},
   "source": [
    "4. Write a program that takes a string as input and checks if it is a\n",
    "palindrome (reads the same forwards and backwards)."
   ]
  },
  {
   "cell_type": "code",
   "execution_count": 21,
   "id": "96c40c4c",
   "metadata": {},
   "outputs": [
    {
     "name": "stdout",
     "output_type": "stream",
     "text": [
      "Enter string: madam\n",
      "madam is a palindrome\n"
     ]
    }
   ],
   "source": [
    "string = input(\"Enter string: \")\n",
    "if string == string[::-1]:\n",
    "    print(string,\"is a palindrome\")\n",
    "else:\n",
    "    print(string,\"is not a palindrome\")"
   ]
  },
  {
   "cell_type": "markdown",
   "id": "ad939dc2",
   "metadata": {},
   "source": [
    "5. Create a program that takes a string as input and removes all the\n",
    "spaces from it. Print the modified string without spaces."
   ]
  },
  {
   "cell_type": "code",
   "execution_count": 24,
   "id": "16d28d08",
   "metadata": {},
   "outputs": [
    {
     "name": "stdout",
     "output_type": "stream",
     "text": [
      "Enter string: I love python.\n",
      "String without spaces: Ilovepython.\n"
     ]
    }
   ],
   "source": [
    "string = input(\"Enter string: \")\n",
    "modifiedString = string.replace(\" \",\"\")\n",
    "print(\"String without spaces:\",modifiedString)"
   ]
  }
 ],
 "metadata": {
  "kernelspec": {
   "display_name": "Python 3 (ipykernel)",
   "language": "python",
   "name": "python3"
  },
  "language_info": {
   "codemirror_mode": {
    "name": "ipython",
    "version": 3
   },
   "file_extension": ".py",
   "mimetype": "text/x-python",
   "name": "python",
   "nbconvert_exporter": "python",
   "pygments_lexer": "ipython3",
   "version": "3.11.3"
  }
 },
 "nbformat": 4,
 "nbformat_minor": 5
}
