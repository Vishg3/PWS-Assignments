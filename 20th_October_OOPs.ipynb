{
 "cells": [
  {
   "cell_type": "markdown",
   "id": "dd10015e-ea5c-469c-be99-36e344d88805",
   "metadata": {},
   "source": [
    "# Assignment - OOPs 2"
   ]
  },
  {
   "cell_type": "markdown",
   "id": "2899dfe0-d65b-4247-8301-76b6f3947ad3",
   "metadata": {},
   "source": [
    "### Constructor:"
   ]
  },
  {
   "cell_type": "code",
   "execution_count": 1,
   "id": "8576558d-b6d5-407c-a68c-d2d073b0f511",
   "metadata": {},
   "outputs": [],
   "source": [
    "#1\n",
    "#A constructor in Python is a special method within a class that is automatically called when an object of the class is created. \n",
    "#Its purpose is to initialize the object's attributes and perform any setup required for the object. Constructors are typically \n",
    "#defined using the __init__ method and are used to set initial values for object properties when an instance of the class is created."
   ]
  },
  {
   "cell_type": "code",
   "execution_count": 2,
   "id": "e0b89cd1-000c-46ff-814a-6b60ef3d6c26",
   "metadata": {},
   "outputs": [],
   "source": [
    "#2\n",
    "#A parameterless constructor in Python is a constructor method that takes no arguments and is used for initializing object attributes \n",
    "#with default values, while a parameterized constructor takes one or more arguments and is used to customize the initial state of the \n",
    "#object by providing values for its attributes during object creation."
   ]
  },
  {
   "cell_type": "code",
   "execution_count": 12,
   "id": "79095e2b-3e54-4446-a6ab-e23f15ad04bc",
   "metadata": {},
   "outputs": [],
   "source": [
    "#3\n",
    "#To define a constructor in a Python class, you create a method called `__init__` within the class, and it takes at least one argument, \n",
    "#typically named `self`, which represents the instance being created and can also include other arguments for attribute initialization. \n",
    "\n",
    "#Here's an example:\n",
    "class MyClass:\n",
    "    def __init__(self,value):\n",
    "        self.attribute=value"
   ]
  },
  {
   "cell_type": "code",
   "execution_count": 4,
   "id": "0912ffbb-6afd-412b-8ce7-48396fa2e524",
   "metadata": {},
   "outputs": [],
   "source": [
    "#4\n",
    "#The `__init__` method in Python is a special method used as a constructor, and its role is to initialize the attributes and state of \n",
    "#an object when an instance of a class is created."
   ]
  },
  {
   "cell_type": "code",
   "execution_count": 5,
   "id": "a6e7b461-8cee-4465-b3b7-849b6ff07c5d",
   "metadata": {},
   "outputs": [],
   "source": [
    "#5\n",
    "class Person:\n",
    "    def __init__(self,name,age):\n",
    "        self.name=name\n",
    "        self.age=age\n",
    "        \n",
    "person1=Person('Mike',23)"
   ]
  },
  {
   "cell_type": "code",
   "execution_count": 13,
   "id": "cc921fb8-8849-4f92-89b6-048847c0f69e",
   "metadata": {},
   "outputs": [
    {
     "name": "stdout",
     "output_type": "stream",
     "text": [
      "42\n"
     ]
    }
   ],
   "source": [
    "#6\n",
    "#In Python, you can call a constructor explicitly by creating an instance of the class and invoking the constructor method using \n",
    "#the instance. Here's an example:\n",
    "\n",
    "class MyClass:\n",
    "    def __init__(self,value):\n",
    "        self.attribute=value\n",
    "\n",
    "#Explicitly call the constructor\n",
    "obj=MyClass(42)\n",
    "print(obj.attribute)  "
   ]
  },
  {
   "cell_type": "code",
   "execution_count": 14,
   "id": "f4c6e6c0-8305-4f0d-b8c8-7c25c7e859c8",
   "metadata": {},
   "outputs": [
    {
     "name": "stdout",
     "output_type": "stream",
     "text": [
      "10\n",
      "20\n"
     ]
    }
   ],
   "source": [
    "#7\n",
    "#The `self` parameter in Python constructors refers to the instance being created and allows you to access and manipulate the instance's \n",
    "#attributes; it essentially binds the attributes to the instance. \n",
    "\n",
    "#Here's an example:\n",
    "class MyClass:\n",
    "    def __init__(self,value):\n",
    "        self.attribute=value\n",
    "\n",
    "obj1=MyClass(10)\n",
    "obj2=MyClass(20)\n",
    "\n",
    "print(obj1.attribute)  \n",
    "print(obj2.attribute)  \n",
    "\n",
    "#In this example, `self` is used to set the `attribute` for each instance (`obj1` and `obj2`) with different values."
   ]
  },
  {
   "cell_type": "code",
   "execution_count": 8,
   "id": "5f5f61b6-ac07-40c4-912a-7674ad029457",
   "metadata": {},
   "outputs": [],
   "source": [
    "#8\n",
    "#In Python, there are no default constructors in the same sense as some other programming languages. Constructors must be explicitly defined\n",
    "#in a class, but if you don't define a constructor, Python provides a default constructor with no arguments that doesn't perform any special\n",
    "#initialization; it's essentially an empty constructor that simply creates the object. You can use this default constructor when you don't need\n",
    "#to set any specific initial attributes or state for instances of your class."
   ]
  },
  {
   "cell_type": "code",
   "execution_count": 9,
   "id": "655ebca8-0087-4709-8b6c-e3b19f8dd824",
   "metadata": {},
   "outputs": [],
   "source": [
    "#9\n",
    "class Rectangle:\n",
    "    def __init__(self,width,height):\n",
    "        self.width=width\n",
    "        self.height=height\n",
    "    def area(self):\n",
    "        return self.width*self.height"
   ]
  },
  {
   "cell_type": "code",
   "execution_count": 10,
   "id": "8d21339e-a63b-42ff-9a15-3060ffe4ab38",
   "metadata": {},
   "outputs": [],
   "source": [
    "#10\n",
    "#In Python, you can't have multiple constructors with different sets of parameters like some other programming languages; instead, you can \n",
    "#use default argument values to achieve similar behavior.\n",
    "\n",
    "#Here's an example:\n",
    "\n",
    "class Rectangle:\n",
    "    def __init__(self,width=0,height=0):\n",
    "        self.width=width\n",
    "        self.height=height\n",
    "\n",
    "#In this example, the `__init__` constructor provides default values of 0 for `width` and `height` so that you can create instances with or without \n",
    "#specifying these values."
   ]
  },
  {
   "cell_type": "code",
   "execution_count": 11,
   "id": "67a6ea6a-3fca-4dca-a170-9275262060ea",
   "metadata": {},
   "outputs": [],
   "source": [
    "#11\n",
    "#Method overloading in Python refers to the ability to define multiple methods with the same name in a class, but with different parameter\n",
    "#lists. However, Python does not support traditional method overloading like some other languages, as it primarily takes into account the \n",
    "#most recently defined method with a particular name when called, which makes it less common to use overloading with constructors."
   ]
  },
  {
   "cell_type": "code",
   "execution_count": 15,
   "id": "fb080282-16e7-4619-9e3c-362f93a08848",
   "metadata": {},
   "outputs": [
    {
     "name": "stdout",
     "output_type": "stream",
     "text": [
      "Peter\n",
      "25\n"
     ]
    }
   ],
   "source": [
    "#12\n",
    "#The `super()` function in Python constructors is used to call a constructor from the parent (or superclass) class, allowing you to initialize \n",
    "#the inherited attributes while customizing the behavior in the current class.\n",
    "\n",
    "#Here's an example:\n",
    "\n",
    "class Parent:\n",
    "    def __init__(self,name):\n",
    "        self.name=name\n",
    "\n",
    "class Child(Parent):\n",
    "    def __init__(self,name,age):\n",
    "        super().__init__(name) \n",
    "        self.age=age\n",
    "\n",
    "child=Child(\"Peter\", 25)\n",
    "print(child.name)  \n",
    "print(child.age)   "
   ]
  },
  {
   "cell_type": "code",
   "execution_count": 16,
   "id": "e9ad07b9-5561-43eb-92aa-83b8230472e0",
   "metadata": {},
   "outputs": [],
   "source": [
    "#13\n",
    "class Book:\n",
    "    def __init__(self,title,author,published_year):\n",
    "        self.title=title\n",
    "        self.author=author\n",
    "        self.published_year=published_year\n",
    "    def display_book_details(self):\n",
    "        print('Book details:')\n",
    "        print(f'Title: {self.title}')\n",
    "        print(f'Author: {self.author}')\n",
    "        print(f'Published year: {self.published_year}')"
   ]
  },
  {
   "cell_type": "code",
   "execution_count": 17,
   "id": "223a4eed-fec5-492b-9806-7cc1d9e08bd4",
   "metadata": {},
   "outputs": [],
   "source": [
    "#14\n",
    "#Constructors in Python classes are special methods with the name `__init__` used to initialize object attributes when an instance \n",
    "#is created, while regular methods are used for performing actions and operations on objects after they are initialized."
   ]
  },
  {
   "cell_type": "code",
   "execution_count": 18,
   "id": "90041f21-4307-4eb0-88b1-f63d5a90974e",
   "metadata": {},
   "outputs": [],
   "source": [
    "#15\n",
    "#The `self` parameter in a constructor (typically named `__init__`) refers to the instance of the class being created, and it is used to \n",
    "#access and initialize instance variables specific to that instance, ensuring they are unique to each object."
   ]
  },
  {
   "cell_type": "code",
   "execution_count": 20,
   "id": "3f07c1df-6552-4b02-abd2-e60bddd57a9d",
   "metadata": {},
   "outputs": [
    {
     "name": "stdout",
     "output_type": "stream",
     "text": [
      "True\n"
     ]
    }
   ],
   "source": [
    "#16\n",
    "#To prevent a class from having multiple instances, you can use a Singleton pattern by maintaining a reference to the single instance and \n",
    "#ensuring that only one instance is created. Here's an example:\n",
    "\n",
    "class Singleton:\n",
    "    _instance=None\n",
    "\n",
    "    def __new__(cls):\n",
    "        if cls._instance is None:\n",
    "            cls._instance=super(Singleton,cls).__new__(cls)\n",
    "        return cls._instance\n",
    "\n",
    "obj1=Singleton()\n",
    "obj2=Singleton()\n",
    "\n",
    "print(obj1 is obj2)  \n",
    "\n",
    "#In this example, `__new__` is used to create a single instance of the `Singleton` class, and any attempts to create additional instances will \n",
    "#return the same instance, ensuring only one instance exists."
   ]
  },
  {
   "cell_type": "code",
   "execution_count": 21,
   "id": "8041ebac-3a78-47fe-a6f6-0ebf33aa4290",
   "metadata": {},
   "outputs": [
    {
     "name": "stdout",
     "output_type": "stream",
     "text": [
      "['Math', 'Science', 'History']\n"
     ]
    }
   ],
   "source": [
    "#17\n",
    "#Here's a Python class called `Student` with a constructor that takes a list of subjects as a parameter and initializes the `subjects` attribute:\n",
    "\n",
    "class Student:\n",
    "    def __init__(self,subjects):\n",
    "        self.subjects=subjects\n",
    "\n",
    "# Example usage:\n",
    "student1=Student([\"Math\",\"Science\",\"History\"])\n",
    "print(student1.subjects) \n",
    "\n",
    "#In this example, when you create a `Student` object, you can pass a list of subjects, and the constructor initializes the `subjects` attribute with that list."
   ]
  },
  {
   "cell_type": "code",
   "execution_count": 22,
   "id": "84f95957-d088-4cfc-a6b6-607badc71eea",
   "metadata": {},
   "outputs": [],
   "source": [
    "#18\n",
    "#The `__del__` method in Python classes, also known as the destructor, is used for cleanup operations when an object is about to be destroyed \n",
    "#or deallocated. While constructors (`__init__` method) are responsible for object initialization, the `__del__` method is responsible for \n",
    "#cleanup tasks, and it is automatically called when an object is no longer in use and is being removed from memory."
   ]
  },
  {
   "cell_type": "code",
   "execution_count": 23,
   "id": "a92d7714-d57b-47b8-b766-cdddcb7ee81e",
   "metadata": {},
   "outputs": [],
   "source": [
    "#19\n",
    "#Constructor chaining in Python refers to calling one constructor from another constructor in the same class or a parent class to avoid code \n",
    "#duplication and ensure that common initialization logic is reused.\n",
    "\n",
    "#Here's a practical example of constructor chaining in Python:\n",
    "\n",
    "class Person:\n",
    "    def __init__(self,name,age):\n",
    "        self.name=name\n",
    "        self.age=age\n",
    "\n",
    "class Student(Person):\n",
    "    def __init__(self,name,age,student_id):\n",
    "        super().__init__(name,age)  \n",
    "        self.student_id=student_id"
   ]
  },
  {
   "cell_type": "code",
   "execution_count": 25,
   "id": "ad659458-495e-459d-980b-a0ab24d0484e",
   "metadata": {},
   "outputs": [],
   "source": [
    "#20\n",
    "class Car:\n",
    "    def __init__(self):\n",
    "        self.make=\"Unknown\"\n",
    "        self.model=\"Unknown\"\n",
    "    def display_car_information(self):\n",
    "        print('Car information:')\n",
    "        print(f'Make: {self.make}')\n",
    "        print(f'Model: {self.model}')"
   ]
  },
  {
   "cell_type": "markdown",
   "id": "283cf329-fb7c-496b-8a57-a444e0a3019c",
   "metadata": {},
   "source": [
    "### Inheritance:"
   ]
  },
  {
   "cell_type": "code",
   "execution_count": 1,
   "id": "a77cc822-a355-4c16-8d64-dfb7dcdd43b8",
   "metadata": {},
   "outputs": [],
   "source": [
    "#1\n",
    "#In Python, inheritance is a fundamental concept in object-oriented programming that allows a class (called a subclass or derived class) to inherit attributes and \n",
    "#methods from another class (called a superclass or base class). This promotes code reuse, modularity, and the creation of hierarchies of related classes, making \n",
    "#it easier to model real-world relationships and build efficient, maintainable software."
   ]
  },
  {
   "cell_type": "code",
   "execution_count": 11,
   "id": "07e59c7d-0771-45a3-b379-960b1d767611",
   "metadata": {},
   "outputs": [],
   "source": [
    "#2\n",
    "#Single inheritance in Python refers to a class inheriting from only one base class. This means that a subclass can extend and reuse \n",
    "#the attributes and methods of a single parent class.\n",
    "#Example:\n",
    "\n",
    "class Animal:\n",
    "    def speak(self):\n",
    "        pass\n",
    "class Dog(Animal):\n",
    "    def speak(self):\n",
    "        return \"Woof!\"\n",
    "class Cat(Animal):\n",
    "    def speak(self):\n",
    "        return \"Meow!\"\n",
    "\n",
    "#Multiple inheritance allows a class to inherit from more than one base class. This means that a subclass can inherit and reuse attributes \n",
    "#and methods from multiple parent classes.\n",
    "#Example:\n",
    "\n",
    "class Fish:\n",
    "    def swim(self):\n",
    "        pass\n",
    "class Bird:\n",
    "    def fly(self):\n",
    "        pass\n",
    "class FlyingFish(Fish,Bird):\n",
    "    pass"
   ]
  },
  {
   "cell_type": "code",
   "execution_count": 3,
   "id": "6dd6d792-8d0c-4af8-9514-e809354b4164",
   "metadata": {},
   "outputs": [],
   "source": [
    "#3\n",
    "class Vehicle:\n",
    "    def __init__(self,color,speed):\n",
    "        self.color=color\n",
    "        self.speed=speed\n",
    "class Car(Vehicle):\n",
    "    def __init__(self,color,speed,brand):\n",
    "        super().__init__(color,speed)\n",
    "        self.brand=brand\n",
    "\n",
    "car1=Car('Red',120,'Toyota')"
   ]
  },
  {
   "cell_type": "code",
   "execution_count": 12,
   "id": "dc92539c-d611-4230-8d68-6fb96b84ed6b",
   "metadata": {},
   "outputs": [
    {
     "name": "stdout",
     "output_type": "stream",
     "text": [
      "Woof!\n"
     ]
    }
   ],
   "source": [
    "#4\n",
    "#Method overriding in inheritance is the ability for a subclass to provide its own implementation of a method that is already defined in its superclass, \n",
    "#allowing the subclass to customize or extend the behavior of the inherited method. \n",
    "#Example:\n",
    "\n",
    "class Animal:\n",
    "    def speak(self):\n",
    "        print(\"Some generic sound\")\n",
    "class Dog(Animal):\n",
    "    def speak(self):\n",
    "        print(\"Woof!\")\n",
    "\n",
    "my_dog=Dog()\n",
    "my_dog.speak() "
   ]
  },
  {
   "cell_type": "code",
   "execution_count": 15,
   "id": "3761baae-d09b-4518-a4a9-3ff3ae37cb45",
   "metadata": {},
   "outputs": [
    {
     "name": "stdout",
     "output_type": "stream",
     "text": [
      "My name is Alice and I am 7 years old.\n"
     ]
    }
   ],
   "source": [
    "#5\n",
    "#In Python, you can access the methods and attributes of a parent class from a child class using the super() function. You can use super().method() to \n",
    "#call a method from the parent class, and super().attribute to access an attribute from the parent class.\n",
    "#Example:\n",
    "\n",
    "class Parent:\n",
    "    def __init__(self,name):\n",
    "        self.name=name\n",
    "class Child(Parent):\n",
    "    def __init__(self,name,age):\n",
    "        super().__init__(name)\n",
    "        self.age=age\n",
    "    def introduce(self):\n",
    "        print(f\"My name is {self.name} and I am {self.age} years old.\")\n",
    "\n",
    "child=Child(\"Alice\",7)\n",
    "child.introduce()  "
   ]
  },
  {
   "cell_type": "code",
   "execution_count": 17,
   "id": "bffdff4c-b334-4274-ac47-f427fdd26512",
   "metadata": {},
   "outputs": [
    {
     "name": "stdout",
     "output_type": "stream",
     "text": [
      "My name is Alice and I am 7 years old.\n"
     ]
    }
   ],
   "source": [
    "#6\n",
    "#The `super()` function in Python is used to call a method or access an attribute from the parent class in the context of inheritance. It is typically used \n",
    "#in the child class to invoke the parent class's methods or constructors, allowing for method overriding and extending the behavior of the parent class.\n",
    "#Example:\n",
    "\n",
    "class Parent:\n",
    "    def __init__(self,name):\n",
    "        self.name=name\n",
    "class Child(Parent):\n",
    "    def __init__(self,name,age):\n",
    "        super().__init__(name)  \n",
    "        self.age=age\n",
    "    def introduce(self):\n",
    "        print(f\"My name is {self.name} and I am {self.age} years old.\")\n",
    "\n",
    "child=Child(\"Alice\",7)\n",
    "child.introduce() "
   ]
  },
  {
   "cell_type": "code",
   "execution_count": 18,
   "id": "02d2ca95-86df-4af1-866a-52a9b5629102",
   "metadata": {},
   "outputs": [
    {
     "name": "stdout",
     "output_type": "stream",
     "text": [
      "Woof!\n",
      "Meow!\n"
     ]
    }
   ],
   "source": [
    "#7\n",
    "class Animal:\n",
    "    def speak(self):\n",
    "        print(\"Some generic animal sound\")\n",
    "class Dog(Animal):\n",
    "    def speak(self):\n",
    "        print(\"Woof!\")\n",
    "class Cat(Animal):\n",
    "    def speak(self):\n",
    "        print(\"Meow!\")\n",
    "\n",
    "dog=Dog()\n",
    "cat=Cat()\n",
    "dog.speak()  \n",
    "cat.speak()  "
   ]
  },
  {
   "cell_type": "code",
   "execution_count": 21,
   "id": "f9c6fe1a-d4d9-4e36-a150-86f4c43a68d8",
   "metadata": {},
   "outputs": [],
   "source": [
    "#8\n",
    "#The `isinstance()` function in Python is used to check if an object belongs to a particular class or a subclass. It plays a crucial role in inheritance \n",
    "#by allowing you to determine the class hierarchy of an object, helping you make decisions or perform actions based on the type of the object, and facilitating \n",
    "#polymorphism in object-oriented programming."
   ]
  },
  {
   "cell_type": "code",
   "execution_count": 20,
   "id": "b5ceacbe-a08e-4487-b9fa-6a88c671773e",
   "metadata": {},
   "outputs": [
    {
     "name": "stdout",
     "output_type": "stream",
     "text": [
      "True\n"
     ]
    }
   ],
   "source": [
    "#9\n",
    "#The `issubclass()` function in Python is used to check if a class is a subclass of another class, helping to verify class hierarchies \n",
    "#and relationships within an inheritance structure.\n",
    "#Example:\n",
    "\n",
    "class Parent:\n",
    "    pass\n",
    "class Child(Parent):\n",
    "    pass\n",
    "\n",
    "print(issubclass(Child, Parent)) "
   ]
  },
  {
   "cell_type": "code",
   "execution_count": 22,
   "id": "b15df603-9bed-4f89-8c66-bfda139015c7",
   "metadata": {},
   "outputs": [],
   "source": [
    "#10\n",
    "#In Python, constructor inheritance refers to the automatic inheritance of a parent class's constructor by its child classes. When a child class is created, it \n",
    "#can inherit the constructor of the parent class using the `super()` function to initialize attributes from the parent class while adding its own attributes \n",
    "#specific to the child class, ensuring that the initialization logic of the parent class is retained and extended as needed."
   ]
  },
  {
   "cell_type": "code",
   "execution_count": 2,
   "id": "faa2aca6-3b6b-4b95-a779-788c6bae6c46",
   "metadata": {},
   "outputs": [
    {
     "name": "stdout",
     "output_type": "stream",
     "text": [
      "Area of the circle: 78.54\n",
      "Area of the rectangle: 24\n"
     ]
    }
   ],
   "source": [
    "#11\n",
    "class Shape:\n",
    "    def area(self):\n",
    "        pass\n",
    "class Circle(Shape):\n",
    "    def __init__(self,radius):\n",
    "        self.radius=radius\n",
    "    def area(self):\n",
    "        return 3.1416*self.radius**2\n",
    "class Rectangle(Shape):\n",
    "    def __init__(self,width,height):\n",
    "        self.width=width\n",
    "        self.height=height\n",
    "    def area(self):\n",
    "        return self.width*self.height\n",
    "\n",
    "circle=Circle(5)\n",
    "rectangle=Rectangle(4,6)\n",
    "\n",
    "print(f\"Area of the circle: {circle.area():.2f}\")\n",
    "print(f\"Area of the rectangle: {rectangle.area()}\")"
   ]
  },
  {
   "cell_type": "code",
   "execution_count": 3,
   "id": "ed20e84a-bcb1-493e-aab3-7b4f29632453",
   "metadata": {},
   "outputs": [],
   "source": [
    "#12\n",
    "#Abstract base classes (ABCs) in Python are used to define a common interface for a group of related classes. They serve \n",
    "#as a blueprint for subclasses, ensuring that certain methods or properties are implemented in all derived classes, enforcing \n",
    "#a level of consistency and structure in inheritance.\n",
    "\n",
    "from abc import ABC, abstractmethod\n",
    "\n",
    "class Shape(ABC):\n",
    "    @abstractmethod\n",
    "    def area(self):\n",
    "        pass\n",
    "class Circle(Shape):\n",
    "    def __init__(self,radius):\n",
    "        self.radius=radius\n",
    "    def area(self):\n",
    "        return 3.14*self.radius*self.radius\n",
    "class Square(Shape):\n",
    "    def __init__(self,side):\n",
    "        self.side=side\n",
    "    def area(self):\n",
    "        return self.side*self.side"
   ]
  },
  {
   "cell_type": "code",
   "execution_count": 4,
   "id": "f08c78ff-c429-4bf8-8d99-1d7341629981",
   "metadata": {},
   "outputs": [],
   "source": [
    "#13\n",
    "#You can prevent a child class from modifying certain attributes or methods inherited from a parent class in Python by making those attributes \n",
    "#or methods private (by prefixing them with a double underscore, like `__attribute` or `__method`) or by using name mangling to make them less \n",
    "#accessible, which discourages direct modification or access by subclasses."
   ]
  },
  {
   "cell_type": "code",
   "execution_count": 6,
   "id": "d98ea907-0078-4e0e-a3e9-fa7804c3a6c5",
   "metadata": {},
   "outputs": [
    {
     "name": "stdout",
     "output_type": "stream",
     "text": [
      "Employee: John, Salary: $50000\n",
      "Manager: Sarah, Salary: $75000, Department: HR\n"
     ]
    }
   ],
   "source": [
    "#14\n",
    "class Employee:\n",
    "    def __init__(self,name,salary):\n",
    "        self.name=name\n",
    "        self.salary=salary\n",
    "class Manager(Employee):\n",
    "    def __init__(self,name,salary,department):\n",
    "        super().__init__(name,salary)\n",
    "        self.department=department\n",
    "        \n",
    "employee1=Employee(\"John\",50000)\n",
    "manager1=Manager(\"Sarah\",75000,\"HR\")\n",
    "\n",
    "print(f\"Employee: {employee1.name}, Salary: ${employee1.salary}\")\n",
    "print(f\"Manager: {manager1.name}, Salary: ${manager1.salary}, Department: {manager1.department}\")"
   ]
  },
  {
   "cell_type": "code",
   "execution_count": 7,
   "id": "900dce7d-7f7f-4b40-9b03-a68980c9a9a0",
   "metadata": {},
   "outputs": [],
   "source": [
    "#15\n",
    "#Method overloading in Python involves defining multiple methods with the same name in a class, but with different parameter lists. \n",
    "#Python doesn't natively support method overloading based on the number or types of arguments, unlike some other programming languages, but \n",
    "#you can achieve it using default argument values or variable-length arguments. Method overriding, on the other hand, occurs when a subclass \n",
    "#provides a specific implementation of a method that is already defined in its parent class, allowing the subclass to replace or extend the \n",
    "#behavior of the inherited method while keeping the method name the same."
   ]
  },
  {
   "cell_type": "code",
   "execution_count": 8,
   "id": "35068df9-1210-47d2-b1ed-ab2db94434ef",
   "metadata": {},
   "outputs": [],
   "source": [
    "#16\n",
    "#The `__init__()` method in Python is a special method, also known as a constructor, used to initialize objects created from a class. In \n",
    "#inheritance, child classes often define their own `__init__()` method to add new attributes or customize the initialization process, and \n",
    "#they can call the parent class's `__init__()` method using `super()` to ensure that the inherited attributes are also initialized. This \n",
    "#enables child classes to both inherit and extend the behavior of the parent class's constructor."
   ]
  },
  {
   "cell_type": "code",
   "execution_count": 10,
   "id": "040e621c-8736-47c6-a472-b594e80fe513",
   "metadata": {},
   "outputs": [
    {
     "name": "stdout",
     "output_type": "stream",
     "text": [
      "Fly\n",
      "Eagle fly\n",
      "Sparrow fly\n"
     ]
    }
   ],
   "source": [
    "#17\n",
    "class Bird:\n",
    "    def fly(self):\n",
    "        print(\"Fly\")\n",
    "class Eagle(Bird):\n",
    "    def fly(self):\n",
    "        print(\"Eagle fly\")\n",
    "class Sparrow(Bird):\n",
    "    def fly(self):\n",
    "        print(\"Sparrow fly\")\n",
    "\n",
    "bird=Bird()\n",
    "eagle=Eagle()\n",
    "sparrow=Sparrow()\n",
    "bird.fly()  \n",
    "eagle.fly() \n",
    "sparrow.fly()"
   ]
  },
  {
   "cell_type": "code",
   "execution_count": 11,
   "id": "115d5c86-4d0f-4fbe-99e2-00358a4eb55e",
   "metadata": {},
   "outputs": [],
   "source": [
    "#18\n",
    "#The \"diamond problem\" is a challenge in multiple inheritance, where a class inherits from two classes that have a common ancestor, \n",
    "#resulting in ambiguity when calling methods or accessing attributes from the common ancestor. Python addresses the diamond problem by \n",
    "#using a method resolution order (MRO) defined by the C3 linearization algorithm, ensuring a consistent order in which base classes are \n",
    "#considered, which helps prevent ambiguity and maintain a predictable inheritance hierarchy."
   ]
  },
  {
   "cell_type": "code",
   "execution_count": 12,
   "id": "7a939025-44a1-403b-af67-7a54aebea8cf",
   "metadata": {},
   "outputs": [],
   "source": [
    "#19\n",
    "#\"Is-a\" and \"has-a\" relationships are fundamental concepts in object-oriented programming. An \"is-a\" relationship represents inheritance, \n",
    "#where a subclass is a specialized version of its superclass, like a \"Car\" is-a \"Vehicle.\" A \"has-a\" relationship signifies composition, where \n",
    "#an object contains another object, such as a \"Car\" has-a \"Engine.\""
   ]
  },
  {
   "cell_type": "code",
   "execution_count": 13,
   "id": "8b8e45cb-6a8a-46c9-9fad-3724e929bcc9",
   "metadata": {},
   "outputs": [
    {
     "name": "stdout",
     "output_type": "stream",
     "text": [
      "Name: Sam, Age: 20\n",
      "Sam is studying Math\n",
      "Name: Dr. Smith, Age: 45\n",
      "Dr. Smith is teaching Computer Science\n"
     ]
    }
   ],
   "source": [
    "#20\n",
    "class Person:\n",
    "    def __init__(self,name,age):\n",
    "        self.name=name\n",
    "        self.age=age\n",
    "    def introduce(self):\n",
    "        return f\"Name: {self.name}, Age: {self.age}\"\n",
    "class Student(Person):\n",
    "    def __init__(self,name,age,student_id):\n",
    "        super().__init__(name,age)\n",
    "        self.student_id=student_id\n",
    "    def study(self,subject):\n",
    "        return f\"{self.name} is studying {subject}\"\n",
    "class Professor(Person):\n",
    "    def __init__(self,name,age,employee_id):\n",
    "        super().__init__(name,age)\n",
    "        self.employee_id=employee_id\n",
    "    def teach(self,subject):\n",
    "        return f\"{self.name} is teaching {subject}\"\n",
    "\n",
    "student1=Student(\"Sam\",20,\"S12345\")\n",
    "professor1=Professor(\"Dr. Smith\",45,\"P9876\")\n",
    "\n",
    "print(student1.introduce())\n",
    "print(student1.study(\"Math\"))\n",
    "print(professor1.introduce())\n",
    "print(professor1.teach(\"Computer Science\"))"
   ]
  },
  {
   "cell_type": "markdown",
   "id": "16d08123-a352-47a2-8a16-d27ed899340b",
   "metadata": {},
   "source": [
    "### Encapsulation:"
   ]
  },
  {
   "cell_type": "code",
   "execution_count": 1,
   "id": "88e3d91b-b539-431b-8cde-35c7060fcdb6",
   "metadata": {},
   "outputs": [],
   "source": [
    "#1\n",
    "#Encapsulation in Python is a fundamental concept in object-oriented programming that involves bundling the data (attributes) and methods (functions)\n",
    "#that operate on that data into a single unit known as a class. It serves to restrict direct access to an object's internal state and provides a way\n",
    "#to control and maintain the integrity of the data, promoting information hiding and modularity in the code."
   ]
  },
  {
   "cell_type": "code",
   "execution_count": 2,
   "id": "de0a7e1f-3002-4fd0-ad7b-d42bd0044de5",
   "metadata": {},
   "outputs": [],
   "source": [
    "#2\n",
    "#The key principles of encapsulation in object-oriented programming involve access control and data hiding. Access control restricts the external\n",
    "#access to an object's internal data and methods, defining what can be accessed and manipulated from outside the class. Data hiding ensures that the\n",
    "#implementation details of an object are hidden from the user, allowing changes to be made to the internal structure of the class without affecting\n",
    "#the code that uses the class, promoting a more robust and maintainable codebase."
   ]
  },
  {
   "cell_type": "code",
   "execution_count": 3,
   "id": "5a2d1194-9b55-4cef-b088-703112cc29c2",
   "metadata": {},
   "outputs": [
    {
     "name": "stdout",
     "output_type": "stream",
     "text": [
      "Justine\n"
     ]
    }
   ],
   "source": [
    "#3\n",
    "#Encapsulation in Python classes can be achieved by using access specifiers like private and protected variables and methods, although Python does\n",
    "#not enforce strict access control. You can prefix an attribute or method with a single underscore (e.g., `_variable`) to indicate it's intended as \n",
    "#protected and with a double underscore (e.g., `__variable`) to make it private, while still allowing access if necessary. Here's an example:\n",
    "\n",
    "class Student:\n",
    "    def __init__(self,name,roll):\n",
    "        self._name=name  #Protected attribute\n",
    "        self.__roll=roll  #Private attribute\n",
    "\n",
    "    def get_roll(self):\n",
    "        return self.__roll  #Accessing a private attribute\n",
    "\n",
    "    def set_roll(self,new_roll):\n",
    "        self.__roll=new_roll  #Modifying a private attribute\n",
    "\n",
    "student=Student(\"Justine\",12345)\n",
    "print(student._name)  #Accessing a protected attribute\n",
    "student.set_roll(54321)  #Modifying a private attribute"
   ]
  },
  {
   "cell_type": "code",
   "execution_count": 4,
   "id": "fd45b6be-c91e-49ea-bbab-7f601bd62a4e",
   "metadata": {},
   "outputs": [],
   "source": [
    "#4\n",
    "#In Python, public attributes and methods are accessible from anywhere, private attributes and methods (denoted by a double underscore\n",
    "#prefix, like `__variable`) are not meant to be accessed directly from outside the class, but they can still be accessed, albeit with name\n",
    "#mangling. Protected attributes and methods (indicated with a single underscore prefix, like `_variable`) are intended to signal that they\n",
    "#are for internal use or for subclassing, but they are not truly protected or private; it's a naming convention that provides a hint to developers\n",
    "#but doesn't enforce access control."
   ]
  },
  {
   "cell_type": "code",
   "execution_count": 5,
   "id": "5c91db04-28e1-4c25-b911-77ba40c97edb",
   "metadata": {},
   "outputs": [],
   "source": [
    "#5\n",
    "class Person:\n",
    "    def __init__(self,name):\n",
    "        self.__name=name\n",
    "    def get_name(self):\n",
    "        return self.__name\n",
    "    def set_name(self,new_name):\n",
    "        self.__name=new_name"
   ]
  },
  {
   "cell_type": "code",
   "execution_count": 8,
   "id": "80f0cd64-4538-4eb2-a444-ef67638ac1d8",
   "metadata": {},
   "outputs": [
    {
     "name": "stdout",
     "output_type": "stream",
     "text": [
      "Heather\n",
      "20\n"
     ]
    }
   ],
   "source": [
    "#6\n",
    "#Getter and setter methods play a crucial role in encapsulation by providing controlled access to an object's attributes. Getter methods allow\n",
    "#retrieving the value of an attribute, while setter methods enable controlled modification of the attribute, ensuring data integrity and allowing\n",
    "#for validation or additional logic.\n",
    "#Here's an example:\n",
    "\n",
    "class Student:\n",
    "    def __init__(self,name,age):\n",
    "        self.name=name  \n",
    "        self.__age=age  \n",
    "\n",
    "    def get_age(self): #Getter method\n",
    "        return self.__age\n",
    "\n",
    "    def set_age(self,age): #Setter method\n",
    "        if age>=0:\n",
    "            self.__age=age\n",
    "\n",
    "\n",
    "student=Student(\"Heather\", 20)\n",
    "print(student.name)\n",
    "print(student.get_age())  \n",
    "student.set_age(22)  "
   ]
  },
  {
   "cell_type": "code",
   "execution_count": 9,
   "id": "ac36b77d-283b-443d-abe5-9fe9de675981",
   "metadata": {},
   "outputs": [],
   "source": [
    "#7\n",
    "#Name mangling in Python is a mechanism that adds a prefix to attribute and method names in classes to make them less accessible from outside\n",
    "#the class. It affects encapsulation by providing a level of access control for attributes marked as private (using a double underscore\n",
    "#prefix, e.g., `__variable`), although it's not true encapsulation and can still be accessed with some effort."
   ]
  },
  {
   "cell_type": "code",
   "execution_count": 10,
   "id": "a6914ad1-7342-4e6b-95a0-1aa1cba9bdc1",
   "metadata": {},
   "outputs": [],
   "source": [
    "#8\n",
    "class BankAccount:\n",
    "    def __init__(self,balance,account_number):\n",
    "        self.__balance=balance\n",
    "        self.__account_number=account_number\n",
    "    def deposit(self,amount):\n",
    "        self.__balance+=amount\n",
    "    def withdraw(self,amount):\n",
    "        self.__balance-=amount"
   ]
  },
  {
   "cell_type": "code",
   "execution_count": 11,
   "id": "2629d4af-6e88-4f4d-9e06-943e645990c1",
   "metadata": {},
   "outputs": [],
   "source": [
    "#9\n",
    "#Encapsulation improves code maintainability by allowing changes to the internal implementation of a class without affecting external code that\n",
    "#uses it. It enhances security by restricting direct access to an object's data and ensuring that data modifications follow controlled, validated \n",
    "#processes, reducing the risk of unintended errors or security vulnerabilities."
   ]
  },
  {
   "cell_type": "code",
   "execution_count": 12,
   "id": "0af1ca84-9536-4958-9488-dfc1d9f6f9af",
   "metadata": {},
   "outputs": [
    {
     "name": "stdout",
     "output_type": "stream",
     "text": [
      "42\n"
     ]
    }
   ],
   "source": [
    "#10\n",
    "#Private attributes in Python can be accessed using name mangling, which involves adding a prefix to the attribute name with the class name and \n",
    "#two underscores. Here's an example:\n",
    "\n",
    "class MyClass:\n",
    "    def __init__(self):\n",
    "        self.__private_var=42\n",
    "\n",
    "obj=MyClass()\n",
    "print(obj._MyClass__private_var)  #Accessing a private attribute using name mangling"
   ]
  },
  {
   "cell_type": "code",
   "execution_count": 1,
   "id": "0e7ddb54-744f-4926-ab0b-c6d390dc2fef",
   "metadata": {},
   "outputs": [],
   "source": [
    "#11\n",
    "class Person:\n",
    "    def __init__(self, name, age, address):\n",
    "        self._name = name\n",
    "        self._age = age\n",
    "        self._address = address\n",
    "\n",
    "    def get_info(self):\n",
    "        return f\"Name: {self._name}, Age: {self._age}, Address: {self._address}\"\n",
    "\n",
    "class Student(Person):\n",
    "    def __init__(self, name, age, address, student_id):\n",
    "        super().__init__(name, age, address)\n",
    "        self._student_id = student_id\n",
    "        self._courses = []\n",
    "\n",
    "    def enroll_in_course(self, course):\n",
    "        self._courses.append(course)\n",
    "\n",
    "    def get_courses(self):\n",
    "        return self._courses\n",
    "\n",
    "    def get_info(self):\n",
    "        personal_info = super().get_info()\n",
    "        return f\"Student ID: {self._student_id}\\n{personal_info}\"\n",
    "\n",
    "class Teacher(Person):\n",
    "    def __init__(self, name, age, address, employee_id):\n",
    "        super().__init__(name, age, address)\n",
    "        self._employee_id = employee_id\n",
    "        self._courses_taught = []\n",
    "\n",
    "    def assign_course(self, course):\n",
    "        self._courses_taught.append(course)\n",
    "\n",
    "    def get_courses_taught(self):\n",
    "        return self._courses_taught\n",
    "\n",
    "    def get_info(self):\n",
    "        personal_info = super().get_info()\n",
    "        return f\"Employee ID: {self._employee_id}\\n{personal_info}\"\n",
    "\n",
    "class Course:\n",
    "    def __init__(self, course_code, course_name, credits, teacher=None):\n",
    "        self._course_code = course_code\n",
    "        self._course_name = course_name\n",
    "        self._credits = credits\n",
    "        self._teacher = teacher\n",
    "\n",
    "    def set_teacher(self, teacher):\n",
    "        self._teacher = teacher\n",
    "\n",
    "    def get_info(self):\n",
    "        if self._teacher:\n",
    "            return f\"Course Code: {self._course_code}\\nCourse Name: {self._course_name}\\nCredits: {self._credits}\\nTeacher: {self._teacher.get_info()}\"\n",
    "        else:\n",
    "            return f\"Course Code: {self._course_code}\\nCourse Name: {self._course_name}\\nCredits: {self._credits}\\nTeacher: Not assigned\""
   ]
  },
  {
   "cell_type": "code",
   "execution_count": 2,
   "id": "518cdf41-5a8c-4ceb-b768-551c6e26b925",
   "metadata": {},
   "outputs": [],
   "source": [
    "#12\n",
    "#Property decorators in Python, such as `@property`, allow you to define getter methods that provide controlled access to class attributes, \n",
    "#enhancing encapsulation. They enable you to expose class attributes in a way that ensures data integrity and allows for additional processing or\n",
    "#validation when accessing those attributes."
   ]
  },
  {
   "cell_type": "code",
   "execution_count": 4,
   "id": "39992834-fdda-41b2-8f8b-645bf345dbe5",
   "metadata": {},
   "outputs": [
    {
     "name": "stdout",
     "output_type": "stream",
     "text": [
      "1500\n"
     ]
    }
   ],
   "source": [
    "#13\n",
    "#Data hiding is the concept of restricting direct access to an object's attributes or data from outside the class. It is important in encapsulation to \n",
    "#maintain data integrity and to ensure that the internal representation of an object remains hidden and protected.\n",
    "\n",
    "class BankAccount:\n",
    "    def __init__(self,balance):\n",
    "        self._balance=balance  #Data hiding using a single underscore\n",
    "    def deposit(self,amount):\n",
    "        self._balance+=amount\n",
    "    def get_balance(self):\n",
    "        return self._balance\n",
    "\n",
    "account=BankAccount(1000)\n",
    "account.deposit(500)\n",
    "print(account.get_balance())  #Accessing the balance through a getter method"
   ]
  },
  {
   "cell_type": "code",
   "execution_count": 6,
   "id": "6144bf3b-073a-4939-9040-19ad8af6f071",
   "metadata": {},
   "outputs": [],
   "source": [
    "#14\n",
    "class Employee:\n",
    "    def __init__(self,salary,employee_id):\n",
    "        self.__salary=salary\n",
    "        self.__employee_id=employee_id\n",
    "    def yearly_bonus(self):\n",
    "        return 0.1*self.__salary"
   ]
  },
  {
   "cell_type": "code",
   "execution_count": 7,
   "id": "58921f79-49c1-4204-907c-5e270570ebb2",
   "metadata": {},
   "outputs": [],
   "source": [
    "#15\n",
    "#Accessors (getters) and mutators (setters) are methods used in encapsulation to control access to an object's attributes. Accessors allow for reading attribute \n",
    "#values, while mutators enable modification, helping maintain control over attribute access by enforcing encapsulation principles and ensuring data integrity."
   ]
  },
  {
   "cell_type": "code",
   "execution_count": 8,
   "id": "840b29f1-ab00-428d-8924-a9788c733fc0",
   "metadata": {},
   "outputs": [],
   "source": [
    "#16\n",
    "#1. Overhead: Encapsulation in Python, achieved through getters and setters, can add a layer of complexity and potentially slow down attribute access compared \n",
    "#to direct attribute access, which is less efficient.\n",
    "\n",
    "#2. Reduced Accessibility: Overusing encapsulation may make it more challenging to work with objects, as it restricts direct attribute access, limiting the flexibility \n",
    "#that Python's dynamic typing and duck typing offer."
   ]
  },
  {
   "cell_type": "code",
   "execution_count": 13,
   "id": "f320ef66-48ec-4bba-8c28-1e679e124a8f",
   "metadata": {},
   "outputs": [],
   "source": [
    "#17\n",
    "class Book:\n",
    "    def __init__(self,title,author):\n",
    "        self.__title=title\n",
    "        self.__author=author\n",
    "        self.__available=True\n",
    "    def borrow(self):\n",
    "        if self.__available:\n",
    "            self.__available=False\n",
    "            return f\"{self.__title} by {self.__author} has been borrowed.\"\n",
    "        else:\n",
    "            return f\"{self.__title} by {self.__author} is currently not available.\"\n",
    "    def return_book(self):\n",
    "        if not self.__available:\n",
    "            self.__available=True\n",
    "            return f\"Thank you for returning {self.__title} by {self.__author}.\"\n",
    "        else:\n",
    "            return f\"{self.__title} by {self.__author} was not borrowed.\"\n",
    "    def is_available(self):\n",
    "        return self.__available\n",
    "    def get_title(self):\n",
    "        return self.__title\n",
    "    def get_author(self):\n",
    "        return self.__author"
   ]
  },
  {
   "cell_type": "code",
   "execution_count": 9,
   "id": "31983f22-207d-4f5b-8eb6-dad1065ff62f",
   "metadata": {},
   "outputs": [],
   "source": [
    "#18\n",
    "#Encapsulation in Python allows you to hide the internal implementation details of a class, providing a well-defined interface. This separation of concerns makes \n",
    "#it easier to reuse and swap out objects in a program without affecting other parts of the code, promoting modularity and enhancing code reusability."
   ]
  },
  {
   "cell_type": "code",
   "execution_count": 10,
   "id": "9c64c5b9-49d3-4f66-bb0d-86e47f07617f",
   "metadata": {},
   "outputs": [],
   "source": [
    "#19\n",
    "#Information hiding in encapsulation refers to the practice of restricting access to the internal details of a class, typically through private or protected \n",
    "#attributes and methods. It's essential in software development as it prevents the direct manipulation of an object's internal state, promoting a cleaner separation \n",
    "#between a class's interface and its implementation, which in turn enhances maintainability and reduces the risk of unintended side effects when making changes to a class."
   ]
  },
  {
   "cell_type": "code",
   "execution_count": 12,
   "id": "d61986d9-ee8c-46fe-b3f3-7ae8e2561591",
   "metadata": {},
   "outputs": [],
   "source": [
    "#20\n",
    "class Customer:\n",
    "    def __init__(self,name,address,contact_info):\n",
    "        self.__name=name\n",
    "        self.__address=address\n",
    "        self.__contact_info=contact_info\n",
    "    def get_name(self):\n",
    "        return self.__name\n",
    "    def get_address(self):\n",
    "        return self.__address\n",
    "    def get_contact_info(self):\n",
    "        return self.__contact_info\n",
    "    def set_name(self,name):\n",
    "        self.__name=name\n",
    "    def set_address(self,address):\n",
    "        self.__address=address\n",
    "    def set_contact_info(self,contact_info):\n",
    "        self.__contact_info=contact_info"
   ]
  },
  {
   "cell_type": "markdown",
   "id": "b43c1507-da8f-47ed-a36a-ac7cad0318b9",
   "metadata": {},
   "source": [
    "### Polymorphism"
   ]
  },
  {
   "cell_type": "code",
   "execution_count": 1,
   "id": "dc1fcaa5-2124-4fdd-ab63-f19c49b5f554",
   "metadata": {},
   "outputs": [],
   "source": [
    "#1\n",
    "#Polymorphism in Python is a concept in object-oriented programming where objects of different classes can be treated as objects of a common superclass. It allows \n",
    "#different classes to implement methods with the same name but with different behaviors, enabling code to work with objects of different types in a consistent and \n",
    "#flexible manner, promoting code reusability and extensibility."
   ]
  },
  {
   "cell_type": "code",
   "execution_count": 2,
   "id": "cd00539c-c71e-4176-b402-139fdf8721d8",
   "metadata": {},
   "outputs": [],
   "source": [
    "#2\n",
    "#Compile-time polymorphism, also known as method overloading, is resolved during the compilation phase and involves multiple methods with the same name but \n",
    "#different parameters in the same class. Runtime polymorphism, or method overriding, is resolved during program execution and involves a subclass providing a \n",
    "#specific implementation of a method that is already defined in its superclass, allowing dynamic method invocation based on the actual object type at runtime."
   ]
  },
  {
   "cell_type": "code",
   "execution_count": 3,
   "id": "ffdb6734-5412-418e-9d07-b10d45fbd6e4",
   "metadata": {},
   "outputs": [
    {
     "name": "stdout",
     "output_type": "stream",
     "text": [
      "Area of the shape is 78.53999999999999\n",
      "Area of the shape is 16\n",
      "Area of the shape is 9.0\n"
     ]
    }
   ],
   "source": [
    "#3\n",
    "class Shape:\n",
    "    def calculate_area(self):\n",
    "        return 0\n",
    "class Circle(Shape):\n",
    "    def __init__(self,radius):\n",
    "        self.radius=radius\n",
    "    def calculate_area(self):\n",
    "        return 3.1416*self.radius**2\n",
    "class Square(Shape):\n",
    "    def __init__(self,side_length):\n",
    "        self.side_length=side_length\n",
    "    def calculate_area(self):\n",
    "        return self.side_length**2\n",
    "class Triangle(Shape):\n",
    "    def __init__(self,base,height):\n",
    "        self.base=base\n",
    "        self.height=height\n",
    "    def calculate_area(self):\n",
    "        return 0.5*self.base*self.height\n",
    "\n",
    "shapes = [Circle(5),Square(4),Triangle(3, 6)]\n",
    "for shape in shapes:\n",
    "    print(f\"Area of the shape is {shape.calculate_area()}\")"
   ]
  },
  {
   "cell_type": "code",
   "execution_count": 7,
   "id": "61afaa4b-2c54-4617-a2bd-605ab7d699f0",
   "metadata": {},
   "outputs": [
    {
     "data": {
      "text/plain": [
       "78.53999999999999"
      ]
     },
     "execution_count": 7,
     "metadata": {},
     "output_type": "execute_result"
    }
   ],
   "source": [
    "#4\n",
    "#Method overriding in polymorphism allows a subclass to provide a specific implementation for a method that is already defined in its superclass, ensuring \n",
    "#that when the method is called on an instance of the subclass, the subclass's implementation is executed instead.\n",
    "#Example:\n",
    "\n",
    "class Shape:\n",
    "    def area(self):\n",
    "        pass\n",
    "class Circle(Shape):\n",
    "    def __init__(self,radius):\n",
    "        self.radius=radius\n",
    "    def area(self):\n",
    "        return 3.1416*self.radius**2\n",
    "    \n",
    "c=Circle(5)\n",
    "c.area()"
   ]
  },
  {
   "cell_type": "code",
   "execution_count": 8,
   "id": "d49bc9c3-ecfb-4c3c-b70b-3d40aef46780",
   "metadata": {},
   "outputs": [],
   "source": [
    "#5\n",
    "#Polymorphism allows objects of different classes to be treated as objects of a common superclass and execute methods with the same name but different \n",
    "#behaviors, while method overloading involves defining multiple methods in the same class with the same name but different parameters.\n",
    "\n",
    "#Example of Polymorphism:\n",
    "\n",
    "class Animal:\n",
    "    def speak(self):\n",
    "        pass\n",
    "class Dog(Animal):\n",
    "    def speak(self):\n",
    "        return \"Woof!\"\n",
    "class Cat(Animal):\n",
    "    def speak(self):\n",
    "        return \"Meow!\"\n",
    "\n",
    "#Example of Method Overloading:\n",
    "\n",
    "class Calculator:\n",
    "    def add(self,a,b):\n",
    "        return a+b\n",
    "    def add(self,a,b,c):\n",
    "        return a+b+c"
   ]
  },
  {
   "cell_type": "code",
   "execution_count": 9,
   "id": "13e1ccca-2134-4994-b100-5741bc1a1c37",
   "metadata": {},
   "outputs": [
    {
     "name": "stdout",
     "output_type": "stream",
     "text": [
      "The Dog says: Woof!\n",
      "The Cat says: Meow!\n",
      "The Bird says: Chirp!\n"
     ]
    }
   ],
   "source": [
    "#6\n",
    "class Animal:\n",
    "    def speak(self):\n",
    "        return \"Some generic animal sound\"\n",
    "class Dog(Animal):\n",
    "    def speak(self):\n",
    "        return \"Woof!\"\n",
    "class Cat(Animal):\n",
    "    def speak(self):\n",
    "        return \"Meow!\"\n",
    "class Bird(Animal):\n",
    "    def speak(self):\n",
    "        return \"Chirp!\"\n",
    "\n",
    "animals=[Dog(),Cat(),Bird()]\n",
    "for animal in animals:\n",
    "    print(f\"The {animal.__class__.__name__} says: {animal.speak()}\")"
   ]
  },
  {
   "cell_type": "code",
   "execution_count": 10,
   "id": "10f96f41-1bec-40df-9c72-42b61594511a",
   "metadata": {},
   "outputs": [],
   "source": [
    "#7\n",
    "#Abstract methods and classes in Python, achieved through the `abc` module, enforce the implementation of specific methods in derived classes, ensuring that \n",
    "#polymorphism is used consistently and correctly across different subclasses.\n",
    "\n",
    "#In the below example, the `Shape` class is an abstract base class with an abstract method `calculate_area()`, ensuring that any subclass must provide its \n",
    "#implementation of this method to be considered a valid shape.\n",
    "\n",
    "from abc import ABC, abstractmethod\n",
    "\n",
    "class Shape(ABC):\n",
    "    @abstractmethod\n",
    "    def calculate_area(self):\n",
    "        pass\n",
    "class Circle(Shape):\n",
    "    def __init__(self,radius):\n",
    "        self.radius=radius\n",
    "    def calculate_area(self):\n",
    "        return 3.1416*self.radius**2\n",
    "class Square(Shape):\n",
    "    def __init__(self,side_length):\n",
    "        self.side_length=side_length\n",
    "    def calculate_area(self):\n",
    "        return self.side_length**2"
   ]
  },
  {
   "cell_type": "code",
   "execution_count": 11,
   "id": "199a31da-2ced-4149-ab25-1b0409510dc0",
   "metadata": {},
   "outputs": [
    {
     "name": "stdout",
     "output_type": "stream",
     "text": [
      "Car is starting the engine.\n",
      "Bicycle is pedaling to start.\n",
      "Boat is revving the engine to start.\n"
     ]
    }
   ],
   "source": [
    "#8\n",
    "class Vehicle:\n",
    "    def start(self):\n",
    "        pass\n",
    "class Car(Vehicle):\n",
    "    def start(self):\n",
    "        return \"Car is starting the engine.\"\n",
    "class Bicycle(Vehicle):\n",
    "    def start(self):\n",
    "        return \"Bicycle is pedaling to start.\"\n",
    "class Boat(Vehicle):\n",
    "    def start(self):\n",
    "        return \"Boat is revving the engine to start.\"\n",
    "\n",
    "vehicles=[Car(),Bicycle(),Boat()]\n",
    "for vehicle in vehicles:\n",
    "    print(vehicle.start())"
   ]
  },
  {
   "cell_type": "code",
   "execution_count": 12,
   "id": "3b178691-0cbb-48a4-8a90-9b86498816a9",
   "metadata": {},
   "outputs": [],
   "source": [
    "#9\n",
    "#The `isinstance()` function in Python is used to check if an object is an instance of a specific class or any of its derived classes, making it essential \n",
    "#for verifying the type of an object before applying polymorphism. The `issubclass()` function is used to determine if a class is a subclass of another class, \n",
    "#helping ensure that inheritance and class hierarchies are set up correctly for polymorphism to work as intended."
   ]
  },
  {
   "cell_type": "code",
   "execution_count": 13,
   "id": "f026abac-dae8-4f1b-ba0f-9de1db3bc579",
   "metadata": {},
   "outputs": [],
   "source": [
    "#10\n",
    "#The `@abstractmethod` decorator from the `abc` module enforces that a method in a base class is declared as abstract, ensuring that all subclasses must \n",
    "#provide their own implementation of that method, thereby achieving polymorphism.\n",
    "#Example using the `@abstractmethod` decorator:\n",
    "\n",
    "from abc import ABC,abstractmethod\n",
    "class Shape(ABC):\n",
    "    @abstractmethod\n",
    "    def calculate_area(self):\n",
    "        pass\n",
    "class Circle(Shape):\n",
    "    def calculate_area(self):\n",
    "        return 3.1416*self.radius**2"
   ]
  },
  {
   "cell_type": "code",
   "execution_count": 1,
   "id": "4cf660e8-6023-4654-9e95-34c9b981343d",
   "metadata": {},
   "outputs": [],
   "source": [
    "#11\n",
    "import math\n",
    "class Shape:\n",
    "    def area(self):\n",
    "        pass\n",
    "class Circle(Shape):\n",
    "    def __init__(self,radius):\n",
    "        self.radius=radius\n",
    "    def area(self):\n",
    "        return math.pi*self.radius**2\n",
    "class Rectangle(Shape):\n",
    "    def __init__(self,width,height):\n",
    "        self.width=width\n",
    "        self.height=height\n",
    "    def area(self):\n",
    "        return self.width*self.height\n",
    "class Triangle(Shape):\n",
    "    def __init__(self,base,height):\n",
    "        self.base=base\n",
    "        self.height=height\n",
    "    def area(self):\n",
    "        return 0.5*self.base*self.height"
   ]
  },
  {
   "cell_type": "code",
   "execution_count": 2,
   "id": "1fdee758-f499-4717-aaac-4cd4eb3d2ee4",
   "metadata": {},
   "outputs": [],
   "source": [
    "#12\n",
    "#Polymorphism in Python enhances code reusability by allowing different objects to respond to the same method call, making it easier to write and maintain code \n",
    "#that works with a variety of objects. It also improves flexibility by enabling the addition of new classes or behaviors without modifying existing code, promoting \n",
    "#extensibility and adaptability in software systems."
   ]
  },
  {
   "cell_type": "code",
   "execution_count": 3,
   "id": "b1e5ccbb-e542-46bd-be74-e629fafe3904",
   "metadata": {},
   "outputs": [],
   "source": [
    "#13\n",
    "#The `super()` function in Python is used to call methods of a parent class in the context of inheritance and polymorphism. It helps access and invoke methods \n",
    "#from the parent class within a subclass, allowing for method overriding and extension while retaining the functionality of the parent class, thus promoting code \n",
    "#reuse and maintaining a hierarchical structure in object-oriented programming."
   ]
  },
  {
   "cell_type": "code",
   "execution_count": 4,
   "id": "74ae8214-d3ec-4cf7-960d-5a9cf5eca641",
   "metadata": {},
   "outputs": [],
   "source": [
    "#14\n",
    "class BankAccount:\n",
    "    def __init__(self,account_number,balance):\n",
    "        self.account_number=account_number\n",
    "        self.balance=balance\n",
    "    def withdraw(self,amount):\n",
    "        if amount<=self.balance:\n",
    "            self.balance-=amount\n",
    "            print(f\"Withdrew ${amount}. New balance: ${self.balance}\")\n",
    "        else:\n",
    "            print(\"Insufficient funds.\")\n",
    "class SavingsAccount(BankAccount):\n",
    "    def __init__(self,account_number,balance,interest_rate):\n",
    "        super().__init__(account_number,balance)\n",
    "        self.interest_rate=interest_rate\n",
    "    def withdraw(self,amount):\n",
    "        super().withdraw(amount)  \n",
    "class CheckingAccount(BankAccount):\n",
    "    def __init__(self,account_number,balance,overdraft_limit):\n",
    "        super().__init__(account_number,balance)\n",
    "        self.overdraft_limit=overdraft_limit\n",
    "    def withdraw(self,amount):\n",
    "        if amount<=self.balance+self.overdraft_limit:\n",
    "            self.balance-=amount\n",
    "            print(f\"Withdrew ${amount}. New balance: ${self.balance}\")\n",
    "        else:\n",
    "            print(\"Transaction denied. Exceeded overdraft limit.\")\n",
    "class CreditCardAccount(BankAccount):\n",
    "    def __init__(self,account_number,balance,credit_limit):\n",
    "        super().__init__(account_number,balance)\n",
    "        self.credit_limit=credit_limit\n",
    "    def withdraw(self,amount):\n",
    "        if amount<=self.balance+self.credit_limit:\n",
    "            self.balance-=amount\n",
    "            print(f\"Withdrew ${amount}. New balance: ${self.balance}\")\n",
    "        else:\n",
    "            print(\"Transaction denied. Exceeded credit limit.\")"
   ]
  },
  {
   "cell_type": "code",
   "execution_count": 1,
   "id": "6d1fe290-c173-40b1-ba92-ea40b5dab6b1",
   "metadata": {},
   "outputs": [
    {
     "name": "stdout",
     "output_type": "stream",
     "text": [
      "Result: (4, 6)\n",
      "Result: -4 + 7i\n"
     ]
    }
   ],
   "source": [
    "#15\n",
    "#Operator overloading in Python allows you to define the behavior of operators such as + and * for custom objects by implementing special methods \n",
    "#like __add__ and __mul__ within the class. This concept is closely related to polymorphism because it enables different objects to respond to the \n",
    "#same operator in a way that is contextually appropriate, promoting code reusability and flexibility.\n",
    "\n",
    "#Operator Overloading with +:\n",
    "class Vector:\n",
    "    def __init__(self, x, y):\n",
    "        self.x = x\n",
    "        self.y = y\n",
    "\n",
    "    def __add__(self, other):\n",
    "        return Vector(self.x + other.x, self.y + other.y)\n",
    "\n",
    "vector1 = Vector(1, 2)\n",
    "vector2 = Vector(3, 4)\n",
    "result_vector = vector1 + vector2 \n",
    "print(f\"Result: ({result_vector.x}, {result_vector.y})\") \n",
    "\n",
    "#Operator Overloading with *:\n",
    "class ComplexNumber:\n",
    "    def __init__(self, real, imag):\n",
    "        self.real = real\n",
    "        self.imag = imag\n",
    "\n",
    "    def __mul__(self, other):\n",
    "        real_part = self.real * other.real - self.imag * other.imag\n",
    "        imag_part = self.real * other.imag + self.imag * other.real\n",
    "        return ComplexNumber(real_part, imag_part)\n",
    "\n",
    "num1 = ComplexNumber(1, 2)\n",
    "num2 = ComplexNumber(2, 3)\n",
    "result = num1 * num2 \n",
    "print(f\"Result: {result.real} + {result.imag}i\") "
   ]
  },
  {
   "cell_type": "code",
   "execution_count": 2,
   "id": "527da815-0525-4219-8ea8-c8480b259e23",
   "metadata": {},
   "outputs": [],
   "source": [
    "#16\n",
    "#Dynamic polymorphism in Python is the ability of different objects to respond to the same method or function call in a way that is \n",
    "#appropriate for their respective types. It is achieved in Python through method overriding, where subclasses provide their own implementation \n",
    "#of a method with the same name as the one in the superclass, and Python's dynamic typing allows the correct method to be called based on the \n",
    "#actual object's type at runtime."
   ]
  },
  {
   "cell_type": "code",
   "execution_count": 3,
   "id": "da6b3f13-f283-45bf-95e0-c79aa96895b9",
   "metadata": {},
   "outputs": [],
   "source": [
    "#17\n",
    "class Employee:\n",
    "    def __init__(self,name,employee_id):\n",
    "        self.name=name\n",
    "        self.employee_id=employee_id\n",
    "    def calculate_salary(self):\n",
    "        pass\n",
    "class Manager(Employee):\n",
    "    def __init__(self,name,employee_id,base_salary,bonus):\n",
    "        super().__init__(name,employee_id)\n",
    "        self.base_salary=base_salary\n",
    "        self.bonus=bonus\n",
    "    def calculate_salary(self):\n",
    "        return self.base_salary+self.bonus\n",
    "class Developer(Employee):\n",
    "    def __init__(self,name,employee_id,hourly_rate,hours_worked):\n",
    "        super().__init__(name,employee_id)\n",
    "        self.hourly_rate=hourly_rate\n",
    "        self.hours_worked=hours_worked\n",
    "    def calculate_salary(self):\n",
    "        return self.hourly_rate*self.hours_worked\n",
    "class Designer(Employee):\n",
    "    def __init__(self,name,employee_id,monthly_salary):\n",
    "        super().__init__(name,employee_id)\n",
    "        self.monthly_salary=monthly_salary\n",
    "    def calculate_salary(self):\n",
    "        return self.monthly_salary"
   ]
  },
  {
   "cell_type": "code",
   "execution_count": 4,
   "id": "f408fddb-9833-49d1-b5dd-5c427b0f51aa",
   "metadata": {},
   "outputs": [],
   "source": [
    "#18\n",
    "#Function pointers are a feature in some programming languages, like C and C++, that allow you to store the address of a function in a \n",
    "#variable, enabling you to call different functions dynamically based on the pointer's value. In Python, you achieve polymorphism through \n",
    "#function pointers indirectly by using objects, classes, and method calls rather than direct function pointers as in languages like C, \n",
    "#thanks to Python's dynamic typing and object-oriented nature."
   ]
  },
  {
   "cell_type": "code",
   "execution_count": 5,
   "id": "06e0d1cc-486e-4e5c-a08c-11495534b1a0",
   "metadata": {},
   "outputs": [],
   "source": [
    "#19\n",
    "#Interfaces and abstract classes are both used to achieve polymorphism in object-oriented programming. Interfaces define a contract for \n",
    "#classes to implement specific methods, ensuring a common interface across different classes. Abstract classes, on the other hand, can \n",
    "#provide a mix of concrete and abstract methods, allowing code reuse and establishing a common base for related classes. The key difference \n",
    "#is that interfaces enforce method implementation, while abstract classes can provide some concrete functionality while leaving other methods \n",
    "#to be implemented by subclasses."
   ]
  },
  {
   "cell_type": "code",
   "execution_count": 7,
   "id": "06992ad8-9a4e-4450-8fcc-07b9da14ad78",
   "metadata": {},
   "outputs": [
    {
     "name": "stdout",
     "output_type": "stream",
     "text": [
      "Lion:\n",
      "Mammal makes a sound.\n",
      "Mammal is eating.\n",
      "Mammal is sleeping.\n",
      "\n",
      "Eagle:\n",
      "Bird makes a sound.\n",
      "Bird is eating.\n",
      "Bird is sleeping.\n",
      "\n",
      "Snake:\n",
      "Reptile makes a sound.\n",
      "Reptile is eating.\n",
      "Reptile is sleeping.\n",
      "\n"
     ]
    }
   ],
   "source": [
    "#20\n",
    "class Animal:\n",
    "    def __init__(self,name):\n",
    "        self.name=name\n",
    "    def make_sound(self):\n",
    "        pass\n",
    "    def eat(self):\n",
    "        pass\n",
    "    def sleep(self):\n",
    "        pass\n",
    "class Mammal(Animal):\n",
    "    def make_sound(self):\n",
    "        return \"Mammal makes a sound.\"\n",
    "    def eat(self):\n",
    "        return \"Mammal is eating.\"\n",
    "    def sleep(self):\n",
    "        return \"Mammal is sleeping.\"\n",
    "class Bird(Animal):\n",
    "    def make_sound(self):\n",
    "        return \"Bird makes a sound.\"\n",
    "    def eat(self):\n",
    "        return \"Bird is eating.\"\n",
    "    def sleep(self):\n",
    "        return \"Bird is sleeping.\"\n",
    "class Reptile(Animal):\n",
    "    def make_sound(self):\n",
    "        return \"Reptile makes a sound.\"\n",
    "    def eat(self):\n",
    "        return \"Reptile is eating.\"\n",
    "    def sleep(self):\n",
    "        return \"Reptile is sleeping.\"\n",
    "\n",
    "mammal=Mammal(\"Lion\")\n",
    "bird=Bird(\"Eagle\")\n",
    "reptile=Reptile(\"Snake\")\n",
    "animals=[mammal,bird,reptile]\n",
    "\n",
    "for animal in animals:\n",
    "    print(f\"{animal.name}:\")\n",
    "    print(animal.make_sound())\n",
    "    print(animal.eat())\n",
    "    print(animal.sleep())\n",
    "    print()"
   ]
  },
  {
   "cell_type": "markdown",
   "id": "77c2a219-16fc-4551-8684-e8f482acf241",
   "metadata": {},
   "source": [
    "### Abstraction"
   ]
  },
  {
   "cell_type": "code",
   "execution_count": 1,
   "id": "753c9b80-594e-4615-805f-e6599b7742e3",
   "metadata": {},
   "outputs": [],
   "source": [
    "#1\n",
    "#Abstraction in Python refers to the concept of simplifying complex reality by modeling classes and objects that hide unnecessary details while exposing \n",
    "#essential features. In object-oriented programming, abstraction is a fundamental principle that allows you to create classes as blueprints for objects, \n",
    "#focusing on their essential characteristics and behaviors while hiding the implementation details."
   ]
  },
  {
   "cell_type": "code",
   "execution_count": 2,
   "id": "c04cc820-bd60-4374-81ff-bfd768ea22e0",
   "metadata": {},
   "outputs": [],
   "source": [
    "#2\n",
    "#Abstraction in code organization helps by providing a clear separation between the interface and implementation, making it easier to manage and maintain complex \n",
    "#software systems. It reduces complexity by allowing developers to work with high-level, simplified concepts and only delve into implementation details when necessary, \n",
    "#leading to more efficient and manageable code."
   ]
  },
  {
   "cell_type": "code",
   "execution_count": 3,
   "id": "f2a75dca-9a7e-4443-bfd7-024995cb3ebb",
   "metadata": {},
   "outputs": [
    {
     "name": "stdout",
     "output_type": "stream",
     "text": [
      "Area of the circle: 78.53981633974483\n",
      "Area of the rectangle: 24\n"
     ]
    }
   ],
   "source": [
    "#3\n",
    "import math\n",
    "from abc import ABC,abstractmethod\n",
    "class Shape(ABC):\n",
    "    @abstractmethod\n",
    "    def calculate_area(self):\n",
    "        pass\n",
    "class Circle(Shape):\n",
    "    def __init__(self,radius):\n",
    "        self.radius=radius\n",
    "    def calculate_area(self):\n",
    "        return math.pi*self.radius**2\n",
    "class Rectangle(Shape):\n",
    "    def __init__(self,length,breadth):\n",
    "        self.length=length\n",
    "        self.breadth=breadth\n",
    "    def calculate_area(self):\n",
    "        return self.length*self.breadth\n",
    "    \n",
    "circle=Circle(5)\n",
    "rectangle=Rectangle(4,6)\n",
    "print(\"Area of the circle:\", circle.calculate_area()) \n",
    "print(\"Area of the rectangle:\", rectangle.calculate_area())  "
   ]
  },
  {
   "cell_type": "code",
   "execution_count": 4,
   "id": "4ef05da0-0b56-4ca6-ab69-dc3f3f03c37a",
   "metadata": {},
   "outputs": [
    {
     "name": "stdout",
     "output_type": "stream",
     "text": [
      "This is a concrete implementation.\n"
     ]
    }
   ],
   "source": [
    "#4\n",
    "#Abstract classes in Python are classes that cannot be instantiated and are meant to serve as blueprints for other classes. They can have abstract methods, \n",
    "#which are declared but not implemented in the abstract class. The `abc` module in Python is used to define abstract classes. Here's an example:\n",
    "\n",
    "from abc import ABC, abstractmethod\n",
    "class MyAbstractClass(ABC):\n",
    "    @abstractmethod\n",
    "    def my_method(self):\n",
    "        pass\n",
    "class MyConcreteClass(MyAbstractClass):\n",
    "    def my_method(self):\n",
    "        return \"This is a concrete implementation.\"\n",
    "\n",
    "my_concrete_instance=MyConcreteClass()\n",
    "print(my_concrete_instance.my_method()) "
   ]
  },
  {
   "cell_type": "code",
   "execution_count": 5,
   "id": "ea4371c9-1983-4971-a7d2-c3676c675396",
   "metadata": {},
   "outputs": [],
   "source": [
    "#5\n",
    "#Abstract classes in Python cannot be instantiated and often serve as templates with one or more abstract methods that must be implemented by their \n",
    "#concrete subclasses. Regular classes, on the other hand, can be instantiated directly and may not have abstract methods, making them suitable for \n",
    "#creating objects and providing default behavior. Abstract classes are useful when you want to define a common interface for a group of related classes, \n",
    "#ensuring that specific methods are implemented consistently across the subclasses. Regular classes are used to create objects with their own \n",
    "#specific behavior and attributes."
   ]
  },
  {
   "cell_type": "code",
   "execution_count": 6,
   "id": "56668b62-c87c-462c-8718-3e94f7dbe0b5",
   "metadata": {},
   "outputs": [],
   "source": [
    "#6\n",
    "class BankAccount:\n",
    "    def __init__(self,account_number,account_holder,initial_balance=0):\n",
    "        self.account_number=account_number\n",
    "        self.account_holder=account_holder\n",
    "        self.__balance=initial_balance  \n",
    "    def deposit(self,amount):\n",
    "        if amount>0:\n",
    "            self.__balance+=amount\n",
    "            print(f\"Deposited ${amount}. New balance: ${self.__balance}\")\n",
    "        else:\n",
    "            print(\"Invalid deposit amount.\")\n",
    "    def withdraw(self,amount):\n",
    "        if amount>0 and self.__balance>=amount:\n",
    "            self.__balance-=amount\n",
    "            print(f\"Withdrew ${amount}. New balance: ${self.__balance}\")\n",
    "        elif amount<=0:\n",
    "            print(\"Invalid withdrawal amount.\")\n",
    "        else:\n",
    "            print(\"Insufficient balance for withdrawal.\")\n",
    "    def get_balance(self):\n",
    "        return self.__balance"
   ]
  },
  {
   "cell_type": "code",
   "execution_count": 7,
   "id": "6b321aec-13b0-4e3e-8ca9-6ef25be0fdba",
   "metadata": {},
   "outputs": [],
   "source": [
    "#7\n",
    "#In Python, interface classes are not a built-in feature like in some other programming languages, but the concept can be emulated using abstract base \n",
    "#classes (ABCs) from the `abc` module. Interface classes define a contract of methods that must be implemented by their subclasses, ensuring a consistent \n",
    "#interface while achieving abstraction by hiding the implementation details and emphasizing the behavior that must be provided by concrete classes."
   ]
  },
  {
   "cell_type": "code",
   "execution_count": 9,
   "id": "564db397-cab7-4d97-9491-69c3f017b6a7",
   "metadata": {},
   "outputs": [],
   "source": [
    "#8\n",
    "from abc import ABC,abstractmethod\n",
    "class Animal(ABC):\n",
    "    @abstractmethod\n",
    "    def eat(self):\n",
    "        pass\n",
    "    @abstractmethod\n",
    "    def sleep(self):\n",
    "        pass\n",
    "class Dog(Animal):\n",
    "    def eat(self):\n",
    "        return 'Dog eats'\n",
    "    def sleep(self):\n",
    "        return 'Dog sleeps'\n",
    "class Fish(Animal):\n",
    "    def eat(self):\n",
    "        return 'Fish eats'\n",
    "    def sleep(self):\n",
    "        return 'Fish sleeps'"
   ]
  },
  {
   "cell_type": "code",
   "execution_count": 10,
   "id": "240b61b7-e214-4731-aaba-108af20e8d6c",
   "metadata": {},
   "outputs": [],
   "source": [
    "#9\n",
    "#Encapsulation is significant in achieving abstraction because it allows the bundling of data and methods into a single unit, which hides the internal \n",
    "#implementation details and exposes only a well-defined interface. This separation of concerns enables developers to work with high-level abstractions \n",
    "#without needing to understand the underlying complexity.\n",
    "\n",
    "#1. Example: Bank Account Class\n",
    "\n",
    "class BankAccount:\n",
    "    def __init__(self, initial_balance):\n",
    "        self.__balance = initial_balance  \n",
    "    def deposit(self, amount):\n",
    "        if amount > 0:\n",
    "            self.__balance += amount\n",
    "    def withdraw(self, amount):\n",
    "        if amount > 0 and amount <= self.__balance:\n",
    "            self.__balance -= amount\n",
    "    def get_balance(self):\n",
    "        return self.__balance\n",
    "\n",
    "#In this example, the `BankAccount` class encapsulates the balance attribute and provides methods for depositing, withdrawing, and getting the balance. \n",
    "#Users interact with the account's balance through the public methods without needing to know the details of how the balance is managed.\n",
    "\n",
    "#2. Example: Employee Class\n",
    "\n",
    "class Employee:\n",
    "    def __init__(self, name, salary):\n",
    "        self.__name = name  \n",
    "        self.__salary = salary \n",
    "    def get_name(self):\n",
    "        return self.__name\n",
    "    def get_salary(self):\n",
    "        return self.__salary\n",
    "\n",
    "#Here, the `Employee` class encapsulates the employee's name and salary attributes, providing methods to access this information. Users interact with the employee \n",
    "#object by calling these methods, abstracting away the internal details of how an employee's information is stored."
   ]
  },
  {
   "cell_type": "code",
   "execution_count": 11,
   "id": "cd3296cc-ac30-4af2-bbbd-a77977724577",
   "metadata": {},
   "outputs": [],
   "source": [
    "#10\n",
    "#Abstract methods in Python serve the purpose of defining a method's signature in an abstract base class without providing an actual implementation. They enforce \n",
    "#abstraction by requiring derived classes to implement these abstract methods, ensuring that specific behavior is defined at the subclass level, thus promoting a \n",
    "#clear separation between interface and implementation while adhering to a common structure."
   ]
  },
  {
   "cell_type": "code",
   "execution_count": 1,
   "id": "1e27902a-e0ab-4a84-9a62-c2fa1afe0c4d",
   "metadata": {},
   "outputs": [],
   "source": [
    "#11\n",
    "from abc import ABC,abstractmethod\n",
    "class Vehicle(ABC):\n",
    "    @abstractmethod\n",
    "    def start(self):\n",
    "        pass\n",
    "    @abstractmethod\n",
    "    def stop(self):\n",
    "        pass"
   ]
  },
  {
   "cell_type": "code",
   "execution_count": 2,
   "id": "903c8ccf-c1ab-42cd-9461-19801c7e4c1f",
   "metadata": {},
   "outputs": [],
   "source": [
    "#12\n",
    "#Abstract properties in Python are used to define properties in abstract classes that must be implemented by their concrete subclasses. They ensure that \n",
    "#specific attributes are present and accessible in all subclasses while allowing each subclass to provide its own implementation, ensuring consistency and \n",
    "#enforcing a contract in the inheritance hierarchy."
   ]
  },
  {
   "cell_type": "code",
   "execution_count": 3,
   "id": "c07295f7-9452-42b0-922d-3f320d4616d9",
   "metadata": {},
   "outputs": [],
   "source": [
    "#13\n",
    "from abc import ABC,abstractmethod\n",
    "class Employee(ABC):\n",
    "    @abstractmethod\n",
    "    def get_salary(self):\n",
    "        pass\n",
    "class Manager(Employee):\n",
    "    def get_salary(self):\n",
    "        return 60000  \n",
    "class Developer(Employee):\n",
    "    def get_salary(self):\n",
    "        return 50000  \n",
    "class Designer(Employee):\n",
    "    def get_salary(self):\n",
    "        return 45000 "
   ]
  },
  {
   "cell_type": "code",
   "execution_count": 4,
   "id": "f2e37083-66cb-44cc-a30c-a26b267fe9a9",
   "metadata": {},
   "outputs": [],
   "source": [
    "#14\n",
    "#Abstract classes in Python are classes that cannot be instantiated on their own and are meant to be subclassed. They often contain abstract methods that must be \n",
    "#implemented by concrete subclasses. Concrete classes, on the other hand, are classes that can be instantiated directly, and they provide concrete implementations \n",
    "#of methods, including those inherited from abstract classes, making them suitable for creating objects."
   ]
  },
  {
   "cell_type": "code",
   "execution_count": 5,
   "id": "77ec8ead-5414-4ec3-9a4f-98ef8814c28f",
   "metadata": {},
   "outputs": [],
   "source": [
    "#15\n",
    "#Abstract Data Types (ADTs) are high-level, mathematical models for representing data and the operations that can be performed on that data. They provide a clear \n",
    "#separation between the interface (the operations) and the implementation details, allowing for abstraction in Python and enabling programmers to work with data \n",
    "#structures in a way that hides the underlying complexity and focuses on the essential operations."
   ]
  },
  {
   "cell_type": "code",
   "execution_count": 6,
   "id": "76c9281a-f494-4840-89ff-41e32ddfc0c4",
   "metadata": {},
   "outputs": [],
   "source": [
    "#16\n",
    "from abc import ABC,abstractmethod\n",
    "class ComputerSystem(ABC):\n",
    "    @abstractmethod\n",
    "    def power_on(self):\n",
    "        pass\n",
    "    @abstractmethod\n",
    "    def shutdown(self):\n",
    "        pass"
   ]
  },
  {
   "cell_type": "code",
   "execution_count": 7,
   "id": "da2902fd-8278-4b81-81c2-88304b07f4fd",
   "metadata": {},
   "outputs": [],
   "source": [
    "#17\n",
    "#Abstraction in large-scale software development projects provides a crucial level of separation between high-level concepts and low-level implementation details, \n",
    "#simplifying the understanding and maintenance of complex systems. It allows developers to work on different parts of a project independently, promotes code \n",
    "#reusability, and enhances collaboration among team members, ultimately leading to more efficient, modular, and maintainable software development."
   ]
  },
  {
   "cell_type": "code",
   "execution_count": 8,
   "id": "ed417e0d-b886-4070-822b-1dd373a3d8b6",
   "metadata": {},
   "outputs": [],
   "source": [
    "#18\n",
    "#Abstraction in Python allows developers to define high-level interfaces with well-defined functionality, hiding the underlying implementation details. This \n",
    "#separation enables code reusability as different parts of the program can interact with abstract interfaces, and it promotes modularity by encapsulating logic \n",
    "#within self-contained components, making it easier to swap out or extend specific modules without affecting the entire system."
   ]
  },
  {
   "cell_type": "code",
   "execution_count": 9,
   "id": "f9059460-c0f3-45c1-a7df-8994b1787727",
   "metadata": {},
   "outputs": [],
   "source": [
    "#19\n",
    "from abc import ABC,abstractmethod\n",
    "class LibrarySystem(ABC):\n",
    "    def __init__(self):\n",
    "        self.books={}\n",
    "    @abstractmethod\n",
    "    def add_book(self,book_title,book_author):\n",
    "        pass\n",
    "    @abstractmethod\n",
    "    def borrow_book(self,book_title):\n",
    "        pass"
   ]
  },
  {
   "cell_type": "code",
   "execution_count": 10,
   "id": "f70fb6c3-67be-497f-bc96-59954fdde264",
   "metadata": {},
   "outputs": [],
   "source": [
    "#20\n",
    "#Method abstraction in Python involves defining methods in a way that hides their underlying implementation details, focusing on the high-level functionality of \n",
    "#the method. This concept relates to polymorphism as it allows different classes to implement the same method names but with different behaviors, enabling objects \n",
    "#of various classes to be used interchangeably, which is a key aspect of polymorphism."
   ]
  },
  {
   "cell_type": "markdown",
   "id": "acc5eb3c-6802-4a43-be30-81e37ab073fa",
   "metadata": {},
   "source": [
    "### Composition"
   ]
  },
  {
   "cell_type": "code",
   "execution_count": 1,
   "id": "323cd53d-8b6e-49d7-8d2e-5266e2965ca1",
   "metadata": {},
   "outputs": [],
   "source": [
    "#1\n",
    "#In Python, composition is a design principle that allows you to create complex objects by combining simpler ones. It involves creating classes that contain \n",
    "#instances of other classes as attributes, enabling you to build more intricate and flexible structures by assembling smaller, reusable components."
   ]
  },
  {
   "cell_type": "code",
   "execution_count": 2,
   "id": "c2a0c385-d66f-4036-adda-7fe3ece802e1",
   "metadata": {},
   "outputs": [],
   "source": [
    "#2\n",
    "#In object-oriented programming, composition is a design principle where a class contains instances of other classes as attributes to create complex objects. \n",
    "#In contrast, inheritance is a mechanism that allows a class to inherit properties and behaviors from another class, establishing an \"is-a\" relationship between \n",
    "#them. Composition promotes a \"has-a\" relationship, providing greater flexibility and avoiding some of the issues associated with deep class hierarchies \n",
    "#often seen in inheritance."
   ]
  },
  {
   "cell_type": "code",
   "execution_count": 3,
   "id": "48a33679-b94a-493d-a24c-4fb331787adf",
   "metadata": {},
   "outputs": [
    {
     "name": "stdout",
     "output_type": "stream",
     "text": [
      "Book Title: Harry Potter and the Sorcerer's Stone\n",
      "Author Name: J.K. Rowling\n",
      "Author Birthdate: July 31, 1965\n",
      "Publication Year: 1997\n"
     ]
    }
   ],
   "source": [
    "#3\n",
    "class Author:\n",
    "    def __init__(self,name,birthdate):\n",
    "        self.name=name\n",
    "        self.birthdate=birthdate\n",
    "class Book:\n",
    "    def __init__(self,title,author,publication_year):\n",
    "        self.title=title\n",
    "        self.author=author\n",
    "        self.publication_year=publication_year\n",
    "\n",
    "author1=Author(\"J.K. Rowling\",\"July 31, 1965\")\n",
    "book1=Book(\"Harry Potter and the Sorcerer's Stone\",author1,1997)\n",
    "\n",
    "print(f\"Book Title: {book1.title}\")\n",
    "print(f\"Author Name: {book1.author.name}\")\n",
    "print(f\"Author Birthdate: {book1.author.birthdate}\")\n",
    "print(f\"Publication Year: {book1.publication_year}\")"
   ]
  },
  {
   "cell_type": "code",
   "execution_count": 4,
   "id": "ac44edf3-1efd-4cf7-9cf5-0a27cce8d092",
   "metadata": {},
   "outputs": [],
   "source": [
    "#4\n",
    "#Using composition over inheritance in Python provides greater code flexibility and reusability as it allows you to create complex classes by combining smaller, \n",
    "#more focused components, which can be reused in various contexts. This approach promotes a more modular and maintainable codebase, reducing the tight coupling \n",
    "#often associated with inheritance and making it easier to adapt to changing requirements or extend functionality."
   ]
  },
  {
   "cell_type": "code",
   "execution_count": 5,
   "id": "21ead5ed-db47-4e88-9b66-9da167142f5e",
   "metadata": {},
   "outputs": [
    {
     "name": "stdout",
     "output_type": "stream",
     "text": [
      "Engine started\n",
      "Wheels are rotating\n"
     ]
    }
   ],
   "source": [
    "#5\n",
    "#Composition in Python is implemented by creating a class that contains instances of other classes as attributes. You can use these contained objects to build \n",
    "#complex objects with combined functionality. \n",
    "#For example, let's say you're creating a `Car` class that uses composition to include an `Engine` and `Wheels` as components:\n",
    "\n",
    "class Engine:\n",
    "    def start(self):\n",
    "        print(\"Engine started\")\n",
    "class Wheels:\n",
    "    def rotate(self):\n",
    "        print(\"Wheels are rotating\")\n",
    "class Car:\n",
    "    def __init__(self):\n",
    "        self.engine = Engine()\n",
    "        self.wheels = Wheels()\n",
    "    def drive(self):\n",
    "        self.engine.start()\n",
    "        self.wheels.rotate()\n",
    "my_car=Car()\n",
    "my_car.drive()  \n",
    "\n",
    "#In the above example, the `Car` class is composed of an `Engine` and `Wheels`, allowing you to create complex car objects with distinct functionalities \n",
    "#by reusing these components."
   ]
  },
  {
   "cell_type": "code",
   "execution_count": 7,
   "id": "81c0515f-9cc8-476c-a134-0b7be4d35e2d",
   "metadata": {},
   "outputs": [
    {
     "name": "stdout",
     "output_type": "stream",
     "text": [
      "Playlist: My Favorites\n",
      "Playing 'Song 1' by Artist A\n",
      "Playing 'Song 2' by Artist B\n"
     ]
    }
   ],
   "source": [
    "#6\n",
    "class Song:\n",
    "    def __init__(self,title,artist):\n",
    "        self.title=title\n",
    "        self.artist=artist\n",
    "    def play(self):\n",
    "        print(f\"Playing '{self.title}' by {self.artist}\")\n",
    "class Playlist:\n",
    "    def __init__(self,name):\n",
    "        self.name=name\n",
    "        self.songs=[]\n",
    "    def add_song(self,song):\n",
    "        self.songs.append(song)\n",
    "    def play(self):\n",
    "        print(f\"Playlist: {self.name}\")\n",
    "        for song in self.songs:\n",
    "            song.play()\n",
    "class MusicPlayer:\n",
    "    def __init__(self):\n",
    "        self.playlists=[]\n",
    "    def add_playlist(self,playlist):\n",
    "        self.playlists.append(playlist)\n",
    "\n",
    "song1=Song(\"Song 1\",\"Artist A\")\n",
    "song2=Song(\"Song 2\",\"Artist B\")\n",
    "\n",
    "playlist1=Playlist(\"My Favorites\")\n",
    "playlist1.add_song(song1)\n",
    "playlist1.add_song(song2)\n",
    "\n",
    "music_player=MusicPlayer()\n",
    "music_player.add_playlist(playlist1)\n",
    "\n",
    "playlist1.play()"
   ]
  },
  {
   "cell_type": "code",
   "execution_count": 8,
   "id": "4974bcec-ad91-4a0a-90bc-fca372329236",
   "metadata": {},
   "outputs": [],
   "source": [
    "#7\n",
    "#In composition, \"has-a\" relationships describe how one class is composed of or contains another class as one of its components. This relationship allows \n",
    "#for building more complex objects by combining simpler components, promoting modularity, code reuse, and flexibility in software design, making it easier \n",
    "#to create and maintain complex systems without inheriting unnecessary behavior or dependencies."
   ]
  },
  {
   "cell_type": "code",
   "execution_count": 9,
   "id": "aadc379a-7a1c-468c-aa29-be8f9a681086",
   "metadata": {},
   "outputs": [],
   "source": [
    "#8\n",
    "class CPU:\n",
    "    def __init__(self,model,speed):\n",
    "        self.model=model\n",
    "        self.speed=speed\n",
    "    def get_info(self):\n",
    "        return f\"CPU: {self.model}, Speed: {self.speed} GHz\"\n",
    "class RAM:\n",
    "    def __init__(self,capacity,speed):\n",
    "        self.capacity=capacity\n",
    "        self.speed=speed\n",
    "    def get_info(self):\n",
    "        return f\"RAM: {self.capacity} GB, Speed: {self.speed} MHz\"\n",
    "class StorageDevice:\n",
    "    def __init__(self,Type,capacity):\n",
    "        self.type=Type\n",
    "        self.capacity=capacity\n",
    "    def get_info(self):\n",
    "        return f\"Storage: {self.type}, Capacity: {self.capacity} GB\"\n",
    "class ComputerSystem:\n",
    "    def __init__(self,cpu,ram,storage):\n",
    "        self.cpu=cpu\n",
    "        self.ram=ram\n",
    "        self.storage=storage\n",
    "    def get_info(self):\n",
    "        return f\"Computer System\\n{self.cpu.get_info()}\\n{self.ram.get_info()}\\n{self.storage.get_info()}\""
   ]
  },
  {
   "cell_type": "code",
   "execution_count": 10,
   "id": "d7cf82dd-d0a7-4fe2-bbbf-5c972b38642d",
   "metadata": {},
   "outputs": [],
   "source": [
    "#9\n",
    "#Delegation in composition involves one class (the composed object) forwarding or delegating a specific task or responsibility to another class \n",
    "#(the component object) that it is composed of. This simplifies the design of complex systems by breaking down functionality into smaller, specialized \n",
    "#components, making the code more modular and maintainable, and allowing for the reuse of these components in various contexts without tightly \n",
    "#coupling them to the composed object."
   ]
  },
  {
   "cell_type": "code",
   "execution_count": 11,
   "id": "e1bbd58b-03f5-45a3-ae29-aa56aedeb10c",
   "metadata": {},
   "outputs": [],
   "source": [
    "#10\n",
    "class Engine:\n",
    "    def start(self):\n",
    "        print('Engine starts')\n",
    "class Wheels:\n",
    "    def rotate(self):\n",
    "        print('Wheels rotate')\n",
    "class Transmission:\n",
    "    def work(self):\n",
    "        print('Transmission works')\n",
    "class Car:\n",
    "    def __init__(self):\n",
    "        self.engine=Engine()\n",
    "        self.wheels=Wheels()\n",
    "        self.transmission=Transmission()"
   ]
  },
  {
   "cell_type": "code",
   "execution_count": 1,
   "id": "50368274-5525-43ff-8c86-988bfd9bcc96",
   "metadata": {},
   "outputs": [],
   "source": [
    "#11\n",
    "#You can encapsulate and hide the details of composed objects in Python classes by using private attributes and methods, ensuring that the internal implementation \n",
    "#remains hidden and abstracted."
   ]
  },
  {
   "cell_type": "code",
   "execution_count": 4,
   "id": "6edd7aa1-556e-4e86-86a3-ec965ee275ab",
   "metadata": {},
   "outputs": [],
   "source": [
    "#12\n",
    "class Student:\n",
    "    def __init__(self,student_id,name):\n",
    "        self.student_id=student_id\n",
    "        self.name=name\n",
    "class Instructor:\n",
    "    def __init__(self,instructor_id,name):\n",
    "        self.instructor_id=instructor_id\n",
    "        self.name=name\n",
    "class CourseMaterial:\n",
    "    def __init__(self,material_name,content):\n",
    "        self.material_name=material_name\n",
    "        self.content=content\n",
    "class UniversityCourse:\n",
    "    def __init__(self,instructor,students,materials):\n",
    "        self.instructor=instructor\n",
    "        self.students=students\n",
    "        self.materials=materials"
   ]
  },
  {
   "cell_type": "code",
   "execution_count": 5,
   "id": "fc2861d2-5164-4a85-bb12-459816f408c1",
   "metadata": {},
   "outputs": [],
   "source": [
    "#13\n",
    "#Composition in software design, while beneficial in many cases, can introduce challenges and drawbacks. One challenge is increased complexity, as composing \n",
    "#multiple objects and their interactions can become intricate, making the code harder to understand and maintain. Additionally, there is a potential for tight \n",
    "#coupling between objects in a composition, making it difficult to change one component without affecting others, which can hinder flexibility and scalability in the long run."
   ]
  },
  {
   "cell_type": "code",
   "execution_count": 22,
   "id": "54ad072f-cdd5-4c0a-b646-42f247f29e09",
   "metadata": {},
   "outputs": [],
   "source": [
    "#14\n",
    "class Ingredient:\n",
    "    def __init__(self, name, quantity, unit):\n",
    "        self.name = name\n",
    "        self.quantity = quantity\n",
    "        self.unit = unit\n",
    "class Dish:\n",
    "    def __init__(self, name, price, ingredients):\n",
    "        self.name = name\n",
    "        self.price = price\n",
    "        self.ingredients = ingredients\n",
    "    def display(self):\n",
    "        print(f\"{self.name} - ${self.price}\")\n",
    "        print(\"Ingredients:\")\n",
    "        for ingredient in self.ingredients:\n",
    "            print(f\"- {ingredient.quantity} {ingredient.unit} of {ingredient.name}\")\n",
    "class Menu:\n",
    "    def __init__(self, name, dishes):\n",
    "        self.name = name\n",
    "        self.dishes = dishes\n",
    "    def display(self):\n",
    "        print(f\"Menu: {self.name}\")\n",
    "        for dish in self.dishes:\n",
    "            dish.display()\n",
    "            print(\"\\n\")"
   ]
  },
  {
   "cell_type": "code",
   "execution_count": 13,
   "id": "14db2bb0-5312-4480-98ad-5c35ce215f45",
   "metadata": {},
   "outputs": [],
   "source": [
    "#15\n",
    "#Composition enhances code maintainability and modularity in Python programs by promoting the creation of smaller, reusable components or classes. This approach \n",
    "#allows developers to build complex systems by combining these modular components, making it easier to understand and maintain individual pieces of code and \n",
    "#facilitating updates or replacements of specific functionalities without affecting the entire system."
   ]
  },
  {
   "cell_type": "code",
   "execution_count": 21,
   "id": "e715880f-be3b-470a-aa87-3dd5f791e1d7",
   "metadata": {},
   "outputs": [],
   "source": [
    "#16\n",
    "class Character:\n",
    "    def __init__(self, name, health):\n",
    "        self.name = name\n",
    "        self.health = health\n",
    "        self.weapon = None\n",
    "        self.armor = None\n",
    "        self.inventory = []\n",
    "    def equip_weapon(self, weapon):\n",
    "        self.weapon = weapon\n",
    "    def equip_armor(self, armor):\n",
    "        self.armor = armor\n",
    "    def add_to_inventory(self, item):\n",
    "        self.inventory.append(item)\n",
    "    def attack(self, target):\n",
    "        if self.weapon:\n",
    "            damage = self.weapon.damage\n",
    "            print(f\"{self.name} attacks {target.name} with {self.weapon.name} for {damage} damage.\")\n",
    "            target.take_damage(damage)\n",
    "        else:\n",
    "            print(f\"{self.name} has no weapon to attack with.\")\n",
    "    def take_damage(self, damage):\n",
    "        if self.armor:\n",
    "            damage -= self.armor.defense\n",
    "            if damage < 0:\n",
    "                damage = 0\n",
    "        self.health -= damage\n",
    "        if self.health <= 0:\n",
    "            print(f\"{self.name} has been defeated.\")\n",
    "class Weapon:\n",
    "    def __init__(self, name, damage):\n",
    "        self.name = name\n",
    "        self.damage = damage\n",
    "\n",
    "class Armor:\n",
    "    def __init__(self, name, defense):\n",
    "        self.name = name\n",
    "        self.defense = defense"
   ]
  },
  {
   "cell_type": "code",
   "execution_count": 14,
   "id": "e387b305-5963-4681-a32d-b22216b88586",
   "metadata": {},
   "outputs": [],
   "source": [
    "#17\n",
    "#Aggregation is a form of composition in which a whole object contains or is composed of parts that can exist independently and have their own lifecycle. \n",
    "#Unlike simple composition, aggregation implies a weaker relationship between the whole and its parts, allowing the parts to be shared among multiple wholes \n",
    "#and potentially exist on their own without being destroyed when the whole object is destroyed, providing greater flexibility and reusability."
   ]
  },
  {
   "cell_type": "code",
   "execution_count": 20,
   "id": "f3b1a75d-0d95-4b0d-8235-5df8a0412984",
   "metadata": {},
   "outputs": [],
   "source": [
    "#18\n",
    "class House:\n",
    "    def __init__(self, address):\n",
    "        self.address = address\n",
    "        self.rooms = []\n",
    "    def add_room(self, room):\n",
    "        self.rooms.append(room)\n",
    "    def describe_house(self):\n",
    "        print(f\"House at {self.address} has the following rooms:\")\n",
    "        for room in self.rooms:\n",
    "            room.describe_room()\n",
    "class Room:\n",
    "    def __init__(self, name, area):\n",
    "        self.name = name\n",
    "        self.area = area\n",
    "        self.furniture = []\n",
    "        self.appliances = []\n",
    "    def describe_room(self):\n",
    "        print(f\"{self.name} ({self.area} sq. ft.)\")\n",
    "        if self.furniture:\n",
    "            print(\" Furniture:\")\n",
    "            for item in self.furniture:\n",
    "                print(item)\n",
    "        if self.appliances:\n",
    "            print(\"Appliances:\")\n",
    "            for item in self.appliances:\n",
    "                print(item)"
   ]
  },
  {
   "cell_type": "code",
   "execution_count": 15,
   "id": "6c0a6875-907e-414e-b80a-c8ebb0b2f24f",
   "metadata": {},
   "outputs": [],
   "source": [
    "#19\n",
    "#You can achieve flexibility in composed objects by employing dependency injection, a design pattern that allows you to inject or replace components at runtime \n",
    "#rather than hard-coding them within the object. By using interfaces or abstract classes and configuring objects with their dependencies, you can easily swap or \n",
    "#modify components, enhancing the flexibility and adaptability of your composed objects without requiring extensive code changes."
   ]
  },
  {
   "cell_type": "code",
   "execution_count": 23,
   "id": "4dbae83a-e355-4fa5-a092-d65026dc421f",
   "metadata": {},
   "outputs": [],
   "source": [
    "#20\n",
    "class User:\n",
    "    def __init__(self, username, full_name):\n",
    "        self.username = username\n",
    "        self.full_name = full_name\n",
    "        self.posts = []\n",
    "    def create_post(self, content):\n",
    "        post = Post(content, self)\n",
    "        self.posts.append(post)\n",
    "        return post\n",
    "    def display_posts(self):\n",
    "        for post in self.posts:\n",
    "            post.display()\n",
    "class Post:\n",
    "    def __init__(self, content, author):\n",
    "        self.content = content\n",
    "        self.author = author\n",
    "        self.comments = []\n",
    "    def add_comment(self, text, commenter):\n",
    "        comment = Comment(text, commenter)\n",
    "        self.comments.append(comment)\n",
    "        return comment\n",
    "    def display(self):\n",
    "        print(f\"Posted by {self.author.full_name}: {self.content}\")\n",
    "        if self.comments:\n",
    "            print(\"Comments:\")\n",
    "            for comment in self.comments:\n",
    "                comment.display()\n",
    "class Comment:\n",
    "    def __init__(self, text, commenter):\n",
    "        self.text = text\n",
    "        self.commenter = commenter\n",
    "    def display(self):\n",
    "        print(f\"  - {self.commenter.full_name}: {self.text}\")"
   ]
  }
 ],
 "metadata": {
  "kernelspec": {
   "display_name": "Python 3 (ipykernel)",
   "language": "python",
   "name": "python3"
  },
  "language_info": {
   "codemirror_mode": {
    "name": "ipython",
    "version": 3
   },
   "file_extension": ".py",
   "mimetype": "text/x-python",
   "name": "python",
   "nbconvert_exporter": "python",
   "pygments_lexer": "ipython3",
   "version": "3.10.8"
  }
 },
 "nbformat": 4,
 "nbformat_minor": 5
}
