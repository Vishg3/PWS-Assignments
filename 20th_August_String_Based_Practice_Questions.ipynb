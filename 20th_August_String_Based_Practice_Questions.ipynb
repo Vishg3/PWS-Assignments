{
 "cells": [
  {
   "cell_type": "markdown",
   "id": "d163efb9",
   "metadata": {},
   "source": [
    "# Assignment - 20th_August_String_Based_Practice_Questions"
   ]
  },
  {
   "cell_type": "markdown",
   "id": "92c90f27",
   "metadata": {},
   "source": [
    "### TOPIC: String Based Assignment Problem"
   ]
  },
  {
   "cell_type": "code",
   "execution_count": 2,
   "id": "bc9fe268",
   "metadata": {},
   "outputs": [
    {
     "name": "stdout",
     "output_type": "stream",
     "text": [
      "Reversed: rac\n"
     ]
    }
   ],
   "source": [
    "#1\n",
    "text = \"car\"\n",
    "print(\"Reversed:\",text[::-1])"
   ]
  },
  {
   "cell_type": "code",
   "execution_count": 3,
   "id": "36a994e0",
   "metadata": {},
   "outputs": [
    {
     "name": "stdout",
     "output_type": "stream",
     "text": [
      "car is not a palindrome\n"
     ]
    }
   ],
   "source": [
    "#2\n",
    "text = \"car\"\n",
    "if text == text[::-1]:\n",
    "    print(text,\"is a palindrome\")\n",
    "else:\n",
    "    print(text,\"is not a palindrome\")"
   ]
  },
  {
   "cell_type": "code",
   "execution_count": 4,
   "id": "ceef17c4",
   "metadata": {},
   "outputs": [
    {
     "name": "stdout",
     "output_type": "stream",
     "text": [
      "Upper case: CAR\n"
     ]
    }
   ],
   "source": [
    "#3\n",
    "text = \"car\"\n",
    "print(\"Upper case:\",text.upper())"
   ]
  },
  {
   "cell_type": "code",
   "execution_count": 5,
   "id": "77416508",
   "metadata": {},
   "outputs": [
    {
     "name": "stdout",
     "output_type": "stream",
     "text": [
      "Lower case: car\n"
     ]
    }
   ],
   "source": [
    "#4\n",
    "text = \"CAR\"\n",
    "print(\"Lower case:\",text.lower())"
   ]
  },
  {
   "cell_type": "code",
   "execution_count": 6,
   "id": "f359274d",
   "metadata": {},
   "outputs": [
    {
     "name": "stdout",
     "output_type": "stream",
     "text": [
      "Enter sentence: I love pizza.\n",
      "Number of vowels in string: 5\n"
     ]
    }
   ],
   "source": [
    "#5\n",
    "vowels = ['a','e','i','o','u','A','E','I','O','U']\n",
    "counter = 0\n",
    "sentence = input(\"Enter sentence: \")\n",
    "for character in sentence:\n",
    "    if character in vowels:\n",
    "        counter+=1\n",
    "print(\"Number of vowels in string:\",counter)"
   ]
  },
  {
   "cell_type": "code",
   "execution_count": 2,
   "id": "c7de1025",
   "metadata": {},
   "outputs": [
    {
     "name": "stdout",
     "output_type": "stream",
     "text": [
      "Enter sentence: I love pizza\n",
      "Number of consonants in string: 5\n"
     ]
    }
   ],
   "source": [
    "#6\n",
    "vowelsAndSpace = ['a','e','i','o','u','A','E','I','O','U',' ']\n",
    "counter = 0\n",
    "sentence = input(\"Enter sentence: \")\n",
    "for character in sentence:\n",
    "    if character not in vowelsAndSpace:\n",
    "        counter+=1\n",
    "print(\"Number of consonants in string:\",counter)"
   ]
  },
  {
   "cell_type": "code",
   "execution_count": 5,
   "id": "ea28b414",
   "metadata": {},
   "outputs": [
    {
     "name": "stdout",
     "output_type": "stream",
     "text": [
      "String without spaces: carisavehicle\n"
     ]
    }
   ],
   "source": [
    "#7\n",
    "text = \"car is a vehicle\"\n",
    "modifiedText = text.replace(\" \",\"\")\n",
    "print(\"String without spaces:\",modifiedText)"
   ]
  },
  {
   "cell_type": "code",
   "execution_count": 6,
   "id": "fd270de9",
   "metadata": {},
   "outputs": [
    {
     "name": "stdout",
     "output_type": "stream",
     "text": [
      "Length of string: 16\n"
     ]
    }
   ],
   "source": [
    "#8\n",
    "text = \"car is a vehicle\"\n",
    "counter = 0\n",
    "for char in text:\n",
    "    counter+=1\n",
    "print(\"Length of string:\",counter)"
   ]
  },
  {
   "cell_type": "code",
   "execution_count": 8,
   "id": "e344e057",
   "metadata": {},
   "outputs": [
    {
     "name": "stdout",
     "output_type": "stream",
     "text": [
      "vehicle is there\n"
     ]
    }
   ],
   "source": [
    "#9\n",
    "text = \"car is a vehicle\"\n",
    "specificWord = 'vehicle'\n",
    "if specificWord in text:\n",
    "    print(specificWord,\"is there\")\n",
    "else:\n",
    "    print(specificWord,\"is not there\")"
   ]
  },
  {
   "cell_type": "code",
   "execution_count": 12,
   "id": "13c6fc58",
   "metadata": {},
   "outputs": [
    {
     "name": "stdout",
     "output_type": "stream",
     "text": [
      "bike is a vehicle\n"
     ]
    }
   ],
   "source": [
    "#10\n",
    "text = \"car is a vehicle\"\n",
    "new = text.replace('car','bike')\n",
    "print(new)"
   ]
  },
  {
   "cell_type": "code",
   "execution_count": 14,
   "id": "c184f285",
   "metadata": {},
   "outputs": [
    {
     "name": "stdout",
     "output_type": "stream",
     "text": [
      "is is there 2 times\n"
     ]
    }
   ],
   "source": [
    "#11\n",
    "text = \"Car is a vehicle. It is fast.\"\n",
    "word = 'is'\n",
    "print(word,\"is there\",text.count(word),\"times\")"
   ]
  },
  {
   "cell_type": "code",
   "execution_count": 16,
   "id": "1c822d32",
   "metadata": {},
   "outputs": [
    {
     "name": "stdout",
     "output_type": "stream",
     "text": [
      "Index: 4\n"
     ]
    }
   ],
   "source": [
    "#12\n",
    "text = \"Car is a vehicle. It is fast.\"\n",
    "print(\"Index:\",text.find('is'))"
   ]
  },
  {
   "cell_type": "code",
   "execution_count": 17,
   "id": "c3779bd6",
   "metadata": {},
   "outputs": [
    {
     "name": "stdout",
     "output_type": "stream",
     "text": [
      "Index: 21\n"
     ]
    }
   ],
   "source": [
    "#13\n",
    "text = \"Car is a vehicle. It is fast.\"\n",
    "print(\"Index:\",text.rfind('is'))"
   ]
  },
  {
   "cell_type": "code",
   "execution_count": 19,
   "id": "c3b1bffc",
   "metadata": {},
   "outputs": [
    {
     "name": "stdout",
     "output_type": "stream",
     "text": [
      "List of words: ['Car', 'is', 'a', 'vehicle']\n"
     ]
    }
   ],
   "source": [
    "#14\n",
    "text = \"Car is a vehicle\"\n",
    "print(\"List of words:\",text.split(' '))"
   ]
  },
  {
   "cell_type": "code",
   "execution_count": 24,
   "id": "58b0905d",
   "metadata": {},
   "outputs": [
    {
     "name": "stdout",
     "output_type": "stream",
     "text": [
      "Car is a vehicle\n"
     ]
    }
   ],
   "source": [
    "#15\n",
    "listOfWords = ['Car', 'is', 'a', 'vehicle']\n",
    "string = ' '.join(listOfWords)\n",
    "print(string)"
   ]
  },
  {
   "cell_type": "code",
   "execution_count": 26,
   "id": "ef0c5383",
   "metadata": {},
   "outputs": [
    {
     "name": "stdout",
     "output_type": "stream",
     "text": [
      "Car_is_a_vehicle\n"
     ]
    }
   ],
   "source": [
    "#16\n",
    "text = \"Car is a vehicle\"\n",
    "new = text.replace(' ','_')\n",
    "print(new)"
   ]
  },
  {
   "cell_type": "code",
   "execution_count": 27,
   "id": "4163a132",
   "metadata": {},
   "outputs": [
    {
     "name": "stdout",
     "output_type": "stream",
     "text": [
      "Yes\n"
     ]
    }
   ],
   "source": [
    "#17\n",
    "text = \"Car is a vehicle\"\n",
    "word = \"Car\"\n",
    "if text.startswith(word):\n",
    "    print(\"Yes\")\n",
    "else:\n",
    "    print(\"No\")"
   ]
  },
  {
   "cell_type": "code",
   "execution_count": 29,
   "id": "33851adb",
   "metadata": {},
   "outputs": [
    {
     "name": "stdout",
     "output_type": "stream",
     "text": [
      "Yes\n"
     ]
    }
   ],
   "source": [
    "#18\n",
    "text = \"Car is a vehicle\"\n",
    "word = \"vehicle\"\n",
    "if text.endswith(word):\n",
    "    print(\"Yes\")\n",
    "else:\n",
    "    print(\"No\")"
   ]
  },
  {
   "cell_type": "code",
   "execution_count": 40,
   "id": "d46b7e49",
   "metadata": {},
   "outputs": [
    {
     "name": "stdout",
     "output_type": "stream",
     "text": [
      "Title case: Car Is A Vehicle\n"
     ]
    }
   ],
   "source": [
    "#19\n",
    "text = \"Car is a vehicle\"\n",
    "print(\"Title case:\",text.title())"
   ]
  },
  {
   "cell_type": "code",
   "execution_count": 41,
   "id": "48427c78",
   "metadata": {},
   "outputs": [
    {
     "name": "stdout",
     "output_type": "stream",
     "text": [
      "Longest word: vehicle\n"
     ]
    }
   ],
   "source": [
    "#20\n",
    "text = \"Car is a vehicle\"\n",
    "words = text.split()\n",
    "longestWord = max(words,key=len)\n",
    "print(\"Longest word:\",longestWord)"
   ]
  },
  {
   "cell_type": "code",
   "execution_count": 42,
   "id": "0982e1a4",
   "metadata": {},
   "outputs": [
    {
     "name": "stdout",
     "output_type": "stream",
     "text": [
      "Shortest word: a\n"
     ]
    }
   ],
   "source": [
    "#21\n",
    "text = \"Car is a vehicle\"\n",
    "words = text.split()\n",
    "shortestWord = min(words,key=len)\n",
    "print(\"Shortest word:\",shortestWord)"
   ]
  },
  {
   "cell_type": "code",
   "execution_count": 44,
   "id": "b180cc85",
   "metadata": {},
   "outputs": [
    {
     "name": "stdout",
     "output_type": "stream",
     "text": [
      "Reversed: vehicle a is Car\n"
     ]
    }
   ],
   "source": [
    "#22\n",
    "text = \"Car is a vehicle\"\n",
    "words = text.split()\n",
    "print(\"Reversed:\",\" \".join(words[::-1]))"
   ]
  },
  {
   "cell_type": "code",
   "execution_count": 48,
   "id": "c3351bd1",
   "metadata": {},
   "outputs": [
    {
     "name": "stdout",
     "output_type": "stream",
     "text": [
      "Alphanumeric.\n"
     ]
    }
   ],
   "source": [
    "#23\n",
    "text = \"Car123\"\n",
    "if text.isalnum():\n",
    "    print(\"Alphanumeric.\")\n",
    "else:\n",
    "    print(\"Not alphanumeric.\")"
   ]
  },
  {
   "cell_type": "code",
   "execution_count": 53,
   "id": "05ad11bc",
   "metadata": {},
   "outputs": [
    {
     "name": "stdout",
     "output_type": "stream",
     "text": [
      "Digits: 1,2,3\n"
     ]
    }
   ],
   "source": [
    "#24\n",
    "text = \"Car123\"\n",
    "digits = []\n",
    "for char in text:\n",
    "    if char.isdigit():\n",
    "        digits.append(char)\n",
    "print(\"Digits:\",\",\".join(digits))      "
   ]
  },
  {
   "cell_type": "code",
   "execution_count": 54,
   "id": "2eaa8a82",
   "metadata": {},
   "outputs": [
    {
     "name": "stdout",
     "output_type": "stream",
     "text": [
      "Alphabets: C,a,r\n"
     ]
    }
   ],
   "source": [
    "#25\n",
    "text = \"Car123\"\n",
    "chars = []\n",
    "for char in text:\n",
    "    if char.isalpha():\n",
    "        chars.append(char)\n",
    "print(\"Alphabets:\",\",\".join(chars))  "
   ]
  },
  {
   "cell_type": "code",
   "execution_count": 58,
   "id": "99386c33",
   "metadata": {},
   "outputs": [
    {
     "name": "stdout",
     "output_type": "stream",
     "text": [
      "Upper case: 2\n"
     ]
    }
   ],
   "source": [
    "#26\n",
    "text = \"Car is a Vehicle\"\n",
    "counter = 0\n",
    "for char in text:\n",
    "    if char.isupper():\n",
    "        counter+=1\n",
    "print(\"Upper case:\",counter)"
   ]
  },
  {
   "cell_type": "code",
   "execution_count": 59,
   "id": "3774d2fc",
   "metadata": {},
   "outputs": [
    {
     "name": "stdout",
     "output_type": "stream",
     "text": [
      "Lower case: 11\n"
     ]
    }
   ],
   "source": [
    "#27\n",
    "text = \"Car is a Vehicle\"\n",
    "counter = 0\n",
    "for char in text:\n",
    "    if char.islower():\n",
    "        counter+=1\n",
    "print(\"Lower case:\",counter)"
   ]
  },
  {
   "cell_type": "code",
   "execution_count": 61,
   "id": "dccbc9ac",
   "metadata": {},
   "outputs": [
    {
     "name": "stdout",
     "output_type": "stream",
     "text": [
      "Swap case: cAR IS A vEHICLE\n"
     ]
    }
   ],
   "source": [
    "#28\n",
    "text = \"Car is a Vehicle\"\n",
    "print(\"Swap case:\",text.swapcase())"
   ]
  },
  {
   "cell_type": "code",
   "execution_count": 64,
   "id": "2b9edef7",
   "metadata": {},
   "outputs": [
    {
     "name": "stdout",
     "output_type": "stream",
     "text": [
      "After removal: Car  a Vehicle\n"
     ]
    }
   ],
   "source": [
    "#29\n",
    "text = \"Car is a Vehicle\"\n",
    "word = 'is'\n",
    "print(\"After removal:\",text.replace(word,''))"
   ]
  },
  {
   "cell_type": "code",
   "execution_count": 1,
   "id": "d7586aae",
   "metadata": {},
   "outputs": [
    {
     "name": "stdout",
     "output_type": "stream",
     "text": [
      "True\n",
      "False\n",
      "False\n"
     ]
    }
   ],
   "source": [
    "#30\n",
    "import re\n",
    "def is_valid_email(email):\n",
    "    pattern = r'^[a-zA-Z0-9._%+-]+@[a-zA-Z0-9.-]+\\.[a-zA-Z]{2,}$'\n",
    "    if re.match(pattern, email):\n",
    "        return True\n",
    "    else:\n",
    "        return False\n",
    "email1 = \"user@example.com\"\n",
    "email2 = \"invalid_email\"\n",
    "email3 = \"another@example.c\"\n",
    "print(is_valid_email(email1)) \n",
    "print(is_valid_email(email2))  \n",
    "print(is_valid_email(email3)) "
   ]
  },
  {
   "cell_type": "code",
   "execution_count": 53,
   "id": "38d995b6",
   "metadata": {},
   "outputs": [
    {
     "name": "stdout",
     "output_type": "stream",
     "text": [
      "Username: mike33\n"
     ]
    }
   ],
   "source": [
    "#31\n",
    "e='mike33@gmail.com'\n",
    "u=e.split('@')[0]\n",
    "print(f\"Username: {u}\")"
   ]
  },
  {
   "cell_type": "code",
   "execution_count": 54,
   "id": "c27c2a07",
   "metadata": {},
   "outputs": [
    {
     "name": "stdout",
     "output_type": "stream",
     "text": [
      "Domain name: gmail.com\n"
     ]
    }
   ],
   "source": [
    "#32\n",
    "e='mike33@gmail.com'\n",
    "d=e.split('@')[1]\n",
    "print(f\"Domain name: {d}\")"
   ]
  },
  {
   "cell_type": "code",
   "execution_count": 58,
   "id": "7c762adc",
   "metadata": {},
   "outputs": [
    {
     "data": {
      "text/plain": [
       "'Hi. How are you?'"
      ]
     },
     "execution_count": 58,
     "metadata": {},
     "output_type": "execute_result"
    }
   ],
   "source": [
    "#33\n",
    "s=\"Hi.  How are    you?\"\n",
    "cs=\" \".join(s.split())\n",
    "cs"
   ]
  },
  {
   "cell_type": "code",
   "execution_count": 3,
   "id": "bf847a0e",
   "metadata": {},
   "outputs": [
    {
     "name": "stdout",
     "output_type": "stream",
     "text": [
      "True\n",
      "True\n",
      "False\n",
      "False\n"
     ]
    }
   ],
   "source": [
    "#34\n",
    "import re\n",
    "def is_valid_url(url):\n",
    "    pattern = r'^(https?|ftp)://[^\\s/$.?#].[^\\s]*$'\n",
    "    if re.match(pattern, url):\n",
    "        return True\n",
    "    else:\n",
    "        return False\n",
    "url1 = \"https://www.example.com\"\n",
    "url2 = \"ftp://file.example.com\"\n",
    "url3 = \"invalid_url\"\n",
    "url4 = \"http://\"\n",
    "print(is_valid_url(url1)) \n",
    "print(is_valid_url(url2)) \n",
    "print(is_valid_url(url3)) \n",
    "print(is_valid_url(url4))  "
   ]
  },
  {
   "cell_type": "code",
   "execution_count": 61,
   "id": "e8762b15",
   "metadata": {},
   "outputs": [
    {
     "data": {
      "text/plain": [
       "'https'"
      ]
     },
     "execution_count": 61,
     "metadata": {},
     "output_type": "execute_result"
    }
   ],
   "source": [
    "#35\n",
    "url=\"https://www.example.com\"\n",
    "url.split('://')[0]"
   ]
  },
  {
   "cell_type": "code",
   "execution_count": 64,
   "id": "490f6a45",
   "metadata": {},
   "outputs": [
    {
     "name": "stdout",
     "output_type": "stream",
     "text": [
      "Character: 'S', Frequency: 1\n",
      "Character: 'h', Frequency: 2\n",
      "Character: 'a', Frequency: 3\n",
      "Character: 'l', Frequency: 2\n",
      "Character: ' ', Frequency: 6\n",
      "Character: 'w', Frequency: 1\n",
      "Character: 'e', Frequency: 2\n",
      "Character: 'g', Frequency: 1\n",
      "Character: 'o', Frequency: 2\n",
      "Character: 't', Frequency: 2\n",
      "Character: 'c', Frequency: 1\n",
      "Character: 'r', Frequency: 2\n",
      "Character: 'p', Frequency: 1\n",
      "Character: 'k', Frequency: 1\n",
      "Character: '?', Frequency: 1\n"
     ]
    }
   ],
   "source": [
    "#36\n",
    "s='Shall we go to the car park?'\n",
    "f={}\n",
    "for c in s:\n",
    "    if c in f:\n",
    "        f[c]+=1\n",
    "    else:\n",
    "        f[c]=1\n",
    "for c,F in f.items():\n",
    "    print(f\"Character: '{c}', Frequency: {F}\")"
   ]
  },
  {
   "cell_type": "code",
   "execution_count": 11,
   "id": "52372c84",
   "metadata": {},
   "outputs": [
    {
     "name": "stdout",
     "output_type": "stream",
     "text": [
      "With punctuation:, Hi. How are you?\n",
      "Without punctuation:, Hi  How are you\n"
     ]
    }
   ],
   "source": [
    "#37\n",
    "s = \"Hi. How are you?\"\n",
    "print(f'With punctuation:, {s}')\n",
    "new_s = \"\"\n",
    "for c in s:\n",
    "    if c.isalnum():\n",
    "        new_s += c\n",
    "    else:\n",
    "        new_s += ' '\n",
    "s = new_s\n",
    "print(f'Without punctuation:, {s.strip()}')"
   ]
  },
  {
   "cell_type": "code",
   "execution_count": 13,
   "id": "9d1d4c8c",
   "metadata": {},
   "outputs": [
    {
     "data": {
      "text/plain": [
       "False"
      ]
     },
     "execution_count": 13,
     "metadata": {},
     "output_type": "execute_result"
    }
   ],
   "source": [
    "#38\n",
    "s='12car54?'\n",
    "s.isdigit()"
   ]
  },
  {
   "cell_type": "code",
   "execution_count": 15,
   "id": "64634049",
   "metadata": {},
   "outputs": [
    {
     "data": {
      "text/plain": [
       "True"
      ]
     },
     "execution_count": 15,
     "metadata": {},
     "output_type": "execute_result"
    }
   ],
   "source": [
    "#39\n",
    "s='museum'\n",
    "s.isalpha()"
   ]
  },
  {
   "cell_type": "code",
   "execution_count": 21,
   "id": "11e49539",
   "metadata": {},
   "outputs": [
    {
     "data": {
      "text/plain": [
       "['m', 'u', 's', 'e', 'u', 'm']"
      ]
     },
     "execution_count": 21,
     "metadata": {},
     "output_type": "execute_result"
    }
   ],
   "source": [
    "#40\n",
    "s='museum'\n",
    "list(s)"
   ]
  },
  {
   "cell_type": "code",
   "execution_count": 22,
   "id": "786c9d6b",
   "metadata": {},
   "outputs": [
    {
     "name": "stdout",
     "output_type": "stream",
     "text": [
      "They are anagrams\n"
     ]
    }
   ],
   "source": [
    "#41\n",
    "s1='Silent'\n",
    "s2='Listen'\n",
    "if sorted(s1.lower())==sorted(s2.lower()):\n",
    "    print(\"They are anagrams\")\n",
    "else:\n",
    "    print(\"They are not anagrams\")"
   ]
  },
  {
   "cell_type": "code",
   "execution_count": 4,
   "id": "53526c47",
   "metadata": {},
   "outputs": [
    {
     "name": "stdout",
     "output_type": "stream",
     "text": [
      "Encoded text: Khoor, Zruog!\n"
     ]
    }
   ],
   "source": [
    "#42\n",
    "def caesar_cipher(text, shift):\n",
    "    encrypted_text = \"\"  \n",
    "    for char in text:\n",
    "        if char.isalpha(): \n",
    "            is_upper = char.isupper()\n",
    "            char = char.lower()  \n",
    "            shifted_char = chr(((ord(char) - ord('a') + shift) % 26) + ord('a'))\n",
    "            if is_upper:\n",
    "                shifted_char = shifted_char.upper()\n",
    "            encrypted_text += shifted_char\n",
    "        else:\n",
    "            encrypted_text += char  \n",
    "    return encrypted_text\n",
    "plaintext = \"Hello, World!\"\n",
    "shift = 3\n",
    "encoded_text = caesar_cipher(plaintext, shift)\n",
    "print(\"Encoded text:\", encoded_text)"
   ]
  },
  {
   "cell_type": "code",
   "execution_count": 6,
   "id": "5f8aa484",
   "metadata": {},
   "outputs": [
    {
     "name": "stdout",
     "output_type": "stream",
     "text": [
      "Decoded text: Hello, World!\n"
     ]
    }
   ],
   "source": [
    "#43\n",
    "def caesar_cipher_decode(text, shift):\n",
    "    decoded_text = \"\"   \n",
    "    for char in text:\n",
    "        if char.isalpha():  \n",
    "            is_upper = char.isupper()\n",
    "            char = char.lower()  \n",
    "            shifted_char = chr(((ord(char) - ord('a') - shift) % 26) + ord('a'))\n",
    "            if is_upper:\n",
    "                shifted_char = shifted_char.upper()\n",
    "            decoded_text += shifted_char\n",
    "        else:\n",
    "            decoded_text += char   \n",
    "    return decoded_text\n",
    "encoded_text = \"Khoor, Zruog!\"\n",
    "shift = 3\n",
    "decoded_text = caesar_cipher_decode(encoded_text, shift)\n",
    "print(\"Decoded text:\", decoded_text)"
   ]
  },
  {
   "cell_type": "code",
   "execution_count": 39,
   "id": "cc7dfc0c",
   "metadata": {},
   "outputs": [
    {
     "name": "stdout",
     "output_type": "stream",
     "text": [
      "Most common word is test and is present 3 times.\n"
     ]
    }
   ],
   "source": [
    "#44\n",
    "s=\"This is a test and this test is a simple example test\"\n",
    "from collections import Counter\n",
    "w=s.split()\n",
    "wC=Counter(w)\n",
    "top=wC.most_common(1)\n",
    "T=top[0]\n",
    "print(f'Most common word is {T[0]} and is present {T[1]} times.')"
   ]
  },
  {
   "cell_type": "code",
   "execution_count": 48,
   "id": "471998c7",
   "metadata": {},
   "outputs": [
    {
     "name": "stdout",
     "output_type": "stream",
     "text": [
      "Unique words: {'and', 'is', 'example', 'this', 'a', 'test', 'simple'}\n"
     ]
    }
   ],
   "source": [
    "#45\n",
    "def unWds(s):\n",
    "    S=s.lower()\n",
    "    w=S.split()\n",
    "    u=set(w)\n",
    "    return u\n",
    "s=\"This is a test and this test is a simple example test\"\n",
    "res=unWds(s)\n",
    "print(f'Unique words: {res}')"
   ]
  },
  {
   "cell_type": "code",
   "execution_count": 9,
   "id": "c93eddc5",
   "metadata": {},
   "outputs": [
    {
     "name": "stdout",
     "output_type": "stream",
     "text": [
      "'hello' has 2 syllables.\n",
      "'banana' has 3 syllables.\n",
      "'syllable' has 3 syllables.\n"
     ]
    }
   ],
   "source": [
    "#46\n",
    "import re\n",
    "def count_syllables(word):\n",
    "    vowel_groups = re.findall(r'[aeiouy]+', word, re.IGNORECASE)\n",
    "    return len(vowel_groups)\n",
    "word1 = \"hello\"\n",
    "word2 = \"banana\"\n",
    "word3 = \"syllable\"\n",
    "syllables1 = count_syllables(word1)\n",
    "syllables2 = count_syllables(word2)\n",
    "syllables3 = count_syllables(word3)\n",
    "print(f\"'{word1}' has {syllables1} syllables.\")\n",
    "print(f\"'{word2}' has {syllables2} syllables.\")\n",
    "print(f\"'{word3}' has {syllables3} syllables.\")"
   ]
  },
  {
   "cell_type": "code",
   "execution_count": 50,
   "id": "19143462",
   "metadata": {},
   "outputs": [
    {
     "name": "stdout",
     "output_type": "stream",
     "text": [
      "Has special characters\n"
     ]
    }
   ],
   "source": [
    "#47\n",
    "s='12ca#r54?'\n",
    "if not s.isalnum():\n",
    "    print(\"Has special characters\")\n",
    "else:\n",
    "    print(\"Has no special characters\")"
   ]
  },
  {
   "cell_type": "code",
   "execution_count": 55,
   "id": "fcf3cf17",
   "metadata": {},
   "outputs": [
    {
     "name": "stdout",
     "output_type": "stream",
     "text": [
      "Original: Shall we go to the car park?\n",
      "After removing 'car': Shall we go to the park?\n"
     ]
    }
   ],
   "source": [
    "#48\n",
    "s='Shall we go to the car park?'\n",
    "print(f'Original: {s}')\n",
    "n=6\n",
    "S=s.split()\n",
    "x=S.pop(n-1)\n",
    "s=' '.join(S)\n",
    "print(f\"After removing '{x}': {s}\")"
   ]
  },
  {
   "cell_type": "code",
   "execution_count": 56,
   "id": "be192a4b",
   "metadata": {},
   "outputs": [
    {
     "name": "stdout",
     "output_type": "stream",
     "text": [
      "Original: Shall we go to the car park?\n",
      "After adding 'new': Shall we go to the new car park?\n"
     ]
    }
   ],
   "source": [
    "#49\n",
    "s='Shall we go to the car park?'\n",
    "print(f'Original: {s}')\n",
    "n=6\n",
    "word='new'\n",
    "S=s.split()\n",
    "S.insert(n-1,word)\n",
    "s=' '.join(S)\n",
    "print(f\"After adding '{word}': {s}\")"
   ]
  },
  {
   "cell_type": "code",
   "execution_count": 59,
   "id": "8d221cd4",
   "metadata": {},
   "outputs": [
    {
     "data": {
      "text/plain": [
       "[['Name', ' Age', ' Country'],\n",
       " ['John', ' 25', ' USA'],\n",
       " ['Alice', ' 30', ' Canada'],\n",
       " ['Bob', ' 22', ' UK']]"
      ]
     },
     "execution_count": 59,
     "metadata": {},
     "output_type": "execute_result"
    }
   ],
   "source": [
    "#50\n",
    "LoL=[]\n",
    "csv=\"Name, Age, Country\\nJohn, 25, USA\\nAlice, 30, Canada\\nBob, 22, UK\"\n",
    "lines=csv.split('\\n')\n",
    "for line in lines:\n",
    "    fields=line.split(',')\n",
    "    LoL.append(fields)\n",
    "LoL"
   ]
  },
  {
   "cell_type": "markdown",
   "id": "984c2d94",
   "metadata": {},
   "source": [
    "### List Based Practice Problem"
   ]
  },
  {
   "cell_type": "code",
   "execution_count": 67,
   "id": "a9d3c746",
   "metadata": {},
   "outputs": [
    {
     "name": "stdout",
     "output_type": "stream",
     "text": [
      "[1, 2, 3, 4, 5, 6, 7, 8, 9, 10]\n"
     ]
    }
   ],
   "source": [
    "#1\n",
    "l = []\n",
    "for i in range(1,11):\n",
    "    l.append(i)\n",
    "print(l)"
   ]
  },
  {
   "cell_type": "code",
   "execution_count": 70,
   "id": "7f43a470",
   "metadata": {},
   "outputs": [
    {
     "name": "stdout",
     "output_type": "stream",
     "text": [
      "Length: 5\n"
     ]
    }
   ],
   "source": [
    "#2\n",
    "l = [2,4,6,8,10]\n",
    "counter = 0\n",
    "for e in l:\n",
    "    counter+=1\n",
    "print(\"Length:\",counter)"
   ]
  },
  {
   "cell_type": "code",
   "execution_count": 72,
   "id": "5a40465d",
   "metadata": {},
   "outputs": [
    {
     "name": "stdout",
     "output_type": "stream",
     "text": [
      "[2, 4, 6, 8, 10, 5]\n"
     ]
    }
   ],
   "source": [
    "#3\n",
    "l = [2,4,6,8,10]\n",
    "l.append(5)\n",
    "print(l)"
   ]
  },
  {
   "cell_type": "code",
   "execution_count": 74,
   "id": "f93ba80b",
   "metadata": {},
   "outputs": [
    {
     "name": "stdout",
     "output_type": "stream",
     "text": [
      "[2, 500, 4, 6, 8, 10]\n"
     ]
    }
   ],
   "source": [
    "#4\n",
    "l = [2,4,6,8,10]\n",
    "l.insert(1,500)\n",
    "print(l)"
   ]
  },
  {
   "cell_type": "code",
   "execution_count": 75,
   "id": "42c08393",
   "metadata": {},
   "outputs": [
    {
     "name": "stdout",
     "output_type": "stream",
     "text": [
      "[2, 4, 8, 10]\n"
     ]
    }
   ],
   "source": [
    "#5\n",
    "l = [2,4,6,8,10]\n",
    "l.remove(6)\n",
    "print(l)"
   ]
  },
  {
   "cell_type": "code",
   "execution_count": 76,
   "id": "63151d9d",
   "metadata": {},
   "outputs": [
    {
     "name": "stdout",
     "output_type": "stream",
     "text": [
      "[2, 4, 8, 10]\n"
     ]
    }
   ],
   "source": [
    "#6\n",
    "l = [2,4,6,8,10]\n",
    "l.pop(2)\n",
    "print(l)"
   ]
  },
  {
   "cell_type": "code",
   "execution_count": 77,
   "id": "7d7b49ea",
   "metadata": {},
   "outputs": [
    {
     "name": "stdout",
     "output_type": "stream",
     "text": [
      "True\n"
     ]
    }
   ],
   "source": [
    "#7\n",
    "l = [2,4,6,8,10]\n",
    "if 4 in l:\n",
    "    print(\"True\")\n",
    "else:\n",
    "    print(\"False\")"
   ]
  },
  {
   "cell_type": "code",
   "execution_count": 81,
   "id": "8a9986ac",
   "metadata": {},
   "outputs": [
    {
     "name": "stdout",
     "output_type": "stream",
     "text": [
      "First occurance: 0\n"
     ]
    }
   ],
   "source": [
    "#8\n",
    "l = [2,4,6,8,2]\n",
    "print(\"First occurance:\",l.index(2))"
   ]
  },
  {
   "cell_type": "code",
   "execution_count": 82,
   "id": "91ff86a5",
   "metadata": {},
   "outputs": [
    {
     "name": "stdout",
     "output_type": "stream",
     "text": [
      "Number of occurances: 2\n"
     ]
    }
   ],
   "source": [
    "#9\n",
    "l = [2,4,6,8,2]\n",
    "print(\"Number of occurances:\",l.count(2))"
   ]
  },
  {
   "cell_type": "code",
   "execution_count": 83,
   "id": "88736243",
   "metadata": {},
   "outputs": [
    {
     "name": "stdout",
     "output_type": "stream",
     "text": [
      "Reverse: [2, 8, 6, 4, 2]\n"
     ]
    }
   ],
   "source": [
    "#10\n",
    "l = [2,4,6,8,2]\n",
    "print(\"Reverse:\",l[::-1])"
   ]
  },
  {
   "cell_type": "code",
   "execution_count": 87,
   "id": "666692fc",
   "metadata": {},
   "outputs": [
    {
     "name": "stdout",
     "output_type": "stream",
     "text": [
      "Ascending: [2, 2, 4, 6, 8]\n"
     ]
    }
   ],
   "source": [
    "#11\n",
    "l = [2,4,6,8,2]\n",
    "l.sort()\n",
    "print(\"Ascending:\",l)"
   ]
  },
  {
   "cell_type": "code",
   "execution_count": 88,
   "id": "1871f0bd",
   "metadata": {},
   "outputs": [
    {
     "name": "stdout",
     "output_type": "stream",
     "text": [
      "Descending: [8, 6, 4, 2, 2]\n"
     ]
    }
   ],
   "source": [
    "#12\n",
    "l = [2,4,6,8,2]\n",
    "l.sort(reverse=True)\n",
    "print(\"Descending:\",l)"
   ]
  },
  {
   "cell_type": "code",
   "execution_count": 89,
   "id": "f8ded59e",
   "metadata": {},
   "outputs": [
    {
     "name": "stdout",
     "output_type": "stream",
     "text": [
      "[2, 4, 6, 8, 10, 12, 14, 16, 18, 20]\n"
     ]
    }
   ],
   "source": [
    "#13\n",
    "l = []\n",
    "for i in range(2,21,2):\n",
    "    l.append(i)\n",
    "print(l)"
   ]
  },
  {
   "cell_type": "code",
   "execution_count": 90,
   "id": "38916a68",
   "metadata": {},
   "outputs": [
    {
     "name": "stdout",
     "output_type": "stream",
     "text": [
      "[1, 3, 5, 7, 9, 11, 13, 15, 17, 19]\n"
     ]
    }
   ],
   "source": [
    "#14\n",
    "l = []\n",
    "for i in range(1,21,2):\n",
    "    l.append(i)\n",
    "print(l)"
   ]
  },
  {
   "cell_type": "code",
   "execution_count": 91,
   "id": "d867c25d",
   "metadata": {},
   "outputs": [
    {
     "name": "stdout",
     "output_type": "stream",
     "text": [
      "Sum: 22\n"
     ]
    }
   ],
   "source": [
    "#15\n",
    "l = [2,4,6,8,2]\n",
    "print(\"Sum:\",sum(l))"
   ]
  },
  {
   "cell_type": "code",
   "execution_count": 92,
   "id": "db8ef373",
   "metadata": {},
   "outputs": [
    {
     "name": "stdout",
     "output_type": "stream",
     "text": [
      "Max: 8\n"
     ]
    }
   ],
   "source": [
    "#16\n",
    "l = [2,4,6,8,2]\n",
    "print(\"Max:\",max(l))"
   ]
  },
  {
   "cell_type": "code",
   "execution_count": 93,
   "id": "fe58791b",
   "metadata": {},
   "outputs": [
    {
     "name": "stdout",
     "output_type": "stream",
     "text": [
      "Min: 2\n"
     ]
    }
   ],
   "source": [
    "#17\n",
    "l = [2,4,6,8,2]\n",
    "print(\"Min:\",min(l))"
   ]
  },
  {
   "cell_type": "code",
   "execution_count": 94,
   "id": "5a7f86ad",
   "metadata": {},
   "outputs": [
    {
     "name": "stdout",
     "output_type": "stream",
     "text": [
      "[1, 4, 9, 16, 25, 36, 49, 64, 81, 100]\n"
     ]
    }
   ],
   "source": [
    "#18\n",
    "l = []\n",
    "for i in range(1,11):\n",
    "    l.append(i*i)\n",
    "print(l)"
   ]
  },
  {
   "cell_type": "code",
   "execution_count": 101,
   "id": "9c0064d0",
   "metadata": {},
   "outputs": [
    {
     "name": "stdout",
     "output_type": "stream",
     "text": [
      "[59, 52, 92, 15, 69, 3, 1, 45, 35, 14]\n"
     ]
    }
   ],
   "source": [
    "#19\n",
    "import random\n",
    "l = []\n",
    "for i in range(1,11):\n",
    "    l.append(random.randint(1,100))\n",
    "print(l)"
   ]
  },
  {
   "cell_type": "code",
   "execution_count": 2,
   "id": "2c288c42",
   "metadata": {},
   "outputs": [
    {
     "name": "stdout",
     "output_type": "stream",
     "text": [
      "Remove duplicates: [8, 2, 4, 6]\n"
     ]
    }
   ],
   "source": [
    "#20\n",
    "l = [2,4,6,8,2]\n",
    "a = set(l)\n",
    "print(\"Remove duplicates:\",list(a))"
   ]
  },
  {
   "cell_type": "code",
   "execution_count": 3,
   "id": "d0ca8fcb",
   "metadata": {},
   "outputs": [
    {
     "name": "stdout",
     "output_type": "stream",
     "text": [
      "Common: {4}\n"
     ]
    }
   ],
   "source": [
    "#21\n",
    "l1 = [2,4,6,8,2]\n",
    "l2 = [1,3,4,7,9]\n",
    "c = set(l1) & set(l2)\n",
    "print(\"Common:\",c)"
   ]
  },
  {
   "cell_type": "code",
   "execution_count": 5,
   "id": "d1c5cbfb",
   "metadata": {},
   "outputs": [
    {
     "name": "stdout",
     "output_type": "stream",
     "text": [
      "Difference: [8, 2, 6]\n"
     ]
    }
   ],
   "source": [
    "#22\n",
    "l1 = [2,4,6,8,2]\n",
    "l2 = [1,3,4,7,9]\n",
    "d = list(set(l1)-set(l2))\n",
    "print(\"Difference:\",d)"
   ]
  },
  {
   "cell_type": "code",
   "execution_count": 6,
   "id": "093b3be1",
   "metadata": {},
   "outputs": [
    {
     "name": "stdout",
     "output_type": "stream",
     "text": [
      "Merged: [2, 4, 6, 8, 2, 1, 3, 4, 7, 9]\n"
     ]
    }
   ],
   "source": [
    "#23\n",
    "l1 = [2,4,6,8,2]\n",
    "l2 = [1,3,4,7,9]\n",
    "m = l1+l2\n",
    "print(\"Merged:\",m)"
   ]
  },
  {
   "cell_type": "code",
   "execution_count": 7,
   "id": "859e0196",
   "metadata": {},
   "outputs": [
    {
     "name": "stdout",
     "output_type": "stream",
     "text": [
      "[4, 8, 12, 16, 4]\n"
     ]
    }
   ],
   "source": [
    "#24\n",
    "l = [2,4,6,8,2]\n",
    "n = []\n",
    "for ele in l:\n",
    "    n.append(ele*2)\n",
    "print(n)"
   ]
  },
  {
   "cell_type": "code",
   "execution_count": 10,
   "id": "9bc3f79b",
   "metadata": {},
   "outputs": [
    {
     "name": "stdout",
     "output_type": "stream",
     "text": [
      "[1, 3, 7, 9]\n"
     ]
    }
   ],
   "source": [
    "#25\n",
    "l = [1,3,4,7,9,8]\n",
    "oddNum = []\n",
    "for num in l:\n",
    "    if num%2!=0:\n",
    "        oddNum.append(num)\n",
    "print(oddNum)    "
   ]
  },
  {
   "cell_type": "code",
   "execution_count": 12,
   "id": "e3b11e2f",
   "metadata": {},
   "outputs": [
    {
     "name": "stdout",
     "output_type": "stream",
     "text": [
      "[1, 3, 4, 7, 9, 8]\n"
     ]
    }
   ],
   "source": [
    "#26\n",
    "l = ['1','3','4','7','9','8']\n",
    "intL = []\n",
    "for num in l:\n",
    "    intL.append(int(num))\n",
    "print(intL)"
   ]
  },
  {
   "cell_type": "code",
   "execution_count": 13,
   "id": "372842c9",
   "metadata": {},
   "outputs": [
    {
     "name": "stdout",
     "output_type": "stream",
     "text": [
      "['1', '3', '4', '7', '9', '8']\n"
     ]
    }
   ],
   "source": [
    "#27\n",
    "l = [1,3,4,7,9,8]\n",
    "strL = []\n",
    "for num in l:\n",
    "    strL.append(str(num))\n",
    "print(strL)"
   ]
  },
  {
   "cell_type": "code",
   "execution_count": 1,
   "id": "b5b616d6",
   "metadata": {},
   "outputs": [
    {
     "name": "stdout",
     "output_type": "stream",
     "text": [
      "[1, 2, 3, 4, 5, 6, 7]\n"
     ]
    }
   ],
   "source": [
    "#28\n",
    "def flatten_list(nested_list):\n",
    "    flat_list = []\n",
    "    for item in nested_list:\n",
    "        if isinstance(item, list):\n",
    "            flat_list.extend(flatten_list(item))\n",
    "        else:\n",
    "            flat_list.append(item)\n",
    "    return flat_list\n",
    "nested_list = [1, [2, 3], [4, [5, 6]], 7]\n",
    "flattened_list = flatten_list(nested_list)\n",
    "print(flattened_list)"
   ]
  },
  {
   "cell_type": "code",
   "execution_count": 8,
   "id": "83a1a858",
   "metadata": {},
   "outputs": [
    {
     "name": "stdout",
     "output_type": "stream",
     "text": [
      "First 10 Fibonacci numbers: [0, 1, 1, 2, 3, 5, 8, 13, 21, 34]\n"
     ]
    }
   ],
   "source": [
    "#29\n",
    "def generate_fibonacci(n):\n",
    "    fibonacci_list = [0, 1]  \n",
    "    for i in range(2, n):\n",
    "        next_fibonacci = fibonacci_list[i - 1] + fibonacci_list[i - 2]\n",
    "        fibonacci_list.append(next_fibonacci)\n",
    "    return fibonacci_list\n",
    "fibonacci_numbers = generate_fibonacci(10)\n",
    "print(\"First 10 Fibonacci numbers:\", fibonacci_numbers)"
   ]
  },
  {
   "cell_type": "code",
   "execution_count": 9,
   "id": "b477b08a",
   "metadata": {},
   "outputs": [
    {
     "name": "stdout",
     "output_type": "stream",
     "text": [
      "Not sorted\n"
     ]
    }
   ],
   "source": [
    "#30\n",
    "l=[1,3,4,2,7,9,6,2]\n",
    "if l.sort()==l:\n",
    "    print(\"Sorted\")\n",
    "else:\n",
    "    print(\"Not sorted\")"
   ]
  },
  {
   "cell_type": "code",
   "execution_count": 10,
   "id": "39940ff6",
   "metadata": {},
   "outputs": [
    {
     "name": "stdout",
     "output_type": "stream",
     "text": [
      "Rotated list: [3, 4, 5, 6, 1, 2]\n"
     ]
    }
   ],
   "source": [
    "#31\n",
    "def rotate_left(lst, n):\n",
    "    n = n % len(lst)  \n",
    "    rotated = lst[n:] + lst[:n]\n",
    "    return rotated\n",
    "my_list = [1, 2, 3, 4, 5, 6]\n",
    "n = 2\n",
    "rotated_list = rotate_left(my_list, n)\n",
    "print(\"Rotated list:\", rotated_list)"
   ]
  },
  {
   "cell_type": "code",
   "execution_count": 11,
   "id": "1423822e",
   "metadata": {},
   "outputs": [
    {
     "name": "stdout",
     "output_type": "stream",
     "text": [
      "Rotated list: [5, 6, 1, 2, 3, 4]\n"
     ]
    }
   ],
   "source": [
    "#32\n",
    "def rotate_right(lst, n):\n",
    "    n = n % len(lst)  \n",
    "    rotated = lst[-n:] + lst[:-n]\n",
    "    return rotated\n",
    "my_list = [1, 2, 3, 4, 5, 6]\n",
    "n = 2\n",
    "rotated_list = rotate_right(my_list, n)\n",
    "print(\"Rotated list:\", rotated_list)"
   ]
  },
  {
   "cell_type": "code",
   "execution_count": 12,
   "id": "01f1ec8d",
   "metadata": {},
   "outputs": [
    {
     "name": "stdout",
     "output_type": "stream",
     "text": [
      "List of prime numbers up to 50: [2, 3, 5, 7, 11, 13, 17, 19, 23, 29, 31, 37, 41, 43, 47]\n"
     ]
    }
   ],
   "source": [
    "#33\n",
    "def is_prime(num):\n",
    "    if num <= 1:\n",
    "        return False\n",
    "    if num <= 3:\n",
    "        return True\n",
    "    if num % 2 == 0 or num % 3 == 0:\n",
    "        return False\n",
    "    i = 5\n",
    "    while i * i <= num:\n",
    "        if num % i == 0 or num % (i + 2) == 0:\n",
    "            return False\n",
    "        i += 6\n",
    "    return True\n",
    "prime_numbers = [num for num in range(2, 51) if is_prime(num)]\n",
    "print(\"List of prime numbers up to 50:\", prime_numbers)"
   ]
  },
  {
   "cell_type": "code",
   "execution_count": 15,
   "id": "0789776f",
   "metadata": {},
   "outputs": [
    {
     "name": "stdout",
     "output_type": "stream",
     "text": [
      "[[1, 2, 3], [4, 5, 6], [7, 8, 9]]\n"
     ]
    }
   ],
   "source": [
    "#34\n",
    "def chunk_list(input_list, n):\n",
    "    return [input_list[i:i + n] for i in range(0, len(input_list), n)]\n",
    "my_list = [1, 2, 3, 4, 5, 6, 7, 8, 9]\n",
    "chunk_size = 3\n",
    "result = chunk_list(my_list, chunk_size)\n",
    "print(result)"
   ]
  },
  {
   "cell_type": "code",
   "execution_count": 21,
   "id": "3c2aca22",
   "metadata": {},
   "outputs": [
    {
     "name": "stdout",
     "output_type": "stream",
     "text": [
      "Second largest number: 9\n"
     ]
    }
   ],
   "source": [
    "#35\n",
    "l=[6,2,99,3,6,3,9,0]\n",
    "l.sort(reverse=True)\n",
    "print(f\"Second largest number: {l[1]}\")"
   ]
  },
  {
   "cell_type": "code",
   "execution_count": 23,
   "id": "8b5d815c",
   "metadata": {},
   "outputs": [
    {
     "data": {
      "text/plain": [
       "[1, 9, 16, 4]"
      ]
     },
     "execution_count": 23,
     "metadata": {},
     "output_type": "execute_result"
    }
   ],
   "source": [
    "#36\n",
    "l=[1,3,4,2]\n",
    "sl=[x**2 for x in l]\n",
    "sl"
   ]
  },
  {
   "cell_type": "code",
   "execution_count": 24,
   "id": "32e249a6",
   "metadata": {},
   "outputs": [
    {
     "data": {
      "text/plain": [
       "{1: 0, 3: 1, 4: 2, 2: 3}"
      ]
     },
     "execution_count": 24,
     "metadata": {},
     "output_type": "execute_result"
    }
   ],
   "source": [
    "#37\n",
    "l=[1,3,4,2]\n",
    "d={element:i for i,element in enumerate(l)}\n",
    "d"
   ]
  },
  {
   "cell_type": "code",
   "execution_count": 28,
   "id": "61772f09",
   "metadata": {},
   "outputs": [
    {
     "name": "stdout",
     "output_type": "stream",
     "text": [
      "Old: [1, 2, 3, 4]\n",
      "Shuffled: [1, 3, 4, 2]\n"
     ]
    }
   ],
   "source": [
    "#38\n",
    "import random\n",
    "l=[1,2,3,4]\n",
    "print(f\"Old: {l}\")\n",
    "random.shuffle(l)\n",
    "print(f\"Shuffled: {l}\")"
   ]
  },
  {
   "cell_type": "code",
   "execution_count": 29,
   "id": "6e89b167",
   "metadata": {},
   "outputs": [
    {
     "name": "stdout",
     "output_type": "stream",
     "text": [
      "List of the first 10 factorial numbers: [1, 1, 2, 6, 24, 120, 720, 5040, 40320, 362880]\n"
     ]
    }
   ],
   "source": [
    "#39\n",
    "def factorial(n):\n",
    "    if n == 0 or n == 1:\n",
    "        return 1\n",
    "    else:\n",
    "        return n * factorial(n - 1)\n",
    "factorial_numbers = [factorial(i) for i in range(10)]\n",
    "print(\"List of the first 10 factorial numbers:\", factorial_numbers)"
   ]
  },
  {
   "cell_type": "code",
   "execution_count": 33,
   "id": "65ada621",
   "metadata": {},
   "outputs": [
    {
     "name": "stdout",
     "output_type": "stream",
     "text": [
      "The lists have at least one common element.\n"
     ]
    }
   ],
   "source": [
    "#40\n",
    "def has_common_element(list1, list2):\n",
    "    for item in list1:\n",
    "        if item in list2:\n",
    "            return True\n",
    "    return False\n",
    "list1 = [1, 2, 3, 4, 9]\n",
    "list2 = [4, 5, 6, 7, 8]\n",
    "if has_common_element(list1, list2):\n",
    "    print(\"The lists have at least one common element.\")\n",
    "else:\n",
    "    print(\"The lists do not have any common elements.\")"
   ]
  },
  {
   "cell_type": "code",
   "execution_count": 35,
   "id": "f86d6bf0",
   "metadata": {},
   "outputs": [
    {
     "data": {
      "text/plain": [
       "[]"
      ]
     },
     "execution_count": 35,
     "metadata": {},
     "output_type": "execute_result"
    }
   ],
   "source": [
    "#41\n",
    "l=[1,2,3,4]\n",
    "l.clear()\n",
    "l"
   ]
  },
  {
   "cell_type": "code",
   "execution_count": 36,
   "id": "6da6fda2",
   "metadata": {},
   "outputs": [
    {
     "data": {
      "text/plain": [
       "[0, 2, 0, 0, 9, 5, 0]"
      ]
     },
     "execution_count": 36,
     "metadata": {},
     "output_type": "execute_result"
    }
   ],
   "source": [
    "#42\n",
    "l=[-1,2,-6,-7,9,5,0]\n",
    "L=[x if x>=0 else 0 for x in l]\n",
    "L"
   ]
  },
  {
   "cell_type": "code",
   "execution_count": 37,
   "id": "470bf7a1",
   "metadata": {},
   "outputs": [
    {
     "data": {
      "text/plain": [
       "['I', 'love', 'python', 'programming']"
      ]
     },
     "execution_count": 37,
     "metadata": {},
     "output_type": "execute_result"
    }
   ],
   "source": [
    "#43\n",
    "string=\"I love python programming\"\n",
    "string.split()"
   ]
  },
  {
   "cell_type": "code",
   "execution_count": 38,
   "id": "657ba6dd",
   "metadata": {},
   "outputs": [
    {
     "data": {
      "text/plain": [
       "'I love python programming'"
      ]
     },
     "execution_count": 38,
     "metadata": {},
     "output_type": "execute_result"
    }
   ],
   "source": [
    "#44\n",
    "l=['I', 'love', 'python', 'programming']\n",
    "\" \".join(l)"
   ]
  },
  {
   "cell_type": "code",
   "execution_count": 40,
   "id": "f6dab967",
   "metadata": {},
   "outputs": [
    {
     "data": {
      "text/plain": [
       "[1, 2, 4, 8, 16]"
      ]
     },
     "execution_count": 40,
     "metadata": {},
     "output_type": "execute_result"
    }
   ],
   "source": [
    "#45\n",
    "n=5\n",
    "l=[2**i for i in range(n)]\n",
    "l"
   ]
  },
  {
   "cell_type": "code",
   "execution_count": 45,
   "id": "742b44ab",
   "metadata": {},
   "outputs": [
    {
     "data": {
      "text/plain": [
       "'scooter'"
      ]
     },
     "execution_count": 45,
     "metadata": {},
     "output_type": "execute_result"
    }
   ],
   "source": [
    "#46\n",
    "l=[\"bike\",\"bus\",\"cycle\",\"scooter\"]\n",
    "Max=max(l,key=len)\n",
    "Max"
   ]
  },
  {
   "cell_type": "code",
   "execution_count": 44,
   "id": "6f289938",
   "metadata": {},
   "outputs": [
    {
     "data": {
      "text/plain": [
       "'bus'"
      ]
     },
     "execution_count": 44,
     "metadata": {},
     "output_type": "execute_result"
    }
   ],
   "source": [
    "#47\n",
    "l=[\"bike\",\"bus\",\"cycle\",\"scooter\"]\n",
    "Min=min(l,key=len)\n",
    "Min"
   ]
  },
  {
   "cell_type": "code",
   "execution_count": 46,
   "id": "7683f959",
   "metadata": {},
   "outputs": [
    {
     "name": "stdout",
     "output_type": "stream",
     "text": [
      "List of the first 5 triangular numbers: [1, 3, 6, 10, 15]\n"
     ]
    }
   ],
   "source": [
    "#48\n",
    "def triangular_numbers(n):\n",
    "    return [i * (i + 1) // 2 for i in range(1, n + 1)]\n",
    "n = 5\n",
    "triangular_list = triangular_numbers(n)\n",
    "print(\"List of the first\", n, \"triangular numbers:\", triangular_list)"
   ]
  },
  {
   "cell_type": "code",
   "execution_count": 48,
   "id": "09d466ea",
   "metadata": {},
   "outputs": [
    {
     "name": "stdout",
     "output_type": "stream",
     "text": [
      "Main list contains the subsequence.\n"
     ]
    }
   ],
   "source": [
    "#49\n",
    "def is_subsequence(subsequence, main_list):\n",
    "    subseq_index = 0  \n",
    "    for element in main_list:\n",
    "        if element == subsequence[subseq_index]:\n",
    "            subseq_index += 1\n",
    "            if subseq_index == len(subsequence):\n",
    "                return True\n",
    "    return False\n",
    "main_list = [1, 2, 3, 4, 5, 6, 7, 8, 9, 10]\n",
    "subsequence = [3, 5, 8]\n",
    "if is_subsequence(subsequence, main_list):\n",
    "    print(\"Main list contains the subsequence.\")\n",
    "else:\n",
    "    print(\"Main list does not contain the subsequence.\")"
   ]
  },
  {
   "cell_type": "code",
   "execution_count": 50,
   "id": "d65b6d55",
   "metadata": {},
   "outputs": [
    {
     "name": "stdout",
     "output_type": "stream",
     "text": [
      "Original: [1, 2, 3, 4, 5]\n",
      "After swapping: [4, 2, 3, 1, 5]\n"
     ]
    }
   ],
   "source": [
    "#50\n",
    "l=[1,2,3,4,5]\n",
    "print(f\"Original: {l}\")\n",
    "i1=0\n",
    "i2=3\n",
    "l[i1],l[i2]=l[i2],l[i1]\n",
    "print(f\"After swapping: {l}\")"
   ]
  },
  {
   "cell_type": "markdown",
   "id": "1fd5d096",
   "metadata": {},
   "source": [
    "### Tuple Based Practice Problem"
   ]
  },
  {
   "cell_type": "code",
   "execution_count": 18,
   "id": "4692fba7",
   "metadata": {},
   "outputs": [
    {
     "name": "stdout",
     "output_type": "stream",
     "text": [
      "(1, 2, 3, 4, 5)\n"
     ]
    }
   ],
   "source": [
    "#1\n",
    "t = tuple(range(1,6))\n",
    "print(t)"
   ]
  },
  {
   "cell_type": "code",
   "execution_count": 19,
   "id": "7536eb79",
   "metadata": {},
   "outputs": [
    {
     "name": "stdout",
     "output_type": "stream",
     "text": [
      "3\n"
     ]
    }
   ],
   "source": [
    "#2\n",
    "t = tuple(range(1,6))\n",
    "print(t[2])"
   ]
  },
  {
   "cell_type": "code",
   "execution_count": 20,
   "id": "9120f11d",
   "metadata": {},
   "outputs": [
    {
     "name": "stdout",
     "output_type": "stream",
     "text": [
      "Length: 5\n"
     ]
    }
   ],
   "source": [
    "#3\n",
    "t = tuple(range(1,6))\n",
    "counter = 0\n",
    "for e in t:\n",
    "    counter+=1\n",
    "print(\"Length:\",counter)"
   ]
  },
  {
   "cell_type": "code",
   "execution_count": 22,
   "id": "6ef6b8c2",
   "metadata": {},
   "outputs": [
    {
     "data": {
      "text/plain": [
       "3"
      ]
     },
     "execution_count": 22,
     "metadata": {},
     "output_type": "execute_result"
    }
   ],
   "source": [
    "#4\n",
    "t = (1,2,3,4,5,3,2,2)\n",
    "t.count(2)"
   ]
  },
  {
   "cell_type": "code",
   "execution_count": 23,
   "id": "dc67bc9a",
   "metadata": {},
   "outputs": [
    {
     "data": {
      "text/plain": [
       "2"
      ]
     },
     "execution_count": 23,
     "metadata": {},
     "output_type": "execute_result"
    }
   ],
   "source": [
    "#5\n",
    "t = (1,2,3,4,5,3,2,2)\n",
    "t.index(3)"
   ]
  },
  {
   "cell_type": "code",
   "execution_count": 24,
   "id": "dd8a7993",
   "metadata": {},
   "outputs": [
    {
     "name": "stdout",
     "output_type": "stream",
     "text": [
      "True\n"
     ]
    }
   ],
   "source": [
    "#6\n",
    "t = (1,2,3,4,5,3,2,2)\n",
    "if 4 in t:\n",
    "    print(\"True\")\n",
    "else:\n",
    "    print(\"False\")"
   ]
  },
  {
   "cell_type": "code",
   "execution_count": 25,
   "id": "9fc8d9ad",
   "metadata": {},
   "outputs": [
    {
     "name": "stdout",
     "output_type": "stream",
     "text": [
      "[1, 2, 3, 4, 5, 3, 2, 2]\n"
     ]
    }
   ],
   "source": [
    "#7\n",
    "t = (1,2,3,4,5,3,2,2)\n",
    "print(list(t))"
   ]
  },
  {
   "cell_type": "code",
   "execution_count": 26,
   "id": "ed924739",
   "metadata": {},
   "outputs": [
    {
     "name": "stdout",
     "output_type": "stream",
     "text": [
      "(1, 2, 3, 4, 5, 3, 2, 2)\n"
     ]
    }
   ],
   "source": [
    "#8\n",
    "l = [1,2,3,4,5,3,2,2]\n",
    "print(tuple(l))"
   ]
  },
  {
   "cell_type": "code",
   "execution_count": 27,
   "id": "95af1077",
   "metadata": {},
   "outputs": [
    {
     "name": "stdout",
     "output_type": "stream",
     "text": [
      "a: 1\n",
      "b: 2\n",
      "c: 3\n",
      "d: 4\n"
     ]
    }
   ],
   "source": [
    "#9\n",
    "t = (1,2,3,4)\n",
    "a,b,c,d = t\n",
    "print('a:',a)\n",
    "print('b:',b)\n",
    "print('c:',c)\n",
    "print('d:',d)"
   ]
  },
  {
   "cell_type": "code",
   "execution_count": 30,
   "id": "a01c42d2",
   "metadata": {},
   "outputs": [
    {
     "name": "stdout",
     "output_type": "stream",
     "text": [
      "(2, 4, 6, 8, 10)\n"
     ]
    }
   ],
   "source": [
    "#10\n",
    "t = tuple(range(2,11,2))\n",
    "print(t)"
   ]
  },
  {
   "cell_type": "code",
   "execution_count": 31,
   "id": "deef3085",
   "metadata": {},
   "outputs": [
    {
     "name": "stdout",
     "output_type": "stream",
     "text": [
      "(1, 3, 5, 7, 9)\n"
     ]
    }
   ],
   "source": [
    "#11\n",
    "t = tuple(range(1,11,2))\n",
    "print(t)"
   ]
  },
  {
   "cell_type": "code",
   "execution_count": 34,
   "id": "e63090b1",
   "metadata": {},
   "outputs": [
    {
     "name": "stdout",
     "output_type": "stream",
     "text": [
      "Concatenated: (1, 2, 3, 4, 2, 4, 6, 8)\n"
     ]
    }
   ],
   "source": [
    "#12\n",
    "t1 = (1,2,3,4)\n",
    "t2 = (2,4,6,8)\n",
    "print(\"Concatenated:\",t1+t2)"
   ]
  },
  {
   "cell_type": "code",
   "execution_count": 35,
   "id": "340b38fb",
   "metadata": {},
   "outputs": [
    {
     "name": "stdout",
     "output_type": "stream",
     "text": [
      "Repeat: (2, 4, 6, 8, 2, 4, 6, 8, 2, 4, 6, 8)\n"
     ]
    }
   ],
   "source": [
    "#13\n",
    "t = (2,4,6,8)\n",
    "print(\"Repeat:\",t*3)"
   ]
  },
  {
   "cell_type": "code",
   "execution_count": 37,
   "id": "ef53a7a0",
   "metadata": {},
   "outputs": [
    {
     "name": "stdout",
     "output_type": "stream",
     "text": [
      "Not empty\n"
     ]
    }
   ],
   "source": [
    "#14\n",
    "t = (2,4,6,8)\n",
    "if len(t)==0:\n",
    "    print(\"Empty\")\n",
    "else:\n",
    "    print(\"Not empty\")"
   ]
  },
  {
   "cell_type": "code",
   "execution_count": 38,
   "id": "e7c3c228",
   "metadata": {},
   "outputs": [
    {
     "name": "stdout",
     "output_type": "stream",
     "text": [
      "((1, 2, 3), ('a', 'b', 'c'), (True, False))\n"
     ]
    }
   ],
   "source": [
    "#15\n",
    "t = ((1, 2, 3), ('a', 'b', 'c'), (True, False))\n",
    "print(t)"
   ]
  },
  {
   "cell_type": "code",
   "execution_count": 41,
   "id": "98b20107",
   "metadata": {},
   "outputs": [
    {
     "name": "stdout",
     "output_type": "stream",
     "text": [
      "First element: 1\n"
     ]
    }
   ],
   "source": [
    "#16\n",
    "t = ((1, 2, 3), ('a', 'b', 'c'), (True, False))\n",
    "print(\"First element:\",t[0][0])"
   ]
  },
  {
   "cell_type": "code",
   "execution_count": 48,
   "id": "6fc077bc",
   "metadata": {},
   "outputs": [
    {
     "data": {
      "text/plain": [
       "tuple"
      ]
     },
     "execution_count": 48,
     "metadata": {},
     "output_type": "execute_result"
    }
   ],
   "source": [
    "#17\n",
    "t = (7,)\n",
    "type(t)"
   ]
  },
  {
   "cell_type": "code",
   "execution_count": 62,
   "id": "57adafb4",
   "metadata": {},
   "outputs": [
    {
     "name": "stdout",
     "output_type": "stream",
     "text": [
      "t1<t2\n"
     ]
    }
   ],
   "source": [
    "#18\n",
    "t1 = (1,2,3,4)\n",
    "t2 = (2,4,6,8)\n",
    "if t1>t2:\n",
    "    print(\"t1>t2\")\n",
    "else:\n",
    "    print(\"t1<t2\")"
   ]
  },
  {
   "cell_type": "code",
   "execution_count": 53,
   "id": "5ccf8bd4",
   "metadata": {},
   "outputs": [
    {
     "name": "stdout",
     "output_type": "stream",
     "text": [
      "Tuple deleted\n"
     ]
    }
   ],
   "source": [
    "#19\n",
    "t = (7,5,1,2)\n",
    "del(t)\n",
    "try:\n",
    "    print(t)\n",
    "except:\n",
    "    print(\"Tuple deleted\")"
   ]
  },
  {
   "cell_type": "code",
   "execution_count": 54,
   "id": "3898ce43",
   "metadata": {},
   "outputs": [
    {
     "name": "stdout",
     "output_type": "stream",
     "text": [
      "(4, 6, 8)\n"
     ]
    }
   ],
   "source": [
    "#20\n",
    "t = (2,4,6,8)\n",
    "print(t[1:4])"
   ]
  },
  {
   "cell_type": "code",
   "execution_count": 55,
   "id": "49dc8d1b",
   "metadata": {},
   "outputs": [
    {
     "name": "stdout",
     "output_type": "stream",
     "text": [
      "8\n"
     ]
    }
   ],
   "source": [
    "#21\n",
    "t = (2,4,6,8)\n",
    "print(max(t))"
   ]
  },
  {
   "cell_type": "code",
   "execution_count": 56,
   "id": "ad549d5a",
   "metadata": {},
   "outputs": [
    {
     "name": "stdout",
     "output_type": "stream",
     "text": [
      "2\n"
     ]
    }
   ],
   "source": [
    "#22\n",
    "t = (2,4,6,8)\n",
    "print(min(t))"
   ]
  },
  {
   "cell_type": "code",
   "execution_count": 58,
   "id": "d6c87e6b",
   "metadata": {},
   "outputs": [
    {
     "name": "stdout",
     "output_type": "stream",
     "text": [
      "('b', 'i', 'k', 'e')\n"
     ]
    }
   ],
   "source": [
    "#23\n",
    "s = \"bike\"\n",
    "print(tuple(s))"
   ]
  },
  {
   "cell_type": "code",
   "execution_count": 61,
   "id": "3b3d4a6a",
   "metadata": {},
   "outputs": [
    {
     "name": "stdout",
     "output_type": "stream",
     "text": [
      "bike\n"
     ]
    }
   ],
   "source": [
    "#24\n",
    "t = ('b','i','k','e')\n",
    "print(''.join(t))"
   ]
  },
  {
   "cell_type": "code",
   "execution_count": 63,
   "id": "7f8a4cd9",
   "metadata": {},
   "outputs": [
    {
     "name": "stdout",
     "output_type": "stream",
     "text": [
      "(10, 'Hello', 3.14, True)\n"
     ]
    }
   ],
   "source": [
    "#25\n",
    "t = (10, \"Hello\", 3.14, True)\n",
    "print(t)"
   ]
  },
  {
   "cell_type": "code",
   "execution_count": 64,
   "id": "99cdfd3b",
   "metadata": {},
   "outputs": [
    {
     "name": "stdout",
     "output_type": "stream",
     "text": [
      "t1!=t2\n"
     ]
    }
   ],
   "source": [
    "#26\n",
    "t1 = (1,2,3,4)\n",
    "t2 = (2,4,6,8)\n",
    "if t1==t2:\n",
    "    print(\"t1==t2\")\n",
    "else:\n",
    "    print(\"t1!=t2\")"
   ]
  },
  {
   "cell_type": "code",
   "execution_count": 68,
   "id": "928c344d",
   "metadata": {},
   "outputs": [
    {
     "name": "stdout",
     "output_type": "stream",
     "text": [
      "(0, 1, 5, 6)\n"
     ]
    }
   ],
   "source": [
    "#27\n",
    "t = (5,1,0,6)\n",
    "print(tuple(sorted(t)))"
   ]
  },
  {
   "cell_type": "code",
   "execution_count": 71,
   "id": "c5e9e99c",
   "metadata": {},
   "outputs": [
    {
     "name": "stdout",
     "output_type": "stream",
     "text": [
      "('1', '2', '3', '4')\n"
     ]
    }
   ],
   "source": [
    "#28\n",
    "t = (1,2,3,4)\n",
    "strTuple = []\n",
    "for item in t:\n",
    "    strTuple.append(str(item))\n",
    "print(tuple(strTuple))"
   ]
  },
  {
   "cell_type": "code",
   "execution_count": 72,
   "id": "04f1028e",
   "metadata": {},
   "outputs": [
    {
     "name": "stdout",
     "output_type": "stream",
     "text": [
      "(1, 2, 3, 4)\n"
     ]
    }
   ],
   "source": [
    "#29\n",
    "t = ('1','2','3','4')\n",
    "intTuple = []\n",
    "for item in t:\n",
    "    intTuple.append(int(item))\n",
    "print(tuple(intTuple))"
   ]
  },
  {
   "cell_type": "code",
   "execution_count": 73,
   "id": "89101439",
   "metadata": {},
   "outputs": [
    {
     "name": "stdout",
     "output_type": "stream",
     "text": [
      "Merged: (1, 2, 3, 4, 2, 4, 6, 8)\n"
     ]
    }
   ],
   "source": [
    "#30\n",
    "t1 = (1,2,3,4)\n",
    "t2 = (2,4,6,8)\n",
    "print(\"Merged:\",t1+t2)"
   ]
  },
  {
   "cell_type": "code",
   "execution_count": 1,
   "id": "5a24bdd3",
   "metadata": {},
   "outputs": [
    {
     "name": "stdout",
     "output_type": "stream",
     "text": [
      "(1, 2, 3, 4, 5, 6, 7)\n"
     ]
    }
   ],
   "source": [
    "#31\n",
    "def flatten_nested_tuple(nested_tuple):\n",
    "    flattened_list = []\n",
    "    for item in nested_tuple:\n",
    "        if isinstance(item, tuple):\n",
    "            flattened_list.extend(flatten_nested_tuple(item))\n",
    "        else:\n",
    "            flattened_list.append(item)\n",
    "    return tuple(flattened_list)\n",
    "nested_tuple = (1, (2, 3), (4, (5, 6), 7))\n",
    "flattened_tuple = flatten_nested_tuple(nested_tuple)\n",
    "print(flattened_tuple) "
   ]
  },
  {
   "cell_type": "code",
   "execution_count": 2,
   "id": "732a0584",
   "metadata": {},
   "outputs": [
    {
     "name": "stdout",
     "output_type": "stream",
     "text": [
      "Tuple of the first 5 prime numbers: (2, 3, 5, 7, 11)\n"
     ]
    }
   ],
   "source": [
    "#32\n",
    "def is_prime(num):\n",
    "    if num <= 1:\n",
    "        return False\n",
    "    for i in range(2, int(num ** 0.5) + 1):\n",
    "        if num % i == 0:\n",
    "            return False\n",
    "    return True\n",
    "prime_numbers_list = [num for num in range(2, 100) if is_prime(num)][:5]\n",
    "prime_numbers_tuple = tuple(prime_numbers_list)\n",
    "print(\"Tuple of the first 5 prime numbers:\", prime_numbers_tuple)"
   ]
  },
  {
   "cell_type": "code",
   "execution_count": 3,
   "id": "25491fa9",
   "metadata": {},
   "outputs": [
    {
     "name": "stdout",
     "output_type": "stream",
     "text": [
      "Palindrome\n"
     ]
    }
   ],
   "source": [
    "#33\n",
    "t=(1,2,3,2,1)\n",
    "if t==t[::-1]:\n",
    "    print(\"Palindrome\")\n",
    "else:\n",
    "    print(\"Not a palindrome\")"
   ]
  },
  {
   "cell_type": "code",
   "execution_count": 5,
   "id": "2e72f4a0",
   "metadata": {},
   "outputs": [
    {
     "data": {
      "text/plain": [
       "(1, 4, 9, 16, 25)"
      ]
     },
     "execution_count": 5,
     "metadata": {},
     "output_type": "execute_result"
    }
   ],
   "source": [
    "#34\n",
    "t=tuple(x**2 for x in range(1,6))\n",
    "t"
   ]
  },
  {
   "cell_type": "code",
   "execution_count": 9,
   "id": "ee562cb4",
   "metadata": {},
   "outputs": [
    {
     "name": "stdout",
     "output_type": "stream",
     "text": [
      "Filtered tuple: (1, 3, 5)\n"
     ]
    }
   ],
   "source": [
    "#35\n",
    "t1=(1,2,3,4,5,6)\n",
    "t2=tuple(x for x in t1 if x%2!=0)\n",
    "print(f\"Filtered tuple: {t2}\")"
   ]
  },
  {
   "cell_type": "code",
   "execution_count": 10,
   "id": "c133b66b",
   "metadata": {},
   "outputs": [
    {
     "name": "stdout",
     "output_type": "stream",
     "text": [
      "MultipliedBy2: (2, 4, 6, 8, 10, 12)\n"
     ]
    }
   ],
   "source": [
    "#36\n",
    "t1=(1,2,3,4,5,6)\n",
    "t2=tuple(x*2 for x in t1)\n",
    "print(f\"MultipliedBy2: {t2}\")"
   ]
  },
  {
   "cell_type": "code",
   "execution_count": 13,
   "id": "31b24756",
   "metadata": {},
   "outputs": [
    {
     "name": "stdout",
     "output_type": "stream",
     "text": [
      "RandomNumbersTuple: (1, 65, 81, 36, 82, 13, 98, 49, 95, 98)\n"
     ]
    }
   ],
   "source": [
    "#37\n",
    "import random\n",
    "t=tuple(random.randint(1,100) for i in range(10))\n",
    "print(f\"RandomNumbersTuple: {t}\")"
   ]
  },
  {
   "cell_type": "code",
   "execution_count": 15,
   "id": "b178221e",
   "metadata": {},
   "outputs": [
    {
     "name": "stdout",
     "output_type": "stream",
     "text": [
      "Not sorted\n"
     ]
    }
   ],
   "source": [
    "#38\n",
    "t=(6,3,9,4,5,7,1)\n",
    "if sorted(t)==t:\n",
    "    print(\"Sorted\")\n",
    "else:\n",
    "    print(\"Not sorted\")"
   ]
  },
  {
   "cell_type": "code",
   "execution_count": 19,
   "id": "f38bf561",
   "metadata": {},
   "outputs": [
    {
     "name": "stdout",
     "output_type": "stream",
     "text": [
      "(3, 4, 5, 1, 2)\n"
     ]
    }
   ],
   "source": [
    "#39\n",
    "def rotate_tuple_left(tup, n):\n",
    "    n = n % len(tup) \n",
    "    rotated_tuple = tup[n:] + tup[:n]  \n",
    "    return rotated_tuple\n",
    "my_tuple = (1, 2, 3, 4, 5)\n",
    "n_positions = 2\n",
    "result = rotate_tuple_left(my_tuple, n_positions)\n",
    "print(result)"
   ]
  },
  {
   "cell_type": "code",
   "execution_count": 20,
   "id": "dd7d1bd6",
   "metadata": {},
   "outputs": [
    {
     "name": "stdout",
     "output_type": "stream",
     "text": [
      "(4, 5, 1, 2, 3)\n"
     ]
    }
   ],
   "source": [
    "#40\n",
    "def rotate_tuple_right(tup, n):\n",
    "    n = n % len(tup) \n",
    "    rotated_tuple = tup[-n:] + tup[:-n] \n",
    "    return rotated_tuple\n",
    "my_tuple = (1, 2, 3, 4, 5)\n",
    "n_positions = 2\n",
    "result = rotate_tuple_right(my_tuple, n_positions)\n",
    "print(result)"
   ]
  },
  {
   "cell_type": "code",
   "execution_count": 22,
   "id": "8e4a3b8a",
   "metadata": {},
   "outputs": [
    {
     "name": "stdout",
     "output_type": "stream",
     "text": [
      "(0, 1, 1, 2, 3)\n"
     ]
    }
   ],
   "source": [
    "#41\n",
    "def generate_fibonacci(n):\n",
    "    fibonacci = [0, 1] \n",
    "    while len(fibonacci) < n:  \n",
    "        next_number = fibonacci[-1] + fibonacci[-2]  \n",
    "        fibonacci.append(next_number)  \n",
    "    return tuple(fibonacci) \n",
    "fibonacci_tuple = generate_fibonacci(5)\n",
    "print(fibonacci_tuple)"
   ]
  },
  {
   "cell_type": "code",
   "execution_count": 24,
   "id": "4daa5f26",
   "metadata": {},
   "outputs": [
    {
     "name": "stdout",
     "output_type": "stream",
     "text": [
      "Type 'done' to quit\n",
      "Input: car\n",
      "Input: bike\n",
      "Input: Done\n",
      "Final tuple: ('car', 'bike')\n"
     ]
    }
   ],
   "source": [
    "#42\n",
    "t=[]\n",
    "print(\"Type 'done' to quit\")\n",
    "while True:\n",
    "    val=input(\"Input: \")\n",
    "    if val.lower()=='done':\n",
    "        break\n",
    "    else:\n",
    "        t.append(val)\n",
    "tup=tuple(t)\n",
    "print(f\"Final tuple: {tup}\")"
   ]
  },
  {
   "cell_type": "code",
   "execution_count": 25,
   "id": "a30afc6c",
   "metadata": {},
   "outputs": [
    {
     "name": "stdout",
     "output_type": "stream",
     "text": [
      "After swap: (1, 4, 3, 2)\n"
     ]
    }
   ],
   "source": [
    "#43\n",
    "t1=(1,2,3,4)\n",
    "first,last=1,3\n",
    "t1List=list(t1)\n",
    "t1List[first],t1List[last]=t1List[last],t1List[first]\n",
    "finalTup=tuple(t1List)\n",
    "print(f\"After swap: {finalTup}\")"
   ]
  },
  {
   "cell_type": "code",
   "execution_count": 27,
   "id": "dc9df7d4",
   "metadata": {},
   "outputs": [
    {
     "name": "stdout",
     "output_type": "stream",
     "text": [
      "Reversed: (4, 3, 2, 1)\n"
     ]
    }
   ],
   "source": [
    "#44\n",
    "t=(1,2,3,4)\n",
    "print(f\"Reversed: {t[::-1]}\")"
   ]
  },
  {
   "cell_type": "code",
   "execution_count": 28,
   "id": "8cbb7e91",
   "metadata": {},
   "outputs": [
    {
     "data": {
      "text/plain": [
       "(1, 2, 4, 8, 16, 32)"
      ]
     },
     "execution_count": 28,
     "metadata": {},
     "output_type": "execute_result"
    }
   ],
   "source": [
    "#45\n",
    "n=6\n",
    "t=tuple(2**x for x in range(6))\n",
    "t"
   ]
  },
  {
   "cell_type": "code",
   "execution_count": 32,
   "id": "bda5edc1",
   "metadata": {},
   "outputs": [
    {
     "data": {
      "text/plain": [
       "'cycle'"
      ]
     },
     "execution_count": 32,
     "metadata": {},
     "output_type": "execute_result"
    }
   ],
   "source": [
    "#46\n",
    "t=('car','bike','cycle','bus')\n",
    "Max=max(t,key=len)\n",
    "Max"
   ]
  },
  {
   "cell_type": "code",
   "execution_count": 34,
   "id": "7037a474",
   "metadata": {},
   "outputs": [
    {
     "data": {
      "text/plain": [
       "'bus'"
      ]
     },
     "execution_count": 34,
     "metadata": {},
     "output_type": "execute_result"
    }
   ],
   "source": [
    "#47\n",
    "t=('bike','cycle','bus')\n",
    "Min=min(t,key=len)\n",
    "Min"
   ]
  },
  {
   "cell_type": "code",
   "execution_count": 35,
   "id": "41c1fed9",
   "metadata": {},
   "outputs": [
    {
     "name": "stdout",
     "output_type": "stream",
     "text": [
      "Tuple of the first 5 triangular numbers: (1, 3, 6, 10, 15)\n"
     ]
    }
   ],
   "source": [
    "#48\n",
    "n = 5\n",
    "triangular_numbers_tuple = tuple((i * (i + 1)) // 2 for i in range(1, n + 1))\n",
    "print(\"Tuple of the first\", n, \"triangular numbers:\", triangular_numbers_tuple)"
   ]
  },
  {
   "cell_type": "code",
   "execution_count": 37,
   "id": "b5d8d22e",
   "metadata": {},
   "outputs": [
    {
     "name": "stdout",
     "output_type": "stream",
     "text": [
      "Subtuple found in the main tuple.\n"
     ]
    }
   ],
   "source": [
    "#49\n",
    "def contains_subtuple(main_tuple, sub_tuple):\n",
    "    main_len = len(main_tuple)\n",
    "    sub_len = len(sub_tuple)\n",
    "    for i in range(main_len - sub_len + 1):\n",
    "        if main_tuple[i:i+sub_len] == sub_tuple:\n",
    "            return True\n",
    "    return False\n",
    "main_tuple = (1, 2, 3, 4, 5, 6)\n",
    "sub_tuple = (3, 4, 5)\n",
    "if contains_subtuple(main_tuple, sub_tuple):\n",
    "    print(\"Subtuple found in the main tuple.\")\n",
    "else:\n",
    "    print(\"Subtuple not found in the main tuple.\")"
   ]
  },
  {
   "cell_type": "code",
   "execution_count": 44,
   "id": "542d4ea9",
   "metadata": {},
   "outputs": [
    {
     "data": {
      "text/plain": [
       "(1, 0, 1, 0, 1, 0, 1)"
      ]
     },
     "execution_count": 44,
     "metadata": {},
     "output_type": "execute_result"
    }
   ],
   "source": [
    "#50\n",
    "n=7\n",
    "t=tuple(1 if x%2==0 else 0 for x in range(n))\n",
    "t"
   ]
  },
  {
   "cell_type": "markdown",
   "id": "46075bd1",
   "metadata": {},
   "source": [
    "### Set Based Practice Problem"
   ]
  },
  {
   "cell_type": "code",
   "execution_count": 78,
   "id": "5d9c1680",
   "metadata": {},
   "outputs": [
    {
     "name": "stdout",
     "output_type": "stream",
     "text": [
      "{1, 2, 3, 4, 5}\n"
     ]
    }
   ],
   "source": [
    "#1\n",
    "s = {1,2,3,4,5}\n",
    "print(s)"
   ]
  },
  {
   "cell_type": "code",
   "execution_count": 81,
   "id": "68913d2d",
   "metadata": {},
   "outputs": [
    {
     "name": "stdout",
     "output_type": "stream",
     "text": [
      "{1, 2, 3, 4, 5, 6}\n"
     ]
    }
   ],
   "source": [
    "#2\n",
    "s = {1,2,3,4,5}\n",
    "s.add(6)\n",
    "print(s)"
   ]
  },
  {
   "cell_type": "code",
   "execution_count": 82,
   "id": "926e4a69",
   "metadata": {},
   "outputs": [
    {
     "name": "stdout",
     "output_type": "stream",
     "text": [
      "{1, 2, 3, 4}\n"
     ]
    }
   ],
   "source": [
    "#3\n",
    "s = {1,2,3,4,5}\n",
    "s.remove(5)\n",
    "print(s)"
   ]
  },
  {
   "cell_type": "code",
   "execution_count": 83,
   "id": "f1b5d526",
   "metadata": {},
   "outputs": [
    {
     "name": "stdout",
     "output_type": "stream",
     "text": [
      "Yes\n"
     ]
    }
   ],
   "source": [
    "#4\n",
    "s = {1,2,3,4,5}\n",
    "if 3 in s:\n",
    "    print(\"Yes\")\n",
    "else:\n",
    "    print(\"No\")"
   ]
  },
  {
   "cell_type": "code",
   "execution_count": 85,
   "id": "12de813a",
   "metadata": {},
   "outputs": [
    {
     "name": "stdout",
     "output_type": "stream",
     "text": [
      "Length: 5\n"
     ]
    }
   ],
   "source": [
    "#5\n",
    "s = {1,2,3,4,5}\n",
    "counter = 0\n",
    "for e in s:\n",
    "    counter+=1\n",
    "print(\"Length:\",counter)"
   ]
  },
  {
   "cell_type": "code",
   "execution_count": 87,
   "id": "9ea892be",
   "metadata": {},
   "outputs": [
    {
     "name": "stdout",
     "output_type": "stream",
     "text": [
      "set()\n"
     ]
    }
   ],
   "source": [
    "#6\n",
    "s = {1,2,3,4,5}\n",
    "s.clear()\n",
    "print(s)"
   ]
  },
  {
   "cell_type": "code",
   "execution_count": 91,
   "id": "f5a5e6ff",
   "metadata": {},
   "outputs": [
    {
     "name": "stdout",
     "output_type": "stream",
     "text": [
      "{2, 4, 6, 8, 10}\n"
     ]
    }
   ],
   "source": [
    "#7\n",
    "s = []\n",
    "for i in range(1,11):\n",
    "    if i%2==0:\n",
    "        s.append(i)\n",
    "print(set(s))"
   ]
  },
  {
   "cell_type": "code",
   "execution_count": 92,
   "id": "6843cd67",
   "metadata": {},
   "outputs": [
    {
     "name": "stdout",
     "output_type": "stream",
     "text": [
      "{1, 3, 5, 7, 9}\n"
     ]
    }
   ],
   "source": [
    "#8\n",
    "s = []\n",
    "for i in range(1,11):\n",
    "    if i%2!=0:\n",
    "        s.append(i)\n",
    "print(set(s))"
   ]
  },
  {
   "cell_type": "code",
   "execution_count": 1,
   "id": "fbf5654a",
   "metadata": {},
   "outputs": [
    {
     "data": {
      "text/plain": [
       "{1, 2, 3, 4, 5, 6, 8}"
      ]
     },
     "execution_count": 1,
     "metadata": {},
     "output_type": "execute_result"
    }
   ],
   "source": [
    "#9\n",
    "s1={1,2,3,4,5,6}\n",
    "s2={2,4,6,8}\n",
    "s1.union(s2)"
   ]
  },
  {
   "cell_type": "code",
   "execution_count": 2,
   "id": "d91db6cd",
   "metadata": {},
   "outputs": [
    {
     "data": {
      "text/plain": [
       "{2, 4, 6}"
      ]
     },
     "execution_count": 2,
     "metadata": {},
     "output_type": "execute_result"
    }
   ],
   "source": [
    "#10\n",
    "s1={1,2,3,4,5,6}\n",
    "s2={2,4,6,8}\n",
    "s1.intersection(s2)"
   ]
  },
  {
   "cell_type": "code",
   "execution_count": 3,
   "id": "583445b2",
   "metadata": {},
   "outputs": [
    {
     "data": {
      "text/plain": [
       "{1, 3, 5}"
      ]
     },
     "execution_count": 3,
     "metadata": {},
     "output_type": "execute_result"
    }
   ],
   "source": [
    "#11\n",
    "s1={1,2,3,4,5,6}\n",
    "s2={2,4,6,8}\n",
    "s1-s2"
   ]
  },
  {
   "cell_type": "code",
   "execution_count": 4,
   "id": "c3c7da13",
   "metadata": {},
   "outputs": [
    {
     "data": {
      "text/plain": [
       "False"
      ]
     },
     "execution_count": 4,
     "metadata": {},
     "output_type": "execute_result"
    }
   ],
   "source": [
    "#12\n",
    "s1={1,2,3,4,5,6}\n",
    "s2={2,4,6,8}\n",
    "s2.issubset(s1)"
   ]
  },
  {
   "cell_type": "code",
   "execution_count": 6,
   "id": "6c7a145a",
   "metadata": {},
   "outputs": [
    {
     "data": {
      "text/plain": [
       "False"
      ]
     },
     "execution_count": 6,
     "metadata": {},
     "output_type": "execute_result"
    }
   ],
   "source": [
    "#13\n",
    "s1={1,2,3,4,5,6}\n",
    "s2={2,4,6,8}\n",
    "s2.issuperset(s1)"
   ]
  },
  {
   "cell_type": "code",
   "execution_count": 8,
   "id": "40b2ba81",
   "metadata": {},
   "outputs": [
    {
     "data": {
      "text/plain": [
       "{1, 2, 3, 4, 5}"
      ]
     },
     "execution_count": 8,
     "metadata": {},
     "output_type": "execute_result"
    }
   ],
   "source": [
    "#14\n",
    "l=[1,2,3,4,5]\n",
    "set(l)"
   ]
  },
  {
   "cell_type": "code",
   "execution_count": 9,
   "id": "6b6afecb",
   "metadata": {},
   "outputs": [
    {
     "data": {
      "text/plain": [
       "[8, 2, 4, 6]"
      ]
     },
     "execution_count": 9,
     "metadata": {},
     "output_type": "execute_result"
    }
   ],
   "source": [
    "#15\n",
    "s={2,4,6,8}\n",
    "list(s)"
   ]
  },
  {
   "cell_type": "code",
   "execution_count": 23,
   "id": "607d5725",
   "metadata": {},
   "outputs": [
    {
     "name": "stdout",
     "output_type": "stream",
     "text": [
      "6\n"
     ]
    },
    {
     "data": {
      "text/plain": [
       "{2, 4, 8}"
      ]
     },
     "execution_count": 23,
     "metadata": {},
     "output_type": "execute_result"
    }
   ],
   "source": [
    "#16\n",
    "import random\n",
    "s={2,4,6,8}\n",
    "randomElement=random.choice(list(s))\n",
    "print(randomElement)\n",
    "s.remove(randomElement)\n",
    "s"
   ]
  },
  {
   "cell_type": "code",
   "execution_count": 19,
   "id": "6dcca784",
   "metadata": {},
   "outputs": [
    {
     "data": {
      "text/plain": [
       "8"
      ]
     },
     "execution_count": 19,
     "metadata": {},
     "output_type": "execute_result"
    }
   ],
   "source": [
    "#17\n",
    "s={2,4,6,8}\n",
    "s.pop()"
   ]
  },
  {
   "cell_type": "code",
   "execution_count": 27,
   "id": "35b758a0",
   "metadata": {},
   "outputs": [
    {
     "name": "stdout",
     "output_type": "stream",
     "text": [
      "No common elements\n"
     ]
    }
   ],
   "source": [
    "#18\n",
    "s1={2,4,6,8}\n",
    "s2={1,3,5,7}\n",
    "common=s1.intersection(s2)\n",
    "if not common:\n",
    "    print(\"No common elements\")\n",
    "else:\n",
    "    print(f\"Common elements are {common}\")"
   ]
  },
  {
   "cell_type": "code",
   "execution_count": 29,
   "id": "4f574210",
   "metadata": {},
   "outputs": [
    {
     "data": {
      "text/plain": [
       "{1, 2, 3, 4, 5, 6, 7, 8}"
      ]
     },
     "execution_count": 29,
     "metadata": {},
     "output_type": "execute_result"
    }
   ],
   "source": [
    "#19\n",
    "s1={2,4,6,8}\n",
    "s2={1,3,5,7}\n",
    "s1^s2"
   ]
  },
  {
   "cell_type": "code",
   "execution_count": 33,
   "id": "7240b27b",
   "metadata": {},
   "outputs": [
    {
     "name": "stdout",
     "output_type": "stream",
     "text": [
      "Updated s1: {1, 2, 3, 4, 5, 6, 8}\n"
     ]
    }
   ],
   "source": [
    "#20\n",
    "s1={1,2,3,4,5,6}\n",
    "s2={2,4,6,8}\n",
    "s1.update(s2)\n",
    "print(f\"Updated s1: {s1}\")"
   ]
  },
  {
   "cell_type": "code",
   "execution_count": 34,
   "id": "b3799e28",
   "metadata": {},
   "outputs": [
    {
     "name": "stdout",
     "output_type": "stream",
     "text": [
      "Set of the first 5 prime numbers: {2, 3, 5, 7, 11}\n"
     ]
    }
   ],
   "source": [
    "#21\n",
    "def is_prime(num):\n",
    "    if num <= 1:\n",
    "        return False\n",
    "    for i in range(2, int(num ** 0.5) + 1):\n",
    "        if num % i == 0:\n",
    "            return False\n",
    "    return True\n",
    "prime_set = set()\n",
    "num = 2\n",
    "while len(prime_set) < 5:\n",
    "    if is_prime(num):\n",
    "        prime_set.add(num)\n",
    "    num += 1\n",
    "print(\"Set of the first 5 prime numbers:\", prime_set)"
   ]
  },
  {
   "cell_type": "code",
   "execution_count": 35,
   "id": "a2459d83",
   "metadata": {},
   "outputs": [
    {
     "name": "stdout",
     "output_type": "stream",
     "text": [
      "Identical\n"
     ]
    }
   ],
   "source": [
    "#22\n",
    "s1={1,3,5,7}\n",
    "s2={1,3,5,7}\n",
    "if s1==s2:\n",
    "    print(\"Identical\")\n",
    "else:\n",
    "    print(\"Not identical\")"
   ]
  },
  {
   "cell_type": "code",
   "execution_count": 37,
   "id": "f10775be",
   "metadata": {},
   "outputs": [
    {
     "name": "stdout",
     "output_type": "stream",
     "text": [
      "Frozen set: frozenset({1, 3, 4, 6})\n"
     ]
    }
   ],
   "source": [
    "#23\n",
    "elements=[1,3,4,6]\n",
    "frozenSet=frozenset(elements)\n",
    "print(f\"Frozen set: {frozenSet}\")"
   ]
  },
  {
   "cell_type": "code",
   "execution_count": 39,
   "id": "e63c3a01",
   "metadata": {},
   "outputs": [
    {
     "name": "stdout",
     "output_type": "stream",
     "text": [
      "Disjoint? False\n"
     ]
    }
   ],
   "source": [
    "#24\n",
    "s1={1,2,3,4,5,6}\n",
    "s2={2,4,6,8}\n",
    "status=s1.isdisjoint(s2)\n",
    "print(f\"Disjoint? {status}\")"
   ]
  },
  {
   "cell_type": "code",
   "execution_count": 40,
   "id": "aaa049b1",
   "metadata": {},
   "outputs": [
    {
     "data": {
      "text/plain": [
       "{1, 4, 9, 16, 25}"
      ]
     },
     "execution_count": 40,
     "metadata": {},
     "output_type": "execute_result"
    }
   ],
   "source": [
    "#25\n",
    "s=set([x**2 for x in range(1,6)])\n",
    "s"
   ]
  },
  {
   "cell_type": "code",
   "execution_count": 43,
   "id": "e2880ae0",
   "metadata": {},
   "outputs": [
    {
     "name": "stdout",
     "output_type": "stream",
     "text": [
      "Original: {1, 2, 3, 4, 5, 6}\n",
      "Even: {2, 4, 6}\n"
     ]
    }
   ],
   "source": [
    "#26\n",
    "s={1,2,3,4,5,6}\n",
    "evenS=set()\n",
    "for e in s:\n",
    "    if e%2==0:\n",
    "        evenS.add(e)\n",
    "print(f\"Original: {s}\")\n",
    "print(f\"Even: {evenS}\")"
   ]
  },
  {
   "cell_type": "code",
   "execution_count": 44,
   "id": "0e987d24",
   "metadata": {},
   "outputs": [
    {
     "name": "stdout",
     "output_type": "stream",
     "text": [
      "Original: {1, 2, 3, 4, 5, 6}\n",
      "MultipliedBy2: {2, 4, 6, 8, 10, 12}\n"
     ]
    }
   ],
   "source": [
    "#27\n",
    "s={1,2,3,4,5,6}\n",
    "mulS=set()\n",
    "for e in s:\n",
    "    mul=e*2\n",
    "    mulS.add(mul)\n",
    "print(f\"Original: {s}\")\n",
    "print(f\"MultipliedBy2: {mulS}\")"
   ]
  },
  {
   "cell_type": "code",
   "execution_count": 49,
   "id": "d204b0da",
   "metadata": {},
   "outputs": [
    {
     "name": "stdout",
     "output_type": "stream",
     "text": [
      "Set: {45, 78, 54, 23, 57}\n"
     ]
    }
   ],
   "source": [
    "#28\n",
    "import random\n",
    "s=set()\n",
    "for i in range(5):\n",
    "    val=random.randint(1,100)\n",
    "    s.add(val)\n",
    "print(f\"Set: {s}\")"
   ]
  },
  {
   "cell_type": "code",
   "execution_count": 54,
   "id": "c2fc049e",
   "metadata": {},
   "outputs": [
    {
     "name": "stdout",
     "output_type": "stream",
     "text": [
      "Empty\n"
     ]
    }
   ],
   "source": [
    "#29\n",
    "s=set()\n",
    "if not s:\n",
    "    print(\"Empty\")\n",
    "else:\n",
    "    print(\"Not empty\")"
   ]
  },
  {
   "cell_type": "code",
   "execution_count": 57,
   "id": "d49e3205",
   "metadata": {},
   "outputs": [
    {
     "name": "stdout",
     "output_type": "stream",
     "text": [
      "Nested: {frozenset({8, 2, 4, 6}), frozenset({1, 3, 5, 7})}\n"
     ]
    }
   ],
   "source": [
    "#30\n",
    "s1={2,4,6,8}\n",
    "s2={1,3,5,7}\n",
    "fs1=frozenset(s1)\n",
    "fs2=frozenset(s2)\n",
    "nested={fs1,fs2}\n",
    "print(\"Nested: {0}\".format(nested))"
   ]
  },
  {
   "cell_type": "code",
   "execution_count": 58,
   "id": "f7e2574c",
   "metadata": {},
   "outputs": [
    {
     "name": "stdout",
     "output_type": "stream",
     "text": [
      "Original: {1, 2, 3, 4, 5, 6}\n",
      "New: {1, 2, 3, 5, 6}\n"
     ]
    }
   ],
   "source": [
    "#31\n",
    "s={1,2,3,4,5,6}\n",
    "print(f\"Original: {s}\")\n",
    "s.discard(4)\n",
    "print(f\"New: {s}\")"
   ]
  },
  {
   "cell_type": "code",
   "execution_count": 61,
   "id": "30be6f24",
   "metadata": {},
   "outputs": [
    {
     "name": "stdout",
     "output_type": "stream",
     "text": [
      "Set 1: {1, 2, 3, 4, 5}\n",
      "Set 2: {4, 5, 6, 7, 8}\n",
      "Is set1 a subset of set2? False\n",
      "Is set2 a subset of set1? False\n",
      "Intersection: {4, 5}\n",
      "Union: {1, 2, 3, 4, 5, 6, 7, 8}\n",
      "Elements in set1 but not in set2: {1, 2, 3}\n",
      "Elements in set2 but not in set1: {8, 6, 7}\n"
     ]
    }
   ],
   "source": [
    "#32\n",
    "s1 = {1,2,3,4,5}\n",
    "s2 = {4,5,6,7,8}\n",
    "is_subset = s1.issubset(s2)\n",
    "is_superset = s1.issuperset(s2)\n",
    "intersection = s1.intersection(s2)\n",
    "union = s1.union(s2)\n",
    "difference1 = s1.difference(s2)\n",
    "difference2 = s2.difference(s1)\n",
    "print(\"Set 1:\", s1)\n",
    "print(\"Set 2:\", s2)\n",
    "print(\"Is set1 a subset of set2?\", is_subset)\n",
    "print(\"Is set2 a subset of set1?\", is_superset)\n",
    "print(\"Intersection:\", intersection)\n",
    "print(\"Union:\", union)\n",
    "print(\"Elements in set1 but not in set2:\", difference1)\n",
    "print(\"Elements in set2 but not in set1:\", difference2)"
   ]
  },
  {
   "cell_type": "code",
   "execution_count": 62,
   "id": "bd8d0f3c",
   "metadata": {},
   "outputs": [
    {
     "data": {
      "text/plain": [
       "{'a', 'e', 'l', 'n', 'o', 'p', 'r'}"
      ]
     },
     "execution_count": 62,
     "metadata": {},
     "output_type": "execute_result"
    }
   ],
   "source": [
    "#33\n",
    "string=\"aeroplane\"\n",
    "s=set(string)\n",
    "s"
   ]
  },
  {
   "cell_type": "code",
   "execution_count": 63,
   "id": "c7060aa6",
   "metadata": {},
   "outputs": [
    {
     "name": "stdout",
     "output_type": "stream",
     "text": [
      "Original: {'1', '456', '23'}\n",
      "Integers: {456, 1, 23}\n"
     ]
    }
   ],
   "source": [
    "#34\n",
    "s={'1','23','456'}\n",
    "iS=set()\n",
    "for e in s:\n",
    "    val=int(e)\n",
    "    iS.add(val)\n",
    "print(f\"Original: {s}\")\n",
    "print(f\"Integers: {iS}\")"
   ]
  },
  {
   "cell_type": "code",
   "execution_count": 64,
   "id": "13a2db68",
   "metadata": {},
   "outputs": [
    {
     "name": "stdout",
     "output_type": "stream",
     "text": [
      "Original: {456, 1, 23}\n",
      "Strings: {'1', '456', '23'}\n"
     ]
    }
   ],
   "source": [
    "#35\n",
    "s={1,23,456}\n",
    "iS=set()\n",
    "for e in s:\n",
    "    val=str(e)\n",
    "    iS.add(val)\n",
    "print(f\"Original: {s}\")\n",
    "print(f\"Strings: {iS}\")"
   ]
  },
  {
   "cell_type": "code",
   "execution_count": 65,
   "id": "4dee547f",
   "metadata": {},
   "outputs": [
    {
     "data": {
      "text/plain": [
       "{1, 2, 3, 4}"
      ]
     },
     "execution_count": 65,
     "metadata": {},
     "output_type": "execute_result"
    }
   ],
   "source": [
    "#36\n",
    "t=(1,2,3,4)\n",
    "s=set(t)\n",
    "s"
   ]
  },
  {
   "cell_type": "code",
   "execution_count": 66,
   "id": "c3b8b09f",
   "metadata": {},
   "outputs": [
    {
     "data": {
      "text/plain": [
       "(1, 2, 3, 4)"
      ]
     },
     "execution_count": 66,
     "metadata": {},
     "output_type": "execute_result"
    }
   ],
   "source": [
    "#37\n",
    "s={1,2,3,4}\n",
    "t=tuple(s)\n",
    "t"
   ]
  },
  {
   "cell_type": "code",
   "execution_count": 67,
   "id": "88fa9c98",
   "metadata": {},
   "outputs": [
    {
     "name": "stdout",
     "output_type": "stream",
     "text": [
      "Max: 4\n"
     ]
    }
   ],
   "source": [
    "#38\n",
    "s={1,2,3,4}\n",
    "m=max(s)\n",
    "print(f\"Max: {m}\")"
   ]
  },
  {
   "cell_type": "code",
   "execution_count": 68,
   "id": "7be7385f",
   "metadata": {},
   "outputs": [
    {
     "name": "stdout",
     "output_type": "stream",
     "text": [
      "Min: 1\n"
     ]
    }
   ],
   "source": [
    "#39\n",
    "s={1,2,3,4}\n",
    "m=min(s)\n",
    "print(f\"Min: {m}\")"
   ]
  },
  {
   "cell_type": "code",
   "execution_count": 70,
   "id": "437fdd65",
   "metadata": {},
   "outputs": [
    {
     "name": "stdout",
     "output_type": "stream",
     "text": [
      "Type 'done' to stop\n",
      "Enter input: car\n",
      "Enter input: bike\n",
      "Enter input: DONe\n",
      "Final: {'bike', 'car'}\n"
     ]
    }
   ],
   "source": [
    "#40\n",
    "s=set()\n",
    "print(\"Type 'done' to stop\")\n",
    "while True:\n",
    "    i=input(\"Enter input: \")\n",
    "    if i.lower()=='done':\n",
    "        break\n",
    "    s.add(i) \n",
    "print(f\"Final: {s}\")"
   ]
  },
  {
   "cell_type": "code",
   "execution_count": 71,
   "id": "2f303c05",
   "metadata": {},
   "outputs": [
    {
     "name": "stdout",
     "output_type": "stream",
     "text": [
      "The intersection of two sets is empty.\n"
     ]
    }
   ],
   "source": [
    "#41\n",
    "s1={2,4,6,8}\n",
    "s2={1,3,5,7}\n",
    "common=s1.intersection(s2)\n",
    "if not common:\n",
    "    print(\"The intersection of two sets is empty.\")\n",
    "else:\n",
    "    print(f\"The intersection of two sets is not empty.\")"
   ]
  },
  {
   "cell_type": "code",
   "execution_count": 72,
   "id": "bd2de9d5",
   "metadata": {},
   "outputs": [
    {
     "name": "stdout",
     "output_type": "stream",
     "text": [
      "Set of the first 5 Fibonacci numbers: {0, 1, 2, 3, 5}\n"
     ]
    }
   ],
   "source": [
    "#42\n",
    "fibonacci_set = set()\n",
    "a,b=0,1\n",
    "for i in range(6):\n",
    "    fibonacci_set.add(a)\n",
    "    a,b = b,a+b\n",
    "print(\"Set of the first 5 Fibonacci numbers:\", fibonacci_set)"
   ]
  },
  {
   "cell_type": "code",
   "execution_count": 73,
   "id": "fc738861",
   "metadata": {},
   "outputs": [
    {
     "name": "stdout",
     "output_type": "stream",
     "text": [
      "[1, 2, 3, 4, 6]\n"
     ]
    }
   ],
   "source": [
    "#43\n",
    "l=[1,2,3,4,2,4,6]\n",
    "print(list(set(l)))"
   ]
  },
  {
   "cell_type": "code",
   "execution_count": 74,
   "id": "128bad1e",
   "metadata": {},
   "outputs": [
    {
     "name": "stdout",
     "output_type": "stream",
     "text": [
      "Both sets have same elements\n"
     ]
    }
   ],
   "source": [
    "#44\n",
    "s1={2,4,6,8}\n",
    "s2={2,6,4,8,2,8}\n",
    "if sorted(list(s1))==sorted(list(s2)):\n",
    "    print(\"Both sets have same elements\")\n",
    "else:\n",
    "    print(\"Both sets do not have same elements\")    "
   ]
  },
  {
   "cell_type": "code",
   "execution_count": 77,
   "id": "2f804c31",
   "metadata": {},
   "outputs": [
    {
     "data": {
      "text/plain": [
       "{1, 2, 4, 8}"
      ]
     },
     "execution_count": 77,
     "metadata": {},
     "output_type": "execute_result"
    }
   ],
   "source": [
    "#45\n",
    "def powsOf2(n):\n",
    "    s=set()\n",
    "    for i in range(n):\n",
    "        res=2**i\n",
    "        s.add(res)\n",
    "    return s\n",
    "n=4\n",
    "powsOf2(n)"
   ]
  },
  {
   "cell_type": "code",
   "execution_count": 78,
   "id": "0794e878",
   "metadata": {},
   "outputs": [
    {
     "name": "stdout",
     "output_type": "stream",
     "text": [
      "Common elements: {2, 4}\n"
     ]
    }
   ],
   "source": [
    "#46\n",
    "s={2,4,6,8}\n",
    "l=[1,2,3,4]\n",
    "c=s.intersection(set(l))\n",
    "print(f\"Common elements: {c}\")"
   ]
  },
  {
   "cell_type": "code",
   "execution_count": 79,
   "id": "5a8ef6f0",
   "metadata": {},
   "outputs": [
    {
     "name": "stdout",
     "output_type": "stream",
     "text": [
      "Enter the value of n: 5\n",
      "The set of the first 5 triangular numbers is: {1, 3, 6, 10, 15}\n"
     ]
    }
   ],
   "source": [
    "#47\n",
    "def generate_triangular_numbers(n):\n",
    "    triangular_numbers=set()  \n",
    "    for i in range(1,n+1):\n",
    "        triangular_number=i*(i+1)//2  \n",
    "        triangular_numbers.add(triangular_number)  \n",
    "    return triangular_numbers\n",
    "n = int(input(\"Enter the value of n: \"))\n",
    "triangular_set = generate_triangular_numbers(n)\n",
    "print(f\"The set of the first {n} triangular numbers is:\", triangular_set)"
   ]
  },
  {
   "cell_type": "code",
   "execution_count": 80,
   "id": "01b1da8b",
   "metadata": {},
   "outputs": [
    {
     "data": {
      "text/plain": [
       "True"
      ]
     },
     "execution_count": 80,
     "metadata": {},
     "output_type": "execute_result"
    }
   ],
   "source": [
    "#48\n",
    "s1={2,4,6,8}\n",
    "s2={8,2}\n",
    "s1.issuperset(s2)"
   ]
  },
  {
   "cell_type": "code",
   "execution_count": 81,
   "id": "8e79fb34",
   "metadata": {},
   "outputs": [
    {
     "data": {
      "text/plain": [
       "{0, 1}"
      ]
     },
     "execution_count": 81,
     "metadata": {},
     "output_type": "execute_result"
    }
   ],
   "source": [
    "#49\n",
    "def onesZeros(n):\n",
    "    s=set()\n",
    "    for i in range(n):\n",
    "        if i%2==0:\n",
    "            s.add(1)\n",
    "        else:\n",
    "            s.add(0)\n",
    "    return s\n",
    "n=5\n",
    "onesZeros(n)"
   ]
  },
  {
   "cell_type": "code",
   "execution_count": 84,
   "id": "a46f53b4",
   "metadata": {},
   "outputs": [
    {
     "name": "stdout",
     "output_type": "stream",
     "text": [
      "Merged: {1, 2, 3, 4, 6, 9}\n"
     ]
    }
   ],
   "source": [
    "#50\n",
    "s1={3,2,1}\n",
    "s2={2,4,6}\n",
    "s3={9,6,3}\n",
    "merged=s1.union(s2,s3)\n",
    "print(f\"Merged: {merged}\")"
   ]
  }
 ],
 "metadata": {
  "kernelspec": {
   "display_name": "Python 3 (ipykernel)",
   "language": "python",
   "name": "python3"
  },
  "language_info": {
   "codemirror_mode": {
    "name": "ipython",
    "version": 3
   },
   "file_extension": ".py",
   "mimetype": "text/x-python",
   "name": "python",
   "nbconvert_exporter": "python",
   "pygments_lexer": "ipython3",
   "version": "3.11.3"
  }
 },
 "nbformat": 4,
 "nbformat_minor": 5
}
