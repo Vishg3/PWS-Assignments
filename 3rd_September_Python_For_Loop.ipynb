{
 "cells": [
  {
   "cell_type": "markdown",
   "id": "49e15634",
   "metadata": {},
   "source": [
    "# Assignment - Python For Loop"
   ]
  },
  {
   "cell_type": "markdown",
   "id": "b16ed784",
   "metadata": {},
   "source": [
    "### Basic Level:"
   ]
  },
  {
   "cell_type": "code",
   "execution_count": 3,
   "id": "e3410388",
   "metadata": {},
   "outputs": [
    {
     "name": "stdout",
     "output_type": "stream",
     "text": [
      "1\n",
      "2\n",
      "3\n",
      "4\n",
      "5\n",
      "6\n",
      "7\n",
      "8\n",
      "9\n",
      "10\n"
     ]
    }
   ],
   "source": [
    "#1\n",
    "for i in range(1,11):\n",
    "    print(i)"
   ]
  },
  {
   "cell_type": "code",
   "execution_count": 8,
   "id": "bf49f55d",
   "metadata": {},
   "outputs": [
    {
     "name": "stdout",
     "output_type": "stream",
     "text": [
      "Sum is 33\n"
     ]
    }
   ],
   "source": [
    "#2\n",
    "l=[2,5,4,8,9,2,3]\n",
    "total=0\n",
    "for i in range(len(l)):\n",
    "    total+=l[i]\n",
    "print(f\"Sum is {total}\")"
   ]
  },
  {
   "cell_type": "code",
   "execution_count": 15,
   "id": "059ab624",
   "metadata": {},
   "outputs": [
    {
     "name": "stdout",
     "output_type": "stream",
     "text": [
      "e\n",
      "n\n",
      "a\n",
      "l\n",
      "p\n",
      "o\n",
      "r\n",
      "e\n",
      "a\n"
     ]
    }
   ],
   "source": [
    "#3\n",
    "string=\"aeroplane\"\n",
    "for i in range(len(string)-1,-1,-1):\n",
    "    print(string[i])"
   ]
  },
  {
   "cell_type": "code",
   "execution_count": 16,
   "id": "34b13dde",
   "metadata": {},
   "outputs": [
    {
     "name": "stdout",
     "output_type": "stream",
     "text": [
      "Enter a non-negative integer: 3\n",
      "The factorial of 3 is 6\n"
     ]
    }
   ],
   "source": [
    "#4\n",
    "num = int(input(\"Enter a non-negative integer: \"))\n",
    "if num < 0:\n",
    "    print(\"Invalid input. Please enter a non-negative integer.\")\n",
    "else:\n",
    "    factorial = 1\n",
    "    for i in range(1, num + 1):\n",
    "        factorial *= i\n",
    "    print(f\"The factorial of {num} is {factorial}\")"
   ]
  },
  {
   "cell_type": "code",
   "execution_count": 21,
   "id": "cfd8cdf1",
   "metadata": {},
   "outputs": [
    {
     "name": "stdout",
     "output_type": "stream",
     "text": [
      "Enter number: 3\n",
      "3 x 0 = 0\n",
      "3 x 1 = 3\n",
      "3 x 2 = 6\n",
      "3 x 3 = 9\n",
      "3 x 4 = 12\n",
      "3 x 5 = 15\n",
      "3 x 6 = 18\n",
      "3 x 7 = 21\n",
      "3 x 8 = 24\n",
      "3 x 9 = 27\n",
      "3 x 10 = 30\n",
      "3 x 11 = 33\n",
      "3 x 12 = 36\n"
     ]
    }
   ],
   "source": [
    "#5\n",
    "num=int(input(\"Enter number: \"))\n",
    "for i in range(13):\n",
    "    res=num*i\n",
    "    print(f\"{num} x {i} = {res}\")"
   ]
  },
  {
   "cell_type": "code",
   "execution_count": 22,
   "id": "489057c5",
   "metadata": {},
   "outputs": [
    {
     "name": "stdout",
     "output_type": "stream",
     "text": [
      "Even count is 4\n",
      "Odd count is 3\n"
     ]
    }
   ],
   "source": [
    "#6\n",
    "l=[2,5,4,8,9,2,3]\n",
    "oC=0\n",
    "eC=0\n",
    "for i in range(len(l)):\n",
    "    if l[i]%2==0:\n",
    "        eC+=1\n",
    "    elif l[i]%2!=0:\n",
    "        oC+=1\n",
    "print(f\"Even count is {eC}\")\n",
    "print(f\"Odd count is {oC}\")"
   ]
  },
  {
   "cell_type": "code",
   "execution_count": 23,
   "id": "feeb69cf",
   "metadata": {},
   "outputs": [
    {
     "name": "stdout",
     "output_type": "stream",
     "text": [
      "1 square = 1\n",
      "2 square = 4\n",
      "3 square = 9\n",
      "4 square = 16\n",
      "5 square = 25\n"
     ]
    }
   ],
   "source": [
    "#7\n",
    "for i in range(1,6):\n",
    "    sq=i**2\n",
    "    print(f\"{i} square = {sq}\")"
   ]
  },
  {
   "cell_type": "code",
   "execution_count": 24,
   "id": "f0ceb15a",
   "metadata": {},
   "outputs": [
    {
     "name": "stdout",
     "output_type": "stream",
     "text": [
      "aeroplane length is 9\n"
     ]
    }
   ],
   "source": [
    "#8\n",
    "string=\"aeroplane\"\n",
    "counter=0\n",
    "for c in string:\n",
    "    counter+=1\n",
    "print(f\"{string} length is {counter}\")"
   ]
  },
  {
   "cell_type": "code",
   "execution_count": 26,
   "id": "1068f7e2",
   "metadata": {},
   "outputs": [
    {
     "name": "stdout",
     "output_type": "stream",
     "text": [
      "Average is 4.71\n"
     ]
    }
   ],
   "source": [
    "#9\n",
    "l=[2,5,4,8,9,2,3]\n",
    "total=0\n",
    "for ele in l:\n",
    "    total+=ele\n",
    "avg=total/len(l)\n",
    "print(f\"Average is {avg:.2f}\")"
   ]
  },
  {
   "cell_type": "code",
   "execution_count": 32,
   "id": "29d5337b",
   "metadata": {},
   "outputs": [
    {
     "name": "stdout",
     "output_type": "stream",
     "text": [
      "Enter the number of Fibonacci numbers to generate: 10\n",
      "Fibonacci Sequence:\n",
      "0\n",
      "1\n",
      "1\n",
      "2\n",
      "3\n",
      "5\n",
      "8\n",
      "13\n",
      "21\n",
      "34\n"
     ]
    }
   ],
   "source": [
    "#10\n",
    "n = int(input(\"Enter the number of Fibonacci numbers to generate: \"))\n",
    "if n <= 0:\n",
    "    print(\"Please enter a positive integer.\")\n",
    "else:\n",
    "    fib1 = 0\n",
    "    fib2 = 1\n",
    "    print(\"Fibonacci Sequence:\")\n",
    "    print(fib1)\n",
    "    print(fib2)\n",
    "    for i in range(2, n):\n",
    "        next_fib = fib1 + fib2\n",
    "        print(next_fib)\n",
    "        fib1 = fib2\n",
    "        fib2 = next_fib"
   ]
  },
  {
   "cell_type": "markdown",
   "id": "38ee480e",
   "metadata": {},
   "source": [
    "### Intermediate Level:"
   ]
  },
  {
   "cell_type": "code",
   "execution_count": 41,
   "id": "df630f01",
   "metadata": {},
   "outputs": [
    {
     "name": "stdout",
     "output_type": "stream",
     "text": [
      "The list contains duplicates.\n"
     ]
    }
   ],
   "source": [
    "#11\n",
    "elements = [2,5,4,8,9,3,4,4]\n",
    "has_duplicates = False\n",
    "for i in range(len(elements)):\n",
    "    for j in range(i + 1, len(elements)):\n",
    "        if elements[i] == elements[j]:\n",
    "            has_duplicates = True\n",
    "            break\n",
    "if has_duplicates:\n",
    "    print(\"The list contains duplicates.\")\n",
    "else:\n",
    "    print(\"The list does not contain duplicates.\")"
   ]
  },
  {
   "cell_type": "code",
   "execution_count": 45,
   "id": "4b3066cb",
   "metadata": {},
   "outputs": [
    {
     "name": "stdout",
     "output_type": "stream",
     "text": [
      "Enter the start of the range: 2\n",
      "Enter the end of the range: 20\n",
      "Prime numbers in the range: 2 - 20\n",
      "2\n",
      "3\n",
      "5\n",
      "7\n",
      "11\n",
      "13\n",
      "17\n",
      "19\n"
     ]
    }
   ],
   "source": [
    "#12\n",
    "start = int(input(\"Enter the start of the range: \"))\n",
    "end = int(input(\"Enter the end of the range: \"))\n",
    "if start >= end or start < 2:\n",
    "    print(\"Invalid range. Please enter a valid range.\")\n",
    "else:\n",
    "    print(\"Prime numbers in the range:\", start, \"-\", end)\n",
    "    for num in range(start, end + 1):\n",
    "        if num > 1:  \n",
    "            is_prime = True\n",
    "            for i in range(2, int(num ** 0.5) + 1):\n",
    "                if num % i == 0:\n",
    "                    is_prime = False\n",
    "                    break\n",
    "            if is_prime:\n",
    "                print(num)"
   ]
  },
  {
   "cell_type": "code",
   "execution_count": 46,
   "id": "7284da15",
   "metadata": {},
   "outputs": [
    {
     "name": "stdout",
     "output_type": "stream",
     "text": [
      "String: technology\n",
      "Number of vowels in technology is 3.\n"
     ]
    }
   ],
   "source": [
    "#13\n",
    "vow=['a','e','i','o','u']\n",
    "counter=0\n",
    "string=input(\"String: \")\n",
    "string.lower()\n",
    "for c in string:\n",
    "    if c in vow:\n",
    "        counter+=1\n",
    "print(f\"Number of vowels in {string} is {counter}.\")"
   ]
  },
  {
   "cell_type": "code",
   "execution_count": 54,
   "id": "1b98fabe",
   "metadata": {},
   "outputs": [
    {
     "name": "stdout",
     "output_type": "stream",
     "text": [
      "The maximum element in the 2D list is: 9\n"
     ]
    }
   ],
   "source": [
    "#14\n",
    "l=[[1,2,3],[3,6,9]]\n",
    "maxVal=l[0][0]\n",
    "for row in l:\n",
    "    for ele in row:\n",
    "        if ele>maxVal:\n",
    "            maxVal=ele\n",
    "print(\"The maximum element in the 2D list is:\",maxVal)"
   ]
  },
  {
   "cell_type": "code",
   "execution_count": 57,
   "id": "3f7e6413",
   "metadata": {},
   "outputs": [
    {
     "name": "stdout",
     "output_type": "stream",
     "text": [
      "Specific value to remove: 4\n",
      "[2, 5, 8, 9, 3]\n"
     ]
    }
   ],
   "source": [
    "#15\n",
    "l = [2, 5, 4, 8, 9, 3, 4, 4]\n",
    "val = int(input(\"Specific value to remove: \"))\n",
    "new_list = []\n",
    "for ele in l:\n",
    "    if val != ele:\n",
    "        new_list.append(ele)\n",
    "print(new_list)"
   ]
  },
  {
   "cell_type": "code",
   "execution_count": 58,
   "id": "24e30418",
   "metadata": {},
   "outputs": [
    {
     "name": "stdout",
     "output_type": "stream",
     "text": [
      "1 x 0 = 0\n",
      "1 x 1 = 1\n",
      "1 x 2 = 2\n",
      "1 x 3 = 3\n",
      "1 x 4 = 4\n",
      "1 x 5 = 5\n",
      "1 x 6 = 6\n",
      "1 x 7 = 7\n",
      "1 x 8 = 8\n",
      "1 x 9 = 9\n",
      "1 x 10 = 10\n",
      "1 x 11 = 11\n",
      "1 x 12 = 12\n",
      "2 x 0 = 0\n",
      "2 x 1 = 2\n",
      "2 x 2 = 4\n",
      "2 x 3 = 6\n",
      "2 x 4 = 8\n",
      "2 x 5 = 10\n",
      "2 x 6 = 12\n",
      "2 x 7 = 14\n",
      "2 x 8 = 16\n",
      "2 x 9 = 18\n",
      "2 x 10 = 20\n",
      "2 x 11 = 22\n",
      "2 x 12 = 24\n",
      "3 x 0 = 0\n",
      "3 x 1 = 3\n",
      "3 x 2 = 6\n",
      "3 x 3 = 9\n",
      "3 x 4 = 12\n",
      "3 x 5 = 15\n",
      "3 x 6 = 18\n",
      "3 x 7 = 21\n",
      "3 x 8 = 24\n",
      "3 x 9 = 27\n",
      "3 x 10 = 30\n",
      "3 x 11 = 33\n",
      "3 x 12 = 36\n",
      "4 x 0 = 0\n",
      "4 x 1 = 4\n",
      "4 x 2 = 8\n",
      "4 x 3 = 12\n",
      "4 x 4 = 16\n",
      "4 x 5 = 20\n",
      "4 x 6 = 24\n",
      "4 x 7 = 28\n",
      "4 x 8 = 32\n",
      "4 x 9 = 36\n",
      "4 x 10 = 40\n",
      "4 x 11 = 44\n",
      "4 x 12 = 48\n",
      "5 x 0 = 0\n",
      "5 x 1 = 5\n",
      "5 x 2 = 10\n",
      "5 x 3 = 15\n",
      "5 x 4 = 20\n",
      "5 x 5 = 25\n",
      "5 x 6 = 30\n",
      "5 x 7 = 35\n",
      "5 x 8 = 40\n",
      "5 x 9 = 45\n",
      "5 x 10 = 50\n",
      "5 x 11 = 55\n",
      "5 x 12 = 60\n"
     ]
    }
   ],
   "source": [
    "#16\n",
    "for i in range(1,6):\n",
    "    for j in range(0,13):\n",
    "        res=i*j\n",
    "        print(f\"{i} x {j} = {res}\")"
   ]
  },
  {
   "cell_type": "code",
   "execution_count": 64,
   "id": "8577bc77",
   "metadata": {},
   "outputs": [
    {
     "name": "stdout",
     "output_type": "stream",
     "text": [
      "List of celsius is [35.0, 36.111111111111114, 33.333333333333336, 40.55555555555556, 43.333333333333336, 36.111111111111114]\n"
     ]
    }
   ],
   "source": [
    "#17\n",
    "F=[95,97,92,105,110,97]\n",
    "C=[]\n",
    "for f in F:\n",
    "    c=(f-32)*(5/9)\n",
    "    C.append(c)\n",
    "print(\"List of celsius is\",C)"
   ]
  },
  {
   "cell_type": "code",
   "execution_count": 65,
   "id": "7a47f48a",
   "metadata": {},
   "outputs": [
    {
     "name": "stdout",
     "output_type": "stream",
     "text": [
      "Common elements are [2, 4]\n"
     ]
    }
   ],
   "source": [
    "#18\n",
    "a=[1,2,3,4,5]\n",
    "b=[2,4,6,8]\n",
    "common=[]\n",
    "for ele1 in a:\n",
    "    for ele2 in b:\n",
    "        if ele1==ele2:\n",
    "            common.append(ele1)\n",
    "print(f\"Common elements are {common}\")"
   ]
  },
  {
   "cell_type": "code",
   "execution_count": 70,
   "id": "62ff8c8e",
   "metadata": {
    "scrolled": true
   },
   "outputs": [
    {
     "name": "stdout",
     "output_type": "stream",
     "text": [
      "* \n",
      "* * \n",
      "* * * \n",
      "* * * * \n",
      "* * * * * \n"
     ]
    }
   ],
   "source": [
    "#19\n",
    "for i in range(5):\n",
    "    for j in range(i+1):\n",
    "        print('*',end=\" \")\n",
    "    print()"
   ]
  },
  {
   "cell_type": "code",
   "execution_count": 73,
   "id": "877573cc",
   "metadata": {
    "scrolled": true
   },
   "outputs": [
    {
     "name": "stdout",
     "output_type": "stream",
     "text": [
      "Enter the first number: 8\n",
      "Enter the second number: 14\n",
      "The greatest common divisor (GCD) of 8 and 14 is 2\n"
     ]
    }
   ],
   "source": [
    "#20\n",
    "num1 = int(input(\"Enter the first number: \"))\n",
    "num2 = int(input(\"Enter the second number: \"))\n",
    "smaller = min(num1, num2)\n",
    "larger = max(num1, num2)\n",
    "gcd = 1\n",
    "for i in range(1, smaller + 1):\n",
    "    if smaller % i == 0 and larger % i == 0:\n",
    "        gcd = i\n",
    "print(f\"The greatest common divisor (GCD) of {num1} and {num2} is {gcd}\")"
   ]
  },
  {
   "cell_type": "markdown",
   "id": "fb4e3908",
   "metadata": {},
   "source": [
    "### Advanced Level:"
   ]
  },
  {
   "cell_type": "code",
   "execution_count": 1,
   "id": "327df9c4",
   "metadata": {},
   "outputs": [
    {
     "data": {
      "text/plain": [
       "[2, 10, 2, 15, 9, 5]"
      ]
     },
     "execution_count": 1,
     "metadata": {},
     "output_type": "execute_result"
    }
   ],
   "source": [
    "#21\n",
    "l=[2,55,2,78,9,41]\n",
    "def sumOfD(num):\n",
    "    return sum(int(digit) for digit in str(num))\n",
    "sums=[sumOfD(num) for num in l]\n",
    "sums"
   ]
  },
  {
   "cell_type": "code",
   "execution_count": 4,
   "id": "fabf936c",
   "metadata": {},
   "outputs": [
    {
     "name": "stdout",
     "output_type": "stream",
     "text": [
      "Enter a number: 12\n",
      "Prime factors of 12 are: [2, 2, 3]\n"
     ]
    }
   ],
   "source": [
    "#22\n",
    "def prime_factors(number):\n",
    "    factors = []\n",
    "    divisor = 2   \n",
    "    while divisor <= number:\n",
    "        if number % divisor == 0:\n",
    "            factors.append(divisor)\n",
    "            number //= divisor\n",
    "        else:\n",
    "            divisor += 1   \n",
    "    return factors\n",
    "num = int(input(\"Enter a number: \"))\n",
    "factors = [factor for factor in prime_factors(num)]\n",
    "print(\"Prime factors of\", num, \"are:\", factors)"
   ]
  },
  {
   "cell_type": "code",
   "execution_count": 9,
   "id": "8489267d",
   "metadata": {},
   "outputs": [
    {
     "data": {
      "text/plain": [
       "[6, 5]"
      ]
     },
     "execution_count": 9,
     "metadata": {},
     "output_type": "execute_result"
    }
   ],
   "source": [
    "#23\n",
    "l=[1,3,6,1,5,3]\n",
    "unique=[x for x in l if l.count(x)==1]\n",
    "unique"
   ]
  },
  {
   "cell_type": "code",
   "execution_count": 15,
   "id": "4af67273",
   "metadata": {},
   "outputs": [
    {
     "data": {
      "text/plain": [
       "[1,\n",
       " 2,\n",
       " 3,\n",
       " 4,\n",
       " 5,\n",
       " 6,\n",
       " 7,\n",
       " 8,\n",
       " 9,\n",
       " 11,\n",
       " 22,\n",
       " 33,\n",
       " 44,\n",
       " 55,\n",
       " 66,\n",
       " 77,\n",
       " 88,\n",
       " 99,\n",
       " 101,\n",
       " 111,\n",
       " 121,\n",
       " 131,\n",
       " 141]"
      ]
     },
     "execution_count": 15,
     "metadata": {},
     "output_type": "execute_result"
    }
   ],
   "source": [
    "#24\n",
    "def isPalindrome(n):\n",
    "    return str(n)==str(n)[::-1]\n",
    "limit=150\n",
    "l=[num for num in range(1,limit+1) if isPalindrome(num)]\n",
    "l"
   ]
  },
  {
   "cell_type": "code",
   "execution_count": 17,
   "id": "011a4052",
   "metadata": {},
   "outputs": [
    {
     "data": {
      "text/plain": [
       "[1, 2, 3, 4, 5]"
      ]
     },
     "execution_count": 17,
     "metadata": {},
     "output_type": "execute_result"
    }
   ],
   "source": [
    "#25\n",
    "def flatten(l):\n",
    "    return [item for sublist in l for item in sublist]\n",
    "l=[[1,2],[3,4,5]]\n",
    "flatten(l)"
   ]
  },
  {
   "cell_type": "code",
   "execution_count": 21,
   "id": "4e959a36",
   "metadata": {},
   "outputs": [
    {
     "name": "stdout",
     "output_type": "stream",
     "text": [
      "[1, 2, 3, 4, 5, 6]\n",
      "Sum of even numbers: 12\n",
      "Sum of odd numbers: 9\n"
     ]
    }
   ],
   "source": [
    "#26\n",
    "l=[1,2,3,4,5,6]\n",
    "e=sum([x for x in l if x%2==0])\n",
    "o=sum([x for x in l if x%2!=0])\n",
    "print(l)\n",
    "print(f'Sum of even numbers: {e}')\n",
    "print(f'Sum of odd numbers: {o}')"
   ]
  },
  {
   "cell_type": "code",
   "execution_count": 24,
   "id": "0e4e4003",
   "metadata": {},
   "outputs": [
    {
     "data": {
      "text/plain": [
       "[1, 9, 25, 49, 81]"
      ]
     },
     "execution_count": 24,
     "metadata": {},
     "output_type": "execute_result"
    }
   ],
   "source": [
    "#27\n",
    "l=[x**2 for x in range(1,11) if x%2!=0]\n",
    "l"
   ]
  },
  {
   "cell_type": "code",
   "execution_count": 26,
   "id": "dabde98f",
   "metadata": {},
   "outputs": [
    {
     "data": {
      "text/plain": [
       "{'a': 1, 'b': 2, 'c': 3}"
      ]
     },
     "execution_count": 26,
     "metadata": {},
     "output_type": "execute_result"
    }
   ],
   "source": [
    "#28\n",
    "l1=['a','b','c']\n",
    "l2=[1,2,3]\n",
    "d={k:v for k,v in zip(l1,l2)}\n",
    "d"
   ]
  },
  {
   "cell_type": "code",
   "execution_count": 32,
   "id": "457e7f91",
   "metadata": {},
   "outputs": [
    {
     "data": {
      "text/plain": [
       "['E', 'u', 'a', 'i', 'o']"
      ]
     },
     "execution_count": 32,
     "metadata": {},
     "output_type": "execute_result"
    }
   ],
   "source": [
    "#29\n",
    "string='Education'\n",
    "v=[x for x in string if x.lower() in ['a','e','i','o','u']]\n",
    "v"
   ]
  },
  {
   "cell_type": "code",
   "execution_count": 41,
   "id": "61e4d7f4",
   "metadata": {},
   "outputs": [
    {
     "name": "stdout",
     "output_type": "stream",
     "text": [
      "['a', 'bd', 'c']\n"
     ]
    }
   ],
   "source": [
    "#30\n",
    "l = ['a1', 'b2d', 'c3']\n",
    "nl = [''.join(x for x in item if not x.isnumeric()) for item in l]\n",
    "print(nl)"
   ]
  },
  {
   "cell_type": "markdown",
   "id": "dd04c997",
   "metadata": {},
   "source": [
    "### Challenge Level:"
   ]
  },
  {
   "cell_type": "code",
   "execution_count": 43,
   "id": "db9abb2f",
   "metadata": {},
   "outputs": [
    {
     "name": "stdout",
     "output_type": "stream",
     "text": [
      "Enter a limit: 10\n",
      "Prime numbers up to 10 are: [2, 3, 5, 7]\n"
     ]
    }
   ],
   "source": [
    "#31\n",
    "def sieve_of_eratosthenes(limit):\n",
    "    sieve = [True] * (limit + 1)\n",
    "    sieve[0] = sieve[1] = False\n",
    "    for p in range(2, int(limit**0.5) + 1):\n",
    "        if sieve[p]:\n",
    "            for i in range(p * p, limit + 1, p):\n",
    "                sieve[i] = False    \n",
    "    prime_numbers = [p for p, is_prime in enumerate(sieve) if is_prime]\n",
    "    return prime_numbers\n",
    "limit = int(input(\"Enter a limit: \"))\n",
    "prime_list = sieve_of_eratosthenes(limit)\n",
    "print(\"Prime numbers up to\", limit, \"are:\", prime_list)"
   ]
  },
  {
   "cell_type": "code",
   "execution_count": 44,
   "id": "bedc8a18",
   "metadata": {},
   "outputs": [
    {
     "name": "stdout",
     "output_type": "stream",
     "text": [
      "Enter a limit: 6\n",
      "Pythagorean triplets up to 6 are: [(3, 4, 5)]\n"
     ]
    }
   ],
   "source": [
    "#32\n",
    "def pythagorean_triplets(limit):\n",
    "    triplets = [(a, b, c) for a in range(1, limit + 1) for b in range(a, limit + 1) for c in range(b, limit + 1) if a**2 + b**2 == c**2]\n",
    "    return triplets\n",
    "limit = int(input(\"Enter a limit: \"))\n",
    "triplet_list = pythagorean_triplets(limit)\n",
    "print(\"Pythagorean triplets up to\", limit, \"are:\", triplet_list)"
   ]
  },
  {
   "cell_type": "code",
   "execution_count": 46,
   "id": "05e9b9d6",
   "metadata": {},
   "outputs": [
    {
     "name": "stdout",
     "output_type": "stream",
     "text": [
      "All possible combinations:\n",
      "[(1, 'a'), (1, 'b'), (1, 'c'), (2, 'a'), (2, 'b'), (2, 'c'), (3, 'a'), (3, 'b'), (3, 'c')]\n"
     ]
    }
   ],
   "source": [
    "#33\n",
    "list1 = [1, 2, 3]\n",
    "list2 = ['a', 'b', 'c']\n",
    "combinations = [(x, y) for x in list1 for y in list2]\n",
    "print(\"All possible combinations:\")\n",
    "print(combinations)"
   ]
  },
  {
   "cell_type": "code",
   "execution_count": 48,
   "id": "edd0ba76",
   "metadata": {},
   "outputs": [
    {
     "name": "stdout",
     "output_type": "stream",
     "text": [
      "Mean: 5.0\n",
      "Median: 5.0\n",
      "Mode: [5]\n"
     ]
    }
   ],
   "source": [
    "#34\n",
    "numbers = [1, 2, 3, 4, 5, 5, 6, 7, 8, 9]\n",
    "mean_result = sum(numbers) / len(numbers)\n",
    "sorted_numbers = sorted(numbers)\n",
    "n = len(sorted_numbers)\n",
    "if n % 2 == 0:\n",
    "    median_result = (sorted_numbers[n // 2 - 1] + sorted_numbers[n // 2]) / 2\n",
    "else:\n",
    "    median_result = sorted_numbers[n // 2]\n",
    "counts = {num: numbers.count(num) for num in set(numbers)}\n",
    "max_count = max(counts.values())\n",
    "mode_result = [num for num, count in counts.items() if count == max_count]\n",
    "print(\"Mean:\", mean_result)\n",
    "print(\"Median:\", median_result)\n",
    "print(\"Mode:\", mode_result)"
   ]
  },
  {
   "cell_type": "code",
   "execution_count": 49,
   "id": "ca70eee2",
   "metadata": {},
   "outputs": [
    {
     "name": "stdout",
     "output_type": "stream",
     "text": [
      "Enter the number of rows for Pascal's Triangle: 10\n",
      "             1             \n",
      "            1 1            \n",
      "           1 2 1           \n",
      "          1 3 3 1          \n",
      "         1 4 6 4 1         \n",
      "       1 5 10 10 5 1       \n",
      "      1 6 15 20 15 6 1     \n",
      "    1 7 21 35 35 21 7 1    \n",
      "   1 8 28 56 70 56 28 8 1  \n",
      "1 9 36 84 126 126 84 36 9 1\n"
     ]
    }
   ],
   "source": [
    "#35\n",
    "def generate_pascals_triangle(rows):\n",
    "    triangle = [[1]]    \n",
    "    for i in range(1, rows):\n",
    "        prev_row = triangle[-1]\n",
    "        new_row = [1] + [prev_row[j] + prev_row[j + 1] for j in range(i - 1)] + [1]\n",
    "        triangle.append(new_row)\n",
    "    return triangle\n",
    "def print_pascals_triangle(triangle):\n",
    "    max_width = len(' '.join(map(str, triangle[-1])))\n",
    "    for row in triangle:\n",
    "        formatted_row = ' '.join(map(str, row))\n",
    "        print(formatted_row.center(max_width))\n",
    "rows = int(input(\"Enter the number of rows for Pascal's Triangle: \"))\n",
    "pascals_triangle = generate_pascals_triangle(rows)\n",
    "print_pascals_triangle(pascals_triangle)"
   ]
  },
  {
   "cell_type": "code",
   "execution_count": 51,
   "id": "acdfac5c",
   "metadata": {},
   "outputs": [
    {
     "name": "stdout",
     "output_type": "stream",
     "text": [
      "Sum of digits of 1! (1): 1\n",
      "Sum of digits of 2! (2): 2\n",
      "Sum of digits of 3! (6): 6\n",
      "Sum of digits of 4! (24): 6\n",
      "Sum of digits of 5! (120): 3\n"
     ]
    }
   ],
   "source": [
    "#36\n",
    "def factorial(n):\n",
    "    if n == 0:\n",
    "        return 1\n",
    "    else:\n",
    "        return n * factorial(n - 1)\n",
    "factorials = [factorial(i) for i in range(1, 6)]\n",
    "sums_of_digits = [sum(int(digit) for digit in str(f)) for f in factorials]\n",
    "for i, n in enumerate(range(1, 6)):\n",
    "    print(f\"Sum of digits of {n}! ({factorials[i]}): {sums_of_digits[i]}\")"
   ]
  },
  {
   "cell_type": "code",
   "execution_count": 58,
   "id": "a49cadca",
   "metadata": {},
   "outputs": [
    {
     "data": {
      "text/plain": [
       "'shopping'"
      ]
     },
     "execution_count": 58,
     "metadata": {},
     "output_type": "execute_result"
    }
   ],
   "source": [
    "#37\n",
    "sen='She wants to go shopping today'\n",
    "words=sen.split()\n",
    "longest=max((word for word in words),key=len)\n",
    "longest"
   ]
  },
  {
   "cell_type": "code",
   "execution_count": 61,
   "id": "f8ad182f",
   "metadata": {},
   "outputs": [
    {
     "name": "stdout",
     "output_type": "stream",
     "text": [
      "Strings with more than three vowels: ['grapefruit']\n"
     ]
    }
   ],
   "source": [
    "#38\n",
    "def countVowels(string):\n",
    "    vowels='aeiouAEIOU'\n",
    "    return sum(1 for char in string if char in vowels)\n",
    "l=[\"apple\",\"banana\",\"cherry\",\"grapefruit\",\"kiwi\",\"orange\"]\n",
    "nl=[x for x in l if countVowels(x)>3]\n",
    "print(\"Strings with more than three vowels:\",nl)"
   ]
  },
  {
   "cell_type": "code",
   "execution_count": 68,
   "id": "2d867b16",
   "metadata": {},
   "outputs": [
    {
     "name": "stdout",
     "output_type": "stream",
     "text": [
      "Total sum of the digits for numbers from 1 to 1000: 13501\n"
     ]
    }
   ],
   "source": [
    "#39\n",
    "def s(n):\n",
    "    return sum(int(x) for x in str(n))\n",
    "l=[s(x) for x in range(1,1001)]\n",
    "total=sum(l)\n",
    "print(\"Total sum of the digits for numbers from 1 to 1000:\", total_sum)"
   ]
  },
  {
   "cell_type": "code",
   "execution_count": 69,
   "id": "15172f18",
   "metadata": {},
   "outputs": [
    {
     "name": "stdout",
     "output_type": "stream",
     "text": [
      "Prime palindromic numbers up to 1000: [2, 3, 5, 7, 11, 101, 131, 151, 181, 191, 313, 353, 373, 383, 727, 757, 787, 797, 919, 929]\n"
     ]
    }
   ],
   "source": [
    "#40\n",
    "def is_prime(n):\n",
    "    if n <= 1:\n",
    "        return False\n",
    "    if n == 2:\n",
    "        return True\n",
    "    if n % 2 == 0:\n",
    "        return False\n",
    "    for i in range(3, int(n**0.5) + 1, 2):\n",
    "        if n % i == 0:\n",
    "            return False\n",
    "    return True\n",
    "prime_palindromes = [n for n in range(1, 1000) if is_prime(n) and str(n) == str(n)[::-1]]\n",
    "print(\"Prime palindromic numbers up to 1000:\", prime_palindromes)"
   ]
  }
 ],
 "metadata": {
  "kernelspec": {
   "display_name": "Python 3 (ipykernel)",
   "language": "python",
   "name": "python3"
  },
  "language_info": {
   "codemirror_mode": {
    "name": "ipython",
    "version": 3
   },
   "file_extension": ".py",
   "mimetype": "text/x-python",
   "name": "python",
   "nbconvert_exporter": "python",
   "pygments_lexer": "ipython3",
   "version": "3.11.3"
  }
 },
 "nbformat": 4,
 "nbformat_minor": 5
}
