{
 "cells": [
  {
   "cell_type": "markdown",
   "id": "ad6da1eb",
   "metadata": {},
   "source": [
    "# Assignment - Python"
   ]
  },
  {
   "cell_type": "markdown",
   "id": "fb87da6a",
   "metadata": {},
   "source": [
    "### For Loop:"
   ]
  },
  {
   "cell_type": "code",
   "execution_count": 1,
   "id": "5ecdc828",
   "metadata": {},
   "outputs": [
    {
     "name": "stdout",
     "output_type": "stream",
     "text": [
      "1\n",
      "2\n",
      "3\n",
      "4\n",
      "5\n",
      "6\n",
      "7\n",
      "8\n",
      "9\n",
      "10\n"
     ]
    }
   ],
   "source": [
    "#1\n",
    "for i in range(1,11):\n",
    "    print(i)"
   ]
  },
  {
   "cell_type": "code",
   "execution_count": 4,
   "id": "c2abaf1d",
   "metadata": {},
   "outputs": [],
   "source": [
    "#2\n",
    "#For loop: It iterates for a defined number of times.\n",
    "#For loop is used when you know how many times the loop should run.\n",
    "\n",
    "#While loop: It iterates until condition becomes false. \n",
    "#While loop is used when you don't know how many times the loop should run."
   ]
  },
  {
   "cell_type": "code",
   "execution_count": 5,
   "id": "3ce096c8",
   "metadata": {},
   "outputs": [
    {
     "name": "stdout",
     "output_type": "stream",
     "text": [
      "Sum: 5050\n"
     ]
    }
   ],
   "source": [
    "#3\n",
    "s=0\n",
    "for i in range(1,101):\n",
    "    s+=i\n",
    "print(f'Sum: {s}')"
   ]
  },
  {
   "cell_type": "code",
   "execution_count": 36,
   "id": "2c8e7eb1",
   "metadata": {},
   "outputs": [
    {
     "name": "stdout",
     "output_type": "stream",
     "text": [
      "Item: item1\n",
      "Item: item2\n",
      "Item: item3\n"
     ]
    }
   ],
   "source": [
    "#4\n",
    "List=['item1','item2','item3']\n",
    "for item in List:\n",
    "    #Code to process each item in the list\n",
    "    #You can use the 'item' variable to access the current element\n",
    "    print(f'Item: {item}')"
   ]
  },
  {
   "cell_type": "code",
   "execution_count": 11,
   "id": "de81eae0",
   "metadata": {},
   "outputs": [
    {
     "name": "stdout",
     "output_type": "stream",
     "text": [
      "Product: 24\n"
     ]
    }
   ],
   "source": [
    "#5\n",
    "p=1\n",
    "l=[1,2,3,4]\n",
    "for i in l:\n",
    "    p*=i\n",
    "print(f'Product: {p}')"
   ]
  },
  {
   "cell_type": "code",
   "execution_count": 12,
   "id": "c3921a2e",
   "metadata": {},
   "outputs": [
    {
     "name": "stdout",
     "output_type": "stream",
     "text": [
      "2\n",
      "4\n",
      "6\n",
      "8\n",
      "10\n",
      "12\n",
      "14\n",
      "16\n",
      "18\n",
      "20\n"
     ]
    }
   ],
   "source": [
    "#6\n",
    "for i in range(1,21):\n",
    "    if i%2==0:\n",
    "        print(i)"
   ]
  },
  {
   "cell_type": "code",
   "execution_count": 13,
   "id": "308451ee",
   "metadata": {},
   "outputs": [
    {
     "name": "stdout",
     "output_type": "stream",
     "text": [
      "Factorial: 24\n"
     ]
    }
   ],
   "source": [
    "#7\n",
    "n=4\n",
    "f=1\n",
    "for i in range(1,n+1):\n",
    "    f*=i\n",
    "print(f'Factorial: {f}')"
   ]
  },
  {
   "cell_type": "code",
   "execution_count": 37,
   "id": "bb00b325",
   "metadata": {},
   "outputs": [
    {
     "name": "stdout",
     "output_type": "stream",
     "text": [
      "Character: c\n",
      "Character: y\n",
      "Character: c\n",
      "Character: l\n",
      "Character: e\n"
     ]
    }
   ],
   "source": [
    "#8\n",
    "string=\"cycle\"\n",
    "for char in string:\n",
    "    #Code to process each char in the string\n",
    "    #You can use the 'char' variable to access the current element\n",
    "    print(f'Character: {char}')"
   ]
  },
  {
   "cell_type": "code",
   "execution_count": 17,
   "id": "e8c1994b",
   "metadata": {},
   "outputs": [
    {
     "name": "stdout",
     "output_type": "stream",
     "text": [
      "Largest: 8\n"
     ]
    }
   ],
   "source": [
    "#9\n",
    "l=[1,5,-9,2,8,2,-6]\n",
    "largest=l[0]\n",
    "for num in l:\n",
    "    if num>largest:\n",
    "        largest=num\n",
    "print(f'Largest: {largest}')"
   ]
  },
  {
   "cell_type": "code",
   "execution_count": 19,
   "id": "af57d42a",
   "metadata": {},
   "outputs": [
    {
     "name": "stdout",
     "output_type": "stream",
     "text": [
      "Enter the limit for the Fibonacci sequence: 7\n",
      "0\n",
      "1\n",
      "1\n",
      "2\n",
      "3\n",
      "5\n",
      "8\n"
     ]
    }
   ],
   "source": [
    "#10\n",
    "def print_fibonacci(limit):\n",
    "    a,b=0,1\n",
    "    print(a)\n",
    "    print(b)\n",
    "    for i in range(2,limit):\n",
    "        c=a+b\n",
    "        print(c)\n",
    "        a,b=b,c\n",
    "limit=int(input(\"Enter the limit for the Fibonacci sequence: \"))\n",
    "if limit<2:\n",
    "    print(\"The limit should be 2 or greater to print the Fibonacci sequence.\")\n",
    "else:\n",
    "    print_fibonacci(limit)"
   ]
  },
  {
   "cell_type": "code",
   "execution_count": 22,
   "id": "9f1274fa",
   "metadata": {},
   "outputs": [
    {
     "name": "stdout",
     "output_type": "stream",
     "text": [
      "Number of vowels: 3\n"
     ]
    }
   ],
   "source": [
    "#11\n",
    "string='Tornado'\n",
    "vow=['a','e','i','o','u']\n",
    "c=0\n",
    "lowerString=string.lower()\n",
    "for char in lowerString:\n",
    "    if char in vow:\n",
    "        c+=1\n",
    "print(f'Number of vowels: {c}')"
   ]
  },
  {
   "cell_type": "code",
   "execution_count": 27,
   "id": "9ebfc048",
   "metadata": {},
   "outputs": [
    {
     "name": "stdout",
     "output_type": "stream",
     "text": [
      "6 x 1 = 6\n",
      "6 x 2 = 12\n",
      "6 x 3 = 18\n",
      "6 x 4 = 24\n",
      "6 x 5 = 30\n",
      "6 x 6 = 36\n",
      "6 x 7 = 42\n",
      "6 x 8 = 48\n",
      "6 x 9 = 54\n",
      "6 x 10 = 60\n",
      "6 x 11 = 66\n",
      "6 x 12 = 72\n"
     ]
    }
   ],
   "source": [
    "#12\n",
    "n=6\n",
    "for i in range(1,13):\n",
    "    res=n*i\n",
    "    print(f'{n} x {i} = {res}')"
   ]
  },
  {
   "cell_type": "code",
   "execution_count": 29,
   "id": "6e73a91b",
   "metadata": {},
   "outputs": [
    {
     "name": "stdout",
     "output_type": "stream",
     "text": [
      "Original: [1, 2, 3, 4, 5]\n",
      "Reversed: [5, 4, 3, 2, 1]\n"
     ]
    }
   ],
   "source": [
    "#13\n",
    "def reverseList(List):\n",
    "    reversedList=[]\n",
    "    for i in range(len(List)-1,-1,-1):\n",
    "        reversedList.append(List[i])\n",
    "    return reversedList        \n",
    "l=[1,2,3,4,5]\n",
    "result=reverseList(l)\n",
    "print(f'Original: {l}')\n",
    "print(f'Reversed: {result}')"
   ]
  },
  {
   "cell_type": "code",
   "execution_count": 31,
   "id": "91690ea0",
   "metadata": {},
   "outputs": [
    {
     "name": "stdout",
     "output_type": "stream",
     "text": [
      "Common elements: [2, 4]\n"
     ]
    }
   ],
   "source": [
    "#14\n",
    "l1=[2,4,6,8]\n",
    "l2=[1,2,3,4,5]\n",
    "common=[]\n",
    "for e in l1:\n",
    "    if e in l2:\n",
    "        common.append(e)\n",
    "print(f'Common elements: {common}')"
   ]
  },
  {
   "cell_type": "code",
   "execution_count": 38,
   "id": "4202ea9e",
   "metadata": {},
   "outputs": [
    {
     "name": "stdout",
     "output_type": "stream",
     "text": [
      "Key: key1, Value: val1\n",
      "Key: key2, Value: val2\n"
     ]
    }
   ],
   "source": [
    "#15\n",
    "d={'key1':'val1','key2':'val2'}\n",
    "for key,value in d.items():\n",
    "    #Code to process each key-value pair in the dictionary\n",
    "    #You can use the 'key' and 'value' variables to access the current element\n",
    "    print(f'Key: {key}, Value: {value}')"
   ]
  },
  {
   "cell_type": "code",
   "execution_count": 42,
   "id": "06b068ec",
   "metadata": {},
   "outputs": [
    {
     "name": "stdout",
     "output_type": "stream",
     "text": [
      "Enter the first number: 6\n",
      "Enter the second number: 15\n",
      "The GCD of 6 and 15 is 3\n"
     ]
    }
   ],
   "source": [
    "#16\n",
    "def gcd(a,b):\n",
    "    while b:\n",
    "        a,b=b,a%b\n",
    "    return a\n",
    "num1=int(input(\"Enter the first number: \"))\n",
    "num2=int(input(\"Enter the second number: \"))\n",
    "result=gcd(num1,num2)\n",
    "print(f\"The GCD of {num1} and {num2} is {result}\")"
   ]
  },
  {
   "cell_type": "code",
   "execution_count": 43,
   "id": "3efd643d",
   "metadata": {},
   "outputs": [
    {
     "name": "stdout",
     "output_type": "stream",
     "text": [
      "'Step on no pets' is a palindrome.\n"
     ]
    }
   ],
   "source": [
    "#17\n",
    "def is_palindrome(string):\n",
    "    clean_string=string.replace(' ','').lower()\n",
    "    start=0\n",
    "    end=len(clean_string)-1\n",
    "    for i in range(len(clean_string)//2):\n",
    "        if clean_string[start]!=clean_string[end]:\n",
    "            return False\n",
    "        start+=1\n",
    "        end-=1\n",
    "    return True\n",
    "string='Step on no pets'\n",
    "if is_palindrome(string):\n",
    "    print(f\"'{string}' is a palindrome.\")\n",
    "else:\n",
    "    print(f\"'{string}' is not a palindrome.\")"
   ]
  },
  {
   "cell_type": "code",
   "execution_count": 44,
   "id": "7caaed19",
   "metadata": {},
   "outputs": [
    {
     "name": "stdout",
     "output_type": "stream",
     "text": [
      "After removing duplicates: [1, 2, 3, 4]\n"
     ]
    }
   ],
   "source": [
    "#18\n",
    "l=[1,2,2,3,4,2]\n",
    "unique=[]\n",
    "for i in l:\n",
    "    if i not in unique:\n",
    "        unique.append(i)\n",
    "print(f'After removing duplicates: {unique}')"
   ]
  },
  {
   "cell_type": "code",
   "execution_count": 51,
   "id": "559ae553",
   "metadata": {},
   "outputs": [
    {
     "name": "stdout",
     "output_type": "stream",
     "text": [
      "Word count: 3\n"
     ]
    }
   ],
   "source": [
    "#19\n",
    "sen=' Dogs love running'\n",
    "if len(sen)!=0:\n",
    "    c=1\n",
    "    for char in sen.strip():\n",
    "        if char==' ':\n",
    "            c+=1\n",
    "    print(f'Word count: {c}')\n",
    "else:\n",
    "    print(f'Word count: 0')"
   ]
  },
  {
   "cell_type": "code",
   "execution_count": 54,
   "id": "ca5bece9",
   "metadata": {},
   "outputs": [
    {
     "name": "stdout",
     "output_type": "stream",
     "text": [
      "Sum of odd numbers: 625\n"
     ]
    }
   ],
   "source": [
    "#20\n",
    "s=0\n",
    "for i in range(1,51,2):\n",
    "    s+=i\n",
    "print(f'Sum of odd numbers: {s}')"
   ]
  },
  {
   "cell_type": "code",
   "execution_count": 57,
   "id": "1dcdb607",
   "metadata": {},
   "outputs": [
    {
     "name": "stdout",
     "output_type": "stream",
     "text": [
      "2000 is a leap year.\n",
      "2004 is a leap year.\n",
      "2008 is a leap year.\n",
      "2010 is not a leap year.\n",
      "2020 is a leap year.\n",
      "2100 is not a leap year.\n"
     ]
    }
   ],
   "source": [
    "#21\n",
    "def is_leap_year(year):\n",
    "    if (year % 4 == 0 and year % 100 != 0) or (year % 400 == 0):\n",
    "        return True\n",
    "    else:\n",
    "        return False\n",
    "years_to_check = [2000, 2004, 2008, 2010, 2020, 2100]\n",
    "for year in years_to_check:\n",
    "    if is_leap_year(year):\n",
    "        print(f\"{year} is a leap year.\")\n",
    "    else:\n",
    "        print(f\"{year} is not a leap year.\")"
   ]
  },
  {
   "cell_type": "code",
   "execution_count": 61,
   "id": "aadc323f",
   "metadata": {},
   "outputs": [
    {
     "name": "stdout",
     "output_type": "stream",
     "text": [
      "Enter a number: 17\n",
      "The square root of 17.0 is approximately 4.12\n"
     ]
    }
   ],
   "source": [
    "#22\n",
    "def square_root(number, num_iterations=10):\n",
    "    guess = number / 2  \n",
    "    for i in range(num_iterations):\n",
    "        guess = (guess + number / guess) / 2\n",
    "    return guess\n",
    "number_to_sqrt = float(input(\"Enter a number: \"))\n",
    "iterations = 10\n",
    "result = square_root(number_to_sqrt, iterations)\n",
    "print(f\"The square root of {number_to_sqrt} is approximately {result:.2f}\")"
   ]
  },
  {
   "cell_type": "code",
   "execution_count": 62,
   "id": "b461cce8",
   "metadata": {},
   "outputs": [
    {
     "name": "stdout",
     "output_type": "stream",
     "text": [
      "Enter the first number: 2\n",
      "Enter the second number: 6\n",
      "The LCM of 2 and 6 is 6\n"
     ]
    }
   ],
   "source": [
    "#23\n",
    "def find_lcm(num1, num2):\n",
    "    max_num = max(num1, num2)\n",
    "    for i in range(max_num, num1 * num2 + 1):\n",
    "        if i % num1 == 0 and i % num2 == 0:\n",
    "            lcm = i\n",
    "            break \n",
    "    return lcm\n",
    "num1 = int(input(\"Enter the first number: \"))\n",
    "num2 = int(input(\"Enter the second number: \"))\n",
    "lcm = find_lcm(num1, num2)\n",
    "print(f\"The LCM of {num1} and {num2} is {lcm}\")"
   ]
  },
  {
   "cell_type": "markdown",
   "id": "3c8faed2",
   "metadata": {},
   "source": [
    "### If else:"
   ]
  },
  {
   "cell_type": "code",
   "execution_count": 4,
   "id": "42a004c9",
   "metadata": {},
   "outputs": [
    {
     "name": "stdout",
     "output_type": "stream",
     "text": [
      "-8 is negative\n"
     ]
    }
   ],
   "source": [
    "#1\n",
    "n=-8\n",
    "if n>0:\n",
    "    print(f'{n} is positive')\n",
    "elif n<0:\n",
    "    print(f'{n} is negative')\n",
    "else:\n",
    "    print(f'{n} is zero')"
   ]
  },
  {
   "cell_type": "code",
   "execution_count": 7,
   "id": "792cfe76",
   "metadata": {},
   "outputs": [
    {
     "name": "stdout",
     "output_type": "stream",
     "text": [
      "2 is even\n"
     ]
    }
   ],
   "source": [
    "#2\n",
    "n=2\n",
    "if n%2==0:\n",
    "    print(f'{n} is even')\n",
    "else:\n",
    "    print(f'{n} is odd')"
   ]
  },
  {
   "cell_type": "code",
   "execution_count": 9,
   "id": "22acf11d",
   "metadata": {},
   "outputs": [
    {
     "name": "stdout",
     "output_type": "stream",
     "text": [
      "Your grade is B\n"
     ]
    }
   ],
   "source": [
    "#3\n",
    "#In Python, you can use nested if-else statements to create more complex conditional logic by embedding \n",
    "#one if-else statement inside another. \n",
    "#This allows you to handle multiple conditions and execute different blocks of code based on those conditions.\n",
    "# Example: Determine the grade based on a student's score\n",
    "score=85\n",
    "if score>=90:\n",
    "    grade='A'\n",
    "else:\n",
    "    if score>=80:\n",
    "        grade='B'\n",
    "    else:\n",
    "        if score>=70:\n",
    "            grade='C'\n",
    "        else:\n",
    "            grade='F'\n",
    "print(f\"Your grade is {grade}\")"
   ]
  },
  {
   "cell_type": "code",
   "execution_count": 10,
   "id": "af4b37f1",
   "metadata": {},
   "outputs": [
    {
     "name": "stdout",
     "output_type": "stream",
     "text": [
      "7 is largest\n"
     ]
    }
   ],
   "source": [
    "#4\n",
    "a,b,c=5,7,6\n",
    "if a>b and a>c:\n",
    "    print(f'{a} is largest')\n",
    "else:\n",
    "    if b>a and b>c:\n",
    "        print(f'{b} is largest')\n",
    "    else:\n",
    "        print(f'{c} is largest')"
   ]
  },
  {
   "cell_type": "code",
   "execution_count": 12,
   "id": "eceeb545",
   "metadata": {},
   "outputs": [
    {
     "name": "stdout",
     "output_type": "stream",
     "text": [
      "5 is absolute value of -5\n"
     ]
    }
   ],
   "source": [
    "#5\n",
    "n=-5\n",
    "if n>=0:\n",
    "    print(f'{n} is absolute value of {n}')\n",
    "else:\n",
    "    print(f'{-n} is absolute value of {n}')"
   ]
  },
  {
   "cell_type": "code",
   "execution_count": 13,
   "id": "437e30af",
   "metadata": {},
   "outputs": [
    {
     "name": "stdout",
     "output_type": "stream",
     "text": [
      "I is a vowel\n"
     ]
    }
   ],
   "source": [
    "#6\n",
    "vow=['a','e','i','o','u']\n",
    "char='I'\n",
    "if char.lower() in vow:\n",
    "    print(f'{char} is a vowel')\n",
    "else:\n",
    "    print(f'{char} is a consonant')"
   ]
  },
  {
   "cell_type": "code",
   "execution_count": 14,
   "id": "fa5c44c2",
   "metadata": {},
   "outputs": [
    {
     "name": "stdout",
     "output_type": "stream",
     "text": [
      "Can vote\n"
     ]
    }
   ],
   "source": [
    "#7\n",
    "a=18\n",
    "if a>=18:\n",
    "    print('Can vote')\n",
    "else:\n",
    "    print('Can not vote')"
   ]
  },
  {
   "cell_type": "code",
   "execution_count": 17,
   "id": "62ab943e",
   "metadata": {},
   "outputs": [
    {
     "name": "stdout",
     "output_type": "stream",
     "text": [
      "563 is purchase amount\n",
      "506.7 is discounted amount\n"
     ]
    }
   ],
   "source": [
    "#8\n",
    "purchAmt=563\n",
    "if purchAmt>1000:\n",
    "    discount=purchAmt-(0.2*purchAmt)\n",
    "elif purchAmt>500:\n",
    "    discount=purchAmt-(0.1*purchAmt)\n",
    "else:\n",
    "    discount=purchAmt-(0.05*purchAmt)\n",
    "print(f'{purchAmt} is purchase amount')\n",
    "print(f'{discount} is discounted amount')"
   ]
  },
  {
   "cell_type": "code",
   "execution_count": 20,
   "id": "f98e118a",
   "metadata": {},
   "outputs": [
    {
     "name": "stdout",
     "output_type": "stream",
     "text": [
      "Range A\n"
     ]
    }
   ],
   "source": [
    "#9\n",
    "n=6\n",
    "if 2<=n<9:\n",
    "    print('Range A')\n",
    "else:\n",
    "    print('Not in range')"
   ]
  },
  {
   "cell_type": "code",
   "execution_count": 22,
   "id": "02560c24",
   "metadata": {},
   "outputs": [
    {
     "name": "stdout",
     "output_type": "stream",
     "text": [
      "Your grade is F\n"
     ]
    }
   ],
   "source": [
    "#10\n",
    "score=55\n",
    "if score>=90:\n",
    "    grade='A'\n",
    "else:\n",
    "    if score>=80:\n",
    "        grade='B'\n",
    "    else:\n",
    "        if score>=70:\n",
    "            grade='C'\n",
    "        else:\n",
    "            grade='F'\n",
    "print(f\"Your grade is {grade}\")"
   ]
  },
  {
   "cell_type": "code",
   "execution_count": 26,
   "id": "7affb917",
   "metadata": {},
   "outputs": [
    {
     "name": "stdout",
     "output_type": "stream",
     "text": [
      "\n",
      "Empty\n"
     ]
    }
   ],
   "source": [
    "#11\n",
    "string=input()\n",
    "if len(string)==0:\n",
    "    print('Empty')\n",
    "else:\n",
    "    print('Not empty')"
   ]
  },
  {
   "cell_type": "code",
   "execution_count": 27,
   "id": "183277fd",
   "metadata": {},
   "outputs": [
    {
     "name": "stdout",
     "output_type": "stream",
     "text": [
      "Side1: 5\n",
      "Side2: 5\n",
      "Side3: 5\n",
      "It is a Equilateral triangle\n"
     ]
    }
   ],
   "source": [
    "#12\n",
    "s1=float(input(\"Side1: \"))\n",
    "s2=float(input(\"Side2: \"))\n",
    "s3=float(input(\"Side3: \"))\n",
    "if (s1+s2>s3) and (s1+s3>s2) and (s2+s3>s1):\n",
    "    if s1==s2==s3:\n",
    "        typeT=\"Equilateral\"\n",
    "    elif s1==s2 or s1==s3 or s2==s3:\n",
    "        typeT=\"Isosceles\"\n",
    "    else:\n",
    "        typeT=\"Scalene\"\n",
    "    print(f\"It is a {typeT} triangle\")\n",
    "else:\n",
    "    print(\"It is not a triangle\")"
   ]
  },
  {
   "cell_type": "code",
   "execution_count": 28,
   "id": "97e93259",
   "metadata": {},
   "outputs": [
    {
     "name": "stdout",
     "output_type": "stream",
     "text": [
      "Enter day: 6\n",
      "Day 6 is Saturday.\n"
     ]
    }
   ],
   "source": [
    "#13\n",
    "d=int(input(\"Enter day: \"))\n",
    "if d==1:\n",
    "    name=\"Monday\"\n",
    "else:\n",
    "    if d==2:\n",
    "        name=\"Tuesday\"\n",
    "    else:\n",
    "        if d==3:\n",
    "            name=\"Wednesday\"\n",
    "        else:\n",
    "            if d==4:\n",
    "                name=\"Thursday\"\n",
    "            else:\n",
    "                if d==5:\n",
    "                    name=\"Friday\"\n",
    "                else:\n",
    "                    if d==6:\n",
    "                        name=\"Saturday\"\n",
    "                    else:\n",
    "                        if d==7:\n",
    "                            name=\"Sunday\"\n",
    "                        else:\n",
    "                            name=\"Invalid input\"\n",
    "print(f\"Day {d} is {name}.\")"
   ]
  },
  {
   "cell_type": "code",
   "execution_count": 34,
   "id": "952e56e0",
   "metadata": {},
   "outputs": [
    {
     "name": "stdout",
     "output_type": "stream",
     "text": [
      "Enter a year: 2024\n",
      "2024 is a leap year.\n"
     ]
    }
   ],
   "source": [
    "#14\n",
    "def is_leap_year(year):\n",
    "    '''Checks for leap year'''\n",
    "    if (year%4==0 and year%100!=0) or (year%400==0):\n",
    "        return True\n",
    "    else:\n",
    "        return False\n",
    "year = int(input(\"Enter a year: \"))\n",
    "if is_leap_year(year):\n",
    "    print(f\"{year} is a leap year.\")\n",
    "else:\n",
    "    print(f\"{year} is not a leap year.\")"
   ]
  },
  {
   "cell_type": "code",
   "execution_count": 1,
   "id": "cdec7933",
   "metadata": {},
   "outputs": [
    {
     "name": "stdout",
     "output_type": "stream",
     "text": [
      "x is within the valid range.\n"
     ]
    }
   ],
   "source": [
    "#15\n",
    "#In Python, you can use the \"assert\" statement to add debugging checks within if-else blocks by providing \n",
    "#a condition as the argument to \"assert.\" If the condition evaluates to False, the \"assert\" statement raises \n",
    "#an \"AssertionError\" exception, allowing you to catch and debug issues in your code.\n",
    "x=10\n",
    "if x>5:\n",
    "    assert x<20, \"x should be less than 20\"\n",
    "    print(\"x is within the valid range.\")\n",
    "else:\n",
    "    print(\"x is not greater than 5.\")"
   ]
  },
  {
   "cell_type": "code",
   "execution_count": 31,
   "id": "0fc44618",
   "metadata": {},
   "outputs": [
    {
     "name": "stdout",
     "output_type": "stream",
     "text": [
      "Eligible for a senior citizen discount\n"
     ]
    }
   ],
   "source": [
    "#16\n",
    "a=78\n",
    "if a>=60:\n",
    "    print('Eligible for a senior citizen discount')\n",
    "else:\n",
    "    print('Not eligible for a senior citizen discount')"
   ]
  },
  {
   "cell_type": "code",
   "execution_count": 36,
   "id": "f4651849",
   "metadata": {},
   "outputs": [
    {
     "name": "stdout",
     "output_type": "stream",
     "text": [
      "Enter single character: c\n",
      "c is lower case\n"
     ]
    }
   ],
   "source": [
    "#17\n",
    "char=input(\"Enter single character: \")\n",
    "if char.islower():\n",
    "    print(f'{char} is lower case')\n",
    "elif char.isupper():\n",
    "    print(f'{char} is upper case')\n",
    "else:\n",
    "    print(f'{char} is neither case')"
   ]
  },
  {
   "cell_type": "code",
   "execution_count": 38,
   "id": "bd1f313f",
   "metadata": {},
   "outputs": [
    {
     "name": "stdout",
     "output_type": "stream",
     "text": [
      "Enter the coefficient 'a': 4\n",
      "Enter the coefficient 'b': 11.5\n",
      "Enter the coefficient 'c': 3\n",
      "The roots are real and distinct: -0.29 and -2.58\n"
     ]
    }
   ],
   "source": [
    "#18\n",
    "a=float(input(\"Enter the coefficient 'a': \"))\n",
    "b=float(input(\"Enter the coefficient 'b': \"))\n",
    "c=float(input(\"Enter the coefficient 'c': \"))\n",
    "discriminant=b**2 - 4*a*c\n",
    "if discriminant > 0:\n",
    "    root1=(-b + (discriminant ** 0.5)) / (2 * a)\n",
    "    root2=(-b - (discriminant ** 0.5)) / (2 * a)\n",
    "    print(f\"The roots are real and distinct: {root1:.2f} and {root2:.2f}\")\n",
    "else:\n",
    "    if discriminant==0:\n",
    "        root1=-b / (2 * a)\n",
    "        print(f\"The root is real and repeated: {root1:.2f}\")\n",
    "    else:\n",
    "        print(\"The roots are complex\")"
   ]
  },
  {
   "cell_type": "code",
   "execution_count": 41,
   "id": "2ec1c762",
   "metadata": {},
   "outputs": [
    {
     "name": "stdout",
     "output_type": "stream",
     "text": [
      "Enter year: 2000\n",
      "2000 is a century year\n"
     ]
    }
   ],
   "source": [
    "#19\n",
    "year=int(input(\"Enter year: \"))\n",
    "if year%100==0:\n",
    "    typeY=\"century\"\n",
    "else:\n",
    "    typeY=\"not century\"\n",
    "print(f\"{year} is a {typeY} year\")"
   ]
  },
  {
   "cell_type": "code",
   "execution_count": 42,
   "id": "7bbb8cee",
   "metadata": {},
   "outputs": [
    {
     "name": "stdout",
     "output_type": "stream",
     "text": [
      "Enter a number: 9\n",
      "9 is a perfect square.\n"
     ]
    }
   ],
   "source": [
    "#20\n",
    "number=int(input(\"Enter a number: \"))\n",
    "is_perfect_square=False\n",
    "for i in range(1,int(number**0.5)+1):\n",
    "    if i*i==number:\n",
    "        is_perfect_square=True\n",
    "        break\n",
    "if is_perfect_square:\n",
    "    print(f\"{number} is a perfect square.\")\n",
    "else:\n",
    "    print(f\"{number} is not a perfect square.\")"
   ]
  },
  {
   "cell_type": "code",
   "execution_count": 43,
   "id": "a61a8247",
   "metadata": {},
   "outputs": [],
   "source": [
    "#21\n",
    "#Continue: is used to skip the current iteration of a loop and proceed to the next iteration.\n",
    "\n",
    "#Break:is used to exit a loop prematurely, terminating the loop entirely \n",
    "#and continuing with the code after the loop."
   ]
  },
  {
   "cell_type": "code",
   "execution_count": 44,
   "id": "e724e666",
   "metadata": {},
   "outputs": [
    {
     "name": "stdout",
     "output_type": "stream",
     "text": [
      "Enter weight in kilograms: 70\n",
      "Enter height in meters: 1.75\n",
      "The person's BMI is 22.86, which falls into the category of normal weight.\n"
     ]
    }
   ],
   "source": [
    "#22\n",
    "weight = float(input(\"Enter weight in kilograms: \"))\n",
    "height = float(input(\"Enter height in meters: \"))\n",
    "bmi = weight / (height ** 2)\n",
    "if bmi < 18.5:\n",
    "    category = \"underweight\"\n",
    "elif 18.5 <= bmi < 24.9:\n",
    "    category = \"normal weight\"\n",
    "elif 24.9 <= bmi < 29.9:\n",
    "    category = \"overweight\"\n",
    "else:\n",
    "    category = \"obese\"\n",
    "print(f\"The person's BMI is {bmi:.2f}, which falls into the category of {category}.\")"
   ]
  },
  {
   "cell_type": "code",
   "execution_count": 98,
   "id": "35fa8aed",
   "metadata": {},
   "outputs": [
    {
     "data": {
      "text/plain": [
       "[2, 4, 6]"
      ]
     },
     "execution_count": 98,
     "metadata": {},
     "output_type": "execute_result"
    }
   ],
   "source": [
    "#23\n",
    "#You can use if-else statements for the condition in the function that will be \n",
    "#used to filter elements from the list\n",
    "l=[1,2,3,4,5,6]\n",
    "list(filter(lambda x:x if x%2==0 else None,l))"
   ]
  },
  {
   "cell_type": "code",
   "execution_count": 48,
   "id": "22b074d6",
   "metadata": {},
   "outputs": [
    {
     "name": "stdout",
     "output_type": "stream",
     "text": [
      "Enter a number: 17\n",
      "17 is a prime number.\n"
     ]
    }
   ],
   "source": [
    "#24\n",
    "num=int(input(\"Enter a number: \"))\n",
    "if num<2:\n",
    "    is_prime=False\n",
    "else:\n",
    "    is_prime=True\n",
    "    for i in range(2,int(num**0.5)+1):\n",
    "        if num%i==0:\n",
    "            is_prime=False\n",
    "            break\n",
    "if is_prime:\n",
    "    print(f\"{num} is a prime number.\")\n",
    "else:\n",
    "    print(f\"{num} is not a prime number.\")"
   ]
  },
  {
   "cell_type": "markdown",
   "id": "676eba64",
   "metadata": {},
   "source": [
    "### Map:"
   ]
  },
  {
   "cell_type": "code",
   "execution_count": 49,
   "id": "9aca9bb0",
   "metadata": {},
   "outputs": [
    {
     "name": "stdout",
     "output_type": "stream",
     "text": [
      "[2, 4, 6, 8, 10]\n"
     ]
    }
   ],
   "source": [
    "#1\n",
    "#Map function is used to apply a specified function to each element of an iterable \n",
    "#and returns an iterable of the results.\n",
    "# Define a function to double a number\n",
    "def double(x):\n",
    "    return x*2\n",
    "numbers=[1,2,3,4,5]\n",
    "doubled_numbers=map(double,numbers)\n",
    "doubled_numbers_list=list(doubled_numbers)\n",
    "print(doubled_numbers_list)"
   ]
  },
  {
   "cell_type": "code",
   "execution_count": 50,
   "id": "0821e92a",
   "metadata": {},
   "outputs": [
    {
     "data": {
      "text/plain": [
       "[1, 4, 9, 16]"
      ]
     },
     "execution_count": 50,
     "metadata": {},
     "output_type": "execute_result"
    }
   ],
   "source": [
    "#2\n",
    "list(map(lambda x:x**2,[1,2,3,4]))"
   ]
  },
  {
   "cell_type": "code",
   "execution_count": 51,
   "id": "37f99915",
   "metadata": {},
   "outputs": [],
   "source": [
    "#3\n",
    "#The map() function applies a specified function to each element of an iterable and returns an \n",
    "#iterable of the results, whereas a list comprehension creates a new list by applying an expression to \n",
    "#each item in an existing iterable, allowing for more flexibility and complex transformations.\n",
    "\n",
    "#You would choose map() when you want to apply a specific function to each element of an iterable and return \n",
    "#an iterable of results, and you would choose a list comprehension when you want to create a new list with \n",
    "#potentially more complex expressions or filtering conditions based on an existing iterable."
   ]
  },
  {
   "cell_type": "code",
   "execution_count": 53,
   "id": "48fbf2bd",
   "metadata": {},
   "outputs": [
    {
     "data": {
      "text/plain": [
       "['MIKE', 'TIM', 'PETER']"
      ]
     },
     "execution_count": 53,
     "metadata": {},
     "output_type": "execute_result"
    }
   ],
   "source": [
    "#4\n",
    "list(map(lambda x:x.upper(),['mike','tim','peter']))"
   ]
  },
  {
   "cell_type": "code",
   "execution_count": 56,
   "id": "2271f2fb",
   "metadata": {},
   "outputs": [
    {
     "data": {
      "text/plain": [
       "[3, 5, 5]"
      ]
     },
     "execution_count": 56,
     "metadata": {},
     "output_type": "execute_result"
    }
   ],
   "source": [
    "#5\n",
    "list(map(lambda x:len(x),['bus','cycle','train']))"
   ]
  },
  {
   "cell_type": "code",
   "execution_count": 88,
   "id": "436b92d1",
   "metadata": {},
   "outputs": [
    {
     "name": "stdout",
     "output_type": "stream",
     "text": [
      "[5, 7, 9]\n"
     ]
    }
   ],
   "source": [
    "#6\n",
    "#You can use the `map()` function with a custom function and multiple lists as arguments to \n",
    "#apply that function to corresponding elements from each list simultaneously, returning an \n",
    "#iterator of the results.\n",
    "def custom_function(x, y):\n",
    "    return x + y\n",
    "list1 = [1, 2, 3]\n",
    "list2 = [4, 5, 6]\n",
    "result = list(map(custom_function, list1, list2))\n",
    "print(result)"
   ]
  },
  {
   "cell_type": "code",
   "execution_count": 59,
   "id": "9c13ef41",
   "metadata": {},
   "outputs": [
    {
     "data": {
      "text/plain": [
       "[82.4, 95.0, 104.0]"
      ]
     },
     "execution_count": 59,
     "metadata": {},
     "output_type": "execute_result"
    }
   ],
   "source": [
    "#7\n",
    "c=[28,35,40]\n",
    "list(map(lambda x:(x*(9/5)+32),c))"
   ]
  },
  {
   "cell_type": "code",
   "execution_count": 61,
   "id": "9e90367c",
   "metadata": {},
   "outputs": [
    {
     "data": {
      "text/plain": [
       "[4, 4, 9, 3]"
      ]
     },
     "execution_count": 61,
     "metadata": {},
     "output_type": "execute_result"
    }
   ],
   "source": [
    "#8\n",
    "l=[4.12,3.6,9.13,2.78]\n",
    "list(map(lambda x:round(x),l))"
   ]
  },
  {
   "cell_type": "markdown",
   "id": "29d77cb2",
   "metadata": {},
   "source": [
    "### Reduce:"
   ]
  },
  {
   "cell_type": "code",
   "execution_count": 64,
   "id": "1815680f",
   "metadata": {},
   "outputs": [
    {
     "name": "stdout",
     "output_type": "stream",
     "text": [
      "Cumulative product: 24\n"
     ]
    }
   ],
   "source": [
    "#1\n",
    "#The reduce() function in Python is used for reducing a sequence of elements to a single cumulative result by \n",
    "#applying a specified function cumulatively to the items of an iterable (e.g., a list or tuple) from left to \n",
    "#right. It's part of the functools module, so you need to import this module to use reduce().\n",
    "from functools import reduce\n",
    "nums=[1,2,3,4]\n",
    "def mul(a,b):\n",
    "    return a*b\n",
    "res=reduce(mul,nums)\n",
    "print(f'Cumulative product: {res}')"
   ]
  },
  {
   "cell_type": "code",
   "execution_count": 69,
   "id": "9404c9a7",
   "metadata": {},
   "outputs": [
    {
     "data": {
      "text/plain": [
       "48"
      ]
     },
     "execution_count": 69,
     "metadata": {},
     "output_type": "execute_result"
    }
   ],
   "source": [
    "#2\n",
    "l=[2,4,6]\n",
    "reduce(lambda a,b:a*b,l)"
   ]
  },
  {
   "cell_type": "code",
   "execution_count": 71,
   "id": "a5346f93",
   "metadata": {},
   "outputs": [
    {
     "data": {
      "text/plain": [
       "9"
      ]
     },
     "execution_count": 71,
     "metadata": {},
     "output_type": "execute_result"
    }
   ],
   "source": [
    "#3\n",
    "l=[3,7,3,8,0,9,1]\n",
    "reduce(lambda a,b:a if a>b else b,l)"
   ]
  },
  {
   "cell_type": "code",
   "execution_count": 73,
   "id": "bcb26773",
   "metadata": {},
   "outputs": [
    {
     "data": {
      "text/plain": [
       "'carbikescooter'"
      ]
     },
     "execution_count": 73,
     "metadata": {},
     "output_type": "execute_result"
    }
   ],
   "source": [
    "#4\n",
    "#Use a function that combines two strings and then apply this \n",
    "#function cumulatively to the elements of the list.\n",
    "l=['car','bike','scooter']\n",
    "reduce(lambda a,b:a+b,l)"
   ]
  },
  {
   "cell_type": "code",
   "execution_count": 88,
   "id": "9ea83ad2",
   "metadata": {},
   "outputs": [
    {
     "data": {
      "text/plain": [
       "120"
      ]
     },
     "execution_count": 88,
     "metadata": {},
     "output_type": "execute_result"
    }
   ],
   "source": [
    "#5\n",
    "num=5\n",
    "fact=reduce(lambda a,b:a*b,range(1,num+1))\n",
    "fact"
   ]
  },
  {
   "cell_type": "code",
   "execution_count": 90,
   "id": "6b8c3d88",
   "metadata": {},
   "outputs": [
    {
     "name": "stdout",
     "output_type": "stream",
     "text": [
      "Enter a list of numbers separated by spaces: 3 15 21\n",
      "The GCD of the numbers is: 3\n"
     ]
    }
   ],
   "source": [
    "#6\n",
    "def gcd(x,y):\n",
    "    while y!=0:\n",
    "        x,y=y,x%y\n",
    "    return x\n",
    "numbers=list(map(int,input(\"Enter a list of numbers separated by spaces: \").split()))\n",
    "gcd_result=reduce(gcd,numbers)\n",
    "print(\"The GCD of the numbers is:\", gcd_result)"
   ]
  },
  {
   "cell_type": "code",
   "execution_count": 81,
   "id": "80ae7086",
   "metadata": {},
   "outputs": [
    {
     "data": {
      "text/plain": [
       "18"
      ]
     },
     "execution_count": 81,
     "metadata": {},
     "output_type": "execute_result"
    }
   ],
   "source": [
    "#7\n",
    "num=756\n",
    "reduce(lambda a,b:int(a)+int(b),str(num))"
   ]
  },
  {
   "cell_type": "markdown",
   "id": "abcbbad9",
   "metadata": {},
   "source": [
    "### Filter:"
   ]
  },
  {
   "cell_type": "code",
   "execution_count": 92,
   "id": "3a708bac",
   "metadata": {},
   "outputs": [
    {
     "data": {
      "text/plain": [
       "[2, 4, 6, 8]"
      ]
     },
     "execution_count": 92,
     "metadata": {},
     "output_type": "execute_result"
    }
   ],
   "source": [
    "#1\n",
    "#The filter() function in Python is used to filter elements from an iterable (e.g., a list) based on \n",
    "#a specified condition, returning only those elements that satisfy the condition.\n",
    "numbers=[1,2,3,4,5,6,7,8,9]\n",
    "even_numbers=list(filter(lambda x:x%2==0,numbers))\n",
    "even_numbers"
   ]
  },
  {
   "cell_type": "code",
   "execution_count": 93,
   "id": "c55eadea",
   "metadata": {},
   "outputs": [
    {
     "data": {
      "text/plain": [
       "[2, 4, 6, 8]"
      ]
     },
     "execution_count": 93,
     "metadata": {},
     "output_type": "execute_result"
    }
   ],
   "source": [
    "#2\n",
    "numbers=[1,2,3,4,5,6,7,8,9]\n",
    "even_numbers=list(filter(lambda x:x%2==0,numbers))\n",
    "even_numbers"
   ]
  },
  {
   "cell_type": "code",
   "execution_count": 95,
   "id": "922bbc0e",
   "metadata": {},
   "outputs": [
    {
     "data": {
      "text/plain": [
       "['elderberry']"
      ]
     },
     "execution_count": 95,
     "metadata": {},
     "output_type": "execute_result"
    }
   ],
   "source": [
    "#3\n",
    "strings=[\"apple\",\"banana\",\"cherry\",\"date\",\"elderberry\"]\n",
    "list(filter(lambda s:s[0]=='e',strings))"
   ]
  },
  {
   "cell_type": "code",
   "execution_count": 97,
   "id": "4b5f66e8",
   "metadata": {},
   "outputs": [
    {
     "name": "stdout",
     "output_type": "stream",
     "text": [
      "Enter a list of integers separated by spaces: 1 2 3 4 5\n",
      "Prime numbers in the list: [2, 3, 5]\n"
     ]
    }
   ],
   "source": [
    "#4\n",
    "def is_prime(n):\n",
    "    if n <= 1:\n",
    "        return False\n",
    "    elif n == 2:\n",
    "        return True\n",
    "    elif n % 2 == 0:\n",
    "        return False\n",
    "    else:\n",
    "        for i in range(3, int(n**0.5) + 1, 2):\n",
    "            if n % i == 0:\n",
    "                return False\n",
    "        return True\n",
    "numbers = list(map(int, input(\"Enter a list of integers separated by spaces: \").split()))\n",
    "prime_numbers = list(filter(is_prime, numbers))\n",
    "print(\"Prime numbers in the list:\", prime_numbers)"
   ]
  },
  {
   "cell_type": "code",
   "execution_count": 99,
   "id": "a38bbe6d",
   "metadata": {},
   "outputs": [
    {
     "data": {
      "text/plain": [
       "[1, 'car', 2]"
      ]
     },
     "execution_count": 99,
     "metadata": {},
     "output_type": "execute_result"
    }
   ],
   "source": [
    "#5\n",
    "l=[1,None,'car',None,2]\n",
    "list(filter(lambda x:x!=None,l))"
   ]
  },
  {
   "cell_type": "code",
   "execution_count": 100,
   "id": "977319bd",
   "metadata": {},
   "outputs": [
    {
     "data": {
      "text/plain": [
       "['banana', 'cherry', 'elderberry']"
      ]
     },
     "execution_count": 100,
     "metadata": {},
     "output_type": "execute_result"
    }
   ],
   "source": [
    "#6\n",
    "strings=[\"apple\",\"banana\",\"cherry\",\"date\",\"elderberry\"]\n",
    "minLength=6\n",
    "list(filter(lambda x:len(x)>=minLength,strings))"
   ]
  },
  {
   "cell_type": "code",
   "execution_count": 104,
   "id": "5074f46b",
   "metadata": {},
   "outputs": [
    {
     "data": {
      "text/plain": [
       "[4, 5, 6, 7, 8]"
      ]
     },
     "execution_count": 104,
     "metadata": {},
     "output_type": "execute_result"
    }
   ],
   "source": [
    "#7\n",
    "val=[1,2,3,4,5,6,7,8]\n",
    "minVal=4\n",
    "list(filter(lambda x:x>=minVal,val))"
   ]
  },
  {
   "cell_type": "markdown",
   "id": "3475f599",
   "metadata": {},
   "source": [
    "### Recursion:"
   ]
  },
  {
   "cell_type": "code",
   "execution_count": 2,
   "id": "1c3f5d9f",
   "metadata": {},
   "outputs": [],
   "source": [
    "#1\n",
    "#Recursion in Python is a programming technique where a function calls itself to solve a problem. \n",
    "#It involves breaking down a complex problem into smaller, similar subproblems and solving them \n",
    "#recursively until a base case is reached. Recursion differs from iteration in that it uses \n",
    "#function calls and a call stack to manage the flow of execution, while iteration relies on loops to repeat \n",
    "#a block of code until a certain condition is met."
   ]
  },
  {
   "cell_type": "code",
   "execution_count": 6,
   "id": "75f96b76",
   "metadata": {},
   "outputs": [
    {
     "data": {
      "text/plain": [
       "5040"
      ]
     },
     "execution_count": 6,
     "metadata": {},
     "output_type": "execute_result"
    }
   ],
   "source": [
    "#2\n",
    "def fact(n):\n",
    "    if n<=1:\n",
    "        return 1\n",
    "    else:\n",
    "        return n*fact(n-1)\n",
    "fact(7)"
   ]
  },
  {
   "cell_type": "code",
   "execution_count": 9,
   "id": "b6a67627",
   "metadata": {},
   "outputs": [
    {
     "data": {
      "text/plain": [
       "13"
      ]
     },
     "execution_count": 9,
     "metadata": {},
     "output_type": "execute_result"
    }
   ],
   "source": [
    "#3\n",
    "def fib(n):\n",
    "    if n<=1:\n",
    "        return n\n",
    "    else:\n",
    "        return fib(n-1)+fib(n-2)\n",
    "fib(7)"
   ]
  },
  {
   "cell_type": "code",
   "execution_count": 11,
   "id": "c554a0da",
   "metadata": {},
   "outputs": [
    {
     "data": {
      "text/plain": [
       "15"
      ]
     },
     "execution_count": 11,
     "metadata": {},
     "output_type": "execute_result"
    }
   ],
   "source": [
    "#4\n",
    "def sumOfList(l):\n",
    "    if not l:\n",
    "        return 0\n",
    "    else:\n",
    "        return l[0]+sumOfList(l[1:])\n",
    "l=[1,2,3,4,5]\n",
    "sumOfList(l)"
   ]
  },
  {
   "cell_type": "code",
   "execution_count": 12,
   "id": "0167f823",
   "metadata": {},
   "outputs": [],
   "source": [
    "#5\n",
    "#You can prevent a recursive function from running indefinitely and causing a stack overflow error by \n",
    "#ensuring that there is a well-defined base case that will eventually be reached, terminating the recursion."
   ]
  },
  {
   "cell_type": "code",
   "execution_count": 13,
   "id": "7547c289",
   "metadata": {},
   "outputs": [
    {
     "name": "stdout",
     "output_type": "stream",
     "text": [
      "The GCD of 48 and 18 is 6\n"
     ]
    }
   ],
   "source": [
    "#6\n",
    "def gcd(a, b):\n",
    "    if b == 0:\n",
    "        return a\n",
    "    else:\n",
    "        return gcd(b, a % b)\n",
    "num1 = 48\n",
    "num2 = 18\n",
    "result = gcd(num1, num2)\n",
    "print(f\"The GCD of {num1} and {num2} is {result}\")"
   ]
  },
  {
   "cell_type": "code",
   "execution_count": 16,
   "id": "b956ffac",
   "metadata": {},
   "outputs": [
    {
     "data": {
      "text/plain": [
       "'olleH'"
      ]
     },
     "execution_count": 16,
     "metadata": {},
     "output_type": "execute_result"
    }
   ],
   "source": [
    "#7\n",
    "def revStr(s):\n",
    "    if len(s)==0:\n",
    "        return s\n",
    "    else:\n",
    "        return revStr(s[1:])+s[0]\n",
    "s='Hello'\n",
    "revStr(s)"
   ]
  },
  {
   "cell_type": "code",
   "execution_count": 17,
   "id": "f025cd5f",
   "metadata": {},
   "outputs": [
    {
     "name": "stdout",
     "output_type": "stream",
     "text": [
      "2^3 = 8\n"
     ]
    }
   ],
   "source": [
    "#8\n",
    "def power(x, n):\n",
    "    if n == 0:\n",
    "        return 1\n",
    "    elif n == 1:\n",
    "        return x\n",
    "    else:\n",
    "        if n % 2 == 0:\n",
    "            half_power = power(x, n // 2)\n",
    "            return half_power * half_power\n",
    "        else:\n",
    "            return x * power(x, n - 1)\n",
    "x = 2\n",
    "n = 3\n",
    "result = power(x, n)\n",
    "print(f\"{x}^{n} = {result}\")  "
   ]
  },
  {
   "cell_type": "code",
   "execution_count": 20,
   "id": "e55fdfe0",
   "metadata": {},
   "outputs": [
    {
     "name": "stdout",
     "output_type": "stream",
     "text": [
      "dog\n",
      "dgo\n",
      "odg\n",
      "ogd\n",
      "gdo\n",
      "god\n"
     ]
    }
   ],
   "source": [
    "#9\n",
    "def get_permutations(input_str):\n",
    "    if len(input_str) == 1:\n",
    "        return [input_str]\n",
    "    permutations = []\n",
    "    for i, char in enumerate(input_str):\n",
    "        remaining_chars = input_str[:i] + input_str[i + 1:]\n",
    "        sub_permutations = get_permutations(remaining_chars)\n",
    "        for sub_permutation in sub_permutations:\n",
    "            permutations.append(char + sub_permutation)\n",
    "    return permutations\n",
    "input_str = \"dog\"\n",
    "result = get_permutations(input_str)\n",
    "for perm in result:\n",
    "    print(perm)"
   ]
  },
  {
   "cell_type": "code",
   "execution_count": 22,
   "id": "cbd8a995",
   "metadata": {},
   "outputs": [
    {
     "name": "stdout",
     "output_type": "stream",
     "text": [
      "True\n",
      "False\n"
     ]
    }
   ],
   "source": [
    "#10\n",
    "def is_palindrome(input_str):\n",
    "    if len(input_str) <= 1:\n",
    "        return True\n",
    "    if input_str[0] != input_str[-1]:\n",
    "        return False\n",
    "    return is_palindrome(input_str[1:-1])\n",
    "input_str1 = \"racecar\"\n",
    "input_str2 = \"hello\"\n",
    "print(is_palindrome(input_str1))  \n",
    "print(is_palindrome(input_str2))  "
   ]
  },
  {
   "cell_type": "code",
   "execution_count": 5,
   "id": "3a367a14",
   "metadata": {},
   "outputs": [
    {
     "name": "stdout",
     "output_type": "stream",
     "text": [
      "[3, 4]\n",
      "[2, 4]\n",
      "[2, 3]\n",
      "[1, 4]\n",
      "[1, 3]\n",
      "[1, 2]\n"
     ]
    }
   ],
   "source": [
    "#11\n",
    "def generate_combinations(elements,k):\n",
    "    if k==0:\n",
    "        return [[]]\n",
    "    if len(elements)==0:\n",
    "        return []\n",
    "    head,tail=elements[0],elements[1:]\n",
    "    without_head=generate_combinations(tail,k)\n",
    "    with_head=[[head]+combo for combo in generate_combinations(tail,k-1)]\n",
    "    return without_head+with_head\n",
    "my_list=[1,2,3,4]\n",
    "k=2 \n",
    "combinations=generate_combinations(my_list,k)\n",
    "for combo in combinations:\n",
    "    print(combo)"
   ]
  },
  {
   "cell_type": "markdown",
   "id": "47fb34ff",
   "metadata": {},
   "source": [
    "### Basics of Functions:"
   ]
  },
  {
   "cell_type": "code",
   "execution_count": 32,
   "id": "42dec965",
   "metadata": {},
   "outputs": [],
   "source": [
    "#1\n",
    "#In Python, a function is a reusable block of code that performs a specific task or set of tasks. \n",
    "#It is used to modularize and organize code, making it easier to understand, maintain, and reuse, by \n",
    "#encapsulating functionality into named units that can be called with specific inputs (arguments) \n",
    "#and can return results (return values) as needed."
   ]
  },
  {
   "cell_type": "code",
   "execution_count": 33,
   "id": "b6e0b9c0",
   "metadata": {},
   "outputs": [
    {
     "name": "stdout",
     "output_type": "stream",
     "text": [
      "8\n"
     ]
    }
   ],
   "source": [
    "#2\n",
    "#In Python, you can define a function using the def keyword followed by the function name, parentheses \n",
    "#for specifying parameters (if any), a colon, and an indented block of code that defines \n",
    "#the function's behavior.\n",
    "def add_numbers(a,b):\n",
    "    result=a+b\n",
    "    return result\n",
    "sum_result=add_numbers(5,3)\n",
    "print(sum_result)  "
   ]
  },
  {
   "cell_type": "code",
   "execution_count": 34,
   "id": "6f59f45a",
   "metadata": {},
   "outputs": [],
   "source": [
    "#3\n",
    "#A function definition in Python specifies the structure and behavior of a function, including its \n",
    "#name, parameters, and code, while a function call is the actual execution of the function with \n",
    "#specific arguments to perform its defined task and potentially return a result."
   ]
  },
  {
   "cell_type": "code",
   "execution_count": 35,
   "id": "49cc71ec",
   "metadata": {},
   "outputs": [
    {
     "name": "stdout",
     "output_type": "stream",
     "text": [
      "8\n"
     ]
    }
   ],
   "source": [
    "#4\n",
    "def add_numbers(a,b):\n",
    "    result=a+b\n",
    "    return result\n",
    "sum_result=add_numbers(5,3)\n",
    "print(sum_result)  "
   ]
  },
  {
   "cell_type": "code",
   "execution_count": 36,
   "id": "29069247",
   "metadata": {},
   "outputs": [],
   "source": [
    "#5\n",
    "#A function signature in programming typically includes the function's name, the number and types of \n",
    "#its parameters (including their names), and its return type, providing essential information about how \n",
    "#the function should be used and what it returns."
   ]
  },
  {
   "cell_type": "code",
   "execution_count": 39,
   "id": "5d2bdc9a",
   "metadata": {},
   "outputs": [
    {
     "data": {
      "text/plain": [
       "14"
      ]
     },
     "execution_count": 39,
     "metadata": {},
     "output_type": "execute_result"
    }
   ],
   "source": [
    "#6\n",
    "def prod(a,b):\n",
    "    '''Takes two arguments and returns their product'''\n",
    "    c=a*b\n",
    "    return c\n",
    "prod(2,7)"
   ]
  },
  {
   "cell_type": "markdown",
   "id": "b1c78951",
   "metadata": {},
   "source": [
    "### Function Parameters and Arguments:"
   ]
  },
  {
   "cell_type": "code",
   "execution_count": 40,
   "id": "a166a2bd",
   "metadata": {},
   "outputs": [],
   "source": [
    "#1\n",
    "#Formal parameters in Python functions are placeholders for values that a function expects to \n",
    "#receive as input, defined in the function's parameter list, while actual arguments are the real \n",
    "#values or expressions provided when calling the function, which are then assigned to the formal \n",
    "#parameters during execution."
   ]
  },
  {
   "cell_type": "code",
   "execution_count": 43,
   "id": "913ca8f5",
   "metadata": {},
   "outputs": [
    {
     "name": "stdout",
     "output_type": "stream",
     "text": [
      "Hi Steve\n"
     ]
    }
   ],
   "source": [
    "#2\n",
    "def greet(name='Steve'):\n",
    "    print(f'Hi {name}')\n",
    "greet()"
   ]
  },
  {
   "cell_type": "code",
   "execution_count": 46,
   "id": "7af009cb",
   "metadata": {},
   "outputs": [
    {
     "name": "stdout",
     "output_type": "stream",
     "text": [
      "Name: Alice\n",
      "Age: 30\n",
      "City: New York\n"
     ]
    }
   ],
   "source": [
    "#3\n",
    "#In Python, you can use keyword arguments to specify arguments by parameter name when calling a function. \n",
    "#This allows you to provide arguments out of order and makes your code more readable.\n",
    "def display_info(name,age,city):\n",
    "    print(f\"Name: {name}\")\n",
    "    print(f\"Age: {age}\")\n",
    "    print(f\"City: {city}\")\n",
    "display_info(age=30,name=\"Alice\",city=\"New York\")"
   ]
  },
  {
   "cell_type": "code",
   "execution_count": 49,
   "id": "e3051187",
   "metadata": {},
   "outputs": [
    {
     "data": {
      "text/plain": [
       "8"
      ]
     },
     "execution_count": 49,
     "metadata": {},
     "output_type": "execute_result"
    }
   ],
   "source": [
    "#4\n",
    "def Sum(*nums):\n",
    "    t=0\n",
    "    for num in nums:\n",
    "        t+=num\n",
    "    return t\n",
    "Sum(1,2,5)"
   ]
  },
  {
   "cell_type": "code",
   "execution_count": 51,
   "id": "c4649d9b",
   "metadata": {},
   "outputs": [],
   "source": [
    "#5\n",
    "#The *args syntax in a function parameter list allows you to pass a variable number of non-keyword \n",
    "#arguments to the function, which are then collected into a tuple. \n",
    "\n",
    "#The **kwargs syntax allows you to pass a variable number of keyword arguments to the function, \n",
    "#which are collected into a dictionary. These features provide flexibility when defining functions \n",
    "#that can accept different numbers of arguments without explicitly specifying them in the function signature."
   ]
  },
  {
   "cell_type": "markdown",
   "id": "acfcde37",
   "metadata": {},
   "source": [
    "### Return Values and Scoping:"
   ]
  },
  {
   "cell_type": "code",
   "execution_count": 53,
   "id": "98135d5b",
   "metadata": {},
   "outputs": [
    {
     "name": "stdout",
     "output_type": "stream",
     "text": [
      "7\n",
      "False\n"
     ]
    }
   ],
   "source": [
    "#1\n",
    "#The return statement in Python functions is used to specify the value or values that the function \n",
    "#should produce as its output. It essentially sends a result back to the caller of the function, \n",
    "#allowing you to use the computed value(s) in other parts of your code.\n",
    "def add(a, b):\n",
    "    result = a + b\n",
    "    return result\n",
    "sum_result = add(3, 4)\n",
    "print(sum_result)  # Output: 7\n",
    "#---------------------------------------\n",
    "def is_even(num):\n",
    "    if num % 2 == 0:\n",
    "        return True\n",
    "    else:\n",
    "        return False\n",
    "result = is_even(7)\n",
    "print(result)  # Output: False"
   ]
  },
  {
   "cell_type": "code",
   "execution_count": 54,
   "id": "a4b48afb",
   "metadata": {},
   "outputs": [],
   "source": [
    "#2\n",
    "#Variable scope in Python refers to the region of code where a variable is accessible and can be used. \n",
    "#Local variables are defined within a specific function and can only be accessed within that function's \n",
    "#block of code, while global variables are declared outside of any function and can be accessed from \n",
    "#anywhere in the code, both inside and outside functions."
   ]
  },
  {
   "cell_type": "code",
   "execution_count": 68,
   "id": "cf620e8b",
   "metadata": {},
   "outputs": [
    {
     "name": "stdout",
     "output_type": "stream",
     "text": [
      "Inside the function: global_var = 10\n",
      "Outside the function: global_var = 10\n"
     ]
    }
   ],
   "source": [
    "#3\n",
    "global_var = 10\n",
    "def use_global_variable():\n",
    "    global global_var\n",
    "    print(\"Inside the function: global_var =\", global_var)\n",
    "use_global_variable()\n",
    "print(\"Outside the function: global_var =\", global_var)"
   ]
  },
  {
   "cell_type": "code",
   "execution_count": 58,
   "id": "f5e1c37a",
   "metadata": {},
   "outputs": [
    {
     "data": {
      "text/plain": [
       "120"
      ]
     },
     "execution_count": 58,
     "metadata": {},
     "output_type": "execute_result"
    }
   ],
   "source": [
    "#4\n",
    "def fact(n):\n",
    "    if n<=1:\n",
    "        return 1\n",
    "    else:\n",
    "        return n*fact(n-1)\n",
    "fact(5)"
   ]
  },
  {
   "cell_type": "code",
   "execution_count": 70,
   "id": "e2825215",
   "metadata": {},
   "outputs": [
    {
     "name": "stdout",
     "output_type": "stream",
     "text": [
      "Inside the function: global_var = 11\n",
      "Outside the function: global_var = 11\n"
     ]
    }
   ],
   "source": [
    "#5\n",
    "#To access variables defined outside a function from within the function in Python, \n",
    "#you can use the global keyword or simply reference the variable without redefining it. \n",
    "global_var = 10\n",
    "def use_global_variable():\n",
    "    global global_var #Have to type global in order to manipulate the variable\n",
    "    global_var+=1\n",
    "    print(\"Inside the function: global_var =\", global_var)\n",
    "use_global_variable()\n",
    "print(\"Outside the function: global_var =\", global_var)"
   ]
  },
  {
   "cell_type": "markdown",
   "id": "f57a13c6",
   "metadata": {},
   "source": [
    "### Lambda Functions and Higher-Order Functions:"
   ]
  },
  {
   "cell_type": "code",
   "execution_count": 71,
   "id": "f5c5df95",
   "metadata": {},
   "outputs": [],
   "source": [
    "#1\n",
    "#Lambda functions in Python, also known as anonymous functions, are small, inline functions \n",
    "#that are defined using the lambda keyword. They are typically used for simple, one-line operations \n",
    "#and are commonly employed in situations where a small function is needed temporarily, such as \n",
    "#when passing a function as an argument to a higher-order function like map, filter, or sorted."
   ]
  },
  {
   "cell_type": "code",
   "execution_count": 74,
   "id": "de64e572",
   "metadata": {},
   "outputs": [
    {
     "data": {
      "text/plain": [
       "[(1, 2, 3), (2, 4, 6), (3, 6, 9)]"
      ]
     },
     "execution_count": 74,
     "metadata": {},
     "output_type": "execute_result"
    }
   ],
   "source": [
    "#2\n",
    "l=[(2,4,6),(1,2,3),(3,6,9)]\n",
    "sorted(l,key=lambda x:x[1])"
   ]
  },
  {
   "cell_type": "code",
   "execution_count": 75,
   "id": "08ccb8a4",
   "metadata": {},
   "outputs": [
    {
     "name": "stdout",
     "output_type": "stream",
     "text": [
      "25\n"
     ]
    }
   ],
   "source": [
    "#3\n",
    "#Higher-order functions in Python are functions that can take other functions as arguments, \n",
    "#return functions as results, or both.\n",
    "# A higher-order function that takes a function as an argument\n",
    "def apply(func, value):\n",
    "    return func(value)\n",
    "def square(x):\n",
    "    return x ** 2\n",
    "result = apply(square, 5)  \n",
    "print(result)  "
   ]
  },
  {
   "cell_type": "code",
   "execution_count": 77,
   "id": "95eeb2b5",
   "metadata": {},
   "outputs": [
    {
     "name": "stdout",
     "output_type": "stream",
     "text": [
      "[2, 4, 6, 8, 10]\n"
     ]
    }
   ],
   "source": [
    "#4\n",
    "def apply_function_to_list(lst, func):\n",
    "    result = []\n",
    "    for item in lst:\n",
    "        result.append(func(item))\n",
    "    return result\n",
    "numbers = [1, 2, 3, 4, 5]\n",
    "def double(x):\n",
    "    return x * 2\n",
    "doubled_numbers = apply_function_to_list(numbers, double)\n",
    "print(doubled_numbers)  "
   ]
  },
  {
   "cell_type": "markdown",
   "id": "4f1f68ef",
   "metadata": {},
   "source": [
    "### Built-in Functions:"
   ]
  },
  {
   "cell_type": "code",
   "execution_count": 78,
   "id": "c5c95673",
   "metadata": {},
   "outputs": [],
   "source": [
    "#1\n",
    "#Built-in functions in Python are pre-defined, reusable blocks of code that perform specific tasks or \n",
    "#operations, enhancing the language's functionality and enabling programmers to accomplish various tasks \n",
    "#more efficiently. "
   ]
  },
  {
   "cell_type": "code",
   "execution_count": 80,
   "id": "47c40a5d",
   "metadata": {},
   "outputs": [
    {
     "data": {
      "text/plain": [
       "[2, 3, 4, 5, 6]"
      ]
     },
     "execution_count": 80,
     "metadata": {},
     "output_type": "execute_result"
    }
   ],
   "source": [
    "#2\n",
    "list(map(lambda x:x+1,[1,2,3,4,5]))"
   ]
  },
  {
   "cell_type": "code",
   "execution_count": 81,
   "id": "53f641b0",
   "metadata": {},
   "outputs": [],
   "source": [
    "#3\n",
    "#The `filter()` function in Python is used to filter elements from an iterable (e.g., a list) based \n",
    "#on a given function (predicate). It returns an iterator containing only the elements for which the \n",
    "#predicate function returns `True`, making it useful for selectively extracting and processing data \n",
    "#from a collection when you need to apply a condition or filter to the elements."
   ]
  },
  {
   "cell_type": "code",
   "execution_count": 83,
   "id": "1d64855a",
   "metadata": {},
   "outputs": [
    {
     "data": {
      "text/plain": [
       "24"
      ]
     },
     "execution_count": 83,
     "metadata": {},
     "output_type": "execute_result"
    }
   ],
   "source": [
    "#4\n",
    "from functools import reduce\n",
    "l=[1,2,3,4]\n",
    "reduce(lambda a,b:a*b,l)"
   ]
  },
  {
   "cell_type": "markdown",
   "id": "88ecefa6",
   "metadata": {},
   "source": [
    "### Function Documentation and Best Practices:"
   ]
  },
  {
   "cell_type": "code",
   "execution_count": 84,
   "id": "4bc68a6d",
   "metadata": {},
   "outputs": [],
   "source": [
    "#1\n",
    "#Docstrings in Python functions provide documentation and information about the function's purpose, \n",
    "#usage, and parameters, aiding in code readability and documentation generation; they are enclosed \n",
    "#in triple quotes and placed after the function definition."
   ]
  },
  {
   "cell_type": "code",
   "execution_count": 85,
   "id": "49b31947",
   "metadata": {},
   "outputs": [],
   "source": [
    "#2\n",
    "#1. Use lowercase letters and underscores for variable names (e.g., `my_variable`).\n",
    "#2. Use descriptive, lowercase names for functions (e.g., `calculate_average`).\n",
    "#3. Follow the PEP 8 naming conventions for consistency (e.g., `module_name`, `ClassNames`, `CONSTANT_VALUES`).\n",
    "#4. Choose meaningful and clear names that convey the purpose of the variable or function.\n",
    "#5. Avoid using reserved words or built-in function names as identifiers.\n",
    "#6. Use camelCase for naming methods in classes (e.g., `myMethod`).\n",
    "#7. Prefix private variables with a single underscore (e.g., `_private_var`).\n",
    "#8. Use all caps with underscores for constants (e.g., `MAX_SIZE`).\n",
    "#9. Be consistent in naming across your codebase to improve code readability."
   ]
  }
 ],
 "metadata": {
  "kernelspec": {
   "display_name": "Python 3 (ipykernel)",
   "language": "python",
   "name": "python3"
  },
  "language_info": {
   "codemirror_mode": {
    "name": "ipython",
    "version": 3
   },
   "file_extension": ".py",
   "mimetype": "text/x-python",
   "name": "python",
   "nbconvert_exporter": "python",
   "pygments_lexer": "ipython3",
   "version": "3.11.3"
  }
 },
 "nbformat": 4,
 "nbformat_minor": 5
}
