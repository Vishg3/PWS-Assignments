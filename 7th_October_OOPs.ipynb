{
 "cells": [
  {
   "cell_type": "markdown",
   "id": "d9460eae-5de4-498b-9ad1-c08eddf1a532",
   "metadata": {},
   "source": [
    "# Assignment - OOPs"
   ]
  },
  {
   "cell_type": "code",
   "execution_count": 16,
   "id": "ecdb0e0b-4d4f-4124-9bea-b4d81d6b4520",
   "metadata": {},
   "outputs": [],
   "source": [
    "#1\n",
    "class BankAcc:\n",
    "    def __init__(self,account_number,account_holder_name,balance=0):\n",
    "        self.account_number=account_number\n",
    "        self.account_holder_name=account_holder_name\n",
    "        self.balance=balance\n",
    "    def deposit(self,amt):\n",
    "        if amt>0:\n",
    "            print(f'{amt} deposited')\n",
    "            self.balance+=amt\n",
    "        else:\n",
    "            print('Invalid amount')\n",
    "    def withdraw(self,amt):\n",
    "        if amt>0 and amt<=self.balance:\n",
    "            print(f'{amt} withdrawn')\n",
    "            self.balance-=amt\n",
    "        else:\n",
    "            print('Cannot withdraw')"
   ]
  },
  {
   "cell_type": "code",
   "execution_count": 17,
   "id": "53711791-c421-4ede-8d59-389cedc8fb37",
   "metadata": {},
   "outputs": [],
   "source": [
    "#2\n",
    "class EmpMgmt:\n",
    "    def __init__(self,empID,name,salary):\n",
    "        self.empID=empID\n",
    "        self.name=name\n",
    "        self.salary=salary\n",
    "    def YearlyBonus(self,bonus_percentage):\n",
    "        if bonus_percentage>0:\n",
    "            bonus=(bonus_percentage/100)*self.salary\n",
    "            return bonus\n",
    "        else:\n",
    "            return 0\n",
    "    def DisplayEmpDetails(self):\n",
    "        print(f'Employee ID: {self.empID}')\n",
    "        print(f'Employee name: {self.name}')\n",
    "        print(f'Employee salary: {self.salary}')"
   ]
  },
  {
   "cell_type": "code",
   "execution_count": 18,
   "id": "1521b588-e283-4bef-a0b8-0b14a9e03971",
   "metadata": {},
   "outputs": [],
   "source": [
    "#3\n",
    "class VehicleRental:\n",
    "    def __init__(self):\n",
    "        self.availableVehicles=set()\n",
    "    def Rent(self,vehicle):\n",
    "        if vehicle in self.availableVehicles:\n",
    "            print(f'{vehicle} rented')\n",
    "            self.availableVehicles.remove(vehicle)\n",
    "        else:\n",
    "            print(f'{vehicle} not available')\n",
    "    def Return(self,vehicle):\n",
    "        print(f'{vehicle} returned')\n",
    "        self.availableVehicles.add(vehicle)\n",
    "    def DisplayVehicles(self):\n",
    "        print(self.availableVehicles)"
   ]
  },
  {
   "cell_type": "code",
   "execution_count": 19,
   "id": "8f988287-d0c9-4b17-ac67-c648d8f39b39",
   "metadata": {},
   "outputs": [],
   "source": [
    "#4\n",
    "class Library:\n",
    "    def __init__(self):\n",
    "        self.books=[]\n",
    "    def add(self,book):\n",
    "        self.books.append(book)\n",
    "    def borrow(self,book_name):\n",
    "        for book in self.books:\n",
    "            if book.name==book_name:\n",
    "                book.is_available=False\n",
    "                return book\n",
    "        return None\n",
    "    def display_available_books(self):\n",
    "        for book in self.books:\n",
    "            if book.is_available:\n",
    "                print(book.name)\n",
    "class Book:\n",
    "    def __init__(self,name,author):\n",
    "        self.name=name\n",
    "        self.author=author\n",
    "        self.is_available=True"
   ]
  },
  {
   "cell_type": "code",
   "execution_count": 20,
   "id": "e4adf5b3-40b1-449b-9438-fb3a3a59ba72",
   "metadata": {},
   "outputs": [],
   "source": [
    "#5\n",
    "class Inventory:\n",
    "    def __init__(self):\n",
    "        self.products=[]\n",
    "    def addProduct(self,product):\n",
    "        self.products.append(product)\n",
    "    def updateProductQuantity(self,prod_name,prod_quan):\n",
    "        for p in self.products:\n",
    "            if prod_name==p.name:\n",
    "                p.quantity=prod_quan\n",
    "                break\n",
    "    def displayAvailableProducts(self):\n",
    "        for p in self.products:\n",
    "            if p.quantity>0:\n",
    "                print(f'{p.name} is available in quantity: {p.quantity}')\n",
    "class Product:\n",
    "    def __init__(self,name,quantity):\n",
    "        self.name=name\n",
    "        self.quantity=quantity"
   ]
  },
  {
   "cell_type": "code",
   "execution_count": 21,
   "id": "fe6bb596-3d6b-4473-887b-a6e3de550fb3",
   "metadata": {},
   "outputs": [],
   "source": [
    "#6\n",
    "class rectangle:\n",
    "    def __init__(self,length=0,breadth=0):\n",
    "        self.length=length\n",
    "        self.breadth=breadth\n",
    "    def area(self):\n",
    "        return self.length*self.breadth\n",
    "    def perimeter(self):\n",
    "        return 2*(self.length+self.breadth)"
   ]
  },
  {
   "cell_type": "code",
   "execution_count": 22,
   "id": "ede689ac-13ed-44ba-a95e-04af9790d492",
   "metadata": {},
   "outputs": [],
   "source": [
    "#7\n",
    "class student:\n",
    "    def __init__(self,studID,name,grades):\n",
    "        self.studID=studID\n",
    "        self.name=name\n",
    "        self.grades=grades\n",
    "    def averageGrade(self):\n",
    "        return sum(self.grades)/len(self.grades)\n",
    "    def displayStudDetails(self):\n",
    "        print(f'Student ID: {self.studID}')\n",
    "        print(f'Student name: {self.name}')\n",
    "        print(f'Student grades: {self.grades}')\n",
    "        print(f'Student average grade: {self.averageGrade()}')"
   ]
  },
  {
   "cell_type": "code",
   "execution_count": 23,
   "id": "9d2ef215-dde5-415a-854e-d91e1a50878c",
   "metadata": {},
   "outputs": [],
   "source": [
    "#8\n",
    "class email:\n",
    "    def __init__(self,sender,recipient,subject):\n",
    "        self.sender=sender\n",
    "        self.recipient=recipient\n",
    "        self.subject=subject\n",
    "    def send(self):\n",
    "        print(f'Email sent from {self.sender} to {self.recipient} with subject: {self.subject}')\n",
    "    def displayDetails(self):\n",
    "        print(f'Sender: {self.sender}')\n",
    "        print(f'Recipient: {self.recipient}')\n",
    "        print(f'Subject: {self.subject}')"
   ]
  },
  {
   "cell_type": "code",
   "execution_count": 24,
   "id": "74006302-12cf-463d-9d86-a7d83f8ecfd7",
   "metadata": {},
   "outputs": [],
   "source": [
    "#9\n",
    "class SocialMediaProfile:\n",
    "    def __init__(self,username):\n",
    "        self.username=username\n",
    "        self.posts=[]\n",
    "    def addPost(self,post):\n",
    "        self.posts.append(post)\n",
    "    def displayPosts(self):\n",
    "        for p in self.posts:\n",
    "            print(p)\n",
    "    def searchPost(self,keyword):\n",
    "        for p in self.posts:\n",
    "            if keyword in p:\n",
    "                print(p)"
   ]
  },
  {
   "cell_type": "code",
   "execution_count": 25,
   "id": "b1b00b49-6184-4e55-b10f-4f1196a6e3f7",
   "metadata": {},
   "outputs": [],
   "source": [
    "#10\n",
    "class ToDoList:\n",
    "    def __init__(self):\n",
    "        self.tasks=[]\n",
    "        self.due_dates=[]\n",
    "    def addTask(self,task,due_date):\n",
    "        self.tasks.append(task)\n",
    "        self.due_dates.append(due_date)\n",
    "    def markAsComplete(self,task):\n",
    "        self.tasks.remove(task)\n",
    "    def displayPendingTasks(self):\n",
    "        for i in range(self.tasks):\n",
    "            print(f'{i+1}.{self.tasks[i]}-{self.due_dates[i]}')"
   ]
  }
 ],
 "metadata": {
  "kernelspec": {
   "display_name": "Python 3 (ipykernel)",
   "language": "python",
   "name": "python3"
  },
  "language_info": {
   "codemirror_mode": {
    "name": "ipython",
    "version": 3
   },
   "file_extension": ".py",
   "mimetype": "text/x-python",
   "name": "python",
   "nbconvert_exporter": "python",
   "pygments_lexer": "ipython3",
   "version": "3.10.8"
  }
 },
 "nbformat": 4,
 "nbformat_minor": 5
}
