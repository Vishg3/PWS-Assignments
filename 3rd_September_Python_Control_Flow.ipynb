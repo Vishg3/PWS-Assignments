{
 "cells": [
  {
   "cell_type": "markdown",
   "id": "7e5cdd8f",
   "metadata": {},
   "source": [
    "# Assignment - Python Control Flow"
   ]
  },
  {
   "cell_type": "markdown",
   "id": "8c6019f0",
   "metadata": {},
   "source": [
    "### Basic If-Else Statements:"
   ]
  },
  {
   "cell_type": "code",
   "execution_count": 4,
   "id": "7d7a2952",
   "metadata": {},
   "outputs": [
    {
     "name": "stdout",
     "output_type": "stream",
     "text": [
      "Positive\n"
     ]
    }
   ],
   "source": [
    "#1\n",
    "n=4\n",
    "if n>0:\n",
    "    print(\"Positive\")\n",
    "elif n<0:\n",
    "    print(\"Negative\")\n",
    "else:\n",
    "    print(\"Zero\")"
   ]
  },
  {
   "cell_type": "code",
   "execution_count": 5,
   "id": "93cdbc3d",
   "metadata": {},
   "outputs": [
    {
     "name": "stdout",
     "output_type": "stream",
     "text": [
      "Can't vote\n"
     ]
    }
   ],
   "source": [
    "#2\n",
    "age=10\n",
    "if age>=18:\n",
    "    print(\"Can vote\")\n",
    "else:\n",
    "    print(\"Can't vote\")"
   ]
  },
  {
   "cell_type": "code",
   "execution_count": 6,
   "id": "06ddcb33",
   "metadata": {},
   "outputs": [
    {
     "name": "stdout",
     "output_type": "stream",
     "text": [
      "7 is maximum\n"
     ]
    }
   ],
   "source": [
    "#3\n",
    "a=3\n",
    "b=7\n",
    "if a>b:\n",
    "    print(f\"{a} is maximum\")\n",
    "else:\n",
    "    print(f\"{b} is maximum\")"
   ]
  },
  {
   "cell_type": "code",
   "execution_count": 11,
   "id": "5811095c",
   "metadata": {},
   "outputs": [
    {
     "name": "stdout",
     "output_type": "stream",
     "text": [
      "2024 is a leap year\n"
     ]
    }
   ],
   "source": [
    "#4\n",
    "year=2024\n",
    "if year%4==0:\n",
    "    print(\"{0} is a leap year\".format(year))\n",
    "else:\n",
    "    print(\"{0} is not a leap year\".format(year))"
   ]
  },
  {
   "cell_type": "code",
   "execution_count": 15,
   "id": "e38a77dc",
   "metadata": {},
   "outputs": [
    {
     "name": "stdout",
     "output_type": "stream",
     "text": [
      "E is a vowel\n"
     ]
    }
   ],
   "source": [
    "#5\n",
    "C='E'\n",
    "c=C.lower()\n",
    "vowels=['a','e','i','o','u']\n",
    "if c in vowels:\n",
    "    print(\"{0} is a vowel\".format(C))\n",
    "else:\n",
    "    print(\"{0} is a consonant\".format(C))"
   ]
  },
  {
   "cell_type": "code",
   "execution_count": 16,
   "id": "57b20f36",
   "metadata": {},
   "outputs": [
    {
     "name": "stdout",
     "output_type": "stream",
     "text": [
      "7 is odd\n"
     ]
    }
   ],
   "source": [
    "#6\n",
    "n=7\n",
    "if n%2==0:\n",
    "    print(f\"{n} is even\")\n",
    "else:\n",
    "    print(f\"{n} is odd\")"
   ]
  },
  {
   "cell_type": "code",
   "execution_count": 32,
   "id": "5cbe9979",
   "metadata": {},
   "outputs": [
    {
     "name": "stdout",
     "output_type": "stream",
     "text": [
      "Absolute  value of -7 is 7\n"
     ]
    }
   ],
   "source": [
    "#7\n",
    "def absnum(n):\n",
    "    if n<0:\n",
    "        return -n\n",
    "    elif n>0:\n",
    "        return n\n",
    "    else:\n",
    "        return 0\n",
    "n=-7\n",
    "result=absnum(n)\n",
    "print(f\"Absolute  value of {n} is {result}\")"
   ]
  },
  {
   "cell_type": "code",
   "execution_count": 34,
   "id": "c1686b3d",
   "metadata": {},
   "outputs": [
    {
     "name": "stdout",
     "output_type": "stream",
     "text": [
      "Number:1\n",
      "Number:2\n",
      "Number:3\n",
      "Largest number is 3\n"
     ]
    }
   ],
   "source": [
    "#8\n",
    "a=int(input(\"Number:\"))\n",
    "b=int(input(\"Number:\"))\n",
    "c=int(input(\"Number:\"))\n",
    "if a>b and a>c:\n",
    "    largest=a\n",
    "elif b>a and b>c:\n",
    "    largest=b\n",
    "else:\n",
    "    largest=c\n",
    "print(f\"Largest number is {largest}\")"
   ]
  },
  {
   "cell_type": "code",
   "execution_count": 40,
   "id": "b56f2a5c",
   "metadata": {},
   "outputs": [
    {
     "name": "stdout",
     "output_type": "stream",
     "text": [
      "Enter string: dad\n",
      "dad is a palindrome\n"
     ]
    }
   ],
   "source": [
    "#9\n",
    "string=input(\"Enter string: \")\n",
    "if string==string[::-1]:\n",
    "    print(f\"{string} is a palindrome\")\n",
    "else:\n",
    "    print(f\"{string} is not a palindrome\")"
   ]
  },
  {
   "cell_type": "code",
   "execution_count": 42,
   "id": "3a3886e3",
   "metadata": {},
   "outputs": [
    {
     "name": "stdout",
     "output_type": "stream",
     "text": [
      "Score: 89\n",
      "Grade for 89 is B\n"
     ]
    }
   ],
   "source": [
    "#10\n",
    "scr=int(input(\"Score: \"))\n",
    "if scr>90:\n",
    "    grade=\"A\"\n",
    "elif scr>80:\n",
    "    grade=\"B\"\n",
    "elif scr>70:\n",
    "    grade=\"C\"\n",
    "else:\n",
    "    grade=\"F\"\n",
    "print(f\"Grade for {scr} is {grade}\")"
   ]
  },
  {
   "cell_type": "markdown",
   "id": "b98d5562",
   "metadata": {},
   "source": [
    "### Nested If-Else Statements:"
   ]
  },
  {
   "cell_type": "code",
   "execution_count": 45,
   "id": "ab78361a",
   "metadata": {},
   "outputs": [
    {
     "name": "stdout",
     "output_type": "stream",
     "text": [
      "Number: 77\n",
      "Number: 2\n",
      "Number: 453\n",
      "Largest number is 453\n"
     ]
    }
   ],
   "source": [
    "#11\n",
    "a=int(input(\"Number: \"))\n",
    "b=int(input(\"Number: \"))\n",
    "c=int(input(\"Number: \"))\n",
    "if a>b:\n",
    "    if a>c:\n",
    "        largest=a\n",
    "    else:\n",
    "        largest=c\n",
    "else:\n",
    "    if b>c:\n",
    "        largest=b\n",
    "    else:\n",
    "        largest=c\n",
    "print(f\"Largest number is {largest}\")"
   ]
  },
  {
   "cell_type": "code",
   "execution_count": 48,
   "id": "fbae3d13",
   "metadata": {},
   "outputs": [
    {
     "name": "stdout",
     "output_type": "stream",
     "text": [
      "Side1: 4\n",
      "Side2: 4\n",
      "Side3: 3\n",
      "It is a Isosceles triangle\n"
     ]
    }
   ],
   "source": [
    "#12\n",
    "s1=float(input(\"Side1: \"))\n",
    "s2=float(input(\"Side2: \"))\n",
    "s3=float(input(\"Side3: \"))\n",
    "if (s1+s2>s3) and (s1+s3>s2) and (s2+s3>s1):\n",
    "    if s1==s2==s3:\n",
    "        typeT=\"Equilateral\"\n",
    "    elif s1==s2 or s1==s3 or s2==s3:\n",
    "        typeT=\"Isosceles\"\n",
    "    else:\n",
    "        typeT=\"Scalene\"\n",
    "    print(f\"It is a {typeT} triangle\")\n",
    "else:\n",
    "    print(\"It is not a triangle\")"
   ]
  },
  {
   "cell_type": "code",
   "execution_count": 57,
   "id": "9cc016ce",
   "metadata": {},
   "outputs": [
    {
     "name": "stdout",
     "output_type": "stream",
     "text": [
      "Enter year: 2000\n",
      "2000 is a leap and century year\n"
     ]
    }
   ],
   "source": [
    "#13\n",
    "year=int(input(\"Enter year: \"))\n",
    "if year%4==0:\n",
    "    if year%100==0:\n",
    "        typeY=\"leap and century\"\n",
    "    else:\n",
    "        typeY=\"leap\"\n",
    "else:\n",
    "    if year%100==0:\n",
    "        typeY=\"century\"\n",
    "    else:\n",
    "        typeY=\"not leap or century\"\n",
    "print(f\"{year} is a {typeY} year\")"
   ]
  },
  {
   "cell_type": "code",
   "execution_count": 63,
   "id": "d49f149a",
   "metadata": {},
   "outputs": [
    {
     "name": "stdout",
     "output_type": "stream",
     "text": [
      "Number: -5\n",
      "Negative\n"
     ]
    }
   ],
   "source": [
    "#14\n",
    "n=int(input(\"Number: \"))\n",
    "if n>0:\n",
    "    if not n<=0:\n",
    "        print(\"Positive\")\n",
    "elif n<0:\n",
    "    if not n>=0:\n",
    "        print(\"Negative\")\n",
    "else:\n",
    "    print(\"Zero\")"
   ]
  },
  {
   "cell_type": "code",
   "execution_count": 67,
   "id": "d20e133e",
   "metadata": {},
   "outputs": [
    {
     "name": "stdout",
     "output_type": "stream",
     "text": [
      "Age: 14\n",
      "14 is 'teenager'\n"
     ]
    }
   ],
   "source": [
    "#15\n",
    "age=int(input(\"Age: \"))\n",
    "if age>=13:\n",
    "    if age<=19:\n",
    "        status=\"'teenager'\"\n",
    "    else:\n",
    "        status=\"'not teenager'\"\n",
    "else:\n",
    "    status=\"'not teenager'\"\n",
    "print(f\"{age} is {status}\")"
   ]
  },
  {
   "cell_type": "code",
   "execution_count": 78,
   "id": "0edbf1fa",
   "metadata": {},
   "outputs": [
    {
     "name": "stdout",
     "output_type": "stream",
     "text": [
      "Angle: 70\n",
      "70 is acute angle\n"
     ]
    }
   ],
   "source": [
    "#16\n",
    "angle=int(input(\"Angle: \"))\n",
    "if angle>90:\n",
    "    if angle<180:\n",
    "        typeA=\"obtuse angle\"\n",
    "elif angle<90:\n",
    "    if angle>0:\n",
    "        typeA=\"acute angle\"\n",
    "elif angle==90:\n",
    "    typeA=\"right angle\"\n",
    "else:\n",
    "    typeA=\"none\"\n",
    "print(f\"{angle} is {typeA}\")"
   ]
  },
  {
   "cell_type": "code",
   "execution_count": 26,
   "id": "d5fb1b1e",
   "metadata": {},
   "outputs": [
    {
     "name": "stdout",
     "output_type": "stream",
     "text": [
      "Enter the coefficient 'a': 2\n",
      "Enter the coefficient 'b': 7\n",
      "Enter the coefficient 'c': 3\n",
      "The roots are real and distinct: -0.50 and -3.00\n"
     ]
    }
   ],
   "source": [
    "#17\n",
    "a=float(input(\"Enter the coefficient 'a': \"))\n",
    "b=float(input(\"Enter the coefficient 'b': \"))\n",
    "c=float(input(\"Enter the coefficient 'c': \"))\n",
    "discriminant=b**2 - 4*a*c\n",
    "if discriminant > 0:\n",
    "    root1=(-b + (discriminant ** 0.5)) / (2 * a)\n",
    "    root2=(-b - (discriminant ** 0.5)) / (2 * a)\n",
    "    print(f\"The roots are real and distinct: {root1:.2f} and {root2:.2f}\")\n",
    "else:\n",
    "    if discriminant==0:\n",
    "        root1=-b / (2 * a)\n",
    "        print(f\"The root is real and repeated: {root1:.2f}\")\n",
    "    else:\n",
    "        print(\"The roots are complex\")"
   ]
  },
  {
   "cell_type": "code",
   "execution_count": 86,
   "id": "d12ee78c",
   "metadata": {},
   "outputs": [
    {
     "name": "stdout",
     "output_type": "stream",
     "text": [
      "Enter day: 3\n",
      "Day 3 is Wednesday.\n"
     ]
    }
   ],
   "source": [
    "#18\n",
    "d=int(input(\"Enter day: \"))\n",
    "if d==1:\n",
    "    name=\"Monday\"\n",
    "else:\n",
    "    if d==2:\n",
    "        name=\"Tuesday\"\n",
    "    else:\n",
    "        if d==3:\n",
    "            name=\"Wednesday\"\n",
    "        else:\n",
    "            if d==4:\n",
    "                name=\"Thursday\"\n",
    "            else:\n",
    "                if d==5:\n",
    "                    name=\"Friday\"\n",
    "                else:\n",
    "                    if d==6:\n",
    "                        name=\"Saturday\"\n",
    "                    else:\n",
    "                        if d==7:\n",
    "                            name=\"Sunday\"\n",
    "                        else:\n",
    "                            name=\"Invalid input\"\n",
    "print(f\"Day {d} is {name}.\")"
   ]
  },
  {
   "cell_type": "code",
   "execution_count": 91,
   "id": "de6d292b",
   "metadata": {},
   "outputs": [
    {
     "name": "stdout",
     "output_type": "stream",
     "text": [
      "Enter year: 2000\n",
      "2000 is a leap year and it is evenly divisible by 400\n"
     ]
    }
   ],
   "source": [
    "#19\n",
    "year=int(input(\"Enter year: \"))\n",
    "if year%4==0:\n",
    "    if year%400==0:\n",
    "        print(f\"{year} is a leap year and it is evenly divisible by 400\")\n",
    "    else:\n",
    "        print(f\"{year} is a leap year but it is not evenly divisible by 400\")\n",
    "else:\n",
    "    print(f\"{year} is not a leap year and it is not evenly divisible by 400\")"
   ]
  },
  {
   "cell_type": "code",
   "execution_count": 102,
   "id": "7794c5e8",
   "metadata": {},
   "outputs": [
    {
     "name": "stdout",
     "output_type": "stream",
     "text": [
      "Enter a number: 3\n",
      "3 is a prime number.\n"
     ]
    }
   ],
   "source": [
    "#20\n",
    "num=int(input(\"Enter a number: \"))\n",
    "if num<2:\n",
    "    is_prime=False\n",
    "else:\n",
    "    is_prime=True\n",
    "    for i in range(2,int(num**0.5)+1):\n",
    "        if num%i==0:\n",
    "            is_prime=False\n",
    "            break\n",
    "if is_prime:\n",
    "    print(f\"{num} is a prime number.\")\n",
    "else:\n",
    "    print(f\"{num} is not a prime number.\")"
   ]
  },
  {
   "cell_type": "markdown",
   "id": "650951c9",
   "metadata": {},
   "source": [
    "### Elif Statements:"
   ]
  },
  {
   "cell_type": "code",
   "execution_count": 103,
   "id": "e2c6904d",
   "metadata": {},
   "outputs": [
    {
     "name": "stdout",
     "output_type": "stream",
     "text": [
      "Score: 67\n",
      "Grade for 67 is F\n"
     ]
    }
   ],
   "source": [
    "#21\n",
    "scr=int(input(\"Score: \"))\n",
    "if scr>90:\n",
    "    grade=\"A\"\n",
    "elif scr>80:\n",
    "    grade=\"B\"\n",
    "elif scr>70:\n",
    "    grade=\"C\"\n",
    "else:\n",
    "    grade=\"F\"\n",
    "print(f\"Grade for {scr} is {grade}\")"
   ]
  },
  {
   "cell_type": "code",
   "execution_count": 105,
   "id": "28d49f4b",
   "metadata": {},
   "outputs": [
    {
     "name": "stdout",
     "output_type": "stream",
     "text": [
      "Enter the first angle: 60\n",
      "Enter the second angle: 40\n",
      "Enter the third angle: 80\n",
      "The given angles form a acute triangle.\n"
     ]
    }
   ],
   "source": [
    "#22\n",
    "angle1=int(input(\"Enter the first angle: \"))\n",
    "angle2=int(input(\"Enter the second angle: \"))\n",
    "angle3=int(input(\"Enter the third angle: \"))\n",
    "angle_sum=angle1+angle2+angle3\n",
    "if angle_sum==180:\n",
    "    if angle1==90 or angle2==90 or angle3==90:\n",
    "        triangle_type=\"right triangle\"\n",
    "    elif angle1<90 and angle2<90 and angle3<90:\n",
    "        triangle_type=\"acute triangle\"\n",
    "    else:\n",
    "        triangle_type=\"obtuse triangle\"\n",
    "else:\n",
    "    triangle_type=\"not a triangle\"\n",
    "print(f\"The given angles form a {triangle_type}.\")"
   ]
  },
  {
   "cell_type": "code",
   "execution_count": 2,
   "id": "eeec57f4",
   "metadata": {},
   "outputs": [
    {
     "name": "stdout",
     "output_type": "stream",
     "text": [
      "Enter weight in kilograms: 70\n",
      "Enter height in meters: 1.75\n",
      "The person's BMI is 22.86, which falls into the category of normal weight.\n"
     ]
    }
   ],
   "source": [
    "#23\n",
    "weight = float(input(\"Enter weight in kilograms: \"))\n",
    "height = float(input(\"Enter height in meters: \"))\n",
    "bmi = weight / (height ** 2)\n",
    "if bmi < 18.5:\n",
    "    category = \"underweight\"\n",
    "elif 18.5 <= bmi < 24.9:\n",
    "    category = \"normal weight\"\n",
    "elif 24.9 <= bmi < 29.9:\n",
    "    category = \"overweight\"\n",
    "else:\n",
    "    category = \"obese\"\n",
    "print(f\"The person's BMI is {bmi:.2f}, which falls into the category of {category}.\")"
   ]
  },
  {
   "cell_type": "code",
   "execution_count": 5,
   "id": "c9c6058a",
   "metadata": {},
   "outputs": [
    {
     "name": "stdout",
     "output_type": "stream",
     "text": [
      "Negative\n"
     ]
    }
   ],
   "source": [
    "#24\n",
    "n=-8\n",
    "if n>0:\n",
    "    print(\"Positive\")\n",
    "elif n<0:\n",
    "    print(\"Negative\")\n",
    "else:\n",
    "    print(\"Zero\")"
   ]
  },
  {
   "cell_type": "code",
   "execution_count": 11,
   "id": "793f8bf8",
   "metadata": {},
   "outputs": [
    {
     "name": "stdout",
     "output_type": "stream",
     "text": [
      "Enter character: J\n",
      "J has type 'upper'\n"
     ]
    }
   ],
   "source": [
    "#25\n",
    "c=input(\"Enter character: \") \n",
    "if c.isalpha():\n",
    "    if c.isupper():\n",
    "        typ=\"upper\"\n",
    "    elif c.islower():\n",
    "        typ=\"lower\"\n",
    "else:\n",
    "    typ=\"special character\"\n",
    "print(f\"{c} has type '{typ}'\")"
   ]
  },
  {
   "cell_type": "code",
   "execution_count": 7,
   "id": "ea026c85",
   "metadata": {},
   "outputs": [
    {
     "name": "stdout",
     "output_type": "stream",
     "text": [
      "Price: 310\n",
      "Original was 310. Discounted price is 260.\n"
     ]
    }
   ],
   "source": [
    "#26\n",
    "price=int(input(\"Price: \"))\n",
    "if price>=300:\n",
    "    discountPrice=260\n",
    "elif price>=200:\n",
    "    discountPrice=160\n",
    "elif price>=100:\n",
    "    discountPrice=60\n",
    "else:\n",
    "    discountPrice=price\n",
    "print(f'Original was {price}. Discounted price is {discountPrice}.')"
   ]
  },
  {
   "cell_type": "code",
   "execution_count": 9,
   "id": "c3d61323",
   "metadata": {},
   "outputs": [
    {
     "name": "stdout",
     "output_type": "stream",
     "text": [
      "Consumption: 1600\n",
      "For consumption of 1600. Electricity bill is 200.\n"
     ]
    }
   ],
   "source": [
    "#27\n",
    "consumption=int(input(\"Consumption: \"))\n",
    "if consumption>=3000:\n",
    "    Price=500\n",
    "elif consumption>=2000:\n",
    "    Price=350\n",
    "elif consumption>=1000:\n",
    "    Price=200\n",
    "else:\n",
    "    Price=100\n",
    "print(f'For consumption of {consumption}. Electricity bill is {Price}.')"
   ]
  },
  {
   "cell_type": "code",
   "execution_count": 12,
   "id": "38fd825b",
   "metadata": {},
   "outputs": [
    {
     "name": "stdout",
     "output_type": "stream",
     "text": [
      "Enter the first angle in degrees: 90\n",
      "Enter the second angle in degrees: 90\n",
      "Enter the third angle in degrees: 90\n",
      "Enter the fourth angle in degrees: 90\n",
      "Enter the length of the first side: 40\n",
      "Enter the length of the second side: 20\n",
      "Enter the length of the third side: 40\n",
      "Enter the length of the fourth side: 20\n",
      "This is a rectangle (opposite sides are equal).\n"
     ]
    }
   ],
   "source": [
    "#28\n",
    "angle1 = float(input(\"Enter the first angle in degrees: \"))\n",
    "angle2 = float(input(\"Enter the second angle in degrees: \"))\n",
    "angle3 = float(input(\"Enter the third angle in degrees: \"))\n",
    "angle4 = float(input(\"Enter the fourth angle in degrees: \"))\n",
    "side1 = float(input(\"Enter the length of the first side: \"))\n",
    "side2 = float(input(\"Enter the length of the second side: \"))\n",
    "side3 = float(input(\"Enter the length of the third side: \"))\n",
    "side4 = float(input(\"Enter the length of the fourth side: \"))\n",
    "angle_sum = angle1 + angle2 + angle3 + angle4\n",
    "if angle_sum != 360:\n",
    "    print(\"This is not a valid quadrilateral because the angles do not add up to 360 degrees.\")\n",
    "else:\n",
    "    if side1 == side2 == side3 == side4:\n",
    "        if angle1 == angle2 == angle3 == angle4 == 90:\n",
    "            print(\"This is a square.\")\n",
    "        else:\n",
    "            print(\"This is a rectangle.\")\n",
    "    elif side1 == side3 and side2 == side4:\n",
    "        if angle1 == angle2 == angle3 == angle4 == 90:\n",
    "            print(\"This is a rectangle (opposite sides are equal).\")\n",
    "        else:\n",
    "            print(\"This is a parallelogram (opposite sides are equal).\")\n",
    "    else:\n",
    "        print(\"This is a general quadrilateral.\")"
   ]
  },
  {
   "cell_type": "code",
   "execution_count": 7,
   "id": "2db9fdd9",
   "metadata": {},
   "outputs": [
    {
     "name": "stdout",
     "output_type": "stream",
     "text": [
      "Enter the month (1-12): 5\n",
      "The season for month May is Spring.\n"
     ]
    }
   ],
   "source": [
    "#29\n",
    "months={1:'Jan',2:'Feb',3:'Mar',4:'Apr',5:'May',6:'Jun',7:'Jul',8:'Aug',9:'Sep',10:'Oct',11:'Nov',12:'Dec'}\n",
    "month = int(input(\"Enter the month (1-12): \"))\n",
    "if 1 <= month <= 2 or month == 12:\n",
    "    season = \"Winter\"\n",
    "elif 3 <= month <= 5:\n",
    "    season = \"Spring\"\n",
    "elif 6 <= month <= 8:\n",
    "    season = \"Summer\"\n",
    "elif 9 <= month <= 11:\n",
    "    season = \"Autumn\"\n",
    "else:\n",
    "    season = \"Invalid month\"\n",
    "if season != \"Invalid month\":\n",
    "    print(f\"The season for month {months[month]} is {season}.\")\n",
    "else:\n",
    "    print(\"Invalid input. Please enter a valid month (1-12).\")"
   ]
  },
  {
   "cell_type": "code",
   "execution_count": 3,
   "id": "f3ff591d",
   "metadata": {},
   "outputs": [
    {
     "name": "stdout",
     "output_type": "stream",
     "text": [
      "Enter a year: 2024\n",
      "Enter a month (1-12): 8\n",
      "2024 is a leap year.\n",
      "The month 8 has 31 days.\n"
     ]
    }
   ],
   "source": [
    "#30\n",
    "year = int(input(\"Enter a year: \"))\n",
    "month = int(input(\"Enter a month (1-12): \"))\n",
    "if year%4 == 0:\n",
    "    is_leap_year = True\n",
    "else:\n",
    "    is_leap_year = False\n",
    "if month == 2:\n",
    "    if is_leap_year:\n",
    "        days_in_month = 29\n",
    "    else:\n",
    "        days_in_month = 28\n",
    "elif month in (4, 6, 9, 11):\n",
    "    days_in_month = 30\n",
    "elif 1 <= month <= 12:\n",
    "    days_in_month = 31\n",
    "else:\n",
    "    days_in_month = -1  \n",
    "if is_leap_year:\n",
    "    print(f\"{year} is a leap year.\")\n",
    "else:\n",
    "    print(f\"{year} is a common year.\")\n",
    "if days_in_month == -1:\n",
    "    print(\"Invalid month. Please enter a valid month (1-12).\")\n",
    "else:\n",
    "    print(f\"The month {month} has {days_in_month} days.\")"
   ]
  },
  {
   "cell_type": "markdown",
   "id": "fdc0bb08",
   "metadata": {},
   "source": [
    "### Basic Level:"
   ]
  },
  {
   "cell_type": "code",
   "execution_count": 4,
   "id": "b9092b66",
   "metadata": {},
   "outputs": [
    {
     "name": "stdout",
     "output_type": "stream",
     "text": [
      "Number: 6\n",
      "Positive\n"
     ]
    }
   ],
   "source": [
    "#1\n",
    "n=int(input(\"Number: \"))\n",
    "if n>0:\n",
    "    print(\"Positive\")\n",
    "elif n<0:\n",
    "    print(\"Negative\")\n",
    "else:\n",
    "    print(\"Zero\")"
   ]
  },
  {
   "cell_type": "code",
   "execution_count": 5,
   "id": "b05fe084",
   "metadata": {},
   "outputs": [
    {
     "name": "stdout",
     "output_type": "stream",
     "text": [
      "Age: 18\n",
      "Can vote\n"
     ]
    }
   ],
   "source": [
    "#2\n",
    "age=int(input(\"Age: \"))\n",
    "if age>=18:\n",
    "    print(\"Can vote\")\n",
    "else:\n",
    "    print(\"Can't vote\")"
   ]
  },
  {
   "cell_type": "code",
   "execution_count": 9,
   "id": "2c303294",
   "metadata": {},
   "outputs": [
    {
     "name": "stdout",
     "output_type": "stream",
     "text": [
      "6 is maximum\n"
     ]
    }
   ],
   "source": [
    "#3\n",
    "a=6\n",
    "b=5\n",
    "if a>b:\n",
    "    print(f\"{a} is maximum\")\n",
    "else:\n",
    "    print(f\"{b} is maximum\")"
   ]
  },
  {
   "cell_type": "code",
   "execution_count": 10,
   "id": "853e1000",
   "metadata": {},
   "outputs": [
    {
     "name": "stdout",
     "output_type": "stream",
     "text": [
      "Score: 99\n",
      "Grade for 99 is A\n"
     ]
    }
   ],
   "source": [
    "#4\n",
    "scr=int(input(\"Score: \"))\n",
    "if scr>90:\n",
    "    grade=\"A\"\n",
    "elif scr>80:\n",
    "    grade=\"B\"\n",
    "elif scr>70:\n",
    "    grade=\"C\"\n",
    "else:\n",
    "    grade=\"F\"\n",
    "print(f\"Grade for {scr} is {grade}\")"
   ]
  },
  {
   "cell_type": "code",
   "execution_count": 11,
   "id": "64c72dc0",
   "metadata": {},
   "outputs": [
    {
     "name": "stdout",
     "output_type": "stream",
     "text": [
      "Year: 2023\n",
      "2023 is not a leap year\n"
     ]
    }
   ],
   "source": [
    "#5\n",
    "year=int(input(\"Year: \"))\n",
    "if year%4==0:\n",
    "    print(\"{0} is a leap year\".format(year))\n",
    "else:\n",
    "    print(\"{0} is not a leap year\".format(year))"
   ]
  },
  {
   "cell_type": "code",
   "execution_count": 13,
   "id": "46df5def",
   "metadata": {},
   "outputs": [
    {
     "name": "stdout",
     "output_type": "stream",
     "text": [
      "Side1: 8\n",
      "Side2: 8\n",
      "Side3: 8\n",
      "It is a Equilateral triangle\n"
     ]
    }
   ],
   "source": [
    "#6\n",
    "s1=float(input(\"Side1: \"))\n",
    "s2=float(input(\"Side2: \"))\n",
    "s3=float(input(\"Side3: \"))\n",
    "if (s1+s2>s3) and (s1+s3>s2) and (s2+s3>s1):\n",
    "    if s1==s2==s3:\n",
    "        typeT=\"Equilateral\"\n",
    "    elif s1==s2 or s1==s3 or s2==s3:\n",
    "        typeT=\"Isosceles\"\n",
    "    else:\n",
    "        typeT=\"Scalene\"\n",
    "    print(f\"It is a {typeT} triangle\")\n",
    "else:\n",
    "    print(\"It is not a triangle\")"
   ]
  },
  {
   "cell_type": "code",
   "execution_count": 14,
   "id": "5251d7df",
   "metadata": {},
   "outputs": [
    {
     "name": "stdout",
     "output_type": "stream",
     "text": [
      "Number: 7\n",
      "Number: 3\n",
      "Number: 4\n",
      "Largest number is 7\n"
     ]
    }
   ],
   "source": [
    "#7\n",
    "a=int(input(\"Number: \"))\n",
    "b=int(input(\"Number: \"))\n",
    "c=int(input(\"Number: \"))\n",
    "if a>b:\n",
    "    if a>c:\n",
    "        largest=a\n",
    "    else:\n",
    "        largest=c\n",
    "else:\n",
    "    if b>c:\n",
    "        largest=b\n",
    "    else:\n",
    "        largest=c\n",
    "print(f\"Largest number is {largest}\")"
   ]
  },
  {
   "cell_type": "code",
   "execution_count": 15,
   "id": "17332121",
   "metadata": {},
   "outputs": [
    {
     "name": "stdout",
     "output_type": "stream",
     "text": [
      "h is a consonant\n"
     ]
    }
   ],
   "source": [
    "#8\n",
    "C='h'\n",
    "c=C.lower()\n",
    "vowels=['a','e','i','o','u']\n",
    "if c in vowels:\n",
    "    print(\"{0} is a vowel\".format(C))\n",
    "else:\n",
    "    print(\"{0} is a consonant\".format(C))"
   ]
  },
  {
   "cell_type": "code",
   "execution_count": 16,
   "id": "32c2bc87",
   "metadata": {},
   "outputs": [
    {
     "name": "stdout",
     "output_type": "stream",
     "text": [
      "Total price: 110\n",
      "Original was 110. Discounted price is 60.\n"
     ]
    }
   ],
   "source": [
    "#9\n",
    "price=int(input(\"Total price: \"))\n",
    "if price>=300:\n",
    "    discountPrice=260\n",
    "elif price>=200:\n",
    "    discountPrice=160\n",
    "elif price>=100:\n",
    "    discountPrice=60\n",
    "else:\n",
    "    discountPrice=price\n",
    "print(f'Original was {price}. Discounted price is {discountPrice}.')"
   ]
  },
  {
   "cell_type": "code",
   "execution_count": 17,
   "id": "4d03fb67",
   "metadata": {},
   "outputs": [
    {
     "name": "stdout",
     "output_type": "stream",
     "text": [
      "Number: 77\n",
      "77 is odd\n"
     ]
    }
   ],
   "source": [
    "#10\n",
    "n=int(input(\"Number: \"))\n",
    "if n%2==0:\n",
    "    print(f\"{n} is even\")\n",
    "else:\n",
    "    print(f\"{n} is odd\")"
   ]
  },
  {
   "cell_type": "markdown",
   "id": "615631c4",
   "metadata": {},
   "source": [
    "### Intermediate Level:"
   ]
  },
  {
   "cell_type": "code",
   "execution_count": 21,
   "id": "7ea29e03",
   "metadata": {},
   "outputs": [
    {
     "name": "stdout",
     "output_type": "stream",
     "text": [
      "Enter the coefficient 'a': 4\n",
      "Enter the coefficient 'b': 11.5\n",
      "Enter the coefficient 'c': 3\n",
      "The roots are real and distinct: -0.29 and -2.58\n"
     ]
    }
   ],
   "source": [
    "#11\n",
    "a=float(input(\"Enter the coefficient 'a': \"))\n",
    "b=float(input(\"Enter the coefficient 'b': \"))\n",
    "c=float(input(\"Enter the coefficient 'c': \"))\n",
    "discriminant=b**2 - 4*a*c\n",
    "if discriminant > 0:\n",
    "    root1=(-b + (discriminant ** 0.5)) / (2 * a)\n",
    "    root2=(-b - (discriminant ** 0.5)) / (2 * a)\n",
    "    print(f\"The roots are real and distinct: {root1:.2f} and {root2:.2f}\")\n",
    "else:\n",
    "    if discriminant==0:\n",
    "        root1=-b / (2 * a)\n",
    "        print(f\"The root is real and repeated: {root1:.2f}\")\n",
    "    else:\n",
    "        print(\"The roots are complex\")"
   ]
  },
  {
   "cell_type": "code",
   "execution_count": 28,
   "id": "cec266ce",
   "metadata": {},
   "outputs": [
    {
     "name": "stdout",
     "output_type": "stream",
     "text": [
      "Enter day: 2\n",
      "Day 2 is Tuesday.\n"
     ]
    }
   ],
   "source": [
    "#12\n",
    "d=int(input(\"Enter day: \"))\n",
    "if d==1:\n",
    "    name=\"Monday\"\n",
    "else:\n",
    "    if d==2:\n",
    "        name=\"Tuesday\"\n",
    "    else:\n",
    "        if d==3:\n",
    "            name=\"Wednesday\"\n",
    "        else:\n",
    "            if d==4:\n",
    "                name=\"Thursday\"\n",
    "            else:\n",
    "                if d==5:\n",
    "                    name=\"Friday\"\n",
    "                else:\n",
    "                    if d==6:\n",
    "                        name=\"Saturday\"\n",
    "                    else:\n",
    "                        if d==7:\n",
    "                            name=\"Sunday\"\n",
    "                        else:\n",
    "                            name=\"Invalid input\"\n",
    "print(f\"Day {d} is {name}.\")"
   ]
  },
  {
   "cell_type": "code",
   "execution_count": 30,
   "id": "02ffc136",
   "metadata": {},
   "outputs": [
    {
     "name": "stdout",
     "output_type": "stream",
     "text": [
      "Enter a non-negative integer: 6\n",
      "The factorial of 6 is 720\n"
     ]
    }
   ],
   "source": [
    "#13\n",
    "def factorial(n):\n",
    "    if n == 0:\n",
    "        return 1\n",
    "    else:\n",
    "        return n * factorial(n - 1)\n",
    "num = int(input(\"Enter a non-negative integer: \"))\n",
    "if num < 0:\n",
    "    print(\"Invalid input. Please enter a non-negative integer.\")\n",
    "else:\n",
    "    result = factorial(num)\n",
    "    print(f\"The factorial of {num} is {result}\")"
   ]
  },
  {
   "cell_type": "code",
   "execution_count": 31,
   "id": "8a879d81",
   "metadata": {},
   "outputs": [
    {
     "name": "stdout",
     "output_type": "stream",
     "text": [
      "Number: 5\n",
      "Number: 10\n",
      "Number: 15\n",
      "Largest number is 15\n"
     ]
    }
   ],
   "source": [
    "#14\n",
    "a=int(input(\"Number: \"))\n",
    "b=int(input(\"Number: \"))\n",
    "c=int(input(\"Number: \"))\n",
    "if a>b:\n",
    "    if a>c:\n",
    "        largest=a\n",
    "    else:\n",
    "        largest=c\n",
    "else:\n",
    "    if b>c:\n",
    "        largest=b\n",
    "    else:\n",
    "        largest=c\n",
    "print(f\"Largest number is {largest}\")"
   ]
  },
  {
   "cell_type": "code",
   "execution_count": 34,
   "id": "24a55c56",
   "metadata": {},
   "outputs": [
    {
     "name": "stdout",
     "output_type": "stream",
     "text": [
      "Welcome to the ATM\n",
      "1. Check Balance\n",
      "2. Deposit\n",
      "3. Withdraw\n",
      "4. Exit\n",
      "Enter your choice (1/2/3/4): 1\n",
      "Your balance is $10000\n",
      "Enter your choice (1/2/3/4): 2\n",
      "Enter the amount to deposit: 500\n",
      "$500.0 has been deposited. Your new balance is $10500.0\n",
      "Enter your choice (1/2/3/4): 3\n",
      "Enter the amount to withdraw: 2000\n",
      "$2000.0 has been withdrawn. Your new balance is $8500.0\n",
      "Enter your choice (1/2/3/4): 3\n",
      "Enter the amount to withdraw: 10000\n",
      "Invalid amount or insufficient funds.\n",
      "Enter your choice (1/2/3/4): 4\n",
      "Thank you for using the ATM. Goodbye!\n"
     ]
    }
   ],
   "source": [
    "#15\n",
    "balance = 10000\n",
    "print(\"Welcome to the ATM\")\n",
    "print(\"1. Check Balance\")\n",
    "print(\"2. Deposit\")\n",
    "print(\"3. Withdraw\")\n",
    "print(\"4. Exit\")\n",
    "while True:\n",
    "    choice = int(input(\"Enter your choice (1/2/3/4): \"))\n",
    "    if choice == 1:\n",
    "        print(f\"Your balance is ${balance}\")\n",
    "    elif choice == 2:\n",
    "        amount = float(input(\"Enter the amount to deposit: \"))\n",
    "        if amount > 0:\n",
    "            balance += amount\n",
    "            print(f\"${amount} has been deposited. Your new balance is ${balance}\")\n",
    "        else:\n",
    "            print(\"Invalid amount. Please enter a positive amount.\")\n",
    "    elif choice == 3:\n",
    "        amount = float(input(\"Enter the amount to withdraw: \"))\n",
    "        if 0 < amount <= balance:\n",
    "            balance -= amount\n",
    "            print(f\"${amount} has been withdrawn. Your new balance is ${balance}\")\n",
    "        else:\n",
    "            print(\"Invalid amount or insufficient funds.\")\n",
    "    elif choice == 4:\n",
    "        print(\"Thank you for using the ATM. Goodbye!\")\n",
    "        break\n",
    "    else:\n",
    "        print(\"Invalid choice. Please select a valid option (1/2/3/4).\")"
   ]
  },
  {
   "cell_type": "code",
   "execution_count": 35,
   "id": "243286be",
   "metadata": {},
   "outputs": [
    {
     "name": "stdout",
     "output_type": "stream",
     "text": [
      "Enter string: racecar\n",
      "racecar is a palindrome\n"
     ]
    }
   ],
   "source": [
    "#16\n",
    "string=input(\"Enter string: \")\n",
    "if string==string[::-1]:\n",
    "    print(f\"{string} is a palindrome\")\n",
    "else:\n",
    "    print(f\"{string} is not a palindrome\")"
   ]
  },
  {
   "cell_type": "code",
   "execution_count": 41,
   "id": "062ce0ae",
   "metadata": {},
   "outputs": [
    {
     "name": "stdout",
     "output_type": "stream",
     "text": [
      "Number: 8\n",
      "Number: 4\n",
      "Number: 6\n",
      "Number: 1\n",
      "Number: 3\n",
      "Number: 8\n",
      "Number: 4\n",
      "Number: 5\n",
      "Number: 6\n",
      "Number: 7\n",
      "[8, 4, 6, 1, 3, 8, 4, 5, 6, 7]\n",
      "[1, 3, 4, 4, 5, 6, 6, 7, 8, 8]\n",
      "[3, 4, 4, 5, 6, 6, 7, 8]\n",
      "Mean is 5.375\n"
     ]
    }
   ],
   "source": [
    "#17\n",
    "l=[]\n",
    "for i in range(0,10):\n",
    "    n=int(input(\"Number: \"))\n",
    "    l.append(n)\n",
    "print(l)\n",
    "l.sort()\n",
    "print(l)\n",
    "l=l[1:-1]\n",
    "print(l)\n",
    "mean=sum(l)/len(l)\n",
    "print(f'Mean is {mean}')"
   ]
  },
  {
   "cell_type": "code",
   "execution_count": 42,
   "id": "ade33df0",
   "metadata": {},
   "outputs": [
    {
     "name": "stdout",
     "output_type": "stream",
     "text": [
      "Enter temperature in celsius: 35\n",
      "Temperature in fahrenheit is 95.0\n"
     ]
    }
   ],
   "source": [
    "#18\n",
    "Celsius = float(input(\"Enter temperature in celsius: \"))\n",
    "Fahrenheit = (Celsius*9/5)+32\n",
    "print(\"Temperature in fahrenheit is\",Fahrenheit)"
   ]
  },
  {
   "cell_type": "code",
   "execution_count": 43,
   "id": "b4d60693",
   "metadata": {},
   "outputs": [
    {
     "name": "stdout",
     "output_type": "stream",
     "text": [
      "Num1: 4.5\n",
      "Num2: 7\n",
      "Operation(+,-,*,/):*\n",
      "4.5*7.0 is 31.5\n"
     ]
    }
   ],
   "source": [
    "#19\n",
    "O=['+','-','*','/']\n",
    "a=float(input(\"Num1: \"))\n",
    "b=float(input(\"Num2: \"))\n",
    "o=input(\"Operation(+,-,*,/):\")\n",
    "if o in O:\n",
    "    if o=='+':\n",
    "        res=a+b\n",
    "    elif o=='-':\n",
    "        res=a-b\n",
    "    elif o=='*':\n",
    "        res=a*b\n",
    "    elif o=='/':\n",
    "        res=a/b\n",
    "else:\n",
    "    print(\"Invalid operator\")\n",
    "print(f\"{a}{o}{b} is {res}\")"
   ]
  },
  {
   "cell_type": "code",
   "execution_count": 45,
   "id": "bdffb468",
   "metadata": {},
   "outputs": [
    {
     "name": "stdout",
     "output_type": "stream",
     "text": [
      "Enter the coefficient of x^3: 4\n",
      "Enter the coefficient of x^2: 3\n",
      "Enter the coefficient of x: 6\n",
      "Enter the constant term: 1\n",
      "The roots of the cubic equation are:\n",
      "Root 1: 0.76+0.54j\n"
     ]
    }
   ],
   "source": [
    "#20\n",
    "def cubic_roots(a, b, c, d):\n",
    "    p = (3 * a * c - b**2) / (3 * a**2)\n",
    "    q = (2 * b**3 - 9 * a * b * c + 27 * a**2 * d) / (27 * a**3)\n",
    "    discriminant = q**2 / 4 + p**3 / 27\n",
    "    if discriminant >= 0:\n",
    "        root1 = (-q/2 + discriminant**0.5)**(1/3) + (-q/2 - discriminant**0.5)**(1/3) - b / (3 * a)\n",
    "        return [root1]\n",
    "    else:\n",
    "        r = ((q**2 / 4)**0.5)**(1/3)\n",
    "        theta = (3 * abs(q) / (2 * p))**(1/3)\n",
    "        root1 = -2 * r * (r * theta + p / (3 * r)) - b / (3 * a)\n",
    "        root2 = r * (r * (1 - 3j**0.5) * theta - p / (3 * r)) - b / (3 * a)\n",
    "        root3 = r * (r * (1 + 3j**0.5) * theta - p / (3 * r)) - b / (3 * a)\n",
    "        return [root1, root2, root3]\n",
    "a = float(input(\"Enter the coefficient of x^3: \"))\n",
    "b = float(input(\"Enter the coefficient of x^2: \"))\n",
    "c = float(input(\"Enter the coefficient of x: \"))\n",
    "d = float(input(\"Enter the constant term: \"))\n",
    "roots = cubic_roots(a, b, c, d)\n",
    "print(\"The roots of the cubic equation are:\")\n",
    "for i, root in enumerate(roots):\n",
    "    print(f\"Root {i+1}: {root:.2f}\")"
   ]
  },
  {
   "cell_type": "markdown",
   "id": "3f064d4b",
   "metadata": {},
   "source": [
    "### Advanced Level:"
   ]
  },
  {
   "cell_type": "code",
   "execution_count": 46,
   "id": "138f553c",
   "metadata": {},
   "outputs": [
    {
     "name": "stdout",
     "output_type": "stream",
     "text": [
      "Income: 450000\n",
      "For income of 450000. Tax is 180000.0.\n"
     ]
    }
   ],
   "source": [
    "#21\n",
    "inc=int(input(\"Income: \"))\n",
    "if inc>=300000:\n",
    "    tax=(0.4*inc)\n",
    "elif inc>=200000:\n",
    "    tax=(0.3*inc)\n",
    "elif inc>=100000:\n",
    "    tax=(0.2*inc)\n",
    "else:\n",
    "    tax=0\n",
    "print(f'For income of {inc}. Tax is {tax}.')"
   ]
  },
  {
   "cell_type": "code",
   "execution_count": 5,
   "id": "0ace82a1",
   "metadata": {},
   "outputs": [
    {
     "name": "stdout",
     "output_type": "stream",
     "text": [
      "['rock', 'paper', 'scissors']\n",
      "Enter choice: Scissors\n",
      "Computer choice: rock\n",
      "You lose\n"
     ]
    }
   ],
   "source": [
    "#22\n",
    "import random\n",
    "options=['rock','paper','scissors']\n",
    "print(options)\n",
    "user=input(\"Enter choice: \")\n",
    "userL=user.lower()\n",
    "if userL in options:\n",
    "    computer=random.choice(options)\n",
    "    print(f\"Computer choice: {computer}\")\n",
    "    if userL==computer:\n",
    "        print(\"Tie\")\n",
    "    elif userL==\"rock\":\n",
    "        if computer==\"scissors\":\n",
    "            print(\"You win\")\n",
    "        else:\n",
    "            print(\"You lose\")\n",
    "    elif userL==\"paper\":\n",
    "        if computer==\"rock\":\n",
    "            print(\"You win\")\n",
    "        else:\n",
    "            print(\"You lose\")\n",
    "    elif userL==\"scissors\":\n",
    "        if computer==\"paper\":\n",
    "            print(\"You win\")\n",
    "        else:\n",
    "            print(\"You lose\")\n",
    "else:\n",
    "    print(\"Invalid input\")"
   ]
  },
  {
   "cell_type": "code",
   "execution_count": 2,
   "id": "e10dc5fe",
   "metadata": {},
   "outputs": [
    {
     "name": "stdout",
     "output_type": "stream",
     "text": [
      "Enter the desired length of the password: 7\n",
      "Enter complexity (weak/strong): Strong\n",
      "Generated Password: +<oC/F]\n"
     ]
    }
   ],
   "source": [
    "#23\n",
    "import random\n",
    "import string\n",
    "def generate_password():\n",
    "    length = int(input(\"Enter the desired length of the password: \"))\n",
    "    if length < 6:\n",
    "        print(\"Password length must be at least 6 characters.\")\n",
    "        return\n",
    "    complexity = input(\"Enter complexity (weak/strong): \").lower()\n",
    "    if complexity == \"weak\":\n",
    "        password = generate_weak_password(length)\n",
    "    elif complexity == \"strong\":\n",
    "        password = generate_strong_password(length)\n",
    "    else:\n",
    "        print(\"Invalid complexity choice. Please choose 'weak' or 'strong'.\")\n",
    "        return\n",
    "    print(\"Generated Password:\", password)\n",
    "def generate_weak_password(length):\n",
    "    characters = string.ascii_lowercase + string.digits\n",
    "    password = ''.join(random.choice(characters) for _ in range(length))\n",
    "    return password\n",
    "def generate_strong_password(length):\n",
    "    characters = string.ascii_letters + string.digits + string.punctuation\n",
    "    password = ''.join(random.choice(characters) for _ in range(length))\n",
    "    return password\n",
    "generate_password()"
   ]
  },
  {
   "cell_type": "code",
   "execution_count": 4,
   "id": "58684a0c",
   "metadata": {},
   "outputs": [
    {
     "name": "stdout",
     "output_type": "stream",
     "text": [
      "Welcome to the Text Adventure Game!\n",
      "You find yourself in a dark forest.\n",
      "You have two paths in front of you.\n",
      "Which path will you choose? (left/right): right\n",
      "You chose the right path.\n",
      "You encounter a ferocious bear!\n",
      "Do you want to fight the bear or run away?\n",
      "Enter 'fight' or 'run': fight\n",
      "You bravely fight the bear and defeat it!\n",
      "You continue your journey.\n",
      "Congratulations! You have successfully completed your adventure.\n",
      "Thanks for playing!\n"
     ]
    }
   ],
   "source": [
    "#24\n",
    "import time\n",
    "def start_game():\n",
    "    print(\"Welcome to the Text Adventure Game!\")\n",
    "    time.sleep(1)\n",
    "    print(\"You find yourself in a dark forest.\")\n",
    "    time.sleep(1)\n",
    "    print(\"You have two paths in front of you.\")\n",
    "    time.sleep(1)\n",
    "    choice = input(\"Which path will you choose? (left/right): \").lower()\n",
    "\n",
    "    if choice == \"left\":\n",
    "        path_left()\n",
    "    elif choice == \"right\":\n",
    "        path_right()\n",
    "    else:\n",
    "        print(\"Invalid choice. Please enter 'left' or 'right'.\")\n",
    "        start_game()\n",
    "def path_left():\n",
    "    print(\"You chose the left path.\")\n",
    "    time.sleep(1)\n",
    "    print(\"You come across a river with a small bridge.\")\n",
    "    time.sleep(1)\n",
    "    print(\"Do you want to cross the bridge or swim across?\")\n",
    "\n",
    "    choice = input(\"Enter 'bridge' or 'swim': \").lower()\n",
    "\n",
    "    if choice == \"bridge\":\n",
    "        print(\"You safely cross the bridge.\")\n",
    "        time.sleep(1)\n",
    "        print(\"You continue your journey.\")\n",
    "        victory()\n",
    "    elif choice == \"swim\":\n",
    "        print(\"You attempt to swim across the river.\")\n",
    "        time.sleep(1)\n",
    "        print(\"Unfortunately, you are swept away by the strong current.\")\n",
    "        time.sleep(1)\n",
    "        print(\"Game Over! You have failed.\")\n",
    "    else:\n",
    "        print(\"Invalid choice. Please enter 'bridge' or 'swim'.\")\n",
    "        path_left()\n",
    "def path_right():\n",
    "    print(\"You chose the right path.\")\n",
    "    time.sleep(1)\n",
    "    print(\"You encounter a ferocious bear!\")\n",
    "    time.sleep(1)\n",
    "    print(\"Do you want to fight the bear or run away?\")\n",
    "\n",
    "    choice = input(\"Enter 'fight' or 'run': \").lower()\n",
    "    if choice == \"fight\":\n",
    "        print(\"You bravely fight the bear and defeat it!\")\n",
    "        time.sleep(1)\n",
    "        print(\"You continue your journey.\")\n",
    "        victory()\n",
    "    elif choice == \"run\":\n",
    "        print(\"You wisely decide to run away from the bear.\")\n",
    "        time.sleep(1)\n",
    "        print(\"You manage to escape safely.\")\n",
    "        victory()\n",
    "    else:\n",
    "        print(\"Invalid choice. Please enter 'fight' or 'run'.\")\n",
    "        path_right()\n",
    "def victory():\n",
    "    print(\"Congratulations! You have successfully completed your adventure.\")\n",
    "    time.sleep(1)\n",
    "    print(\"Thanks for playing!\")\n",
    "start_game()"
   ]
  },
  {
   "cell_type": "code",
   "execution_count": 5,
   "id": "9a583bd4",
   "metadata": {},
   "outputs": [
    {
     "name": "stdout",
     "output_type": "stream",
     "text": [
      "Linear Equation Solver\n",
      "Enter the value of 'a': 2\n",
      "Enter the value of 'b': 4\n",
      "The solution for the equation 2.0x + 4.0 = 0 is x = -2.0\n"
     ]
    }
   ],
   "source": [
    "#25\n",
    "def solve_linear_equation(a, b):\n",
    "    x = -b / a if a != 0 else None\n",
    "    return x\n",
    "print(\"Linear Equation Solver\")\n",
    "a = float(input(\"Enter the value of 'a': \"))\n",
    "b = float(input(\"Enter the value of 'b': \"))\n",
    "result = solve_linear_equation(a, b)\n",
    "if result is None:\n",
    "    print(\"No solution (contradiction)\")\n",
    "elif a == 0:\n",
    "    print(\"Infinite solutions (any value of x)\")\n",
    "else:\n",
    "    print(f\"The solution for the equation {a}x + {b} = 0 is x = {result}\")"
   ]
  },
  {
   "cell_type": "code",
   "execution_count": 1,
   "id": "1c7b59db",
   "metadata": {},
   "outputs": [
    {
     "name": "stdout",
     "output_type": "stream",
     "text": [
      "\n",
      "What is the capital of France?\n",
      "1. Berlin\n",
      "2. Madrid\n",
      "3. Paris\n",
      "4. Rome\n",
      "Enter the number of your answer: 3\n",
      "Correct!\n",
      "\n",
      "\n",
      "Which planet is known as the Red Planet?\n",
      "1. Earth\n",
      "2. Mars\n",
      "3. Venus\n",
      "4. Jupiter\n",
      "Enter the number of your answer: 1\n",
      "Wrong. The correct answer was: Mars\n",
      "\n",
      "Quiz complete! Your score is 1/2.\n"
     ]
    }
   ],
   "source": [
    "#26\n",
    "def run_quiz(questions):\n",
    "    score = 0\n",
    "    for question in questions:\n",
    "        print(\"\\n\" + question[\"question\"])\n",
    "        for i, choice in enumerate(question[\"choices\"], 1):\n",
    "            print(f\"{i}. {choice}\")   \n",
    "        valid_input = False\n",
    "        while not valid_input:\n",
    "            user_input = input(\"Enter the number of your answer: \")\n",
    "            if user_input.isdigit():\n",
    "                user_answer = int(user_input) - 1\n",
    "                if 0 <= user_answer < len(question[\"choices\"]):\n",
    "                    valid_input = True\n",
    "                else:\n",
    "                    print(\"Invalid input. Please enter a valid choice.\")\n",
    "            else:\n",
    "                print(\"Invalid input. Please enter a valid number.\")\n",
    "        if user_answer == question[\"correct\"]:\n",
    "            print(\"Correct!\\n\")\n",
    "            score += 1\n",
    "        else:\n",
    "            print(f\"Wrong. The correct answer was: {question['choices'][question['correct']]}\\n\")\n",
    "    print(f\"Quiz complete! Your score is {score}/{len(questions)}.\")\n",
    "quiz_questions = [{\n",
    "        \"question\": \"What is the capital of France?\",\n",
    "        \"choices\": [\"Berlin\", \"Madrid\", \"Paris\", \"Rome\"],\n",
    "        \"correct\": 2,},\n",
    "    {\"question\": \"Which planet is known as the Red Planet?\",\n",
    "        \"choices\": [\"Earth\", \"Mars\", \"Venus\", \"Jupiter\"],\n",
    "        \"correct\": 1,},]\n",
    "run_quiz(quiz_questions)"
   ]
  },
  {
   "cell_type": "code",
   "execution_count": 10,
   "id": "1d9a595a",
   "metadata": {},
   "outputs": [
    {
     "name": "stdout",
     "output_type": "stream",
     "text": [
      "Enter a year to check if it's prime: 2027\n",
      "2027 is a prime year.\n"
     ]
    }
   ],
   "source": [
    "#27\n",
    "def is_prime(year):\n",
    "    if year <= 1:\n",
    "        return False\n",
    "    if year <= 3:\n",
    "        return True\n",
    "\n",
    "    if year % 2 == 0 or year % 3 == 0:\n",
    "        return False\n",
    "    i = 5\n",
    "    while i * i <= year:\n",
    "        if year % i == 0 or year % (i + 2) == 0:\n",
    "            return False\n",
    "        i += 6\n",
    "    return True\n",
    "year = int(input(\"Enter a year to check if it's prime: \"))\n",
    "if is_prime(year):\n",
    "    print(f\"{year} is a prime year.\")\n",
    "else:\n",
    "    print(f\"{year} is not a prime year.\")"
   ]
  },
  {
   "cell_type": "code",
   "execution_count": 13,
   "id": "941af7ff",
   "metadata": {},
   "outputs": [
    {
     "name": "stdout",
     "output_type": "stream",
     "text": [
      "Enter the first number: 3.9\n",
      "Enter the second number: 4.3\n",
      "Enter the third number: 2.7\n",
      "Numbers in ascending order: [2.7, 3.9, 4.3]\n"
     ]
    }
   ],
   "source": [
    "#28\n",
    "num1 = float(input(\"Enter the first number: \"))\n",
    "num2 = float(input(\"Enter the second number: \"))\n",
    "num3 = float(input(\"Enter the third number: \"))\n",
    "if num1 <= num2 <= num3:\n",
    "    sorted_nums = [num1, num2, num3]\n",
    "elif num1 <= num3 <= num2:\n",
    "    sorted_nums = [num1, num3, num2]\n",
    "elif num2 <= num1 <= num3:\n",
    "    sorted_nums = [num2, num1, num3]\n",
    "elif num2 <= num3 <= num1:\n",
    "    sorted_nums = [num2, num3, num1]\n",
    "elif num3 <= num1 <= num2:\n",
    "    sorted_nums = [num3, num1, num2]\n",
    "else: \n",
    "    sorted_nums = [num3, num2, num1]\n",
    "print(\"Numbers in ascending order:\", sorted_nums)"
   ]
  },
  {
   "cell_type": "code",
   "execution_count": 14,
   "id": "4d82a9b7",
   "metadata": {},
   "outputs": [
    {
     "name": "stdout",
     "output_type": "stream",
     "text": [
      "Approximate roots of the quartic equation:\n",
      "Root: -1.000000\n",
      "Root: -1.000000\n",
      "Root: 2.000000\n",
      "Root: 1.993818\n",
      "Root: 2.000000\n"
     ]
    }
   ],
   "source": [
    "#29\n",
    "def quartic_function(x):\n",
    "    return x**4 - 5*x**3 + 6*x**2 + 4*x - 8\n",
    "def derivative_quartic_function(x):\n",
    "    return 4*x**3 - 15*x**2 + 12*x + 4\n",
    "def newton_raphson(initial_guess, tolerance=1e-6, max_iterations=100):\n",
    "    x = initial_guess\n",
    "    for _ in range(max_iterations):\n",
    "        f_x = quartic_function(x)\n",
    "        if abs(f_x) < tolerance:\n",
    "            return x\n",
    "        f_prime_x = derivative_quartic_function(x)\n",
    "        x = x - f_x / f_prime_x\n",
    "    return None\n",
    "initial_guesses = [-2, -1, 0, 1, 2]\n",
    "roots = []\n",
    "for guess in initial_guesses:\n",
    "    root = newton_raphson(guess)\n",
    "    if root is not None:\n",
    "        roots.append(root)\n",
    "print(\"Approximate roots of the quartic equation:\")\n",
    "for root in roots:\n",
    "    print(f\"Root: {root:.6f}\")"
   ]
  },
  {
   "cell_type": "code",
   "execution_count": 4,
   "id": "de1f9c12",
   "metadata": {},
   "outputs": [
    {
     "name": "stdout",
     "output_type": "stream",
     "text": [
      "BMI Calculator\n",
      "---------------\n",
      "Enter your weight in kilograms: 70\n",
      "Enter your height in meters: 1.72\n",
      "Your BMI is: 23.66\n",
      "Category: Normal Weight\n",
      "Recommendation: Maintain your current weight for good health.\n"
     ]
    }
   ],
   "source": [
    "#30\n",
    "def calculate_bmi(weight, height):\n",
    "    return weight / (height ** 2)\n",
    "def get_bmi_category(bmi):\n",
    "    if bmi < 18.5:\n",
    "        return \"Underweight\"\n",
    "    elif 18.5 <= bmi < 24.9:\n",
    "        return \"Normal Weight\"\n",
    "    elif 25.0 <= bmi < 29.9:\n",
    "        return \"Overweight\"\n",
    "    else:\n",
    "        return \"Obese\"\n",
    "print(\"BMI Calculator\")\n",
    "print(\"---------------\")\n",
    "weight = float(input(\"Enter your weight in kilograms: \"))\n",
    "height = float(input(\"Enter your height in meters: \"))\n",
    "if weight <= 0 or height <= 0:\n",
    "    print(\"Invalid input. Please enter valid weight and height.\")\n",
    "else:\n",
    "    bmi = calculate_bmi(weight, height)\n",
    "    bmi_category = get_bmi_category(bmi)\n",
    "    print(f\"Your BMI is: {bmi:.2f}\")\n",
    "    print(f\"Category: {bmi_category}\")\n",
    "    if bmi_category == \"Underweight\":\n",
    "        print(\"Recommendation: You may want to gain some weight for your health.\")\n",
    "    elif bmi_category == \"Normal Weight\":\n",
    "        print(\"Recommendation: Maintain your current weight for good health.\")\n",
    "    elif bmi_category == \"Overweight\":\n",
    "        print(\"Recommendation: Consider losing some weight for your health.\")\n",
    "    else:\n",
    "        print(\"Recommendation: It's important to manage your weight for your health.\")"
   ]
  },
  {
   "cell_type": "markdown",
   "id": "9c05a572",
   "metadata": {},
   "source": [
    "### Challenge Level:"
   ]
  },
  {
   "cell_type": "code",
   "execution_count": 7,
   "id": "f7610952",
   "metadata": {},
   "outputs": [
    {
     "name": "stdout",
     "output_type": "stream",
     "text": [
      "Enter password: Abc@123?\n",
      "Valid password\n"
     ]
    }
   ],
   "source": [
    "#31\n",
    "import re\n",
    "def valid_pw(pw):\n",
    "    if len(pw)<8:\n",
    "        return False\n",
    "    if not any(char.isupper() for char in pw):\n",
    "        return False\n",
    "    if not any(char.islower() for char in pw):\n",
    "        return False\n",
    "    if not any(char.isdigit() for char in pw):\n",
    "        return False\n",
    "    if not re.search(r'[!@#$%^&*]', pw):\n",
    "        return False\n",
    "    return True\n",
    "pw=input(\"Enter password: \")\n",
    "if valid_pw(pw):\n",
    "    print(\"Valid password\")\n",
    "else:\n",
    "    print('''Invalid password. Password must be at least 8 characters long and contain at least \n",
    "          one uppercase letter, one lowercase letter, one digit, and one special character.''')"
   ]
  },
  {
   "cell_type": "code",
   "execution_count": 8,
   "id": "448f9a49",
   "metadata": {},
   "outputs": [
    {
     "name": "stdout",
     "output_type": "stream",
     "text": [
      "Enter the number of rows: 2\n",
      "Enter the number of columns: 3\n",
      "Enter elements for the first matrix:\n",
      "Enter element at row 1, column 1: 1\n",
      "Enter element at row 1, column 2: 2\n",
      "Enter element at row 1, column 3: 3\n",
      "Enter element at row 2, column 1: 4\n",
      "Enter element at row 2, column 2: 5\n",
      "Enter element at row 2, column 3: 6\n",
      "Enter elements for the second matrix:\n",
      "Enter element at row 1, column 1: 2\n",
      "Enter element at row 1, column 2: 4\n",
      "Enter element at row 1, column 3: 6\n",
      "Enter element at row 2, column 1: 8\n",
      "Enter element at row 2, column 2: 6\n",
      "Enter element at row 2, column 3: 4\n",
      "Matrix 1:\n",
      "1.0\t2.0\t3.0\t\n",
      "4.0\t5.0\t6.0\t\n",
      "Matrix 2:\n",
      "2.0\t4.0\t6.0\t\n",
      "8.0\t6.0\t4.0\t\n",
      "Matrix Addition Result:\n",
      "3.0\t6.0\t9.0\t\n",
      "12.0\t11.0\t10.0\t\n",
      "Matrix Subtraction Result:\n",
      "-1.0\t-2.0\t-3.0\t\n",
      "-4.0\t-1.0\t2.0\t\n"
     ]
    }
   ],
   "source": [
    "#32\n",
    "def create_matrix(rows, cols):\n",
    "    matrix = []\n",
    "    for i in range(rows):\n",
    "        row = []\n",
    "        for j in range(cols):\n",
    "            element = float(input(f\"Enter element at row {i + 1}, column {j + 1}: \"))\n",
    "            row.append(element)\n",
    "        matrix.append(row)\n",
    "    return matrix\n",
    "def print_matrix(matrix):\n",
    "    for row in matrix:\n",
    "        for element in row:\n",
    "            print(element, end=\"\\t\")\n",
    "        print()\n",
    "def add_matrices(matrix1, matrix2):\n",
    "    if len(matrix1) != len(matrix2) or len(matrix1[0]) != len(matrix2[0]):\n",
    "        return None \n",
    "    result = []\n",
    "    for i in range(len(matrix1)):\n",
    "        row = []\n",
    "        for j in range(len(matrix1[0])):\n",
    "            row.append(matrix1[i][j] + matrix2[i][j])\n",
    "        result.append(row)\n",
    "    return result\n",
    "def subtract_matrices(matrix1, matrix2):\n",
    "    if len(matrix1) != len(matrix2) or len(matrix1[0]) != len(matrix2[0]):\n",
    "        return None \n",
    "    result = []\n",
    "    for i in range(len(matrix1)):\n",
    "        row = []\n",
    "        for j in range(len(matrix1[0])):\n",
    "            row.append(matrix1[i][j] - matrix2[i][j])\n",
    "        result.append(row)\n",
    "    return result\n",
    "rows = int(input(\"Enter the number of rows: \"))\n",
    "cols = int(input(\"Enter the number of columns: \"))\n",
    "print(\"Enter elements for the first matrix:\")\n",
    "matrix1 = create_matrix(rows, cols)\n",
    "print(\"Enter elements for the second matrix:\")\n",
    "matrix2 = create_matrix(rows, cols)\n",
    "print(\"Matrix 1:\")\n",
    "print_matrix(matrix1)\n",
    "print(\"Matrix 2:\")\n",
    "print_matrix(matrix2)\n",
    "addition_result = add_matrices(matrix1, matrix2)\n",
    "if addition_result:\n",
    "    print(\"Matrix Addition Result:\")\n",
    "    print_matrix(addition_result)\n",
    "else:\n",
    "    print(\"Matrix addition is not possible. Matrices have different dimensions.\")\n",
    "subtraction_result = subtract_matrices(matrix1, matrix2)\n",
    "if subtraction_result:\n",
    "    print(\"Matrix Subtraction Result:\")\n",
    "    print_matrix(subtraction_result)\n",
    "else:\n",
    "    print(\"Matrix subtraction is not possible. Matrices have different dimensions.\")"
   ]
  },
  {
   "cell_type": "code",
   "execution_count": 10,
   "id": "5d6a3baa",
   "metadata": {},
   "outputs": [
    {
     "name": "stdout",
     "output_type": "stream",
     "text": [
      "Enter the first number: 9\n",
      "Enter the second number: 15\n",
      "The GCD of 9 and 15 is 3.\n"
     ]
    }
   ],
   "source": [
    "#33\n",
    "def calculate_gcd(a,b):\n",
    "    while b!=0:\n",
    "        remainder=a%b\n",
    "        a=b\n",
    "        b=remainder\n",
    "    return a\n",
    "num1=int(input(\"Enter the first number: \"))\n",
    "num2=int(input(\"Enter the second number: \"))\n",
    "if num1<0 or num2<0:\n",
    "    print(\"Please enter non-negative numbers.\")\n",
    "else:\n",
    "    gcd=calculate_gcd(num1,num2)\n",
    "    print(f\"The GCD of {num1} and {num2} is {gcd}.\")"
   ]
  },
  {
   "cell_type": "code",
   "execution_count": 11,
   "id": "c29a04a1",
   "metadata": {},
   "outputs": [
    {
     "name": "stdout",
     "output_type": "stream",
     "text": [
      "Enter the number of rows for matrix 1: 2\n",
      "Enter the number of columns for matrix 1: 2\n",
      "Enter the number of rows for matrix 2: 2\n",
      "Enter the number of columns for matrix 2: 3\n",
      "Enter elements for matrix 1:\n",
      "Enter element at row 1, column 1: 1\n",
      "Enter element at row 1, column 2: 2\n",
      "Enter element at row 2, column 1: 3\n",
      "Enter element at row 2, column 2: 4\n",
      "Enter elements for matrix 2:\n",
      "Enter element at row 1, column 1: 2\n",
      "Enter element at row 1, column 2: 4\n",
      "Enter element at row 1, column 3: 6\n",
      "Enter element at row 2, column 1: 8\n",
      "Enter element at row 2, column 2: 6\n",
      "Enter element at row 2, column 3: 4\n",
      "Matrix 1:\n",
      "1.0\t2.0\t\n",
      "3.0\t4.0\t\n",
      "Matrix 2:\n",
      "2.0\t4.0\t6.0\t\n",
      "8.0\t6.0\t4.0\t\n",
      "Matrix Multiplication Result:\n",
      "18.0\t16.0\t14.0\t\n",
      "38.0\t36.0\t34.0\t\n"
     ]
    }
   ],
   "source": [
    "#34\n",
    "def matrix_multiply(matrix1, matrix2):\n",
    "    if len(matrix1[0]) != len(matrix2):\n",
    "        print(\"Matrix multiplication is not possible. Number of columns in the first matrix must be equal to the number of rows in the second matrix.\")\n",
    "        return None\n",
    "    result = []\n",
    "    for i in range(len(matrix1)):\n",
    "        row = []\n",
    "        for j in range(len(matrix2[0])):\n",
    "            element = 0\n",
    "            for k in range(len(matrix2)):\n",
    "                element += matrix1[i][k] * matrix2[k][j]\n",
    "            row.append(element)\n",
    "        result.append(row)\n",
    "    return result\n",
    "def print_matrix(matrix):\n",
    "    for row in matrix:\n",
    "        for element in row:\n",
    "            print(element, end=\"\\t\")\n",
    "        print()\n",
    "rows1 = int(input(\"Enter the number of rows for matrix 1: \"))\n",
    "cols1 = int(input(\"Enter the number of columns for matrix 1: \"))\n",
    "rows2 = int(input(\"Enter the number of rows for matrix 2: \"))\n",
    "cols2 = int(input(\"Enter the number of columns for matrix 2: \"))\n",
    "if cols1 != rows2:\n",
    "    print(\"Matrix multiplication is not possible. Number of columns in the first matrix must be equal to the number of rows in the second matrix.\")\n",
    "else:\n",
    "    print(\"Enter elements for matrix 1:\")\n",
    "    matrix1 = []\n",
    "    for i in range(rows1):\n",
    "        row = []\n",
    "        for j in range(cols1):\n",
    "            element = float(input(f\"Enter element at row {i + 1}, column {j + 1}: \"))\n",
    "            row.append(element)\n",
    "        matrix1.append(row)\n",
    "    print(\"Enter elements for matrix 2:\")\n",
    "    matrix2 = []\n",
    "    for i in range(rows2):\n",
    "        row = []\n",
    "        for j in range(cols2):\n",
    "            element = float(input(f\"Enter element at row {i + 1}, column {j + 1}: \"))\n",
    "            row.append(element)\n",
    "        matrix2.append(row)\n",
    "    result = matrix_multiply(matrix1, matrix2)\n",
    "    if result:\n",
    "        print(\"Matrix 1:\")\n",
    "        print_matrix(matrix1)\n",
    "        print(\"Matrix 2:\")\n",
    "        print_matrix(matrix2)\n",
    "        print(\"Matrix Multiplication Result:\")\n",
    "        print_matrix(result)"
   ]
  },
  {
   "cell_type": "code",
   "execution_count": 14,
   "id": "99ba3784",
   "metadata": {},
   "outputs": [
    {
     "name": "stdout",
     "output_type": "stream",
     "text": [
      "Welcome to Tic-Tac-Toe!\n",
      "  |   |  \n",
      "---------\n",
      "  |   |  \n",
      "---------\n",
      "  |   |  \n",
      "---------\n",
      "Enter row (0, 1, 2) and column (0, 1, 2) for 'X': 1 1\n",
      "  |   |  \n",
      "---------\n",
      "  | X |  \n",
      "---------\n",
      "  |   |  \n",
      "---------\n",
      "  |   |  \n",
      "---------\n",
      "  | X | O\n",
      "---------\n",
      "  |   |  \n",
      "---------\n",
      "Enter row (0, 1, 2) and column (0, 1, 2) for 'X': 2 0\n",
      "  |   |  \n",
      "---------\n",
      "  | X | O\n",
      "---------\n",
      "X |   |  \n",
      "---------\n",
      "  |   |  \n",
      "---------\n",
      "  | X | O\n",
      "---------\n",
      "X | O |  \n",
      "---------\n",
      "Enter row (0, 1, 2) and column (0, 1, 2) for 'X': 0 2\n",
      "  |   | X\n",
      "---------\n",
      "  | X | O\n",
      "---------\n",
      "X | O |  \n",
      "---------\n",
      "Congratulations! You win!\n"
     ]
    }
   ],
   "source": [
    "#35\n",
    "import random\n",
    "def print_board(board):\n",
    "    for row in board:\n",
    "        print(\" | \".join(row))\n",
    "        print(\"-\" * 9)\n",
    "def check_winner(board, player):\n",
    "    for row in board:\n",
    "        if all(cell == player for cell in row):\n",
    "            return True\n",
    "    for col in range(3):\n",
    "        if all(row[col] == player for row in board):\n",
    "            return True\n",
    "    if all(board[i][i] == player for i in range(3)) or all(board[i][2 - i] == player for i in range(3)):\n",
    "        return True\n",
    "    return False\n",
    "def is_board_full(board):\n",
    "    return all(cell != \" \" for row in board for cell in row)\n",
    "\n",
    "def get_empty_cells(board):\n",
    "    return [(i, j) for i in range(3) for j in range(3) if board[i][j] == \" \"]\n",
    "def computer_move(board):\n",
    "    empty_cells = get_empty_cells(board)\n",
    "    return random.choice(empty_cells)\n",
    "board = [[\" \" for _ in range(3)] for _ in range(3)]\n",
    "player = \"X\"\n",
    "computer = \"O\"\n",
    "current_player = player\n",
    "print(\"Welcome to Tic-Tac-Toe!\")\n",
    "while True:\n",
    "    print_board(board)\n",
    "    if current_player == player:\n",
    "        row, col = map(int, input(f\"Enter row (0, 1, 2) and column (0, 1, 2) for '{current_player}': \").split())\n",
    "    else:\n",
    "        row, col = computer_move(board)\n",
    "    if board[row][col] == \" \":\n",
    "        board[row][col] = current_player\n",
    "        if check_winner(board, current_player):\n",
    "            print_board(board)\n",
    "            if current_player == player:\n",
    "                print(\"Congratulations! You win!\")\n",
    "            else:\n",
    "                print(\"Computer wins!\")\n",
    "            break\n",
    "        elif is_board_full(board):\n",
    "            print_board(board)\n",
    "            print(\"It's a draw!\")\n",
    "            break\n",
    "        current_player = player if current_player == computer else computer\n",
    "    else:\n",
    "        print(\"Invalid move. Try again.\")"
   ]
  },
  {
   "cell_type": "code",
   "execution_count": 19,
   "id": "1c68c5e4",
   "metadata": {},
   "outputs": [
    {
     "name": "stdout",
     "output_type": "stream",
     "text": [
      "Enter the number of Fibonacci terms to generate: 10\n",
      "Fibonacci sequence up to term 10 : [0, 1, 1, 2, 3, 5, 8, 13, 21, 34]\n"
     ]
    }
   ],
   "source": [
    "#36\n",
    "def generate_fibonacci(n):\n",
    "    fibonacci_sequence=[0,1]\n",
    "    if n<=0:\n",
    "        return []\n",
    "    elif n==1:\n",
    "        return [0]\n",
    "    elif n==2:\n",
    "        return fibonacci_sequence\n",
    "    for i in range(2,n):\n",
    "        next_fibonacci=fibonacci_sequence[i-1]+fibonacci_sequence[i-2]\n",
    "        fibonacci_sequence.append(next_fibonacci)\n",
    "    return fibonacci_sequence\n",
    "n=int(input(\"Enter the number of Fibonacci terms to generate: \"))\n",
    "if n<=0:\n",
    "    print(\"Please enter a positive integer.\")\n",
    "else:\n",
    "    fibonacci_sequence=generate_fibonacci(n)\n",
    "    print(\"Fibonacci sequence up to term\", n, \":\", fibonacci_sequence)"
   ]
  },
  {
   "cell_type": "code",
   "execution_count": 21,
   "id": "3750fde7",
   "metadata": {},
   "outputs": [
    {
     "name": "stdout",
     "output_type": "stream",
     "text": [
      "Enter the term (n) to calculate in the Fibonacci sequence: 7\n",
      "The 7th term of the Fibonacci sequence is: 13\n"
     ]
    }
   ],
   "source": [
    "#37\n",
    "fib_cache={}\n",
    "def fibonacci(n):\n",
    "    if n in fib_cache:\n",
    "        return fib_cache[n]\n",
    "    if n==0:\n",
    "        result=0\n",
    "    elif n==1:\n",
    "        result=1\n",
    "    else:\n",
    "        result=fibonacci(n-1)+fibonacci(n-2)\n",
    "    fib_cache[n]=result\n",
    "    return result\n",
    "n=int(input(\"Enter the term (n) to calculate in the Fibonacci sequence: \"))\n",
    "if n<0:\n",
    "    print(\"Please enter a non-negative integer.\")\n",
    "else:\n",
    "    fibonacci_result=fibonacci(n)\n",
    "    print(f\"The {n}th term of the Fibonacci sequence is: {fibonacci_result}\")"
   ]
  },
  {
   "cell_type": "code",
   "execution_count": 31,
   "id": "fa5f026a",
   "metadata": {},
   "outputs": [
    {
     "name": "stdout",
     "output_type": "stream",
     "text": [
      "Enter the year: 2023\n",
      "Enter the month (1-12): 9\n",
      "Calendar for September 2023:\n",
      "   September 2023\n",
      "Mo Tu We Th Fr Sa Su\n",
      "             1  2  3\n",
      " 4  5  6  7  8  9 10\n",
      "11 12 13 14 15 16 17\n",
      "18 19 20 21 22 23 24\n",
      "25 26 27 28 29 30\n",
      "\n"
     ]
    }
   ],
   "source": [
    "#38\n",
    "import calendar\n",
    "year=int(input(\"Enter the year: \"))\n",
    "month=int(input(\"Enter the month (1-12): \"))\n",
    "if 1<=month<=12:\n",
    "    cal=calendar.month(year,month)\n",
    "    print(f\"Calendar for {calendar.month_name[month]} {year}:\")\n",
    "    print(cal)\n",
    "else:\n",
    "    print(\"Invalid input. Month should be between 1 and 12.\")"
   ]
  },
  {
   "cell_type": "code",
   "execution_count": 33,
   "id": "4d94ecce",
   "metadata": {},
   "outputs": [
    {
     "name": "stdout",
     "output_type": "stream",
     "text": [
      "\n",
      "Player's Hand:\n",
      "Five of Hearts\n",
      "Six of Clubs\n",
      "Total Value: 11\n",
      "\n",
      "Computer's Hand:\n",
      "Eight of Hearts\n",
      "Hidden Card\n",
      "Do you want to 'hit' or 'stand'? hit\n",
      "\n",
      "Player's Hand:\n",
      "Five of Hearts\n",
      "Six of Clubs\n",
      "Ace of Spades\n",
      "Total Value: 12\n",
      "\n",
      "Computer's Hand:\n",
      "Eight of Hearts\n",
      "Hidden Card\n",
      "Do you want to 'hit' or 'stand'? stand\n",
      "\n",
      "Player's Hand:\n",
      "Five of Hearts\n",
      "Six of Clubs\n",
      "Ace of Spades\n",
      "Total Value: 12\n",
      "\n",
      "Computer's Hand:\n",
      "Eight of Hearts\n",
      "Queen of Spades\n",
      "Total Value: 18\n",
      "Computer wins!\n",
      "Do you want to play again? (yes/no): no\n"
     ]
    }
   ],
   "source": [
    "#39\n",
    "import random\n",
    "suits = ['Hearts', 'Diamonds', 'Clubs', 'Spades']\n",
    "ranks = ['Two', 'Three', 'Four', 'Five', 'Six', 'Seven', 'Eight', 'Nine', 'Ten', 'Jack', 'Queen', 'King', 'Ace']\n",
    "deck = [{'rank': rank, 'suit': suit} for rank in ranks for suit in suits]\n",
    "card_values = {'Two': 2, 'Three': 3, 'Four': 4, 'Five': 5, 'Six': 6, 'Seven': 7, 'Eight': 8, 'Nine': 9, 'Ten': 10,\n",
    "               'Jack': 10, 'Queen': 10, 'King': 10, 'Ace': 11}\n",
    "player_hand = []\n",
    "computer_hand = []\n",
    "def deal_initial_cards():\n",
    "    for _ in range(2):\n",
    "        player_hand.append(deck.pop(random.randint(0, len(deck) - 1)))\n",
    "        computer_hand.append(deck.pop(random.randint(0, len(deck) - 1)))\n",
    "def calculate_hand_value(hand):\n",
    "    value = sum(card_values[card['rank']] for card in hand)\n",
    "    aces = [card for card in hand if card['rank'] == 'Ace']\n",
    "    for ace in aces:\n",
    "        if value > 21:\n",
    "            value -= 10\n",
    "    return value\n",
    "def show_hands(player_turn=True):\n",
    "    print(\"\\nPlayer's Hand:\")\n",
    "    for card in player_hand:\n",
    "        print(f\"{card['rank']} of {card['suit']}\")\n",
    "    print(f\"Total Value: {calculate_hand_value(player_hand)}\")\n",
    "\n",
    "    print(\"\\nComputer's Hand:\")\n",
    "    if player_turn:\n",
    "        print(f\"{computer_hand[0]['rank']} of {computer_hand[0]['suit']}\")\n",
    "        print(\"Hidden Card\")\n",
    "    else:\n",
    "        for card in computer_hand:\n",
    "            print(f\"{card['rank']} of {card['suit']}\")\n",
    "        print(f\"Total Value: {calculate_hand_value(computer_hand)}\")\n",
    "def check_game_result():\n",
    "    player_value = calculate_hand_value(player_hand)\n",
    "    computer_value = calculate_hand_value(computer_hand)\n",
    "    if player_value == 21 and len(player_hand) == 2:\n",
    "        return \"Player blackjack! You win.\"\n",
    "    if computer_value == 21 and len(computer_hand) == 2:\n",
    "        return \"Computer blackjack! You lose.\"   \n",
    "    if player_value > 21:\n",
    "        return \"Player busts! You lose.\"\n",
    "    if computer_value > 21:\n",
    "        return \"Computer busts! You win.\"    \n",
    "    if player_turn is False:\n",
    "        if player_value > computer_value:\n",
    "            return \"Player wins!\"\n",
    "        elif player_value < computer_value:\n",
    "            return \"Computer wins!\"\n",
    "        else:\n",
    "            return \"It's a draw!\"\n",
    "while True:\n",
    "    player_turn = True\n",
    "    computer_turn = False\n",
    "    player_hand = []\n",
    "    computer_hand = []\n",
    "    deck = [{'rank': rank, 'suit': suit} for rank in ranks for suit in suits]\n",
    "    random.shuffle(deck)\n",
    "    deal_initial_cards()\n",
    "    while player_turn:\n",
    "        show_hands()\n",
    "        choice = input(\"Do you want to 'hit' or 'stand'? \").lower()\n",
    "        if choice == 'hit':\n",
    "            player_hand.append(deck.pop(random.randint(0, len(deck) - 1)))\n",
    "            if calculate_hand_value(player_hand) > 21:\n",
    "                player_turn = False\n",
    "        elif choice == 'stand':\n",
    "            player_turn = False\n",
    "        else:\n",
    "            print(\"Invalid choice. Please enter 'hit' or 'stand'.\")\n",
    "    while calculate_hand_value(computer_hand) < 17:\n",
    "        computer_hand.append(deck.pop(random.randint(0, len(deck) - 1)))\n",
    "    show_hands(player_turn=False)\n",
    "    print(check_game_result())\n",
    "    play_again = input(\"Do you want to play again? (yes/no): \").lower()\n",
    "    if play_again != 'yes':\n",
    "        break"
   ]
  },
  {
   "cell_type": "code",
   "execution_count": 36,
   "id": "25656f71",
   "metadata": {},
   "outputs": [
    {
     "name": "stdout",
     "output_type": "stream",
     "text": [
      "Enter a number: 12\n",
      "Prime factors of 12 are: [2, 2, 3]\n"
     ]
    }
   ],
   "source": [
    "#40\n",
    "def get_prime_factors(n):\n",
    "    factors = []\n",
    "    if n < 2:\n",
    "        print(\"Prime factors are not defined for numbers less than 2.\")\n",
    "        return factors\n",
    "    while n % 2 == 0:\n",
    "        factors.append(2)\n",
    "        n //= 2\n",
    "    for i in range(3, int(n**0.5) + 1, 2):\n",
    "        while n % i == 0:\n",
    "            factors.append(i)\n",
    "            n //= i\n",
    "    if n > 1:\n",
    "        factors.append(n)\n",
    "    return factors\n",
    "num_str = input(\"Enter a number: \")\n",
    "if num_str.isdigit():\n",
    "    num = int(num_str)\n",
    "    factors = get_prime_factors(num)\n",
    "    print(f\"Prime factors of {num} are: {factors}\")\n",
    "else:\n",
    "    print(\"Invalid input. Please enter a valid integer.\")"
   ]
  }
 ],
 "metadata": {
  "kernelspec": {
   "display_name": "Python 3 (ipykernel)",
   "language": "python",
   "name": "python3"
  },
  "language_info": {
   "codemirror_mode": {
    "name": "ipython",
    "version": 3
   },
   "file_extension": ".py",
   "mimetype": "text/x-python",
   "name": "python",
   "nbconvert_exporter": "python",
   "pygments_lexer": "ipython3",
   "version": "3.11.3"
  }
 },
 "nbformat": 4,
 "nbformat_minor": 5
}
